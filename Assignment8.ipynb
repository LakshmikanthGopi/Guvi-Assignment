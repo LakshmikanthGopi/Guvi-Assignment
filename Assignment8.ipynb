{
  "cells": [
    {
      "cell_type": "markdown",
      "metadata": {
        "id": "view-in-github",
        "colab_type": "text"
      },
      "source": [
        "<a href=\"https://colab.research.google.com/github/LakshmikanthGopi/Guvi-Assignment/blob/main/Assignment8.ipynb\" target=\"_parent\"><img src=\"https://colab.research.google.com/assets/colab-badge.svg\" alt=\"Open In Colab\"/></a>"
      ]
    },
    {
      "cell_type": "markdown",
      "metadata": {
        "id": "bJDcSlS5d_md"
      },
      "source": [
        "# Assignment8"
      ]
    },
    {
      "cell_type": "code",
      "execution_count": 28,
      "metadata": {
        "collapsed": true,
        "id": "BAsGGmlRd_mk"
      },
      "outputs": [],
      "source": [
        "import pandas as pd\n",
        "import matplotlib.pyplot as plt\n",
        "import numpy as np\n",
        "from sklearn import linear_model"
      ]
    },
    {
      "cell_type": "markdown",
      "metadata": {
        "id": "Dr6VAb3Qd_mn"
      },
      "source": [
        "# How Much is Your Car Worth?\n",
        "\n",
        "Data about the retail price of 2005 General Motors cars can be found in `car_data.csv`.\n",
        "\n",
        "The columns are:\n",
        "\n",
        "1. Price: suggested retail price of the used 2005 GM car in excellent condition.\n",
        "2. Mileage: number of miles the car has been driven\n",
        "3. Make: manufacturer of the car such as Saturn, Pontiac, and Chevrolet\n",
        "4. Model: specific models for each car manufacturer such as Ion, Vibe, Cavalier\n",
        "5. Trim (of car): specific type of car model such as SE Sedan 4D, Quad Coupe 2D          \n",
        "6. Type: body type such as sedan, coupe, etc.      \n",
        "7. Cylinder: number of cylinders in the engine        \n",
        "8. Liter: a more specific measure of engine size     \n",
        "9. Doors: number of doors           \n",
        "10. Cruise: indicator variable representing whether the car has cruise control (1 = cruise)\n",
        "11. Sound: indicator variable representing whether the car has upgraded speakers (1 = upgraded)\n",
        "12. Leather: indicator variable representing whether the car has leather seats (1 = leather)\n",
        "\n",
        "## Tasks, Part 1\n",
        "\n",
        "1. Find the linear regression equation for mileage vs price.\n",
        "2. Chart the original data and the equation on the chart.\n",
        "3. Find the equation's $R^2$ score (use the `.score` method) to determine whether the\n",
        "equation is a good fit for this data. (0.8 and greater is considered a strong correlation.)\n",
        "\n",
        "## Tasks, Part 2\n",
        "\n",
        "1. Use mileage, cylinders, liters, doors, cruise, sound, and leather to find the linear regression equation.\n",
        "2. Find the equation's $R^2$ score (use the `.score` method) to determine whether the\n",
        "equation is a good fit for this data. (0.8 and greater is considered a strong correlation.)\n",
        "3. Find the combination of the factors that is the best predictor for price.\n",
        "\n",
        "## Tasks, Hard Mode\n",
        "\n",
        "1. Research dummy variables in scikit-learn to see how to use the make, model, and body type.\n",
        "2. Find the best combination of factors to predict price."
      ]
    },
    {
      "cell_type": "markdown",
      "source": [
        "# **Descriptive Analysis**"
      ],
      "metadata": {
        "id": "fHRUnemdggN8"
      }
    },
    {
      "cell_type": "code",
      "execution_count": 29,
      "metadata": {
        "id": "Bbsmdqhud_mp",
        "colab": {
          "base_uri": "https://localhost:8080/",
          "height": 206
        },
        "outputId": "16d7cc22-0782-4065-d351-08ad50f0b55f"
      },
      "outputs": [
        {
          "output_type": "execute_result",
          "data": {
            "text/plain": [
              "          Price  Mileage   Make    Model      Trim   Type  Cylinder  Liter  \\\n",
              "0  17314.103129     8221  Buick  Century  Sedan 4D  Sedan         6    3.1   \n",
              "1  17542.036083     9135  Buick  Century  Sedan 4D  Sedan         6    3.1   \n",
              "2  16218.847862    13196  Buick  Century  Sedan 4D  Sedan         6    3.1   \n",
              "3  16336.913140    16342  Buick  Century  Sedan 4D  Sedan         6    3.1   \n",
              "4  16339.170324    19832  Buick  Century  Sedan 4D  Sedan         6    3.1   \n",
              "\n",
              "   Doors  Cruise  Sound  Leather  \n",
              "0      4       1      1        1  \n",
              "1      4       1      1        0  \n",
              "2      4       1      1        0  \n",
              "3      4       1      0        0  \n",
              "4      4       1      0        1  "
            ],
            "text/html": [
              "\n",
              "  <div id=\"df-41553a46-5005-47f4-8827-41e014c7deec\">\n",
              "    <div class=\"colab-df-container\">\n",
              "      <div>\n",
              "<style scoped>\n",
              "    .dataframe tbody tr th:only-of-type {\n",
              "        vertical-align: middle;\n",
              "    }\n",
              "\n",
              "    .dataframe tbody tr th {\n",
              "        vertical-align: top;\n",
              "    }\n",
              "\n",
              "    .dataframe thead th {\n",
              "        text-align: right;\n",
              "    }\n",
              "</style>\n",
              "<table border=\"1\" class=\"dataframe\">\n",
              "  <thead>\n",
              "    <tr style=\"text-align: right;\">\n",
              "      <th></th>\n",
              "      <th>Price</th>\n",
              "      <th>Mileage</th>\n",
              "      <th>Make</th>\n",
              "      <th>Model</th>\n",
              "      <th>Trim</th>\n",
              "      <th>Type</th>\n",
              "      <th>Cylinder</th>\n",
              "      <th>Liter</th>\n",
              "      <th>Doors</th>\n",
              "      <th>Cruise</th>\n",
              "      <th>Sound</th>\n",
              "      <th>Leather</th>\n",
              "    </tr>\n",
              "  </thead>\n",
              "  <tbody>\n",
              "    <tr>\n",
              "      <th>0</th>\n",
              "      <td>17314.103129</td>\n",
              "      <td>8221</td>\n",
              "      <td>Buick</td>\n",
              "      <td>Century</td>\n",
              "      <td>Sedan 4D</td>\n",
              "      <td>Sedan</td>\n",
              "      <td>6</td>\n",
              "      <td>3.1</td>\n",
              "      <td>4</td>\n",
              "      <td>1</td>\n",
              "      <td>1</td>\n",
              "      <td>1</td>\n",
              "    </tr>\n",
              "    <tr>\n",
              "      <th>1</th>\n",
              "      <td>17542.036083</td>\n",
              "      <td>9135</td>\n",
              "      <td>Buick</td>\n",
              "      <td>Century</td>\n",
              "      <td>Sedan 4D</td>\n",
              "      <td>Sedan</td>\n",
              "      <td>6</td>\n",
              "      <td>3.1</td>\n",
              "      <td>4</td>\n",
              "      <td>1</td>\n",
              "      <td>1</td>\n",
              "      <td>0</td>\n",
              "    </tr>\n",
              "    <tr>\n",
              "      <th>2</th>\n",
              "      <td>16218.847862</td>\n",
              "      <td>13196</td>\n",
              "      <td>Buick</td>\n",
              "      <td>Century</td>\n",
              "      <td>Sedan 4D</td>\n",
              "      <td>Sedan</td>\n",
              "      <td>6</td>\n",
              "      <td>3.1</td>\n",
              "      <td>4</td>\n",
              "      <td>1</td>\n",
              "      <td>1</td>\n",
              "      <td>0</td>\n",
              "    </tr>\n",
              "    <tr>\n",
              "      <th>3</th>\n",
              "      <td>16336.913140</td>\n",
              "      <td>16342</td>\n",
              "      <td>Buick</td>\n",
              "      <td>Century</td>\n",
              "      <td>Sedan 4D</td>\n",
              "      <td>Sedan</td>\n",
              "      <td>6</td>\n",
              "      <td>3.1</td>\n",
              "      <td>4</td>\n",
              "      <td>1</td>\n",
              "      <td>0</td>\n",
              "      <td>0</td>\n",
              "    </tr>\n",
              "    <tr>\n",
              "      <th>4</th>\n",
              "      <td>16339.170324</td>\n",
              "      <td>19832</td>\n",
              "      <td>Buick</td>\n",
              "      <td>Century</td>\n",
              "      <td>Sedan 4D</td>\n",
              "      <td>Sedan</td>\n",
              "      <td>6</td>\n",
              "      <td>3.1</td>\n",
              "      <td>4</td>\n",
              "      <td>1</td>\n",
              "      <td>0</td>\n",
              "      <td>1</td>\n",
              "    </tr>\n",
              "  </tbody>\n",
              "</table>\n",
              "</div>\n",
              "      <button class=\"colab-df-convert\" onclick=\"convertToInteractive('df-41553a46-5005-47f4-8827-41e014c7deec')\"\n",
              "              title=\"Convert this dataframe to an interactive table.\"\n",
              "              style=\"display:none;\">\n",
              "        \n",
              "  <svg xmlns=\"http://www.w3.org/2000/svg\" height=\"24px\"viewBox=\"0 0 24 24\"\n",
              "       width=\"24px\">\n",
              "    <path d=\"M0 0h24v24H0V0z\" fill=\"none\"/>\n",
              "    <path d=\"M18.56 5.44l.94 2.06.94-2.06 2.06-.94-2.06-.94-.94-2.06-.94 2.06-2.06.94zm-11 1L8.5 8.5l.94-2.06 2.06-.94-2.06-.94L8.5 2.5l-.94 2.06-2.06.94zm10 10l.94 2.06.94-2.06 2.06-.94-2.06-.94-.94-2.06-.94 2.06-2.06.94z\"/><path d=\"M17.41 7.96l-1.37-1.37c-.4-.4-.92-.59-1.43-.59-.52 0-1.04.2-1.43.59L10.3 9.45l-7.72 7.72c-.78.78-.78 2.05 0 2.83L4 21.41c.39.39.9.59 1.41.59.51 0 1.02-.2 1.41-.59l7.78-7.78 2.81-2.81c.8-.78.8-2.07 0-2.86zM5.41 20L4 18.59l7.72-7.72 1.47 1.35L5.41 20z\"/>\n",
              "  </svg>\n",
              "      </button>\n",
              "      \n",
              "  <style>\n",
              "    .colab-df-container {\n",
              "      display:flex;\n",
              "      flex-wrap:wrap;\n",
              "      gap: 12px;\n",
              "    }\n",
              "\n",
              "    .colab-df-convert {\n",
              "      background-color: #E8F0FE;\n",
              "      border: none;\n",
              "      border-radius: 50%;\n",
              "      cursor: pointer;\n",
              "      display: none;\n",
              "      fill: #1967D2;\n",
              "      height: 32px;\n",
              "      padding: 0 0 0 0;\n",
              "      width: 32px;\n",
              "    }\n",
              "\n",
              "    .colab-df-convert:hover {\n",
              "      background-color: #E2EBFA;\n",
              "      box-shadow: 0px 1px 2px rgba(60, 64, 67, 0.3), 0px 1px 3px 1px rgba(60, 64, 67, 0.15);\n",
              "      fill: #174EA6;\n",
              "    }\n",
              "\n",
              "    [theme=dark] .colab-df-convert {\n",
              "      background-color: #3B4455;\n",
              "      fill: #D2E3FC;\n",
              "    }\n",
              "\n",
              "    [theme=dark] .colab-df-convert:hover {\n",
              "      background-color: #434B5C;\n",
              "      box-shadow: 0px 1px 3px 1px rgba(0, 0, 0, 0.15);\n",
              "      filter: drop-shadow(0px 1px 2px rgba(0, 0, 0, 0.3));\n",
              "      fill: #FFFFFF;\n",
              "    }\n",
              "  </style>\n",
              "\n",
              "      <script>\n",
              "        const buttonEl =\n",
              "          document.querySelector('#df-41553a46-5005-47f4-8827-41e014c7deec button.colab-df-convert');\n",
              "        buttonEl.style.display =\n",
              "          google.colab.kernel.accessAllowed ? 'block' : 'none';\n",
              "\n",
              "        async function convertToInteractive(key) {\n",
              "          const element = document.querySelector('#df-41553a46-5005-47f4-8827-41e014c7deec');\n",
              "          const dataTable =\n",
              "            await google.colab.kernel.invokeFunction('convertToInteractive',\n",
              "                                                     [key], {});\n",
              "          if (!dataTable) return;\n",
              "\n",
              "          const docLinkHtml = 'Like what you see? Visit the ' +\n",
              "            '<a target=\"_blank\" href=https://colab.research.google.com/notebooks/data_table.ipynb>data table notebook</a>'\n",
              "            + ' to learn more about interactive tables.';\n",
              "          element.innerHTML = '';\n",
              "          dataTable['output_type'] = 'display_data';\n",
              "          await google.colab.output.renderOutput(dataTable, element);\n",
              "          const docLink = document.createElement('div');\n",
              "          docLink.innerHTML = docLinkHtml;\n",
              "          element.appendChild(docLink);\n",
              "        }\n",
              "      </script>\n",
              "    </div>\n",
              "  </div>\n",
              "  "
            ]
          },
          "metadata": {},
          "execution_count": 29
        }
      ],
      "source": [
        "df = pd.read_csv(\"https://raw.githubusercontent.com/LakshmikanthGopi/Datasets/main/car_data.csv\")\n",
        "df.head()"
      ]
    },
    {
      "cell_type": "code",
      "source": [
        "df.info()"
      ],
      "metadata": {
        "colab": {
          "base_uri": "https://localhost:8080/"
        },
        "id": "58TB_XV4hfMI",
        "outputId": "21600c4d-a3c6-4eea-80c5-f71ae1c505e5"
      },
      "execution_count": 30,
      "outputs": [
        {
          "output_type": "stream",
          "name": "stdout",
          "text": [
            "<class 'pandas.core.frame.DataFrame'>\n",
            "RangeIndex: 804 entries, 0 to 803\n",
            "Data columns (total 12 columns):\n",
            " #   Column    Non-Null Count  Dtype  \n",
            "---  ------    --------------  -----  \n",
            " 0   Price     804 non-null    float64\n",
            " 1   Mileage   804 non-null    int64  \n",
            " 2   Make      804 non-null    object \n",
            " 3   Model     804 non-null    object \n",
            " 4   Trim      804 non-null    object \n",
            " 5   Type      804 non-null    object \n",
            " 6   Cylinder  804 non-null    int64  \n",
            " 7   Liter     804 non-null    float64\n",
            " 8   Doors     804 non-null    int64  \n",
            " 9   Cruise    804 non-null    int64  \n",
            " 10  Sound     804 non-null    int64  \n",
            " 11  Leather   804 non-null    int64  \n",
            "dtypes: float64(2), int64(6), object(4)\n",
            "memory usage: 75.5+ KB\n"
          ]
        }
      ]
    },
    {
      "cell_type": "code",
      "source": [
        "df.isnull().sum()"
      ],
      "metadata": {
        "colab": {
          "base_uri": "https://localhost:8080/"
        },
        "id": "6OGy7FWBhfQD",
        "outputId": "76fd9c3f-cdc7-464a-f6d7-9dc17bf9e9b8"
      },
      "execution_count": 31,
      "outputs": [
        {
          "output_type": "execute_result",
          "data": {
            "text/plain": [
              "Price       0\n",
              "Mileage     0\n",
              "Make        0\n",
              "Model       0\n",
              "Trim        0\n",
              "Type        0\n",
              "Cylinder    0\n",
              "Liter       0\n",
              "Doors       0\n",
              "Cruise      0\n",
              "Sound       0\n",
              "Leather     0\n",
              "dtype: int64"
            ]
          },
          "metadata": {},
          "execution_count": 31
        }
      ]
    },
    {
      "cell_type": "code",
      "source": [
        "df.describe()"
      ],
      "metadata": {
        "colab": {
          "base_uri": "https://localhost:8080/",
          "height": 300
        },
        "id": "mDQ9sO0ShfTH",
        "outputId": "b847dcf8-fd0a-4037-856a-48d94896e73b"
      },
      "execution_count": 32,
      "outputs": [
        {
          "output_type": "execute_result",
          "data": {
            "text/plain": [
              "              Price       Mileage    Cylinder       Liter       Doors  \\\n",
              "count    804.000000    804.000000  804.000000  804.000000  804.000000   \n",
              "mean   21343.143767  19831.934080    5.268657    3.037313    3.527363   \n",
              "std     9884.852801   8196.319707    1.387531    1.105562    0.850169   \n",
              "min     8638.930895    266.000000    4.000000    1.600000    2.000000   \n",
              "25%    14273.073870  14623.500000    4.000000    2.200000    4.000000   \n",
              "50%    18024.995019  20913.500000    6.000000    2.800000    4.000000   \n",
              "75%    26717.316636  25213.000000    6.000000    3.800000    4.000000   \n",
              "max    70755.466717  50387.000000    8.000000    6.000000    4.000000   \n",
              "\n",
              "           Cruise       Sound     Leather  \n",
              "count  804.000000  804.000000  804.000000  \n",
              "mean     0.752488    0.679104    0.723881  \n",
              "std      0.431836    0.467111    0.447355  \n",
              "min      0.000000    0.000000    0.000000  \n",
              "25%      1.000000    0.000000    0.000000  \n",
              "50%      1.000000    1.000000    1.000000  \n",
              "75%      1.000000    1.000000    1.000000  \n",
              "max      1.000000    1.000000    1.000000  "
            ],
            "text/html": [
              "\n",
              "  <div id=\"df-eb9b840b-71b1-446f-9a69-7ad26a12a4d8\">\n",
              "    <div class=\"colab-df-container\">\n",
              "      <div>\n",
              "<style scoped>\n",
              "    .dataframe tbody tr th:only-of-type {\n",
              "        vertical-align: middle;\n",
              "    }\n",
              "\n",
              "    .dataframe tbody tr th {\n",
              "        vertical-align: top;\n",
              "    }\n",
              "\n",
              "    .dataframe thead th {\n",
              "        text-align: right;\n",
              "    }\n",
              "</style>\n",
              "<table border=\"1\" class=\"dataframe\">\n",
              "  <thead>\n",
              "    <tr style=\"text-align: right;\">\n",
              "      <th></th>\n",
              "      <th>Price</th>\n",
              "      <th>Mileage</th>\n",
              "      <th>Cylinder</th>\n",
              "      <th>Liter</th>\n",
              "      <th>Doors</th>\n",
              "      <th>Cruise</th>\n",
              "      <th>Sound</th>\n",
              "      <th>Leather</th>\n",
              "    </tr>\n",
              "  </thead>\n",
              "  <tbody>\n",
              "    <tr>\n",
              "      <th>count</th>\n",
              "      <td>804.000000</td>\n",
              "      <td>804.000000</td>\n",
              "      <td>804.000000</td>\n",
              "      <td>804.000000</td>\n",
              "      <td>804.000000</td>\n",
              "      <td>804.000000</td>\n",
              "      <td>804.000000</td>\n",
              "      <td>804.000000</td>\n",
              "    </tr>\n",
              "    <tr>\n",
              "      <th>mean</th>\n",
              "      <td>21343.143767</td>\n",
              "      <td>19831.934080</td>\n",
              "      <td>5.268657</td>\n",
              "      <td>3.037313</td>\n",
              "      <td>3.527363</td>\n",
              "      <td>0.752488</td>\n",
              "      <td>0.679104</td>\n",
              "      <td>0.723881</td>\n",
              "    </tr>\n",
              "    <tr>\n",
              "      <th>std</th>\n",
              "      <td>9884.852801</td>\n",
              "      <td>8196.319707</td>\n",
              "      <td>1.387531</td>\n",
              "      <td>1.105562</td>\n",
              "      <td>0.850169</td>\n",
              "      <td>0.431836</td>\n",
              "      <td>0.467111</td>\n",
              "      <td>0.447355</td>\n",
              "    </tr>\n",
              "    <tr>\n",
              "      <th>min</th>\n",
              "      <td>8638.930895</td>\n",
              "      <td>266.000000</td>\n",
              "      <td>4.000000</td>\n",
              "      <td>1.600000</td>\n",
              "      <td>2.000000</td>\n",
              "      <td>0.000000</td>\n",
              "      <td>0.000000</td>\n",
              "      <td>0.000000</td>\n",
              "    </tr>\n",
              "    <tr>\n",
              "      <th>25%</th>\n",
              "      <td>14273.073870</td>\n",
              "      <td>14623.500000</td>\n",
              "      <td>4.000000</td>\n",
              "      <td>2.200000</td>\n",
              "      <td>4.000000</td>\n",
              "      <td>1.000000</td>\n",
              "      <td>0.000000</td>\n",
              "      <td>0.000000</td>\n",
              "    </tr>\n",
              "    <tr>\n",
              "      <th>50%</th>\n",
              "      <td>18024.995019</td>\n",
              "      <td>20913.500000</td>\n",
              "      <td>6.000000</td>\n",
              "      <td>2.800000</td>\n",
              "      <td>4.000000</td>\n",
              "      <td>1.000000</td>\n",
              "      <td>1.000000</td>\n",
              "      <td>1.000000</td>\n",
              "    </tr>\n",
              "    <tr>\n",
              "      <th>75%</th>\n",
              "      <td>26717.316636</td>\n",
              "      <td>25213.000000</td>\n",
              "      <td>6.000000</td>\n",
              "      <td>3.800000</td>\n",
              "      <td>4.000000</td>\n",
              "      <td>1.000000</td>\n",
              "      <td>1.000000</td>\n",
              "      <td>1.000000</td>\n",
              "    </tr>\n",
              "    <tr>\n",
              "      <th>max</th>\n",
              "      <td>70755.466717</td>\n",
              "      <td>50387.000000</td>\n",
              "      <td>8.000000</td>\n",
              "      <td>6.000000</td>\n",
              "      <td>4.000000</td>\n",
              "      <td>1.000000</td>\n",
              "      <td>1.000000</td>\n",
              "      <td>1.000000</td>\n",
              "    </tr>\n",
              "  </tbody>\n",
              "</table>\n",
              "</div>\n",
              "      <button class=\"colab-df-convert\" onclick=\"convertToInteractive('df-eb9b840b-71b1-446f-9a69-7ad26a12a4d8')\"\n",
              "              title=\"Convert this dataframe to an interactive table.\"\n",
              "              style=\"display:none;\">\n",
              "        \n",
              "  <svg xmlns=\"http://www.w3.org/2000/svg\" height=\"24px\"viewBox=\"0 0 24 24\"\n",
              "       width=\"24px\">\n",
              "    <path d=\"M0 0h24v24H0V0z\" fill=\"none\"/>\n",
              "    <path d=\"M18.56 5.44l.94 2.06.94-2.06 2.06-.94-2.06-.94-.94-2.06-.94 2.06-2.06.94zm-11 1L8.5 8.5l.94-2.06 2.06-.94-2.06-.94L8.5 2.5l-.94 2.06-2.06.94zm10 10l.94 2.06.94-2.06 2.06-.94-2.06-.94-.94-2.06-.94 2.06-2.06.94z\"/><path d=\"M17.41 7.96l-1.37-1.37c-.4-.4-.92-.59-1.43-.59-.52 0-1.04.2-1.43.59L10.3 9.45l-7.72 7.72c-.78.78-.78 2.05 0 2.83L4 21.41c.39.39.9.59 1.41.59.51 0 1.02-.2 1.41-.59l7.78-7.78 2.81-2.81c.8-.78.8-2.07 0-2.86zM5.41 20L4 18.59l7.72-7.72 1.47 1.35L5.41 20z\"/>\n",
              "  </svg>\n",
              "      </button>\n",
              "      \n",
              "  <style>\n",
              "    .colab-df-container {\n",
              "      display:flex;\n",
              "      flex-wrap:wrap;\n",
              "      gap: 12px;\n",
              "    }\n",
              "\n",
              "    .colab-df-convert {\n",
              "      background-color: #E8F0FE;\n",
              "      border: none;\n",
              "      border-radius: 50%;\n",
              "      cursor: pointer;\n",
              "      display: none;\n",
              "      fill: #1967D2;\n",
              "      height: 32px;\n",
              "      padding: 0 0 0 0;\n",
              "      width: 32px;\n",
              "    }\n",
              "\n",
              "    .colab-df-convert:hover {\n",
              "      background-color: #E2EBFA;\n",
              "      box-shadow: 0px 1px 2px rgba(60, 64, 67, 0.3), 0px 1px 3px 1px rgba(60, 64, 67, 0.15);\n",
              "      fill: #174EA6;\n",
              "    }\n",
              "\n",
              "    [theme=dark] .colab-df-convert {\n",
              "      background-color: #3B4455;\n",
              "      fill: #D2E3FC;\n",
              "    }\n",
              "\n",
              "    [theme=dark] .colab-df-convert:hover {\n",
              "      background-color: #434B5C;\n",
              "      box-shadow: 0px 1px 3px 1px rgba(0, 0, 0, 0.15);\n",
              "      filter: drop-shadow(0px 1px 2px rgba(0, 0, 0, 0.3));\n",
              "      fill: #FFFFFF;\n",
              "    }\n",
              "  </style>\n",
              "\n",
              "      <script>\n",
              "        const buttonEl =\n",
              "          document.querySelector('#df-eb9b840b-71b1-446f-9a69-7ad26a12a4d8 button.colab-df-convert');\n",
              "        buttonEl.style.display =\n",
              "          google.colab.kernel.accessAllowed ? 'block' : 'none';\n",
              "\n",
              "        async function convertToInteractive(key) {\n",
              "          const element = document.querySelector('#df-eb9b840b-71b1-446f-9a69-7ad26a12a4d8');\n",
              "          const dataTable =\n",
              "            await google.colab.kernel.invokeFunction('convertToInteractive',\n",
              "                                                     [key], {});\n",
              "          if (!dataTable) return;\n",
              "\n",
              "          const docLinkHtml = 'Like what you see? Visit the ' +\n",
              "            '<a target=\"_blank\" href=https://colab.research.google.com/notebooks/data_table.ipynb>data table notebook</a>'\n",
              "            + ' to learn more about interactive tables.';\n",
              "          element.innerHTML = '';\n",
              "          dataTable['output_type'] = 'display_data';\n",
              "          await google.colab.output.renderOutput(dataTable, element);\n",
              "          const docLink = document.createElement('div');\n",
              "          docLink.innerHTML = docLinkHtml;\n",
              "          element.appendChild(docLink);\n",
              "        }\n",
              "      </script>\n",
              "    </div>\n",
              "  </div>\n",
              "  "
            ]
          },
          "metadata": {},
          "execution_count": 32
        }
      ]
    },
    {
      "cell_type": "markdown",
      "source": [
        "# **EDA**"
      ],
      "metadata": {
        "id": "Nw2TLgosibY_"
      }
    },
    {
      "cell_type": "code",
      "source": [
        "df.head()"
      ],
      "metadata": {
        "colab": {
          "base_uri": "https://localhost:8080/",
          "height": 206
        },
        "id": "awIpnDT6hfV4",
        "outputId": "2cd715c0-116e-4d38-c24b-4942b4f5c241"
      },
      "execution_count": 33,
      "outputs": [
        {
          "output_type": "execute_result",
          "data": {
            "text/plain": [
              "          Price  Mileage   Make    Model      Trim   Type  Cylinder  Liter  \\\n",
              "0  17314.103129     8221  Buick  Century  Sedan 4D  Sedan         6    3.1   \n",
              "1  17542.036083     9135  Buick  Century  Sedan 4D  Sedan         6    3.1   \n",
              "2  16218.847862    13196  Buick  Century  Sedan 4D  Sedan         6    3.1   \n",
              "3  16336.913140    16342  Buick  Century  Sedan 4D  Sedan         6    3.1   \n",
              "4  16339.170324    19832  Buick  Century  Sedan 4D  Sedan         6    3.1   \n",
              "\n",
              "   Doors  Cruise  Sound  Leather  \n",
              "0      4       1      1        1  \n",
              "1      4       1      1        0  \n",
              "2      4       1      1        0  \n",
              "3      4       1      0        0  \n",
              "4      4       1      0        1  "
            ],
            "text/html": [
              "\n",
              "  <div id=\"df-106867e1-7764-476b-ad69-4703e0bc1161\">\n",
              "    <div class=\"colab-df-container\">\n",
              "      <div>\n",
              "<style scoped>\n",
              "    .dataframe tbody tr th:only-of-type {\n",
              "        vertical-align: middle;\n",
              "    }\n",
              "\n",
              "    .dataframe tbody tr th {\n",
              "        vertical-align: top;\n",
              "    }\n",
              "\n",
              "    .dataframe thead th {\n",
              "        text-align: right;\n",
              "    }\n",
              "</style>\n",
              "<table border=\"1\" class=\"dataframe\">\n",
              "  <thead>\n",
              "    <tr style=\"text-align: right;\">\n",
              "      <th></th>\n",
              "      <th>Price</th>\n",
              "      <th>Mileage</th>\n",
              "      <th>Make</th>\n",
              "      <th>Model</th>\n",
              "      <th>Trim</th>\n",
              "      <th>Type</th>\n",
              "      <th>Cylinder</th>\n",
              "      <th>Liter</th>\n",
              "      <th>Doors</th>\n",
              "      <th>Cruise</th>\n",
              "      <th>Sound</th>\n",
              "      <th>Leather</th>\n",
              "    </tr>\n",
              "  </thead>\n",
              "  <tbody>\n",
              "    <tr>\n",
              "      <th>0</th>\n",
              "      <td>17314.103129</td>\n",
              "      <td>8221</td>\n",
              "      <td>Buick</td>\n",
              "      <td>Century</td>\n",
              "      <td>Sedan 4D</td>\n",
              "      <td>Sedan</td>\n",
              "      <td>6</td>\n",
              "      <td>3.1</td>\n",
              "      <td>4</td>\n",
              "      <td>1</td>\n",
              "      <td>1</td>\n",
              "      <td>1</td>\n",
              "    </tr>\n",
              "    <tr>\n",
              "      <th>1</th>\n",
              "      <td>17542.036083</td>\n",
              "      <td>9135</td>\n",
              "      <td>Buick</td>\n",
              "      <td>Century</td>\n",
              "      <td>Sedan 4D</td>\n",
              "      <td>Sedan</td>\n",
              "      <td>6</td>\n",
              "      <td>3.1</td>\n",
              "      <td>4</td>\n",
              "      <td>1</td>\n",
              "      <td>1</td>\n",
              "      <td>0</td>\n",
              "    </tr>\n",
              "    <tr>\n",
              "      <th>2</th>\n",
              "      <td>16218.847862</td>\n",
              "      <td>13196</td>\n",
              "      <td>Buick</td>\n",
              "      <td>Century</td>\n",
              "      <td>Sedan 4D</td>\n",
              "      <td>Sedan</td>\n",
              "      <td>6</td>\n",
              "      <td>3.1</td>\n",
              "      <td>4</td>\n",
              "      <td>1</td>\n",
              "      <td>1</td>\n",
              "      <td>0</td>\n",
              "    </tr>\n",
              "    <tr>\n",
              "      <th>3</th>\n",
              "      <td>16336.913140</td>\n",
              "      <td>16342</td>\n",
              "      <td>Buick</td>\n",
              "      <td>Century</td>\n",
              "      <td>Sedan 4D</td>\n",
              "      <td>Sedan</td>\n",
              "      <td>6</td>\n",
              "      <td>3.1</td>\n",
              "      <td>4</td>\n",
              "      <td>1</td>\n",
              "      <td>0</td>\n",
              "      <td>0</td>\n",
              "    </tr>\n",
              "    <tr>\n",
              "      <th>4</th>\n",
              "      <td>16339.170324</td>\n",
              "      <td>19832</td>\n",
              "      <td>Buick</td>\n",
              "      <td>Century</td>\n",
              "      <td>Sedan 4D</td>\n",
              "      <td>Sedan</td>\n",
              "      <td>6</td>\n",
              "      <td>3.1</td>\n",
              "      <td>4</td>\n",
              "      <td>1</td>\n",
              "      <td>0</td>\n",
              "      <td>1</td>\n",
              "    </tr>\n",
              "  </tbody>\n",
              "</table>\n",
              "</div>\n",
              "      <button class=\"colab-df-convert\" onclick=\"convertToInteractive('df-106867e1-7764-476b-ad69-4703e0bc1161')\"\n",
              "              title=\"Convert this dataframe to an interactive table.\"\n",
              "              style=\"display:none;\">\n",
              "        \n",
              "  <svg xmlns=\"http://www.w3.org/2000/svg\" height=\"24px\"viewBox=\"0 0 24 24\"\n",
              "       width=\"24px\">\n",
              "    <path d=\"M0 0h24v24H0V0z\" fill=\"none\"/>\n",
              "    <path d=\"M18.56 5.44l.94 2.06.94-2.06 2.06-.94-2.06-.94-.94-2.06-.94 2.06-2.06.94zm-11 1L8.5 8.5l.94-2.06 2.06-.94-2.06-.94L8.5 2.5l-.94 2.06-2.06.94zm10 10l.94 2.06.94-2.06 2.06-.94-2.06-.94-.94-2.06-.94 2.06-2.06.94z\"/><path d=\"M17.41 7.96l-1.37-1.37c-.4-.4-.92-.59-1.43-.59-.52 0-1.04.2-1.43.59L10.3 9.45l-7.72 7.72c-.78.78-.78 2.05 0 2.83L4 21.41c.39.39.9.59 1.41.59.51 0 1.02-.2 1.41-.59l7.78-7.78 2.81-2.81c.8-.78.8-2.07 0-2.86zM5.41 20L4 18.59l7.72-7.72 1.47 1.35L5.41 20z\"/>\n",
              "  </svg>\n",
              "      </button>\n",
              "      \n",
              "  <style>\n",
              "    .colab-df-container {\n",
              "      display:flex;\n",
              "      flex-wrap:wrap;\n",
              "      gap: 12px;\n",
              "    }\n",
              "\n",
              "    .colab-df-convert {\n",
              "      background-color: #E8F0FE;\n",
              "      border: none;\n",
              "      border-radius: 50%;\n",
              "      cursor: pointer;\n",
              "      display: none;\n",
              "      fill: #1967D2;\n",
              "      height: 32px;\n",
              "      padding: 0 0 0 0;\n",
              "      width: 32px;\n",
              "    }\n",
              "\n",
              "    .colab-df-convert:hover {\n",
              "      background-color: #E2EBFA;\n",
              "      box-shadow: 0px 1px 2px rgba(60, 64, 67, 0.3), 0px 1px 3px 1px rgba(60, 64, 67, 0.15);\n",
              "      fill: #174EA6;\n",
              "    }\n",
              "\n",
              "    [theme=dark] .colab-df-convert {\n",
              "      background-color: #3B4455;\n",
              "      fill: #D2E3FC;\n",
              "    }\n",
              "\n",
              "    [theme=dark] .colab-df-convert:hover {\n",
              "      background-color: #434B5C;\n",
              "      box-shadow: 0px 1px 3px 1px rgba(0, 0, 0, 0.15);\n",
              "      filter: drop-shadow(0px 1px 2px rgba(0, 0, 0, 0.3));\n",
              "      fill: #FFFFFF;\n",
              "    }\n",
              "  </style>\n",
              "\n",
              "      <script>\n",
              "        const buttonEl =\n",
              "          document.querySelector('#df-106867e1-7764-476b-ad69-4703e0bc1161 button.colab-df-convert');\n",
              "        buttonEl.style.display =\n",
              "          google.colab.kernel.accessAllowed ? 'block' : 'none';\n",
              "\n",
              "        async function convertToInteractive(key) {\n",
              "          const element = document.querySelector('#df-106867e1-7764-476b-ad69-4703e0bc1161');\n",
              "          const dataTable =\n",
              "            await google.colab.kernel.invokeFunction('convertToInteractive',\n",
              "                                                     [key], {});\n",
              "          if (!dataTable) return;\n",
              "\n",
              "          const docLinkHtml = 'Like what you see? Visit the ' +\n",
              "            '<a target=\"_blank\" href=https://colab.research.google.com/notebooks/data_table.ipynb>data table notebook</a>'\n",
              "            + ' to learn more about interactive tables.';\n",
              "          element.innerHTML = '';\n",
              "          dataTable['output_type'] = 'display_data';\n",
              "          await google.colab.output.renderOutput(dataTable, element);\n",
              "          const docLink = document.createElement('div');\n",
              "          docLink.innerHTML = docLinkHtml;\n",
              "          element.appendChild(docLink);\n",
              "        }\n",
              "      </script>\n",
              "    </div>\n",
              "  </div>\n",
              "  "
            ]
          },
          "metadata": {},
          "execution_count": 33
        }
      ]
    },
    {
      "cell_type": "code",
      "source": [
        "import seaborn as sns\n",
        "sns.countplot(df[\"Make\"])\n",
        "plt.show()"
      ],
      "metadata": {
        "colab": {
          "base_uri": "https://localhost:8080/",
          "height": 368
        },
        "id": "Qow6dMZqhfYj",
        "outputId": "344884f3-16c4-467f-e84e-c238df004d49"
      },
      "execution_count": 34,
      "outputs": [
        {
          "output_type": "stream",
          "name": "stderr",
          "text": [
            "/usr/local/lib/python3.7/dist-packages/seaborn/_decorators.py:43: FutureWarning:\n",
            "\n",
            "Pass the following variable as a keyword arg: x. From version 0.12, the only valid positional argument will be `data`, and passing other arguments without an explicit keyword will result in an error or misinterpretation.\n",
            "\n"
          ]
        },
        {
          "output_type": "display_data",
          "data": {
            "text/plain": [
              "<Figure size 432x288 with 1 Axes>"
            ],
            "image/png": "[encoded data removed]"
          },
          "metadata": {
            "needs_background": "light"
          }
        }
      ]
    },
    {
      "cell_type": "code",
      "source": [
        "import plotly.express as px\n",
        "fig=px.bar(df,x='Model')\n",
        "fig.show()"
      ],
      "metadata": {
        "colab": {
          "base_uri": "https://localhost:8080/",
          "height": 542
        },
        "id": "UDKdwvsFhfeF",
        "outputId": "cc7623dd-a638-4716-e3c6-39b52e57717a"
      },
      "execution_count": 35,
      "outputs": [
        {
          "output_type": "display_data",
          "data": {
            "text/html": [
              "<html>\n",
              "<head><meta charset=\"utf-8\" /></head>\n",
              "<body>\n",
              "    <div>            <script src=\"https://cdnjs.cloudflare.com/ajax/libs/mathjax/2.7.5/MathJax.js?config=TeX-AMS-MML_SVG\"></script><script type=\"text/javascript\">if (window.MathJax) {MathJax.Hub.Config({SVG: {font: \"STIX-Web\"}});}</script>                <script type=\"text/javascript\">window.PlotlyConfig = {MathJaxConfig: 'local'};</script>\n",
              "        <script src=\"https://cdn.plot.ly/plotly-2.8.3.min.js\"></script>                <div id=\"7b33af7e-1813-457a-b5b1-62a47437a957\" class=\"plotly-graph-div\" style=\"height:525px; width:100%;\"></div>            <script type=\"text/javascript\">                                    window.PLOTLYENV=window.PLOTLYENV || {};                                    if (document.getElementById(\"7b33af7e-1813-457a-b5b1-62a47437a957\")) {                    Plotly.newPlot(                        \"7b33af7e-1813-457a-b5b1-62a47437a957\",                        [{\"alignmentgroup\":\"True\",\"hovertemplate\":\"Model=%{x}<br>count=%{y}<extra></extra>\",\"legendgroup\":\"\",\"marker\":{\"color\":\"#636efa\",\"pattern\":{\"shape\":\"\"}},\"name\":\"\",\"offsetgroup\":\"\",\"orientation\":\"v\",\"showlegend\":false,\"textposition\":\"auto\",\"x\":[\"Century\",\"Century\",\"Century\",\"Century\",\"Century\",\"Century\",\"Century\",\"Century\",\"Century\",\"Century\",\"Lacrosse\",\"Lacrosse\",\"Lacrosse\",\"Lacrosse\",\"Lacrosse\",\"Lacrosse\",\"Lacrosse\",\"Lacrosse\",\"Lacrosse\",\"Lacrosse\",\"Lacrosse\",\"Lacrosse\",\"Lacrosse\",\"Lacrosse\",\"Lacrosse\",\"Lacrosse\",\"Lacrosse\",\"Lacrosse\",\"Lacrosse\",\"Lacrosse\",\"Lacrosse\",\"Lacrosse\",\"Lacrosse\",\"Lacrosse\",\"Lacrosse\",\"Lacrosse\",\"Lacrosse\",\"Lacrosse\",\"Lacrosse\",\"Lacrosse\",\"Lesabre\",\"Lesabre\",\"Lesabre\",\"Lesabre\",\"Lesabre\",\"Lesabre\",\"Lesabre\",\"Lesabre\",\"Lesabre\",\"Lesabre\",\"Lesabre\",\"Lesabre\",\"Lesabre\",\"Lesabre\",\"Lesabre\",\"Lesabre\",\"Lesabre\",\"Lesabre\",\"Lesabre\",\"Lesabre\",\"Park Avenue\",\"Park Avenue\",\"Park Avenue\",\"Park Avenue\",\"Park Avenue\",\"Park Avenue\",\"Park Avenue\",\"Park Avenue\",\"Park Avenue\",\"Park Avenue\",\"Park Avenue\",\"Park Avenue\",\"Park Avenue\",\"Park Avenue\",\"Park Avenue\",\"Park Avenue\",\"Park Avenue\",\"Park Avenue\",\"Park Avenue\",\"Park Avenue\",\"CST-V\",\"CST-V\",\"CST-V\",\"CST-V\",\"CST-V\",\"CST-V\",\"CST-V\",\"CST-V\",\"CST-V\",\"CST-V\",\"CTS\",\"CTS\",\"CTS\",\"CTS\",\"CTS\",\"CTS\",\"CTS\",\"CTS\",\"CTS\",\"CTS\",\"Deville\",\"Deville\",\"Deville\",\"Deville\",\"Deville\",\"Deville\",\"Deville\",\"Deville\",\"Deville\",\"Deville\",\"Deville\",\"Deville\",\"Deville\",\"Deville\",\"Deville\",\"Deville\",\"Deville\",\"Deville\",\"Deville\",\"Deville\",\"Deville\",\"Deville\",\"Deville\",\"Deville\",\"Deville\",\"Deville\",\"Deville\",\"Deville\",\"Deville\",\"Deville\",\"STS-V6\",\"STS-V6\",\"STS-V6\",\"STS-V6\",\"STS-V6\",\"STS-V6\",\"STS-V6\",\"STS-V6\",\"STS-V6\",\"STS-V6\",\"STS-V8\",\"STS-V8\",\"STS-V8\",\"STS-V8\",\"STS-V8\",\"STS-V8\",\"STS-V8\",\"STS-V8\",\"STS-V8\",\"STS-V8\",\"XLR-V8\",\"XLR-V8\",\"XLR-V8\",\"XLR-V8\",\"XLR-V8\",\"XLR-V8\",\"XLR-V8\",\"XLR-V8\",\"XLR-V8\",\"XLR-V8\",\"AVEO\",\"AVEO\",\"AVEO\",\"AVEO\",\"AVEO\",\"AVEO\",\"AVEO\",\"AVEO\",\"AVEO\",\"AVEO\",\"AVEO\",\"AVEO\",\"AVEO\",\"AVEO\",\"AVEO\",\"AVEO\",\"AVEO\",\"AVEO\",\"AVEO\",\"AVEO\",\"AVEO\",\"AVEO\",\"AVEO\",\"AVEO\",\"AVEO\",\"AVEO\",\"AVEO\",\"AVEO\",\"AVEO\",\"AVEO\",\"AVEO\",\"AVEO\",\"AVEO\",\"AVEO\",\"AVEO\",\"AVEO\",\"AVEO\",\"AVEO\",\"AVEO\",\"AVEO\",\"AVEO\",\"AVEO\",\"AVEO\",\"AVEO\",\"AVEO\",\"AVEO\",\"AVEO\",\"AVEO\",\"AVEO\",\"AVEO\",\"AVEO\",\"AVEO\",\"AVEO\",\"AVEO\",\"AVEO\",\"AVEO\",\"AVEO\",\"AVEO\",\"AVEO\",\"AVEO\",\"Cavalier\",\"Cavalier\",\"Cavalier\",\"Cavalier\",\"Cavalier\",\"Cavalier\",\"Cavalier\",\"Cavalier\",\"Cavalier\",\"Cavalier\",\"Cavalier\",\"Cavalier\",\"Cavalier\",\"Cavalier\",\"Cavalier\",\"Cavalier\",\"Cavalier\",\"Cavalier\",\"Cavalier\",\"Cavalier\",\"Cavalier\",\"Cavalier\",\"Cavalier\",\"Cavalier\",\"Cavalier\",\"Cavalier\",\"Cavalier\",\"Cavalier\",\"Cavalier\",\"Cavalier\",\"Cavalier\",\"Cavalier\",\"Cavalier\",\"Cavalier\",\"Cavalier\",\"Cavalier\",\"Cavalier\",\"Cavalier\",\"Cavalier\",\"Cavalier\",\"Cavalier\",\"Cavalier\",\"Cavalier\",\"Cavalier\",\"Cavalier\",\"Cavalier\",\"Cavalier\",\"Cavalier\",\"Cavalier\",\"Cavalier\",\"Cavalier\",\"Cavalier\",\"Cavalier\",\"Cavalier\",\"Cavalier\",\"Cavalier\",\"Cavalier\",\"Cavalier\",\"Cavalier\",\"Cavalier\",\"Classic\",\"Classic\",\"Classic\",\"Classic\",\"Classic\",\"Classic\",\"Classic\",\"Classic\",\"Classic\",\"Classic\",\"Cobalt\",\"Cobalt\",\"Cobalt\",\"Cobalt\",\"Cobalt\",\"Cobalt\",\"Cobalt\",\"Cobalt\",\"Cobalt\",\"Cobalt\",\"Cobalt\",\"Cobalt\",\"Cobalt\",\"Cobalt\",\"Cobalt\",\"Cobalt\",\"Cobalt\",\"Cobalt\",\"Cobalt\",\"Cobalt\",\"Cobalt\",\"Cobalt\",\"Cobalt\",\"Cobalt\",\"Cobalt\",\"Cobalt\",\"Cobalt\",\"Cobalt\",\"Cobalt\",\"Cobalt\",\"Cobalt\",\"Cobalt\",\"Cobalt\",\"Cobalt\",\"Cobalt\",\"Cobalt\",\"Cobalt\",\"Cobalt\",\"Cobalt\",\"Cobalt\",\"Cobalt\",\"Cobalt\",\"Cobalt\",\"Cobalt\",\"Cobalt\",\"Cobalt\",\"Cobalt\",\"Cobalt\",\"Cobalt\",\"Cobalt\",\"Corvette\",\"Corvette\",\"Corvette\",\"Corvette\",\"Corvette\",\"Corvette\",\"Corvette\",\"Corvette\",\"Corvette\",\"Corvette\",\"Corvette\",\"Corvette\",\"Corvette\",\"Corvette\",\"Corvette\",\"Corvette\",\"Corvette\",\"Corvette\",\"Corvette\",\"Corvette\",\"Impala\",\"Impala\",\"Impala\",\"Impala\",\"Impala\",\"Impala\",\"Impala\",\"Impala\",\"Impala\",\"Impala\",\"Impala\",\"Impala\",\"Impala\",\"Impala\",\"Impala\",\"Impala\",\"Impala\",\"Impala\",\"Impala\",\"Impala\",\"Impala\",\"Impala\",\"Impala\",\"Impala\",\"Impala\",\"Impala\",\"Impala\",\"Impala\",\"Impala\",\"Impala\",\"Malibu\",\"Malibu\",\"Malibu\",\"Malibu\",\"Malibu\",\"Malibu\",\"Malibu\",\"Malibu\",\"Malibu\",\"Malibu\",\"Malibu\",\"Malibu\",\"Malibu\",\"Malibu\",\"Malibu\",\"Malibu\",\"Malibu\",\"Malibu\",\"Malibu\",\"Malibu\",\"Malibu\",\"Malibu\",\"Malibu\",\"Malibu\",\"Malibu\",\"Malibu\",\"Malibu\",\"Malibu\",\"Malibu\",\"Malibu\",\"Malibu\",\"Malibu\",\"Malibu\",\"Malibu\",\"Malibu\",\"Malibu\",\"Malibu\",\"Malibu\",\"Malibu\",\"Malibu\",\"Malibu\",\"Malibu\",\"Malibu\",\"Malibu\",\"Malibu\",\"Malibu\",\"Malibu\",\"Malibu\",\"Malibu\",\"Malibu\",\"Malibu\",\"Malibu\",\"Malibu\",\"Malibu\",\"Malibu\",\"Malibu\",\"Malibu\",\"Malibu\",\"Malibu\",\"Malibu\",\"Monte Carlo\",\"Monte Carlo\",\"Monte Carlo\",\"Monte Carlo\",\"Monte Carlo\",\"Monte Carlo\",\"Monte Carlo\",\"Monte Carlo\",\"Monte Carlo\",\"Monte Carlo\",\"Monte Carlo\",\"Monte Carlo\",\"Monte Carlo\",\"Monte Carlo\",\"Monte Carlo\",\"Monte Carlo\",\"Monte Carlo\",\"Monte Carlo\",\"Monte Carlo\",\"Monte Carlo\",\"Monte Carlo\",\"Monte Carlo\",\"Monte Carlo\",\"Monte Carlo\",\"Monte Carlo\",\"Monte Carlo\",\"Monte Carlo\",\"Monte Carlo\",\"Monte Carlo\",\"Monte Carlo\",\"Bonneville\",\"Bonneville\",\"Bonneville\",\"Bonneville\",\"Bonneville\",\"Bonneville\",\"Bonneville\",\"Bonneville\",\"Bonneville\",\"Bonneville\",\"Bonneville\",\"Bonneville\",\"Bonneville\",\"Bonneville\",\"Bonneville\",\"Bonneville\",\"Bonneville\",\"Bonneville\",\"Bonneville\",\"Bonneville\",\"Bonneville\",\"Bonneville\",\"Bonneville\",\"Bonneville\",\"Bonneville\",\"Bonneville\",\"Bonneville\",\"Bonneville\",\"Bonneville\",\"Bonneville\",\"G6\",\"G6\",\"G6\",\"G6\",\"G6\",\"G6\",\"G6\",\"G6\",\"G6\",\"G6\",\"G6\",\"G6\",\"G6\",\"G6\",\"G6\",\"G6\",\"G6\",\"G6\",\"G6\",\"G6\",\"Grand Am\",\"Grand Am\",\"Grand Am\",\"Grand Am\",\"Grand Am\",\"Grand Am\",\"Grand Am\",\"Grand Am\",\"Grand Am\",\"Grand Am\",\"Grand Am\",\"Grand Am\",\"Grand Am\",\"Grand Am\",\"Grand Am\",\"Grand Am\",\"Grand Am\",\"Grand Am\",\"Grand Am\",\"Grand Am\",\"Grand Prix\",\"Grand Prix\",\"Grand Prix\",\"Grand Prix\",\"Grand Prix\",\"Grand Prix\",\"Grand Prix\",\"Grand Prix\",\"Grand Prix\",\"Grand Prix\",\"Grand Prix\",\"Grand Prix\",\"Grand Prix\",\"Grand Prix\",\"Grand Prix\",\"Grand Prix\",\"Grand Prix\",\"Grand Prix\",\"Grand Prix\",\"Grand Prix\",\"Grand Prix\",\"Grand Prix\",\"Grand Prix\",\"Grand Prix\",\"Grand Prix\",\"Grand Prix\",\"Grand Prix\",\"Grand Prix\",\"Grand Prix\",\"Grand Prix\",\"GTO\",\"GTO\",\"GTO\",\"GTO\",\"GTO\",\"GTO\",\"GTO\",\"GTO\",\"GTO\",\"GTO\",\"Sunfire\",\"Sunfire\",\"Sunfire\",\"Sunfire\",\"Sunfire\",\"Sunfire\",\"Sunfire\",\"Sunfire\",\"Sunfire\",\"Sunfire\",\"Vibe\",\"Vibe\",\"Vibe\",\"Vibe\",\"Vibe\",\"Vibe\",\"Vibe\",\"Vibe\",\"Vibe\",\"Vibe\",\"Vibe\",\"Vibe\",\"Vibe\",\"Vibe\",\"Vibe\",\"Vibe\",\"Vibe\",\"Vibe\",\"Vibe\",\"Vibe\",\"Vibe\",\"Vibe\",\"Vibe\",\"Vibe\",\"Vibe\",\"Vibe\",\"Vibe\",\"Vibe\",\"Vibe\",\"Vibe\",\"9_3\",\"9_3\",\"9_3\",\"9_3\",\"9_3\",\"9_3\",\"9_3\",\"9_3\",\"9_3\",\"9_3\",\"9_3\",\"9_3\",\"9_3\",\"9_3\",\"9_3\",\"9_3\",\"9_3\",\"9_3\",\"9_3\",\"9_3\",\"9_3 HO\",\"9_3 HO\",\"9_3 HO\",\"9_3 HO\",\"9_3 HO\",\"9_3 HO\",\"9_3 HO\",\"9_3 HO\",\"9_3 HO\",\"9_3 HO\",\"9_3 HO\",\"9_3 HO\",\"9_3 HO\",\"9_3 HO\",\"9_3 HO\",\"9_3 HO\",\"9_3 HO\",\"9_3 HO\",\"9_3 HO\",\"9_3 HO\",\"9_3 HO\",\"9_3 HO\",\"9_3 HO\",\"9_3 HO\",\"9_3 HO\",\"9_3 HO\",\"9_3 HO\",\"9_3 HO\",\"9_3 HO\",\"9_3 HO\",\"9_3 HO\",\"9_3 HO\",\"9_3 HO\",\"9_3 HO\",\"9_3 HO\",\"9_3 HO\",\"9_3 HO\",\"9_3 HO\",\"9_3 HO\",\"9_3 HO\",\"9_5\",\"9_5\",\"9_5\",\"9_5\",\"9_5\",\"9_5\",\"9_5\",\"9_5\",\"9_5\",\"9_5\",\"9_5\",\"9_5\",\"9_5\",\"9_5\",\"9_5\",\"9_5\",\"9_5\",\"9_5\",\"9_5\",\"9_5\",\"9_5\",\"9_5\",\"9_5\",\"9_5\",\"9_5\",\"9_5\",\"9_5\",\"9_5\",\"9_5\",\"9_5\",\"9_5 HO\",\"9_5 HO\",\"9_5 HO\",\"9_5 HO\",\"9_5 HO\",\"9_5 HO\",\"9_5 HO\",\"9_5 HO\",\"9_5 HO\",\"9_5 HO\",\"9_5 HO\",\"9_5 HO\",\"9_5 HO\",\"9_5 HO\",\"9_5 HO\",\"9_5 HO\",\"9_5 HO\",\"9_5 HO\",\"9_5 HO\",\"9_5 HO\",\"9-2X AWD\",\"9-2X AWD\",\"9-2X AWD\",\"9-2X AWD\",\"Ion\",\"Ion\",\"Ion\",\"Ion\",\"Ion\",\"Ion\",\"Ion\",\"Ion\",\"Ion\",\"Ion\",\"Ion\",\"Ion\",\"Ion\",\"Ion\",\"Ion\",\"Ion\",\"Ion\",\"Ion\",\"Ion\",\"Ion\",\"Ion\",\"Ion\",\"Ion\",\"Ion\",\"Ion\",\"Ion\",\"Ion\",\"Ion\",\"Ion\",\"Ion\",\"Ion\",\"Ion\",\"Ion\",\"Ion\",\"Ion\",\"Ion\",\"Ion\",\"Ion\",\"Ion\",\"Ion\",\"Ion\",\"Ion\",\"Ion\",\"Ion\",\"Ion\",\"Ion\",\"Ion\",\"Ion\",\"Ion\",\"Ion\",\"L Series\",\"L Series\",\"L Series\",\"L Series\",\"L Series\",\"L Series\",\"L Series\",\"L Series\",\"L Series\",\"L Series\"],\"xaxis\":\"x\",\"y\":[1,1,1,1,1,1,1,1,1,1,1,1,1,1,1,1,1,1,1,1,1,1,1,1,1,1,1,1,1,1,1,1,1,1,1,1,1,1,1,1,1,1,1,1,1,1,1,1,1,1,1,1,1,1,1,1,1,1,1,1,1,1,1,1,1,1,1,1,1,1,1,1,1,1,1,1,1,1,1,1,1,1,1,1,1,1,1,1,1,1,1,1,1,1,1,1,1,1,1,1,1,1,1,1,1,1,1,1,1,1,1,1,1,1,1,1,1,1,1,1,1,1,1,1,1,1,1,1,1,1,1,1,1,1,1,1,1,1,1,1,1,1,1,1,1,1,1,1,1,1,1,1,1,1,1,1,1,1,1,1,1,1,1,1,1,1,1,1,1,1,1,1,1,1,1,1,1,1,1,1,1,1,1,1,1,1,1,1,1,1,1,1,1,1,1,1,1,1,1,1,1,1,1,1,1,1,1,1,1,1,1,1,1,1,1,1,1,1,1,1,1,1,1,1,1,1,1,1,1,1,1,1,1,1,1,1,1,1,1,1,1,1,1,1,1,1,1,1,1,1,1,1,1,1,1,1,1,1,1,1,1,1,1,1,1,1,1,1,1,1,1,1,1,1,1,1,1,1,1,1,1,1,1,1,1,1,1,1,1,1,1,1,1,1,1,1,1,1,1,1,1,1,1,1,1,1,1,1,1,1,1,1,1,1,1,1,1,1,1,1,1,1,1,1,1,1,1,1,1,1,1,1,1,1,1,1,1,1,1,1,1,1,1,1,1,1,1,1,1,1,1,1,1,1,1,1,1,1,1,1,1,1,1,1,1,1,1,1,1,1,1,1,1,1,1,1,1,1,1,1,1,1,1,1,1,1,1,1,1,1,1,1,1,1,1,1,1,1,1,1,1,1,1,1,1,1,1,1,1,1,1,1,1,1,1,1,1,1,1,1,1,1,1,1,1,1,1,1,1,1,1,1,1,1,1,1,1,1,1,1,1,1,1,1,1,1,1,1,1,1,1,1,1,1,1,1,1,1,1,1,1,1,1,1,1,1,1,1,1,1,1,1,1,1,1,1,1,1,1,1,1,1,1,1,1,1,1,1,1,1,1,1,1,1,1,1,1,1,1,1,1,1,1,1,1,1,1,1,1,1,1,1,1,1,1,1,1,1,1,1,1,1,1,1,1,1,1,1,1,1,1,1,1,1,1,1,1,1,1,1,1,1,1,1,1,1,1,1,1,1,1,1,1,1,1,1,1,1,1,1,1,1,1,1,1,1,1,1,1,1,1,1,1,1,1,1,1,1,1,1,1,1,1,1,1,1,1,1,1,1,1,1,1,1,1,1,1,1,1,1,1,1,1,1,1,1,1,1,1,1,1,1,1,1,1,1,1,1,1,1,1,1,1,1,1,1,1,1,1,1,1,1,1,1,1,1,1,1,1,1,1,1,1,1,1,1,1,1,1,1,1,1,1,1,1,1,1,1,1,1,1,1,1,1,1,1,1,1,1,1,1,1,1,1,1,1,1,1,1,1,1,1,1,1,1,1,1,1,1,1,1,1,1,1,1,1,1,1,1,1,1,1,1,1,1,1,1,1,1,1,1,1,1,1,1,1,1,1,1,1,1,1,1,1,1,1,1,1,1,1,1,1,1,1,1,1,1,1,1,1,1,1,1,1,1,1,1,1,1,1,1,1,1,1,1,1,1,1,1,1,1,1,1,1,1,1,1,1,1,1,1,1,1,1,1,1,1,1,1,1,1,1,1,1,1,1,1,1,1,1,1,1,1,1,1,1,1,1,1,1,1,1,1,1],\"yaxis\":\"y\",\"type\":\"bar\"}],                        {\"template\":{\"data\":{\"bar\":[{\"error_x\":{\"color\":\"#2a3f5f\"},\"error_y\":{\"color\":\"#2a3f5f\"},\"marker\":{\"line\":{\"color\":\"#E5ECF6\",\"width\":0.5},\"pattern\":{\"fillmode\":\"overlay\",\"size\":10,\"solidity\":0.2}},\"type\":\"bar\"}],\"barpolar\":[{\"marker\":{\"line\":{\"color\":\"#E5ECF6\",\"width\":0.5},\"pattern\":{\"fillmode\":\"overlay\",\"size\":10,\"solidity\":0.2}},\"type\":\"barpolar\"}],\"carpet\":[{\"aaxis\":{\"endlinecolor\":\"#2a3f5f\",\"gridcolor\":\"white\",\"linecolor\":\"white\",\"minorgridcolor\":\"white\",\"startlinecolor\":\"#2a3f5f\"},\"baxis\":{\"endlinecolor\":\"#2a3f5f\",\"gridcolor\":\"white\",\"linecolor\":\"white\",\"minorgridcolor\":\"white\",\"startlinecolor\":\"#2a3f5f\"},\"type\":\"carpet\"}],\"choropleth\":[{\"colorbar\":{\"outlinewidth\":0,\"ticks\":\"\"},\"type\":\"choropleth\"}],\"contour\":[{\"colorbar\":{\"outlinewidth\":0,\"ticks\":\"\"},\"colorscale\":[[0.0,\"#0d0887\"],[0.1111111111111111,\"#46039f\"],[0.2222222222222222,\"#7201a8\"],[0.3333333333333333,\"#9c179e\"],[0.4444444444444444,\"#bd3786\"],[0.5555555555555556,\"#d8576b\"],[0.6666666666666666,\"#ed7953\"],[0.7777777777777778,\"#fb9f3a\"],[0.8888888888888888,\"#fdca26\"],[1.0,\"#f0f921\"]],\"type\":\"contour\"}],\"contourcarpet\":[{\"colorbar\":{\"outlinewidth\":0,\"ticks\":\"\"},\"type\":\"contourcarpet\"}],\"heatmap\":[{\"colorbar\":{\"outlinewidth\":0,\"ticks\":\"\"},\"colorscale\":[[0.0,\"#0d0887\"],[0.1111111111111111,\"#46039f\"],[0.2222222222222222,\"#7201a8\"],[0.3333333333333333,\"#9c179e\"],[0.4444444444444444,\"#bd3786\"],[0.5555555555555556,\"#d8576b\"],[0.6666666666666666,\"#ed7953\"],[0.7777777777777778,\"#fb9f3a\"],[0.8888888888888888,\"#fdca26\"],[1.0,\"#f0f921\"]],\"type\":\"heatmap\"}],\"heatmapgl\":[{\"colorbar\":{\"outlinewidth\":0,\"ticks\":\"\"},\"colorscale\":[[0.0,\"#0d0887\"],[0.1111111111111111,\"#46039f\"],[0.2222222222222222,\"#7201a8\"],[0.3333333333333333,\"#9c179e\"],[0.4444444444444444,\"#bd3786\"],[0.5555555555555556,\"#d8576b\"],[0.6666666666666666,\"#ed7953\"],[0.7777777777777778,\"#fb9f3a\"],[0.8888888888888888,\"#fdca26\"],[1.0,\"#f0f921\"]],\"type\":\"heatmapgl\"}],\"histogram\":[{\"marker\":{\"pattern\":{\"fillmode\":\"overlay\",\"size\":10,\"solidity\":0.2}},\"type\":\"histogram\"}],\"histogram2d\":[{\"colorbar\":{\"outlinewidth\":0,\"ticks\":\"\"},\"colorscale\":[[0.0,\"#0d0887\"],[0.1111111111111111,\"#46039f\"],[0.2222222222222222,\"#7201a8\"],[0.3333333333333333,\"#9c179e\"],[0.4444444444444444,\"#bd3786\"],[0.5555555555555556,\"#d8576b\"],[0.6666666666666666,\"#ed7953\"],[0.7777777777777778,\"#fb9f3a\"],[0.8888888888888888,\"#fdca26\"],[1.0,\"#f0f921\"]],\"type\":\"histogram2d\"}],\"histogram2dcontour\":[{\"colorbar\":{\"outlinewidth\":0,\"ticks\":\"\"},\"colorscale\":[[0.0,\"#0d0887\"],[0.1111111111111111,\"#46039f\"],[0.2222222222222222,\"#7201a8\"],[0.3333333333333333,\"#9c179e\"],[0.4444444444444444,\"#bd3786\"],[0.5555555555555556,\"#d8576b\"],[0.6666666666666666,\"#ed7953\"],[0.7777777777777778,\"#fb9f3a\"],[0.8888888888888888,\"#fdca26\"],[1.0,\"#f0f921\"]],\"type\":\"histogram2dcontour\"}],\"mesh3d\":[{\"colorbar\":{\"outlinewidth\":0,\"ticks\":\"\"},\"type\":\"mesh3d\"}],\"parcoords\":[{\"line\":{\"colorbar\":{\"outlinewidth\":0,\"ticks\":\"\"}},\"type\":\"parcoords\"}],\"pie\":[{\"automargin\":true,\"type\":\"pie\"}],\"scatter\":[{\"marker\":{\"colorbar\":{\"outlinewidth\":0,\"ticks\":\"\"}},\"type\":\"scatter\"}],\"scatter3d\":[{\"line\":{\"colorbar\":{\"outlinewidth\":0,\"ticks\":\"\"}},\"marker\":{\"colorbar\":{\"outlinewidth\":0,\"ticks\":\"\"}},\"type\":\"scatter3d\"}],\"scattercarpet\":[{\"marker\":{\"colorbar\":{\"outlinewidth\":0,\"ticks\":\"\"}},\"type\":\"scattercarpet\"}],\"scattergeo\":[{\"marker\":{\"colorbar\":{\"outlinewidth\":0,\"ticks\":\"\"}},\"type\":\"scattergeo\"}],\"scattergl\":[{\"marker\":{\"colorbar\":{\"outlinewidth\":0,\"ticks\":\"\"}},\"type\":\"scattergl\"}],\"scattermapbox\":[{\"marker\":{\"colorbar\":{\"outlinewidth\":0,\"ticks\":\"\"}},\"type\":\"scattermapbox\"}],\"scatterpolar\":[{\"marker\":{\"colorbar\":{\"outlinewidth\":0,\"ticks\":\"\"}},\"type\":\"scatterpolar\"}],\"scatterpolargl\":[{\"marker\":{\"colorbar\":{\"outlinewidth\":0,\"ticks\":\"\"}},\"type\":\"scatterpolargl\"}],\"scatterternary\":[{\"marker\":{\"colorbar\":{\"outlinewidth\":0,\"ticks\":\"\"}},\"type\":\"scatterternary\"}],\"surface\":[{\"colorbar\":{\"outlinewidth\":0,\"ticks\":\"\"},\"colorscale\":[[0.0,\"#0d0887\"],[0.1111111111111111,\"#46039f\"],[0.2222222222222222,\"#7201a8\"],[0.3333333333333333,\"#9c179e\"],[0.4444444444444444,\"#bd3786\"],[0.5555555555555556,\"#d8576b\"],[0.6666666666666666,\"#ed7953\"],[0.7777777777777778,\"#fb9f3a\"],[0.8888888888888888,\"#fdca26\"],[1.0,\"#f0f921\"]],\"type\":\"surface\"}],\"table\":[{\"cells\":{\"fill\":{\"color\":\"#EBF0F8\"},\"line\":{\"color\":\"white\"}},\"header\":{\"fill\":{\"color\":\"#C8D4E3\"},\"line\":{\"color\":\"white\"}},\"type\":\"table\"}]},\"layout\":{\"annotationdefaults\":{\"arrowcolor\":\"#2a3f5f\",\"arrowhead\":0,\"arrowwidth\":1},\"autotypenumbers\":\"strict\",\"coloraxis\":{\"colorbar\":{\"outlinewidth\":0,\"ticks\":\"\"}},\"colorscale\":{\"diverging\":[[0,\"#8e0152\"],[0.1,\"#c51b7d\"],[0.2,\"#de77ae\"],[0.3,\"#f1b6da\"],[0.4,\"#fde0ef\"],[0.5,\"#f7f7f7\"],[0.6,\"#e6f5d0\"],[0.7,\"#b8e186\"],[0.8,\"#7fbc41\"],[0.9,\"#4d9221\"],[1,\"#276419\"]],\"sequential\":[[0.0,\"#0d0887\"],[0.1111111111111111,\"#46039f\"],[0.2222222222222222,\"#7201a8\"],[0.3333333333333333,\"#9c179e\"],[0.4444444444444444,\"#bd3786\"],[0.5555555555555556,\"#d8576b\"],[0.6666666666666666,\"#ed7953\"],[0.7777777777777778,\"#fb9f3a\"],[0.8888888888888888,\"#fdca26\"],[1.0,\"#f0f921\"]],\"sequentialminus\":[[0.0,\"#0d0887\"],[0.1111111111111111,\"#46039f\"],[0.2222222222222222,\"#7201a8\"],[0.3333333333333333,\"#9c179e\"],[0.4444444444444444,\"#bd3786\"],[0.5555555555555556,\"#d8576b\"],[0.6666666666666666,\"#ed7953\"],[0.7777777777777778,\"#fb9f3a\"],[0.8888888888888888,\"#fdca26\"],[1.0,\"#f0f921\"]]},\"colorway\":[\"#636efa\",\"#EF553B\",\"#00cc96\",\"#ab63fa\",\"#FFA15A\",\"#19d3f3\",\"#FF6692\",\"#B6E880\",\"#FF97FF\",\"#FECB52\"],\"font\":{\"color\":\"#2a3f5f\"},\"geo\":{\"bgcolor\":\"white\",\"lakecolor\":\"white\",\"landcolor\":\"#E5ECF6\",\"showlakes\":true,\"showland\":true,\"subunitcolor\":\"white\"},\"hoverlabel\":{\"align\":\"left\"},\"hovermode\":\"closest\",\"mapbox\":{\"style\":\"light\"},\"paper_bgcolor\":\"white\",\"plot_bgcolor\":\"#E5ECF6\",\"polar\":{\"angularaxis\":{\"gridcolor\":\"white\",\"linecolor\":\"white\",\"ticks\":\"\"},\"bgcolor\":\"#E5ECF6\",\"radialaxis\":{\"gridcolor\":\"white\",\"linecolor\":\"white\",\"ticks\":\"\"}},\"scene\":{\"xaxis\":{\"backgroundcolor\":\"#E5ECF6\",\"gridcolor\":\"white\",\"gridwidth\":2,\"linecolor\":\"white\",\"showbackground\":true,\"ticks\":\"\",\"zerolinecolor\":\"white\"},\"yaxis\":{\"backgroundcolor\":\"#E5ECF6\",\"gridcolor\":\"white\",\"gridwidth\":2,\"linecolor\":\"white\",\"showbackground\":true,\"ticks\":\"\",\"zerolinecolor\":\"white\"},\"zaxis\":{\"backgroundcolor\":\"#E5ECF6\",\"gridcolor\":\"white\",\"gridwidth\":2,\"linecolor\":\"white\",\"showbackground\":true,\"ticks\":\"\",\"zerolinecolor\":\"white\"}},\"shapedefaults\":{\"line\":{\"color\":\"#2a3f5f\"}},\"ternary\":{\"aaxis\":{\"gridcolor\":\"white\",\"linecolor\":\"white\",\"ticks\":\"\"},\"baxis\":{\"gridcolor\":\"white\",\"linecolor\":\"white\",\"ticks\":\"\"},\"bgcolor\":\"#E5ECF6\",\"caxis\":{\"gridcolor\":\"white\",\"linecolor\":\"white\",\"ticks\":\"\"}},\"title\":{\"x\":0.05},\"xaxis\":{\"automargin\":true,\"gridcolor\":\"white\",\"linecolor\":\"white\",\"ticks\":\"\",\"title\":{\"standoff\":15},\"zerolinecolor\":\"white\",\"zerolinewidth\":2},\"yaxis\":{\"automargin\":true,\"gridcolor\":\"white\",\"linecolor\":\"white\",\"ticks\":\"\",\"title\":{\"standoff\":15},\"zerolinecolor\":\"white\",\"zerolinewidth\":2}}},\"xaxis\":{\"anchor\":\"y\",\"domain\":[0.0,1.0],\"title\":{\"text\":\"Model\"}},\"yaxis\":{\"anchor\":\"x\",\"domain\":[0.0,1.0],\"title\":{\"text\":\"count\"}},\"legend\":{\"tracegroupgap\":0},\"margin\":{\"t\":60},\"barmode\":\"relative\"},                        {\"responsive\": true}                    ).then(function(){\n",
              "                            \n",
              "var gd = document.getElementById('7b33af7e-1813-457a-b5b1-62a47437a957');\n",
              "var x = new MutationObserver(function (mutations, observer) {{\n",
              "        var display = window.getComputedStyle(gd).display;\n",
              "        if (!display || display === 'none') {{\n",
              "            console.log([gd, 'removed!']);\n",
              "            Plotly.purge(gd);\n",
              "            observer.disconnect();\n",
              "        }}\n",
              "}});\n",
              "\n",
              "// Listen for the removal of the full notebook cells\n",
              "var notebookContainer = gd.closest('#notebook-container');\n",
              "if (notebookContainer) {{\n",
              "    x.observe(notebookContainer, {childList: true});\n",
              "}}\n",
              "\n",
              "// Listen for the clearing of the current output cell\n",
              "var outputEl = gd.closest('.output');\n",
              "if (outputEl) {{\n",
              "    x.observe(outputEl, {childList: true});\n",
              "}}\n",
              "\n",
              "                        })                };                            </script>        </div>\n",
              "</body>\n",
              "</html>"
            ]
          },
          "metadata": {}
        }
      ]
    },
    {
      "cell_type": "code",
      "source": [
        "sns.countplot(df[\"Type\"])\n",
        "plt.show()"
      ],
      "metadata": {
        "colab": {
          "base_uri": "https://localhost:8080/",
          "height": 368
        },
        "id": "hmbfQWmahfgv",
        "outputId": "e12892fa-6c83-406c-d1fa-770e2299791c"
      },
      "execution_count": 36,
      "outputs": [
        {
          "output_type": "stream",
          "name": "stderr",
          "text": [
            "/usr/local/lib/python3.7/dist-packages/seaborn/_decorators.py:43: FutureWarning:\n",
            "\n",
            "Pass the following variable as a keyword arg: x. From version 0.12, the only valid positional argument will be `data`, and passing other arguments without an explicit keyword will result in an error or misinterpretation.\n",
            "\n"
          ]
        },
        {
          "output_type": "display_data",
          "data": {
            "text/plain": [
              "<Figure size 432x288 with 1 Axes>"
            ],
            "image/png": "[encoded data removed]"
          },
          "metadata": {
            "needs_background": "light"
          }
        }
      ]
    },
    {
      "cell_type": "code",
      "source": [
        "sns.countplot(df[\"Cylinder\"])\n",
        "plt.show()"
      ],
      "metadata": {
        "colab": {
          "base_uri": "https://localhost:8080/",
          "height": 368
        },
        "id": "Cxa2J_-ehfyB",
        "outputId": "65f7525d-3d61-4a0a-e8e6-1e46a7fe20eb"
      },
      "execution_count": 37,
      "outputs": [
        {
          "output_type": "stream",
          "name": "stderr",
          "text": [
            "/usr/local/lib/python3.7/dist-packages/seaborn/_decorators.py:43: FutureWarning:\n",
            "\n",
            "Pass the following variable as a keyword arg: x. From version 0.12, the only valid positional argument will be `data`, and passing other arguments without an explicit keyword will result in an error or misinterpretation.\n",
            "\n"
          ]
        },
        {
          "output_type": "display_data",
          "data": {
            "text/plain": [
              "<Figure size 432x288 with 1 Axes>"
            ],
            "image/png": "[encoded data removed]"
          },
          "metadata": {
            "needs_background": "light"
          }
        }
      ]
    },
    {
      "cell_type": "code",
      "source": [
        "sns.countplot(df[\"Liter\"])\n",
        "plt.show()"
      ],
      "metadata": {
        "colab": {
          "base_uri": "https://localhost:8080/",
          "height": 368
        },
        "id": "2S-SpUnwhf31",
        "outputId": "1a74d9c0-ebee-43a3-b8c6-a27c4a9b4100"
      },
      "execution_count": 38,
      "outputs": [
        {
          "output_type": "stream",
          "name": "stderr",
          "text": [
            "/usr/local/lib/python3.7/dist-packages/seaborn/_decorators.py:43: FutureWarning:\n",
            "\n",
            "Pass the following variable as a keyword arg: x. From version 0.12, the only valid positional argument will be `data`, and passing other arguments without an explicit keyword will result in an error or misinterpretation.\n",
            "\n"
          ]
        },
        {
          "output_type": "display_data",
          "data": {
            "text/plain": [
              "<Figure size 432x288 with 1 Axes>"
            ],
            "image/png": "[encoded data removed]"
          },
          "metadata": {
            "needs_background": "light"
          }
        }
      ]
    },
    {
      "cell_type": "code",
      "source": [
        "sns.countplot(df[\"Doors\"])\n",
        "plt.show()"
      ],
      "metadata": {
        "colab": {
          "base_uri": "https://localhost:8080/",
          "height": 368
        },
        "id": "RuVUJdYzjtsT",
        "outputId": "82c83359-502a-4d77-b6e3-d48399453688"
      },
      "execution_count": 39,
      "outputs": [
        {
          "output_type": "stream",
          "name": "stderr",
          "text": [
            "/usr/local/lib/python3.7/dist-packages/seaborn/_decorators.py:43: FutureWarning:\n",
            "\n",
            "Pass the following variable as a keyword arg: x. From version 0.12, the only valid positional argument will be `data`, and passing other arguments without an explicit keyword will result in an error or misinterpretation.\n",
            "\n"
          ]
        },
        {
          "output_type": "display_data",
          "data": {
            "text/plain": [
              "<Figure size 432x288 with 1 Axes>"
            ],
            "image/png": "[encoded data removed]"
          },
          "metadata": {
            "needs_background": "light"
          }
        }
      ]
    },
    {
      "cell_type": "code",
      "source": [
        "fig=px.bar(df,x='Trim')\n",
        "fig.show()"
      ],
      "metadata": {
        "colab": {
          "base_uri": "https://localhost:8080/",
          "height": 542
        },
        "id": "uxLx-ryZjtu-",
        "outputId": "285919f8-4e4a-4c67-c4f1-cf57e64d45f9"
      },
      "execution_count": 40,
      "outputs": [
        {
          "output_type": "display_data",
          "data": {
            "text/html": [
              "<html>\n",
              "<head><meta charset=\"utf-8\" /></head>\n",
              "<body>\n",
              "    <div>            <script src=\"https://cdnjs.cloudflare.com/ajax/libs/mathjax/2.7.5/MathJax.js?config=TeX-AMS-MML_SVG\"></script><script type=\"text/javascript\">if (window.MathJax) {MathJax.Hub.Config({SVG: {font: \"STIX-Web\"}});}</script>                <script type=\"text/javascript\">window.PlotlyConfig = {MathJaxConfig: 'local'};</script>\n",
              "        <script src=\"https://cdn.plot.ly/plotly-2.8.3.min.js\"></script>                <div id=\"1144dd9b-5a39-4f12-8017-64272cfa59ea\" class=\"plotly-graph-div\" style=\"height:525px; width:100%;\"></div>            <script type=\"text/javascript\">                                    window.PLOTLYENV=window.PLOTLYENV || {};                                    if (document.getElementById(\"1144dd9b-5a39-4f12-8017-64272cfa59ea\")) {                    Plotly.newPlot(                        \"1144dd9b-5a39-4f12-8017-64272cfa59ea\",                        [{\"alignmentgroup\":\"True\",\"hovertemplate\":\"Trim=%{x}<br>count=%{y}<extra></extra>\",\"legendgroup\":\"\",\"marker\":{\"color\":\"#636efa\",\"pattern\":{\"shape\":\"\"}},\"name\":\"\",\"offsetgroup\":\"\",\"orientation\":\"v\",\"showlegend\":false,\"textposition\":\"auto\",\"x\":[\"Sedan 4D\",\"Sedan 4D\",\"Sedan 4D\",\"Sedan 4D\",\"Sedan 4D\",\"Sedan 4D\",\"Sedan 4D\",\"Sedan 4D\",\"Sedan 4D\",\"Sedan 4D\",\"CX Sedan 4D\",\"CX Sedan 4D\",\"CX Sedan 4D\",\"CX Sedan 4D\",\"CX Sedan 4D\",\"CX Sedan 4D\",\"CX Sedan 4D\",\"CX Sedan 4D\",\"CX Sedan 4D\",\"CX Sedan 4D\",\"CXL Sedan 4D\",\"CXL Sedan 4D\",\"CXL Sedan 4D\",\"CXL Sedan 4D\",\"CXL Sedan 4D\",\"CXL Sedan 4D\",\"CXL Sedan 4D\",\"CXL Sedan 4D\",\"CXL Sedan 4D\",\"CXL Sedan 4D\",\"CXS Sedan 4D\",\"CXS Sedan 4D\",\"CXS Sedan 4D\",\"CXS Sedan 4D\",\"CXS Sedan 4D\",\"CXS Sedan 4D\",\"CXS Sedan 4D\",\"CXS Sedan 4D\",\"CXS Sedan 4D\",\"CXS Sedan 4D\",\"Custom Sedan 4D\",\"Custom Sedan 4D\",\"Custom Sedan 4D\",\"Custom Sedan 4D\",\"Custom Sedan 4D\",\"Custom Sedan 4D\",\"Custom Sedan 4D\",\"Custom Sedan 4D\",\"Custom Sedan 4D\",\"Custom Sedan 4D\",\"Limited Sedan 4D\",\"Limited Sedan 4D\",\"Limited Sedan 4D\",\"Limited Sedan 4D\",\"Limited Sedan 4D\",\"Limited Sedan 4D\",\"Limited Sedan 4D\",\"Limited Sedan 4D\",\"Limited Sedan 4D\",\"Limited Sedan 4D\",\"Sedan 4D\",\"Sedan 4D\",\"Sedan 4D\",\"Sedan 4D\",\"Sedan 4D\",\"Sedan 4D\",\"Sedan 4D\",\"Sedan 4D\",\"Sedan 4D\",\"Sedan 4D\",\"Special Ed Ultra 4D\",\"Special Ed Ultra 4D\",\"Special Ed Ultra 4D\",\"Special Ed Ultra 4D\",\"Special Ed Ultra 4D\",\"Special Ed Ultra 4D\",\"Special Ed Ultra 4D\",\"Special Ed Ultra 4D\",\"Special Ed Ultra 4D\",\"Special Ed Ultra 4D\",\"Sedan 4D\",\"Sedan 4D\",\"Sedan 4D\",\"Sedan 4D\",\"Sedan 4D\",\"Sedan 4D\",\"Sedan 4D\",\"Sedan 4D\",\"Sedan 4D\",\"Sedan 4D\",\"Sedan 4D\",\"Sedan 4D\",\"Sedan 4D\",\"Sedan 4D\",\"Sedan 4D\",\"Sedan 4D\",\"Sedan 4D\",\"Sedan 4D\",\"Sedan 4D\",\"Sedan 4D\",\"DHS Sedan 4D\",\"DHS Sedan 4D\",\"DHS Sedan 4D\",\"DHS Sedan 4D\",\"DHS Sedan 4D\",\"DHS Sedan 4D\",\"DHS Sedan 4D\",\"DHS Sedan 4D\",\"DHS Sedan 4D\",\"DHS Sedan 4D\",\"DTS Sedan 4D\",\"DTS Sedan 4D\",\"DTS Sedan 4D\",\"DTS Sedan 4D\",\"DTS Sedan 4D\",\"DTS Sedan 4D\",\"DTS Sedan 4D\",\"DTS Sedan 4D\",\"DTS Sedan 4D\",\"DTS Sedan 4D\",\"Sedan 4D\",\"Sedan 4D\",\"Sedan 4D\",\"Sedan 4D\",\"Sedan 4D\",\"Sedan 4D\",\"Sedan 4D\",\"Sedan 4D\",\"Sedan 4D\",\"Sedan 4D\",\"Sedan 4D\",\"Sedan 4D\",\"Sedan 4D\",\"Sedan 4D\",\"Sedan 4D\",\"Sedan 4D\",\"Sedan 4D\",\"Sedan 4D\",\"Sedan 4D\",\"Sedan 4D\",\"Sedan 4D\",\"Sedan 4D\",\"Sedan 4D\",\"Sedan 4D\",\"Sedan 4D\",\"Sedan 4D\",\"Sedan 4D\",\"Sedan 4D\",\"Sedan 4D\",\"Sedan 4D\",\"Hardtop Conv 2D\",\"Hardtop Conv 2D\",\"Hardtop Conv 2D\",\"Hardtop Conv 2D\",\"Hardtop Conv 2D\",\"Hardtop Conv 2D\",\"Hardtop Conv 2D\",\"Hardtop Conv 2D\",\"Hardtop Conv 2D\",\"Hardtop Conv 2D\",\"LS Hatchback 4D\",\"LS Hatchback 4D\",\"LS Hatchback 4D\",\"LS Hatchback 4D\",\"LS Hatchback 4D\",\"LS Hatchback 4D\",\"LS Hatchback 4D\",\"LS Hatchback 4D\",\"LS Hatchback 4D\",\"LS Hatchback 4D\",\"LS Sedan 4D\",\"LS Sedan 4D\",\"LS Sedan 4D\",\"LS Sedan 4D\",\"LS Sedan 4D\",\"LS Sedan 4D\",\"LS Sedan 4D\",\"LS Sedan 4D\",\"LS Sedan 4D\",\"LS Sedan 4D\",\"LT Hatchback 4D\",\"LT Hatchback 4D\",\"LT Hatchback 4D\",\"LT Hatchback 4D\",\"LT Hatchback 4D\",\"LT Hatchback 4D\",\"LT Hatchback 4D\",\"LT Hatchback 4D\",\"LT Hatchback 4D\",\"LT Hatchback 4D\",\"LT Sedan 4D\",\"LT Sedan 4D\",\"LT Sedan 4D\",\"LT Sedan 4D\",\"LT Sedan 4D\",\"LT Sedan 4D\",\"LT Sedan 4D\",\"LT Sedan 4D\",\"LT Sedan 4D\",\"LT Sedan 4D\",\"SVM Hatchback 4D\",\"SVM Hatchback 4D\",\"SVM Hatchback 4D\",\"SVM Hatchback 4D\",\"SVM Hatchback 4D\",\"SVM Hatchback 4D\",\"SVM Hatchback 4D\",\"SVM Hatchback 4D\",\"SVM Hatchback 4D\",\"SVM Hatchback 4D\",\"SVM Sedan 4D\",\"SVM Sedan 4D\",\"SVM Sedan 4D\",\"SVM Sedan 4D\",\"SVM Sedan 4D\",\"SVM Sedan 4D\",\"SVM Sedan 4D\",\"SVM Sedan 4D\",\"SVM Sedan 4D\",\"SVM Sedan 4D\",\"Coupe 2D\",\"Coupe 2D\",\"Coupe 2D\",\"Coupe 2D\",\"Coupe 2D\",\"Coupe 2D\",\"Coupe 2D\",\"Coupe 2D\",\"Coupe 2D\",\"Coupe 2D\",\"LS Coupe 2D\",\"LS Coupe 2D\",\"LS Coupe 2D\",\"LS Coupe 2D\",\"LS Coupe 2D\",\"LS Coupe 2D\",\"LS Coupe 2D\",\"LS Coupe 2D\",\"LS Coupe 2D\",\"LS Coupe 2D\",\"LS Sedan 4D\",\"LS Sedan 4D\",\"LS Sedan 4D\",\"LS Sedan 4D\",\"LS Sedan 4D\",\"LS Sedan 4D\",\"LS Sedan 4D\",\"LS Sedan 4D\",\"LS Sedan 4D\",\"LS Sedan 4D\",\"LS Sport Coupe 2D\",\"LS Sport Coupe 2D\",\"LS Sport Coupe 2D\",\"LS Sport Coupe 2D\",\"LS Sport Coupe 2D\",\"LS Sport Coupe 2D\",\"LS Sport Coupe 2D\",\"LS Sport Coupe 2D\",\"LS Sport Coupe 2D\",\"LS Sport Coupe 2D\",\"LS Sport Sedan 4D\",\"LS Sport Sedan 4D\",\"LS Sport Sedan 4D\",\"LS Sport Sedan 4D\",\"LS Sport Sedan 4D\",\"LS Sport Sedan 4D\",\"LS Sport Sedan 4D\",\"LS Sport Sedan 4D\",\"LS Sport Sedan 4D\",\"LS Sport Sedan 4D\",\"Sedan 4D\",\"Sedan 4D\",\"Sedan 4D\",\"Sedan 4D\",\"Sedan 4D\",\"Sedan 4D\",\"Sedan 4D\",\"Sedan 4D\",\"Sedan 4D\",\"Sedan 4D\",\"Sedan 4D\",\"Sedan 4D\",\"Sedan 4D\",\"Sedan 4D\",\"Sedan 4D\",\"Sedan 4D\",\"Sedan 4D\",\"Sedan 4D\",\"Sedan 4D\",\"Sedan 4D\",\"Coupe 2D\",\"Coupe 2D\",\"Coupe 2D\",\"Coupe 2D\",\"Coupe 2D\",\"Coupe 2D\",\"Coupe 2D\",\"Coupe 2D\",\"Coupe 2D\",\"Coupe 2D\",\"LS Coupe 2D\",\"LS Coupe 2D\",\"LS Coupe 2D\",\"LS Coupe 2D\",\"LS Coupe 2D\",\"LS Coupe 2D\",\"LS Coupe 2D\",\"LS Coupe 2D\",\"LS Coupe 2D\",\"LS Coupe 2D\",\"LS Sedan 4D\",\"LS Sedan 4D\",\"LS Sedan 4D\",\"LS Sedan 4D\",\"LS Sedan 4D\",\"LS Sedan 4D\",\"LS Sedan 4D\",\"LS Sedan 4D\",\"LS Sedan 4D\",\"LS Sedan 4D\",\"LT Sedan 4D\",\"LT Sedan 4D\",\"LT Sedan 4D\",\"LT Sedan 4D\",\"LT Sedan 4D\",\"LT Sedan 4D\",\"LT Sedan 4D\",\"LT Sedan 4D\",\"LT Sedan 4D\",\"LT Sedan 4D\",\"Sedan 4D\",\"Sedan 4D\",\"Sedan 4D\",\"Sedan 4D\",\"Sedan 4D\",\"Sedan 4D\",\"Sedan 4D\",\"Sedan 4D\",\"Sedan 4D\",\"Sedan 4D\",\"Conv 2D\",\"Conv 2D\",\"Conv 2D\",\"Conv 2D\",\"Conv 2D\",\"Conv 2D\",\"Conv 2D\",\"Conv 2D\",\"Conv 2D\",\"Conv 2D\",\"Coupe 2D\",\"Coupe 2D\",\"Coupe 2D\",\"Coupe 2D\",\"Coupe 2D\",\"Coupe 2D\",\"Coupe 2D\",\"Coupe 2D\",\"Coupe 2D\",\"Coupe 2D\",\"LS Sedan 4D\",\"LS Sedan 4D\",\"LS Sedan 4D\",\"LS Sedan 4D\",\"LS Sedan 4D\",\"LS Sedan 4D\",\"LS Sedan 4D\",\"LS Sedan 4D\",\"LS Sedan 4D\",\"LS Sedan 4D\",\"Sedan 4D\",\"Sedan 4D\",\"Sedan 4D\",\"Sedan 4D\",\"Sedan 4D\",\"Sedan 4D\",\"Sedan 4D\",\"Sedan 4D\",\"Sedan 4D\",\"Sedan 4D\",\"SS Sedan 4D\",\"SS Sedan 4D\",\"SS Sedan 4D\",\"SS Sedan 4D\",\"SS Sedan 4D\",\"SS Sedan 4D\",\"SS Sedan 4D\",\"SS Sedan 4D\",\"SS Sedan 4D\",\"SS Sedan 4D\",\"LS MAXX Hback 4D\",\"LS MAXX Hback 4D\",\"LS MAXX Hback 4D\",\"LS MAXX Hback 4D\",\"LS MAXX Hback 4D\",\"LS MAXX Hback 4D\",\"LS MAXX Hback 4D\",\"LS MAXX Hback 4D\",\"LS MAXX Hback 4D\",\"LS MAXX Hback 4D\",\"LS Sedan 4D\",\"LS Sedan 4D\",\"LS Sedan 4D\",\"LS Sedan 4D\",\"LS Sedan 4D\",\"LS Sedan 4D\",\"LS Sedan 4D\",\"LS Sedan 4D\",\"LS Sedan 4D\",\"LS Sedan 4D\",\"LT MAXX Hback 4D\",\"LT MAXX Hback 4D\",\"LT MAXX Hback 4D\",\"LT MAXX Hback 4D\",\"LT MAXX Hback 4D\",\"LT MAXX Hback 4D\",\"LT MAXX Hback 4D\",\"LT MAXX Hback 4D\",\"LT MAXX Hback 4D\",\"LT MAXX Hback 4D\",\"LT Sedan 4D\",\"LT Sedan 4D\",\"LT Sedan 4D\",\"LT Sedan 4D\",\"LT Sedan 4D\",\"LT Sedan 4D\",\"LT Sedan 4D\",\"LT Sedan 4D\",\"LT Sedan 4D\",\"LT Sedan 4D\",\"MAXX Hback 4D\",\"MAXX Hback 4D\",\"MAXX Hback 4D\",\"MAXX Hback 4D\",\"MAXX Hback 4D\",\"MAXX Hback 4D\",\"MAXX Hback 4D\",\"MAXX Hback 4D\",\"MAXX Hback 4D\",\"MAXX Hback 4D\",\"Sedan 4D\",\"Sedan 4D\",\"Sedan 4D\",\"Sedan 4D\",\"Sedan 4D\",\"Sedan 4D\",\"Sedan 4D\",\"Sedan 4D\",\"Sedan 4D\",\"Sedan 4D\",\"LS Coupe 2D\",\"LS Coupe 2D\",\"LS Coupe 2D\",\"LS Coupe 2D\",\"LS Coupe 2D\",\"LS Coupe 2D\",\"LS Coupe 2D\",\"LS Coupe 2D\",\"LS Coupe 2D\",\"LS Coupe 2D\",\"LT Coupe 2D\",\"LT Coupe 2D\",\"LT Coupe 2D\",\"LT Coupe 2D\",\"LT Coupe 2D\",\"LT Coupe 2D\",\"LT Coupe 2D\",\"LT Coupe 2D\",\"LT Coupe 2D\",\"LT Coupe 2D\",\"SS Coupe 2D\",\"SS Coupe 2D\",\"SS Coupe 2D\",\"SS Coupe 2D\",\"SS Coupe 2D\",\"SS Coupe 2D\",\"SS Coupe 2D\",\"SS Coupe 2D\",\"SS Coupe 2D\",\"SS Coupe 2D\",\"GXP Sedan 4D\",\"GXP Sedan 4D\",\"GXP Sedan 4D\",\"GXP Sedan 4D\",\"GXP Sedan 4D\",\"GXP Sedan 4D\",\"GXP Sedan 4D\",\"GXP Sedan 4D\",\"GXP Sedan 4D\",\"GXP Sedan 4D\",\"SE Sedan 4D\",\"SE Sedan 4D\",\"SE Sedan 4D\",\"SE Sedan 4D\",\"SE Sedan 4D\",\"SE Sedan 4D\",\"SE Sedan 4D\",\"SE Sedan 4D\",\"SE Sedan 4D\",\"SE Sedan 4D\",\"SLE Sedan 4D\",\"SLE Sedan 4D\",\"SLE Sedan 4D\",\"SLE Sedan 4D\",\"SLE Sedan 4D\",\"SLE Sedan 4D\",\"SLE Sedan 4D\",\"SLE Sedan 4D\",\"SLE Sedan 4D\",\"SLE Sedan 4D\",\"GT Sedan 4D\",\"GT Sedan 4D\",\"GT Sedan 4D\",\"GT Sedan 4D\",\"GT Sedan 4D\",\"GT Sedan 4D\",\"GT Sedan 4D\",\"GT Sedan 4D\",\"GT Sedan 4D\",\"GT Sedan 4D\",\"Sedan 4D\",\"Sedan 4D\",\"Sedan 4D\",\"Sedan 4D\",\"Sedan 4D\",\"Sedan 4D\",\"Sedan 4D\",\"Sedan 4D\",\"Sedan 4D\",\"Sedan 4D\",\"GT Coupe 2D\",\"GT Coupe 2D\",\"GT Coupe 2D\",\"GT Coupe 2D\",\"GT Coupe 2D\",\"GT Coupe 2D\",\"GT Coupe 2D\",\"GT Coupe 2D\",\"GT Coupe 2D\",\"GT Coupe 2D\",\"SE Sedan 4D\",\"SE Sedan 4D\",\"SE Sedan 4D\",\"SE Sedan 4D\",\"SE Sedan 4D\",\"SE Sedan 4D\",\"SE Sedan 4D\",\"SE Sedan 4D\",\"SE Sedan 4D\",\"SE Sedan 4D\",\"GT Sedan 4D\",\"GT Sedan 4D\",\"GT Sedan 4D\",\"GT Sedan 4D\",\"GT Sedan 4D\",\"GT Sedan 4D\",\"GT Sedan 4D\",\"GT Sedan 4D\",\"GT Sedan 4D\",\"GT Sedan 4D\",\"GTP Sedan 4D\",\"GTP Sedan 4D\",\"GTP Sedan 4D\",\"GTP Sedan 4D\",\"GTP Sedan 4D\",\"GTP Sedan 4D\",\"GTP Sedan 4D\",\"GTP Sedan 4D\",\"GTP Sedan 4D\",\"GTP Sedan 4D\",\"Sedan 4D\",\"Sedan 4D\",\"Sedan 4D\",\"Sedan 4D\",\"Sedan 4D\",\"Sedan 4D\",\"Sedan 4D\",\"Sedan 4D\",\"Sedan 4D\",\"Sedan 4D\",\"Coupe 2D\",\"Coupe 2D\",\"Coupe 2D\",\"Coupe 2D\",\"Coupe 2D\",\"Coupe 2D\",\"Coupe 2D\",\"Coupe 2D\",\"Coupe 2D\",\"Coupe 2D\",\"Coupe 2D\",\"Coupe 2D\",\"Coupe 2D\",\"Coupe 2D\",\"Coupe 2D\",\"Coupe 2D\",\"Coupe 2D\",\"Coupe 2D\",\"Coupe 2D\",\"Coupe 2D\",\"AWD Sportwagon 4D\",\"AWD Sportwagon 4D\",\"AWD Sportwagon 4D\",\"AWD Sportwagon 4D\",\"AWD Sportwagon 4D\",\"AWD Sportwagon 4D\",\"AWD Sportwagon 4D\",\"AWD Sportwagon 4D\",\"AWD Sportwagon 4D\",\"AWD Sportwagon 4D\",\"GT Sportwagon\",\"GT Sportwagon\",\"GT Sportwagon\",\"GT Sportwagon\",\"GT Sportwagon\",\"GT Sportwagon\",\"GT Sportwagon\",\"GT Sportwagon\",\"GT Sportwagon\",\"GT Sportwagon\",\"Sportwagon 4D\",\"Sportwagon 4D\",\"Sportwagon 4D\",\"Sportwagon 4D\",\"Sportwagon 4D\",\"Sportwagon 4D\",\"Sportwagon 4D\",\"Sportwagon 4D\",\"Sportwagon 4D\",\"Sportwagon 4D\",\"Linear Conv 2D\",\"Linear Conv 2D\",\"Linear Conv 2D\",\"Linear Conv 2D\",\"Linear Conv 2D\",\"Linear Conv 2D\",\"Linear Conv 2D\",\"Linear Conv 2D\",\"Linear Conv 2D\",\"Linear Conv 2D\",\"Linear Sedan 4D\",\"Linear Sedan 4D\",\"Linear Sedan 4D\",\"Linear Sedan 4D\",\"Linear Sedan 4D\",\"Linear Sedan 4D\",\"Linear Sedan 4D\",\"Linear Sedan 4D\",\"Linear Sedan 4D\",\"Linear Sedan 4D\",\"Aero Conv 2D\",\"Aero Conv 2D\",\"Aero Conv 2D\",\"Aero Conv 2D\",\"Aero Conv 2D\",\"Aero Conv 2D\",\"Aero Conv 2D\",\"Aero Conv 2D\",\"Aero Conv 2D\",\"Aero Conv 2D\",\"Aero Sedan 4D\",\"Aero Sedan 4D\",\"Aero Sedan 4D\",\"Aero Sedan 4D\",\"Aero Sedan 4D\",\"Aero Sedan 4D\",\"Aero Sedan 4D\",\"Aero Sedan 4D\",\"Aero Sedan 4D\",\"Aero Sedan 4D\",\"Arc Conv 2D\",\"Arc Conv 2D\",\"Arc Conv 2D\",\"Arc Conv 2D\",\"Arc Conv 2D\",\"Arc Conv 2D\",\"Arc Conv 2D\",\"Arc Conv 2D\",\"Arc Conv 2D\",\"Arc Conv 2D\",\"Arc Sedan 4D\",\"Arc Sedan 4D\",\"Arc Sedan 4D\",\"Arc Sedan 4D\",\"Arc Sedan 4D\",\"Arc Sedan 4D\",\"Arc Sedan 4D\",\"Arc Sedan 4D\",\"Arc Sedan 4D\",\"Arc Sedan 4D\",\"Arc Sedan 4D\",\"Arc Sedan 4D\",\"Arc Sedan 4D\",\"Arc Sedan 4D\",\"Arc Sedan 4D\",\"Arc Sedan 4D\",\"Arc Sedan 4D\",\"Arc Sedan 4D\",\"Arc Sedan 4D\",\"Arc Sedan 4D\",\"Arc Wagon 4D\",\"Arc Wagon 4D\",\"Arc Wagon 4D\",\"Arc Wagon 4D\",\"Arc Wagon 4D\",\"Arc Wagon 4D\",\"Arc Wagon 4D\",\"Arc Wagon 4D\",\"Arc Wagon 4D\",\"Arc Wagon 4D\",\"Linear Wagon 4D\",\"Linear Wagon 4D\",\"Linear Wagon 4D\",\"Linear Wagon 4D\",\"Linear Wagon 4D\",\"Linear Wagon 4D\",\"Linear Wagon 4D\",\"Linear Wagon 4D\",\"Linear Wagon 4D\",\"Linear Wagon 4D\",\"Aero Sedan 4D\",\"Aero Sedan 4D\",\"Aero Sedan 4D\",\"Aero Sedan 4D\",\"Aero Sedan 4D\",\"Aero Sedan 4D\",\"Aero Sedan 4D\",\"Aero Sedan 4D\",\"Aero Sedan 4D\",\"Aero Sedan 4D\",\"Aero Wagon 4D\",\"Aero Wagon 4D\",\"Aero Wagon 4D\",\"Aero Wagon 4D\",\"Aero Wagon 4D\",\"Aero Wagon 4D\",\"Aero Wagon 4D\",\"Aero Wagon 4D\",\"Aero Wagon 4D\",\"Aero Wagon 4D\",\"Linear Wagon 4D\",\"Linear Wagon 4D\",\"Linear Wagon 4D\",\"Linear Wagon 4D\",\"Quad Coupe 2D\",\"Quad Coupe 2D\",\"Quad Coupe 2D\",\"Quad Coupe 2D\",\"Quad Coupe 2D\",\"Quad Coupe 2D\",\"Quad Coupe 2D\",\"Quad Coupe 2D\",\"Quad Coupe 2D\",\"Quad Coupe 2D\",\"Quad Coupe 2D\",\"Quad Coupe 2D\",\"Quad Coupe 2D\",\"Quad Coupe 2D\",\"Quad Coupe 2D\",\"Quad Coupe 2D\",\"Quad Coupe 2D\",\"Quad Coupe 2D\",\"Quad Coupe 2D\",\"Quad Coupe 2D\",\"Sedan 4D\",\"Sedan 4D\",\"Sedan 4D\",\"Sedan 4D\",\"Sedan 4D\",\"Sedan 4D\",\"Sedan 4D\",\"Sedan 4D\",\"Sedan 4D\",\"Sedan 4D\",\"Sedan 4D\",\"Sedan 4D\",\"Sedan 4D\",\"Sedan 4D\",\"Sedan 4D\",\"Sedan 4D\",\"Sedan 4D\",\"Sedan 4D\",\"Sedan 4D\",\"Sedan 4D\",\"Sedan 4D\",\"Sedan 4D\",\"Sedan 4D\",\"Sedan 4D\",\"Sedan 4D\",\"Sedan 4D\",\"Sedan 4D\",\"Sedan 4D\",\"Sedan 4D\",\"Sedan 4D\",\"L300 Sedan 4D\",\"L300 Sedan 4D\",\"L300 Sedan 4D\",\"L300 Sedan 4D\",\"L300 Sedan 4D\",\"L300 Sedan 4D\",\"L300 Sedan 4D\",\"L300 Sedan 4D\",\"L300 Sedan 4D\",\"L300 Sedan 4D\"],\"xaxis\":\"x\",\"y\":[1,1,1,1,1,1,1,1,1,1,1,1,1,1,1,1,1,1,1,1,1,1,1,1,1,1,1,1,1,1,1,1,1,1,1,1,1,1,1,1,1,1,1,1,1,1,1,1,1,1,1,1,1,1,1,1,1,1,1,1,1,1,1,1,1,1,1,1,1,1,1,1,1,1,1,1,1,1,1,1,1,1,1,1,1,1,1,1,1,1,1,1,1,1,1,1,1,1,1,1,1,1,1,1,1,1,1,1,1,1,1,1,1,1,1,1,1,1,1,1,1,1,1,1,1,1,1,1,1,1,1,1,1,1,1,1,1,1,1,1,1,1,1,1,1,1,1,1,1,1,1,1,1,1,1,1,1,1,1,1,1,1,1,1,1,1,1,1,1,1,1,1,1,1,1,1,1,1,1,1,1,1,1,1,1,1,1,1,1,1,1,1,1,1,1,1,1,1,1,1,1,1,1,1,1,1,1,1,1,1,1,1,1,1,1,1,1,1,1,1,1,1,1,1,1,1,1,1,1,1,1,1,1,1,1,1,1,1,1,1,1,1,1,1,1,1,1,1,1,1,1,1,1,1,1,1,1,1,1,1,1,1,1,1,1,1,1,1,1,1,1,1,1,1,1,1,1,1,1,1,1,1,1,1,1,1,1,1,1,1,1,1,1,1,1,1,1,1,1,1,1,1,1,1,1,1,1,1,1,1,1,1,1,1,1,1,1,1,1,1,1,1,1,1,1,1,1,1,1,1,1,1,1,1,1,1,1,1,1,1,1,1,1,1,1,1,1,1,1,1,1,1,1,1,1,1,1,1,1,1,1,1,1,1,1,1,1,1,1,1,1,1,1,1,1,1,1,1,1,1,1,1,1,1,1,1,1,1,1,1,1,1,1,1,1,1,1,1,1,1,1,1,1,1,1,1,1,1,1,1,1,1,1,1,1,1,1,1,1,1,1,1,1,1,1,1,1,1,1,1,1,1,1,1,1,1,1,1,1,1,1,1,1,1,1,1,1,1,1,1,1,1,1,1,1,1,1,1,1,1,1,1,1,1,1,1,1,1,1,1,1,1,1,1,1,1,1,1,1,1,1,1,1,1,1,1,1,1,1,1,1,1,1,1,1,1,1,1,1,1,1,1,1,1,1,1,1,1,1,1,1,1,1,1,1,1,1,1,1,1,1,1,1,1,1,1,1,1,1,1,1,1,1,1,1,1,1,1,1,1,1,1,1,1,1,1,1,1,1,1,1,1,1,1,1,1,1,1,1,1,1,1,1,1,1,1,1,1,1,1,1,1,1,1,1,1,1,1,1,1,1,1,1,1,1,1,1,1,1,1,1,1,1,1,1,1,1,1,1,1,1,1,1,1,1,1,1,1,1,1,1,1,1,1,1,1,1,1,1,1,1,1,1,1,1,1,1,1,1,1,1,1,1,1,1,1,1,1,1,1,1,1,1,1,1,1,1,1,1,1,1,1,1,1,1,1,1,1,1,1,1,1,1,1,1,1,1,1,1,1,1,1,1,1,1,1,1,1,1,1,1,1,1,1,1,1,1,1,1,1,1,1,1,1,1,1,1,1,1,1,1,1,1,1,1,1,1,1,1,1,1,1,1,1,1,1,1,1,1,1,1,1,1,1,1,1,1,1,1,1,1,1,1,1,1,1,1,1,1,1,1,1,1,1,1,1,1,1,1,1,1,1,1,1,1,1,1,1,1,1,1,1,1,1,1,1,1,1,1,1,1,1,1,1,1,1,1,1,1,1,1,1,1,1,1,1,1,1,1,1,1,1,1,1,1,1,1,1,1,1,1,1,1,1],\"yaxis\":\"y\",\"type\":\"bar\"}],                        {\"template\":{\"data\":{\"bar\":[{\"error_x\":{\"color\":\"#2a3f5f\"},\"error_y\":{\"color\":\"#2a3f5f\"},\"marker\":{\"line\":{\"color\":\"#E5ECF6\",\"width\":0.5},\"pattern\":{\"fillmode\":\"overlay\",\"size\":10,\"solidity\":0.2}},\"type\":\"bar\"}],\"barpolar\":[{\"marker\":{\"line\":{\"color\":\"#E5ECF6\",\"width\":0.5},\"pattern\":{\"fillmode\":\"overlay\",\"size\":10,\"solidity\":0.2}},\"type\":\"barpolar\"}],\"carpet\":[{\"aaxis\":{\"endlinecolor\":\"#2a3f5f\",\"gridcolor\":\"white\",\"linecolor\":\"white\",\"minorgridcolor\":\"white\",\"startlinecolor\":\"#2a3f5f\"},\"baxis\":{\"endlinecolor\":\"#2a3f5f\",\"gridcolor\":\"white\",\"linecolor\":\"white\",\"minorgridcolor\":\"white\",\"startlinecolor\":\"#2a3f5f\"},\"type\":\"carpet\"}],\"choropleth\":[{\"colorbar\":{\"outlinewidth\":0,\"ticks\":\"\"},\"type\":\"choropleth\"}],\"contour\":[{\"colorbar\":{\"outlinewidth\":0,\"ticks\":\"\"},\"colorscale\":[[0.0,\"#0d0887\"],[0.1111111111111111,\"#46039f\"],[0.2222222222222222,\"#7201a8\"],[0.3333333333333333,\"#9c179e\"],[0.4444444444444444,\"#bd3786\"],[0.5555555555555556,\"#d8576b\"],[0.6666666666666666,\"#ed7953\"],[0.7777777777777778,\"#fb9f3a\"],[0.8888888888888888,\"#fdca26\"],[1.0,\"#f0f921\"]],\"type\":\"contour\"}],\"contourcarpet\":[{\"colorbar\":{\"outlinewidth\":0,\"ticks\":\"\"},\"type\":\"contourcarpet\"}],\"heatmap\":[{\"colorbar\":{\"outlinewidth\":0,\"ticks\":\"\"},\"colorscale\":[[0.0,\"#0d0887\"],[0.1111111111111111,\"#46039f\"],[0.2222222222222222,\"#7201a8\"],[0.3333333333333333,\"#9c179e\"],[0.4444444444444444,\"#bd3786\"],[0.5555555555555556,\"#d8576b\"],[0.6666666666666666,\"#ed7953\"],[0.7777777777777778,\"#fb9f3a\"],[0.8888888888888888,\"#fdca26\"],[1.0,\"#f0f921\"]],\"type\":\"heatmap\"}],\"heatmapgl\":[{\"colorbar\":{\"outlinewidth\":0,\"ticks\":\"\"},\"colorscale\":[[0.0,\"#0d0887\"],[0.1111111111111111,\"#46039f\"],[0.2222222222222222,\"#7201a8\"],[0.3333333333333333,\"#9c179e\"],[0.4444444444444444,\"#bd3786\"],[0.5555555555555556,\"#d8576b\"],[0.6666666666666666,\"#ed7953\"],[0.7777777777777778,\"#fb9f3a\"],[0.8888888888888888,\"#fdca26\"],[1.0,\"#f0f921\"]],\"type\":\"heatmapgl\"}],\"histogram\":[{\"marker\":{\"pattern\":{\"fillmode\":\"overlay\",\"size\":10,\"solidity\":0.2}},\"type\":\"histogram\"}],\"histogram2d\":[{\"colorbar\":{\"outlinewidth\":0,\"ticks\":\"\"},\"colorscale\":[[0.0,\"#0d0887\"],[0.1111111111111111,\"#46039f\"],[0.2222222222222222,\"#7201a8\"],[0.3333333333333333,\"#9c179e\"],[0.4444444444444444,\"#bd3786\"],[0.5555555555555556,\"#d8576b\"],[0.6666666666666666,\"#ed7953\"],[0.7777777777777778,\"#fb9f3a\"],[0.8888888888888888,\"#fdca26\"],[1.0,\"#f0f921\"]],\"type\":\"histogram2d\"}],\"histogram2dcontour\":[{\"colorbar\":{\"outlinewidth\":0,\"ticks\":\"\"},\"colorscale\":[[0.0,\"#0d0887\"],[0.1111111111111111,\"#46039f\"],[0.2222222222222222,\"#7201a8\"],[0.3333333333333333,\"#9c179e\"],[0.4444444444444444,\"#bd3786\"],[0.5555555555555556,\"#d8576b\"],[0.6666666666666666,\"#ed7953\"],[0.7777777777777778,\"#fb9f3a\"],[0.8888888888888888,\"#fdca26\"],[1.0,\"#f0f921\"]],\"type\":\"histogram2dcontour\"}],\"mesh3d\":[{\"colorbar\":{\"outlinewidth\":0,\"ticks\":\"\"},\"type\":\"mesh3d\"}],\"parcoords\":[{\"line\":{\"colorbar\":{\"outlinewidth\":0,\"ticks\":\"\"}},\"type\":\"parcoords\"}],\"pie\":[{\"automargin\":true,\"type\":\"pie\"}],\"scatter\":[{\"marker\":{\"colorbar\":{\"outlinewidth\":0,\"ticks\":\"\"}},\"type\":\"scatter\"}],\"scatter3d\":[{\"line\":{\"colorbar\":{\"outlinewidth\":0,\"ticks\":\"\"}},\"marker\":{\"colorbar\":{\"outlinewidth\":0,\"ticks\":\"\"}},\"type\":\"scatter3d\"}],\"scattercarpet\":[{\"marker\":{\"colorbar\":{\"outlinewidth\":0,\"ticks\":\"\"}},\"type\":\"scattercarpet\"}],\"scattergeo\":[{\"marker\":{\"colorbar\":{\"outlinewidth\":0,\"ticks\":\"\"}},\"type\":\"scattergeo\"}],\"scattergl\":[{\"marker\":{\"colorbar\":{\"outlinewidth\":0,\"ticks\":\"\"}},\"type\":\"scattergl\"}],\"scattermapbox\":[{\"marker\":{\"colorbar\":{\"outlinewidth\":0,\"ticks\":\"\"}},\"type\":\"scattermapbox\"}],\"scatterpolar\":[{\"marker\":{\"colorbar\":{\"outlinewidth\":0,\"ticks\":\"\"}},\"type\":\"scatterpolar\"}],\"scatterpolargl\":[{\"marker\":{\"colorbar\":{\"outlinewidth\":0,\"ticks\":\"\"}},\"type\":\"scatterpolargl\"}],\"scatterternary\":[{\"marker\":{\"colorbar\":{\"outlinewidth\":0,\"ticks\":\"\"}},\"type\":\"scatterternary\"}],\"surface\":[{\"colorbar\":{\"outlinewidth\":0,\"ticks\":\"\"},\"colorscale\":[[0.0,\"#0d0887\"],[0.1111111111111111,\"#46039f\"],[0.2222222222222222,\"#7201a8\"],[0.3333333333333333,\"#9c179e\"],[0.4444444444444444,\"#bd3786\"],[0.5555555555555556,\"#d8576b\"],[0.6666666666666666,\"#ed7953\"],[0.7777777777777778,\"#fb9f3a\"],[0.8888888888888888,\"#fdca26\"],[1.0,\"#f0f921\"]],\"type\":\"surface\"}],\"table\":[{\"cells\":{\"fill\":{\"color\":\"#EBF0F8\"},\"line\":{\"color\":\"white\"}},\"header\":{\"fill\":{\"color\":\"#C8D4E3\"},\"line\":{\"color\":\"white\"}},\"type\":\"table\"}]},\"layout\":{\"annotationdefaults\":{\"arrowcolor\":\"#2a3f5f\",\"arrowhead\":0,\"arrowwidth\":1},\"autotypenumbers\":\"strict\",\"coloraxis\":{\"colorbar\":{\"outlinewidth\":0,\"ticks\":\"\"}},\"colorscale\":{\"diverging\":[[0,\"#8e0152\"],[0.1,\"#c51b7d\"],[0.2,\"#de77ae\"],[0.3,\"#f1b6da\"],[0.4,\"#fde0ef\"],[0.5,\"#f7f7f7\"],[0.6,\"#e6f5d0\"],[0.7,\"#b8e186\"],[0.8,\"#7fbc41\"],[0.9,\"#4d9221\"],[1,\"#276419\"]],\"sequential\":[[0.0,\"#0d0887\"],[0.1111111111111111,\"#46039f\"],[0.2222222222222222,\"#7201a8\"],[0.3333333333333333,\"#9c179e\"],[0.4444444444444444,\"#bd3786\"],[0.5555555555555556,\"#d8576b\"],[0.6666666666666666,\"#ed7953\"],[0.7777777777777778,\"#fb9f3a\"],[0.8888888888888888,\"#fdca26\"],[1.0,\"#f0f921\"]],\"sequentialminus\":[[0.0,\"#0d0887\"],[0.1111111111111111,\"#46039f\"],[0.2222222222222222,\"#7201a8\"],[0.3333333333333333,\"#9c179e\"],[0.4444444444444444,\"#bd3786\"],[0.5555555555555556,\"#d8576b\"],[0.6666666666666666,\"#ed7953\"],[0.7777777777777778,\"#fb9f3a\"],[0.8888888888888888,\"#fdca26\"],[1.0,\"#f0f921\"]]},\"colorway\":[\"#636efa\",\"#EF553B\",\"#00cc96\",\"#ab63fa\",\"#FFA15A\",\"#19d3f3\",\"#FF6692\",\"#B6E880\",\"#FF97FF\",\"#FECB52\"],\"font\":{\"color\":\"#2a3f5f\"},\"geo\":{\"bgcolor\":\"white\",\"lakecolor\":\"white\",\"landcolor\":\"#E5ECF6\",\"showlakes\":true,\"showland\":true,\"subunitcolor\":\"white\"},\"hoverlabel\":{\"align\":\"left\"},\"hovermode\":\"closest\",\"mapbox\":{\"style\":\"light\"},\"paper_bgcolor\":\"white\",\"plot_bgcolor\":\"#E5ECF6\",\"polar\":{\"angularaxis\":{\"gridcolor\":\"white\",\"linecolor\":\"white\",\"ticks\":\"\"},\"bgcolor\":\"#E5ECF6\",\"radialaxis\":{\"gridcolor\":\"white\",\"linecolor\":\"white\",\"ticks\":\"\"}},\"scene\":{\"xaxis\":{\"backgroundcolor\":\"#E5ECF6\",\"gridcolor\":\"white\",\"gridwidth\":2,\"linecolor\":\"white\",\"showbackground\":true,\"ticks\":\"\",\"zerolinecolor\":\"white\"},\"yaxis\":{\"backgroundcolor\":\"#E5ECF6\",\"gridcolor\":\"white\",\"gridwidth\":2,\"linecolor\":\"white\",\"showbackground\":true,\"ticks\":\"\",\"zerolinecolor\":\"white\"},\"zaxis\":{\"backgroundcolor\":\"#E5ECF6\",\"gridcolor\":\"white\",\"gridwidth\":2,\"linecolor\":\"white\",\"showbackground\":true,\"ticks\":\"\",\"zerolinecolor\":\"white\"}},\"shapedefaults\":{\"line\":{\"color\":\"#2a3f5f\"}},\"ternary\":{\"aaxis\":{\"gridcolor\":\"white\",\"linecolor\":\"white\",\"ticks\":\"\"},\"baxis\":{\"gridcolor\":\"white\",\"linecolor\":\"white\",\"ticks\":\"\"},\"bgcolor\":\"#E5ECF6\",\"caxis\":{\"gridcolor\":\"white\",\"linecolor\":\"white\",\"ticks\":\"\"}},\"title\":{\"x\":0.05},\"xaxis\":{\"automargin\":true,\"gridcolor\":\"white\",\"linecolor\":\"white\",\"ticks\":\"\",\"title\":{\"standoff\":15},\"zerolinecolor\":\"white\",\"zerolinewidth\":2},\"yaxis\":{\"automargin\":true,\"gridcolor\":\"white\",\"linecolor\":\"white\",\"ticks\":\"\",\"title\":{\"standoff\":15},\"zerolinecolor\":\"white\",\"zerolinewidth\":2}}},\"xaxis\":{\"anchor\":\"y\",\"domain\":[0.0,1.0],\"title\":{\"text\":\"Trim\"}},\"yaxis\":{\"anchor\":\"x\",\"domain\":[0.0,1.0],\"title\":{\"text\":\"count\"}},\"legend\":{\"tracegroupgap\":0},\"margin\":{\"t\":60},\"barmode\":\"relative\"},                        {\"responsive\": true}                    ).then(function(){\n",
              "                            \n",
              "var gd = document.getElementById('1144dd9b-5a39-4f12-8017-64272cfa59ea');\n",
              "var x = new MutationObserver(function (mutations, observer) {{\n",
              "        var display = window.getComputedStyle(gd).display;\n",
              "        if (!display || display === 'none') {{\n",
              "            console.log([gd, 'removed!']);\n",
              "            Plotly.purge(gd);\n",
              "            observer.disconnect();\n",
              "        }}\n",
              "}});\n",
              "\n",
              "// Listen for the removal of the full notebook cells\n",
              "var notebookContainer = gd.closest('#notebook-container');\n",
              "if (notebookContainer) {{\n",
              "    x.observe(notebookContainer, {childList: true});\n",
              "}}\n",
              "\n",
              "// Listen for the clearing of the current output cell\n",
              "var outputEl = gd.closest('.output');\n",
              "if (outputEl) {{\n",
              "    x.observe(outputEl, {childList: true});\n",
              "}}\n",
              "\n",
              "                        })                };                            </script>        </div>\n",
              "</body>\n",
              "</html>"
            ]
          },
          "metadata": {}
        }
      ]
    },
    {
      "cell_type": "markdown",
      "source": [
        "# **Tasks, Part 1**"
      ],
      "metadata": {
        "id": "xznUEtcvm-Km"
      }
    },
    {
      "cell_type": "code",
      "source": [
        "x=df[['Mileage']].values\n",
        "\n",
        "y=df['Price'].values\n"
      ],
      "metadata": {
        "id": "cjaEMAwEiluB"
      },
      "execution_count": 41,
      "outputs": []
    },
    {
      "cell_type": "code",
      "source": [
        "#this is the import statment for splitting\n",
        "from sklearn.model_selection import train_test_split   \n",
        "x_train, x_test, y_train, y_test =train_test_split(x,y,test_size=0.3,random_state=10)"
      ],
      "metadata": {
        "id": "FZMiK0LGkEud"
      },
      "execution_count": 42,
      "outputs": []
    },
    {
      "cell_type": "code",
      "source": [
        "from sklearn.linear_model import LinearRegression\n",
        "model = LinearRegression()\n",
        "model.fit(x_train, y_train)"
      ],
      "metadata": {
        "colab": {
          "base_uri": "https://localhost:8080/"
        },
        "id": "dLpPL4JxkExD",
        "outputId": "9569dd02-9108-41fb-b927-1bed8c4a40e8"
      },
      "execution_count": 43,
      "outputs": [
        {
          "output_type": "execute_result",
          "data": {
            "text/plain": [
              "LinearRegression()"
            ]
          },
          "metadata": {},
          "execution_count": 43
        }
      ]
    },
    {
      "cell_type": "code",
      "source": [
        "print('intercept(c) is',model.intercept_)\n",
        "print('slope(m) is',model.coef_)"
      ],
      "metadata": {
        "colab": {
          "base_uri": "https://localhost:8080/"
        },
        "id": "AqRVW9XlkEzi",
        "outputId": "22e1f328-df90-4d9b-c0a3-4852faf1d3f0"
      },
      "execution_count": 44,
      "outputs": [
        {
          "output_type": "stream",
          "name": "stdout",
          "text": [
            "intercept(c) is 24811.158249368393\n",
            "slope(m) is [-0.15980211]\n"
          ]
        }
      ]
    },
    {
      "cell_type": "code",
      "source": [
        "y_pred = model.predict(x_test)\n",
        "y_pred"
      ],
      "metadata": {
        "colab": {
          "base_uri": "https://localhost:8080/"
        },
        "id": "AXu06XB5kE4L",
        "outputId": "1a05d901-579a-4ec3-9fd4-8cae80eb7924"
      },
      "execution_count": 45,
      "outputs": [
        {
          "output_type": "execute_result",
          "data": {
            "text/plain": [
              "array([20885.13990382, 21753.18498901, 21082.17591082, 24067.75881337,\n",
              "       19562.61760539, 19480.63912072, 24428.91159182, 20571.28855122,\n",
              "       24199.43575561, 16759.20911321, 18571.0454858 , 23581.48097938,\n",
              "       24417.40583959, 21371.41773781, 23124.44693232, 21683.99067349,\n",
              "       21383.08329216, 20677.23735304, 22473.73272265, 22710.55945613,\n",
              "       22236.58638494, 20869.79890084, 19825.01267717, 21638.4470709 ,\n",
              "       22397.5071141 , 21200.26967333, 21084.09353619, 21661.13897114,\n",
              "       22243.45787586, 23051.25756394, 22853.42254637, 21368.22169552,\n",
              "       21623.9050785 , 20413.24426012, 20696.8930131 , 23991.2136006 ,\n",
              "       20426.50783561, 21179.01599212, 22050.89632806, 21680.31522486,\n",
              "       21829.09099333, 20227.55420323, 21199.9500691 , 21685.10928829,\n",
              "       23951.58267624, 20999.5582177 , 20633.4515737 , 20699.92925328,\n",
              "       21467.29900642, 22001.35767261, 21195.4756099 , 21287.20202354,\n",
              "       19691.25830745, 20499.69720399, 21691.66117498, 23530.02469856,\n",
              "       21201.22848602, 20488.35125387, 22845.11283642, 23210.89987619,\n",
              "       23464.50583167, 22503.93532227, 21555.34997144, 22736.926805  ,\n",
              "       20737.96215649, 22013.34283119, 21037.91072514, 22331.66864299,\n",
              "       24625.78779671, 23989.13617311, 21806.07948886, 22529.50366056,\n",
              "       20727.09561272, 23245.89653923, 22175.06257092, 21789.30026686,\n",
              "       23755.18587769, 21751.26736364, 21849.54566397, 22291.39851017,\n",
              "       20659.33951623, 20603.88818255, 20427.62645041, 21542.7256044 ,\n",
              "       21076.4230347 , 21565.73710887, 22069.27357121, 20603.88818255,\n",
              "       21218.96652071, 21585.39276894, 22022.4515517 , 20345.96756997,\n",
              "       22890.17703267, 20651.82881686, 21422.07500806, 20759.05603559,\n",
              "       19752.62231936, 23549.99996285, 22975.35155962, 20258.07640708,\n",
              "       21421.59560172, 23412.25054028, 23434.46303417, 22101.23399408,\n",
              "       22102.35260888, 21738.96260083, 21411.84767274, 21719.46674288,\n",
              "       20831.28659128, 22216.77092276, 20688.90290739, 23477.60960505,\n",
              "       20941.07064384, 23179.09925543, 20289.07801726, 23616.47764243,\n",
              "       21057.24678098, 21539.68936423, 22051.3757344 , 22086.05279322,\n",
              "       21772.68084696, 23378.21268992, 22896.56911724, 22079.50090653,\n",
              "       21530.4208416 , 20362.42718775, 21853.06131049, 21452.11780556,\n",
              "       22025.64759399, 22376.89264135, 20580.07766751, 23415.76618679,\n",
              "       24685.23418325, 21789.30026686, 21349.68465026, 21599.13575077,\n",
              "       20620.66740456, 20791.65566692, 20636.16820965, 23066.91817115,\n",
              "       20691.93914756, 23629.10200946, 21234.30752369, 21757.02023976,\n",
              "       24574.65112012, 22442.25170612, 20813.86816081, 20073.18536076,\n",
              "       24149.2578917 , 23648.11846107, 24336.06656338, 20720.54372603,\n",
              "       22558.74744749, 20869.63909873, 24459.27399355, 22153.16968125,\n",
              "       21396.66647188, 22541.96822548, 21761.9741053 , 20135.34838325,\n",
              "       19623.66201308, 23901.88421867, 21434.85917721, 20805.71825298,\n",
              "       20905.75437657, 23028.40586159, 21470.17544448, 21388.19695982,\n",
              "       21612.71893049, 19999.83619027, 21700.61009339, 22293.47593766,\n",
              "       21141.46249525, 22241.85985472, 20677.23735304, 22578.24330544,\n",
              "       20967.59779483, 22165.79404828, 19551.43145739, 20728.21422752,\n",
              "       23879.991329  , 21114.45593792, 21638.60687302, 22024.04957285,\n",
              "       23646.68024204, 21453.23642036, 22373.69659906, 19624.30122153,\n",
              "       22954.41748264, 21234.78693003, 20994.12494581, 21758.77806301,\n",
              "       23816.5498896 , 22877.39286352, 23886.22361146, 20625.78107221,\n",
              "       21644.51955125, 21204.26472619, 21355.11792215, 23780.9140181 ,\n",
              "       21939.35445224, 22990.53276049, 21862.64943735, 21141.46249525,\n",
              "       21003.71307267, 21126.92050284, 18843.34828866, 21067.63391842,\n",
              "       23351.36593471, 20817.38380733, 21387.07834502, 21434.21996875,\n",
              "       22247.77253295, 20280.12909886, 23018.01872416, 22033.63769971,\n",
              "       20885.13990382, 21047.33904989, 21537.77173886, 22481.40322414,\n",
              "       21234.46732581, 21279.21191783, 21469.69603814, 20124.96124582,\n",
              "       24442.33496943, 24624.34957768, 22919.74042383, 21412.80648543,\n",
              "       21171.0258864 , 20776.63426817, 21032.63725537, 24086.13605653,\n",
              "       20902.23873005, 21678.71720372, 21203.46571562, 20498.7383913 ,\n",
              "       21811.51276075, 20924.29142184, 21919.37918794, 21062.20064653,\n",
              "       23377.73328358, 23633.09706232])"
            ]
          },
          "metadata": {},
          "execution_count": 45
        }
      ]
    },
    {
      "cell_type": "code",
      "source": [
        "df_pred = pd.DataFrame({'Actual': y_test, 'Predicted':y_pred})\n",
        "df_pred\n"
      ],
      "metadata": {
        "colab": {
          "base_uri": "https://localhost:8080/",
          "height": 423
        },
        "id": "R9wM9afgkFHR",
        "outputId": "640bfffa-acdd-4a8b-d76a-9f1e87850445"
      },
      "execution_count": 46,
      "outputs": [
        {
          "output_type": "execute_result",
          "data": {
            "text/plain": [
              "           Actual     Predicted\n",
              "0    11045.108844  20885.139904\n",
              "1    12045.920705  21753.184989\n",
              "2    14703.136868  21082.175911\n",
              "3    15053.933735  24067.758813\n",
              "4    12553.071428  19562.617605\n",
              "..            ...           ...\n",
              "237  19981.127911  20924.291422\n",
              "238  16391.926573  21919.379188\n",
              "239  16825.190882  21062.200647\n",
              "240  22358.877678  23377.733284\n",
              "241  13007.984178  23633.097062\n",
              "\n",
              "[242 rows x 2 columns]"
            ],
            "text/html": [
              "\n",
              "  <div id=\"df-8a580a8a-fe82-44c3-9e57-c3bda8e8ead1\">\n",
              "    <div class=\"colab-df-container\">\n",
              "      <div>\n",
              "<style scoped>\n",
              "    .dataframe tbody tr th:only-of-type {\n",
              "        vertical-align: middle;\n",
              "    }\n",
              "\n",
              "    .dataframe tbody tr th {\n",
              "        vertical-align: top;\n",
              "    }\n",
              "\n",
              "    .dataframe thead th {\n",
              "        text-align: right;\n",
              "    }\n",
              "</style>\n",
              "<table border=\"1\" class=\"dataframe\">\n",
              "  <thead>\n",
              "    <tr style=\"text-align: right;\">\n",
              "      <th></th>\n",
              "      <th>Actual</th>\n",
              "      <th>Predicted</th>\n",
              "    </tr>\n",
              "  </thead>\n",
              "  <tbody>\n",
              "    <tr>\n",
              "      <th>0</th>\n",
              "      <td>11045.108844</td>\n",
              "      <td>20885.139904</td>\n",
              "    </tr>\n",
              "    <tr>\n",
              "      <th>1</th>\n",
              "      <td>12045.920705</td>\n",
              "      <td>21753.184989</td>\n",
              "    </tr>\n",
              "    <tr>\n",
              "      <th>2</th>\n",
              "      <td>14703.136868</td>\n",
              "      <td>21082.175911</td>\n",
              "    </tr>\n",
              "    <tr>\n",
              "      <th>3</th>\n",
              "      <td>15053.933735</td>\n",
              "      <td>24067.758813</td>\n",
              "    </tr>\n",
              "    <tr>\n",
              "      <th>4</th>\n",
              "      <td>12553.071428</td>\n",
              "      <td>19562.617605</td>\n",
              "    </tr>\n",
              "    <tr>\n",
              "      <th>...</th>\n",
              "      <td>...</td>\n",
              "      <td>...</td>\n",
              "    </tr>\n",
              "    <tr>\n",
              "      <th>237</th>\n",
              "      <td>19981.127911</td>\n",
              "      <td>20924.291422</td>\n",
              "    </tr>\n",
              "    <tr>\n",
              "      <th>238</th>\n",
              "      <td>16391.926573</td>\n",
              "      <td>21919.379188</td>\n",
              "    </tr>\n",
              "    <tr>\n",
              "      <th>239</th>\n",
              "      <td>16825.190882</td>\n",
              "      <td>21062.200647</td>\n",
              "    </tr>\n",
              "    <tr>\n",
              "      <th>240</th>\n",
              "      <td>22358.877678</td>\n",
              "      <td>23377.733284</td>\n",
              "    </tr>\n",
              "    <tr>\n",
              "      <th>241</th>\n",
              "      <td>13007.984178</td>\n",
              "      <td>23633.097062</td>\n",
              "    </tr>\n",
              "  </tbody>\n",
              "</table>\n",
              "<p>242 rows × 2 columns</p>\n",
              "</div>\n",
              "      <button class=\"colab-df-convert\" onclick=\"convertToInteractive('df-8a580a8a-fe82-44c3-9e57-c3bda8e8ead1')\"\n",
              "              title=\"Convert this dataframe to an interactive table.\"\n",
              "              style=\"display:none;\">\n",
              "        \n",
              "  <svg xmlns=\"http://www.w3.org/2000/svg\" height=\"24px\"viewBox=\"0 0 24 24\"\n",
              "       width=\"24px\">\n",
              "    <path d=\"M0 0h24v24H0V0z\" fill=\"none\"/>\n",
              "    <path d=\"M18.56 5.44l.94 2.06.94-2.06 2.06-.94-2.06-.94-.94-2.06-.94 2.06-2.06.94zm-11 1L8.5 8.5l.94-2.06 2.06-.94-2.06-.94L8.5 2.5l-.94 2.06-2.06.94zm10 10l.94 2.06.94-2.06 2.06-.94-2.06-.94-.94-2.06-.94 2.06-2.06.94z\"/><path d=\"M17.41 7.96l-1.37-1.37c-.4-.4-.92-.59-1.43-.59-.52 0-1.04.2-1.43.59L10.3 9.45l-7.72 7.72c-.78.78-.78 2.05 0 2.83L4 21.41c.39.39.9.59 1.41.59.51 0 1.02-.2 1.41-.59l7.78-7.78 2.81-2.81c.8-.78.8-2.07 0-2.86zM5.41 20L4 18.59l7.72-7.72 1.47 1.35L5.41 20z\"/>\n",
              "  </svg>\n",
              "      </button>\n",
              "      \n",
              "  <style>\n",
              "    .colab-df-container {\n",
              "      display:flex;\n",
              "      flex-wrap:wrap;\n",
              "      gap: 12px;\n",
              "    }\n",
              "\n",
              "    .colab-df-convert {\n",
              "      background-color: #E8F0FE;\n",
              "      border: none;\n",
              "      border-radius: 50%;\n",
              "      cursor: pointer;\n",
              "      display: none;\n",
              "      fill: #1967D2;\n",
              "      height: 32px;\n",
              "      padding: 0 0 0 0;\n",
              "      width: 32px;\n",
              "    }\n",
              "\n",
              "    .colab-df-convert:hover {\n",
              "      background-color: #E2EBFA;\n",
              "      box-shadow: 0px 1px 2px rgba(60, 64, 67, 0.3), 0px 1px 3px 1px rgba(60, 64, 67, 0.15);\n",
              "      fill: #174EA6;\n",
              "    }\n",
              "\n",
              "    [theme=dark] .colab-df-convert {\n",
              "      background-color: #3B4455;\n",
              "      fill: #D2E3FC;\n",
              "    }\n",
              "\n",
              "    [theme=dark] .colab-df-convert:hover {\n",
              "      background-color: #434B5C;\n",
              "      box-shadow: 0px 1px 3px 1px rgba(0, 0, 0, 0.15);\n",
              "      filter: drop-shadow(0px 1px 2px rgba(0, 0, 0, 0.3));\n",
              "      fill: #FFFFFF;\n",
              "    }\n",
              "  </style>\n",
              "\n",
              "      <script>\n",
              "        const buttonEl =\n",
              "          document.querySelector('#df-8a580a8a-fe82-44c3-9e57-c3bda8e8ead1 button.colab-df-convert');\n",
              "        buttonEl.style.display =\n",
              "          google.colab.kernel.accessAllowed ? 'block' : 'none';\n",
              "\n",
              "        async function convertToInteractive(key) {\n",
              "          const element = document.querySelector('#df-8a580a8a-fe82-44c3-9e57-c3bda8e8ead1');\n",
              "          const dataTable =\n",
              "            await google.colab.kernel.invokeFunction('convertToInteractive',\n",
              "                                                     [key], {});\n",
              "          if (!dataTable) return;\n",
              "\n",
              "          const docLinkHtml = 'Like what you see? Visit the ' +\n",
              "            '<a target=\"_blank\" href=https://colab.research.google.com/notebooks/data_table.ipynb>data table notebook</a>'\n",
              "            + ' to learn more about interactive tables.';\n",
              "          element.innerHTML = '';\n",
              "          dataTable['output_type'] = 'display_data';\n",
              "          await google.colab.output.renderOutput(dataTable, element);\n",
              "          const docLink = document.createElement('div');\n",
              "          docLink.innerHTML = docLinkHtml;\n",
              "          element.appendChild(docLink);\n",
              "        }\n",
              "      </script>\n",
              "    </div>\n",
              "  </div>\n",
              "  "
            ]
          },
          "metadata": {},
          "execution_count": 46
        }
      ]
    },
    {
      "cell_type": "code",
      "source": [
        "plt.plot(x,y,'*')\n",
        "plt.plot(x,model.predict(x))"
      ],
      "metadata": {
        "colab": {
          "base_uri": "https://localhost:8080/",
          "height": 282
        },
        "id": "eIgDibM0jt0n",
        "outputId": "2417b86c-8440-4f5b-b5b3-9f7b7f5a5ec4"
      },
      "execution_count": 47,
      "outputs": [
        {
          "output_type": "execute_result",
          "data": {
            "text/plain": [
              "[<matplotlib.lines.Line2D at 0x7fe9fd104310>]"
            ]
          },
          "metadata": {},
          "execution_count": 47
        },
        {
          "output_type": "display_data",
          "data": {
            "text/plain": [
              "<Figure size 432x288 with 1 Axes>"
            ],
            "image/png": "[encoded data removed]"
          },
          "metadata": {
            "needs_background": "light"
          }
        }
      ]
    },
    {
      "cell_type": "code",
      "source": [
        "# to calculte model score\n",
        "\n",
        "R2_score=model.score(x_train, y_train)\n",
        "print(R2_score)\n"
      ],
      "metadata": {
        "colab": {
          "base_uri": "https://localhost:8080/"
        },
        "id": "RO8o4DKCjt3O",
        "outputId": "0b2b40f1-a654-4637-d0e3-3fd63b2dd35b"
      },
      "execution_count": 48,
      "outputs": [
        {
          "output_type": "stream",
          "name": "stdout",
          "text": [
            "0.018115403106448658\n"
          ]
        }
      ]
    },
    {
      "cell_type": "markdown",
      "source": [
        "The model R2 score is less than 0.8 and there is no correlation between values"
      ],
      "metadata": {
        "id": "oEMJmrXQ5Jdd"
      }
    },
    {
      "cell_type": "markdown",
      "source": [
        "# **Part 2**"
      ],
      "metadata": {
        "id": "BDU36ZPI5Wp2"
      }
    },
    {
      "cell_type": "markdown",
      "source": [
        ""
      ],
      "metadata": {
        "id": "HEDRGru3y8Yt"
      }
    },
    {
      "cell_type": "markdown",
      "source": [
        "Use mileage, cylinders, liters, doors, cruise, sound, and leather to find the linear regression equation."
      ],
      "metadata": {
        "id": "9tW5TVYNzAL2"
      }
    },
    {
      "cell_type": "code",
      "source": [
        "x=df[[\"Mileage\",\"Cylinder\",\"Liter\",\"Doors\",\"Cruise\",\"Sound\",\"Leather\"]]\n",
        "y=df[\"Price\"]"
      ],
      "metadata": {
        "id": "vLv0J5Gvy5zD"
      },
      "execution_count": null,
      "outputs": []
    },
    {
      "cell_type": "code",
      "source": [
        "from sklearn.model_selection import train_test_split   \n",
        "x_train, x_test, y_train, y_test =train_test_split(x,y,test_size=0.3,random_state=10)"
      ],
      "metadata": {
        "id": "XdpXMwG-zC3h"
      },
      "execution_count": 119,
      "outputs": []
    },
    {
      "cell_type": "code",
      "source": [
        "from sklearn.linear_model import LinearRegression\n",
        "model = LinearRegression()\n",
        "model.fit(x_train, y_train)"
      ],
      "metadata": {
        "colab": {
          "base_uri": "https://localhost:8080/"
        },
        "id": "RYx_-vGQzDAS",
        "outputId": "f851f1b0-a740-415c-96ce-0f8a1c818bb6"
      },
      "execution_count": 120,
      "outputs": [
        {
          "output_type": "execute_result",
          "data": {
            "text/plain": [
              "LinearRegression()"
            ]
          },
          "metadata": {},
          "execution_count": 120
        }
      ]
    },
    {
      "cell_type": "code",
      "source": [
        "print('intercept(c) is',model.intercept_)\n",
        "print('slope(m) is',model.coef_)"
      ],
      "metadata": {
        "colab": {
          "base_uri": "https://localhost:8080/"
        },
        "id": "71qCqIszzDDy",
        "outputId": "edd7b4c3-a5cd-4f6e-f7a5-74e26c318bf0"
      },
      "execution_count": 121,
      "outputs": [
        {
          "output_type": "stream",
          "name": "stdout",
          "text": [
            "intercept(c) is 35.53433071063773\n",
            "slope(m) is [4743.07486159  289.94615449  818.05777982 -285.65038264 -910.75866896]\n"
          ]
        }
      ]
    },
    {
      "cell_type": "code",
      "source": [
        "y_pred = model.predict(x_test)\n",
        "y_pred"
      ],
      "metadata": {
        "colab": {
          "base_uri": "https://localhost:8080/"
        },
        "id": "Q3GEqQIGzDHw",
        "outputId": "101436d3-0ef4-4a05-95c1-da36d058ca61"
      },
      "execution_count": 122,
      "outputs": [
        {
          "output_type": "execute_result",
          "data": {
            "text/plain": [
              "array([17858.09393282, 17800.21876392, 26167.15859123, 17800.21876392,\n",
              "       16943.26761601, 23072.26117003, 15290.72055646, 22467.78407945,\n",
              "       22288.65644007, 19842.03081583, 23179.87621212, 15407.40066074,\n",
              "       15978.70142601, 15978.70142601, 33400.56195018, 19842.03081583,\n",
              "       22467.78407945, 16947.33526386, 16947.33526386, 12905.26889101,\n",
              "       23072.26117003, 15290.72055646, 23072.26117003, 19072.06351427,\n",
              "       29401.45659327, 20521.20523159,  9771.36403971, 17800.21876392,\n",
              "       19842.03081583, 25106.41144472, 22574.3068227 , 18161.30484532,\n",
              "       16947.33526386, 16943.26761601, 17858.09393282, 26167.15859123,\n",
              "        9771.36403971, 23179.87621212, 37321.8805709 , 20293.54407985,\n",
              "       33400.56195018, 15121.7502781 , 19556.3804332 , 20293.54407985,\n",
              "       23072.26117003, 20293.54407985, 16943.26761601, 15978.70142601,\n",
              "       22574.3068227 , 27603.77392411, 23179.87621212, 19357.71389691,\n",
              "       37642.47073579, 23072.26117003, 37321.8805709 , 19072.06351427,\n",
              "       19072.06351427, 22288.65644007,  9771.36403971, 19556.3804332 ,\n",
              "       15978.70142601, 16947.33526386, 16943.26761601, 15121.7502781 ,\n",
              "       19436.59293194, 33400.56195018, 20579.19446248, 27603.77392411,\n",
              "       17800.21876392, 19556.3804332 , 18446.95522795, 18446.95522795,\n",
              "       24175.96933248, 19357.71389691, 27603.77392411, 15121.7502781 ,\n",
              "       22467.78407945, 37321.8805709 , 15978.70142601, 16943.26761601,\n",
              "       17112.23789437, 21557.0254105 , 15121.7502781 , 19436.59293194,\n",
              "       35719.05539857, 15407.40066074, 15121.7502781 , 15290.72055646,\n",
              "       16943.26761601, 17858.09393282, 21557.0254105 , 16943.26761601,\n",
              "       31276.78145223, 24175.96933248, 22574.3068227 , 18161.30484532,\n",
              "       22288.65644007, 31276.78145223, 15978.70142601, 16943.26761601,\n",
              "       24175.96933248,  9771.36403971, 15978.70142601, 15978.70142601,\n",
              "       17112.23789437, 12905.26889101, 21557.0254105 , 17800.21876392,\n",
              "       22467.78407945, 20579.19446248, 19911.01109822, 23179.87621212,\n",
              "       21557.0254105 , 16947.33526386, 15290.72055646, 19911.01109822,\n",
              "       23179.87621212, 37321.8805709 , 15121.7502781 ,  9771.36403971,\n",
              "       16947.33526386, 36731.71206683, 16947.33526386, 25106.41144472,\n",
              "       15407.40066074, 20293.54407985, 15290.72055646, 17112.23789437,\n",
              "       19361.89560676, 15121.7502781 , 24945.93663404, 21557.0254105 ,\n",
              "       29401.45659327, 15978.70142601, 22574.3068227 , 17858.09393282,\n",
              "       23179.87621212, 33400.56195018, 36605.83485239, 36605.83485239,\n",
              "       24175.96933248, 22467.78407945, 23072.26117003, 22574.3068227 ,\n",
              "       21557.0254105 , 15121.7502781 , 15978.70142601, 20579.19446248,\n",
              "       16947.33526386, 16947.33526386,  9771.36403971, 24175.96933248,\n",
              "       33400.56195018, 23179.87621212, 35719.05539857, 20521.20523159,\n",
              "       35719.05539857, 17858.09393282, 12905.26889101, 31276.78145223,\n",
              "       21557.0254105 , 24945.93663404, 15121.7502781 , 16947.33526386,\n",
              "       20579.19446248, 16947.33526386, 18161.30484532, 21557.0254105 ,\n",
              "       18446.95522795, 17112.23789437,  9771.36403971, 20579.19446248,\n",
              "       23072.26117003,  9771.36403971, 19436.59293194, 19911.01109822,\n",
              "       35719.05539857, 24175.96933248, 16947.33526386, 23179.87621212,\n",
              "       23179.87621212, 21557.0254105 , 15290.72055646, 22467.78407945,\n",
              "       24945.93663404, 16947.33526386, 16947.33526386, 15290.72055646,\n",
              "       36731.71206683, 16947.33526386, 36605.83485239, 15290.72055646,\n",
              "       17800.21876392, 17858.09393282, 14511.55614473, 16947.33526386,\n",
              "       15978.70142601, 17800.21876392, 15121.7502781 , 33400.56195018,\n",
              "       17800.21876392, 21557.0254105 , 22467.78407945, 23804.03674598,\n",
              "       37642.47073579, 19072.06351427, 16947.33526386, 18446.95522795,\n",
              "       23804.03674598, 24175.96933248, 17858.09393282, 24175.96933248,\n",
              "       33400.56195018, 24945.93663404, 24945.93663404, 22288.65644007,\n",
              "       17800.21876392, 22574.3068227 , 24723.1768206 , 21557.0254105 ,\n",
              "       16943.26761601, 20579.19446248, 33400.56195018, 24175.96933248,\n",
              "       19436.59293194, 16943.26761601, 15290.72055646, 19842.03081583,\n",
              "        9771.36403971, 19357.71389691, 17112.23789437, 24945.93663404,\n",
              "       22467.78407945, 14511.55614473, 23804.03674598, 17112.23789437,\n",
              "       22467.78407945, 20293.54407985,  9771.36403971, 22467.78407945,\n",
              "       20521.20523159, 17800.21876392])"
            ]
          },
          "metadata": {},
          "execution_count": 122
        }
      ]
    },
    {
      "cell_type": "code",
      "source": [
        "df_pred = pd.DataFrame({'Actual': y_test, 'Predicted':y_pred})\n",
        "df_pred.head()"
      ],
      "metadata": {
        "colab": {
          "base_uri": "https://localhost:8080/",
          "height": 206
        },
        "id": "OFYvDrEbzDLe",
        "outputId": "6537a40b-6e7c-4ffb-f5e3-16f3465e3d24"
      },
      "execution_count": 123,
      "outputs": [
        {
          "output_type": "execute_result",
          "data": {
            "text/plain": [
              "         Actual     Predicted\n",
              "0  11045.108844  17858.093933\n",
              "1  12045.920705  17800.218764\n",
              "2  14703.136868  26167.158591\n",
              "3  15053.933735  17800.218764\n",
              "4  12553.071428  16943.267616"
            ],
            "text/html": [
              "\n",
              "  <div id=\"df-3c90b92c-eec4-4800-bc11-ef3c9aada89c\">\n",
              "    <div class=\"colab-df-container\">\n",
              "      <div>\n",
              "<style scoped>\n",
              "    .dataframe tbody tr th:only-of-type {\n",
              "        vertical-align: middle;\n",
              "    }\n",
              "\n",
              "    .dataframe tbody tr th {\n",
              "        vertical-align: top;\n",
              "    }\n",
              "\n",
              "    .dataframe thead th {\n",
              "        text-align: right;\n",
              "    }\n",
              "</style>\n",
              "<table border=\"1\" class=\"dataframe\">\n",
              "  <thead>\n",
              "    <tr style=\"text-align: right;\">\n",
              "      <th></th>\n",
              "      <th>Actual</th>\n",
              "      <th>Predicted</th>\n",
              "    </tr>\n",
              "  </thead>\n",
              "  <tbody>\n",
              "    <tr>\n",
              "      <th>0</th>\n",
              "      <td>11045.108844</td>\n",
              "      <td>17858.093933</td>\n",
              "    </tr>\n",
              "    <tr>\n",
              "      <th>1</th>\n",
              "      <td>12045.920705</td>\n",
              "      <td>17800.218764</td>\n",
              "    </tr>\n",
              "    <tr>\n",
              "      <th>2</th>\n",
              "      <td>14703.136868</td>\n",
              "      <td>26167.158591</td>\n",
              "    </tr>\n",
              "    <tr>\n",
              "      <th>3</th>\n",
              "      <td>15053.933735</td>\n",
              "      <td>17800.218764</td>\n",
              "    </tr>\n",
              "    <tr>\n",
              "      <th>4</th>\n",
              "      <td>12553.071428</td>\n",
              "      <td>16943.267616</td>\n",
              "    </tr>\n",
              "  </tbody>\n",
              "</table>\n",
              "</div>\n",
              "      <button class=\"colab-df-convert\" onclick=\"convertToInteractive('df-3c90b92c-eec4-4800-bc11-ef3c9aada89c')\"\n",
              "              title=\"Convert this dataframe to an interactive table.\"\n",
              "              style=\"display:none;\">\n",
              "        \n",
              "  <svg xmlns=\"http://www.w3.org/2000/svg\" height=\"24px\"viewBox=\"0 0 24 24\"\n",
              "       width=\"24px\">\n",
              "    <path d=\"M0 0h24v24H0V0z\" fill=\"none\"/>\n",
              "    <path d=\"M18.56 5.44l.94 2.06.94-2.06 2.06-.94-2.06-.94-.94-2.06-.94 2.06-2.06.94zm-11 1L8.5 8.5l.94-2.06 2.06-.94-2.06-.94L8.5 2.5l-.94 2.06-2.06.94zm10 10l.94 2.06.94-2.06 2.06-.94-2.06-.94-.94-2.06-.94 2.06-2.06.94z\"/><path d=\"M17.41 7.96l-1.37-1.37c-.4-.4-.92-.59-1.43-.59-.52 0-1.04.2-1.43.59L10.3 9.45l-7.72 7.72c-.78.78-.78 2.05 0 2.83L4 21.41c.39.39.9.59 1.41.59.51 0 1.02-.2 1.41-.59l7.78-7.78 2.81-2.81c.8-.78.8-2.07 0-2.86zM5.41 20L4 18.59l7.72-7.72 1.47 1.35L5.41 20z\"/>\n",
              "  </svg>\n",
              "      </button>\n",
              "      \n",
              "  <style>\n",
              "    .colab-df-container {\n",
              "      display:flex;\n",
              "      flex-wrap:wrap;\n",
              "      gap: 12px;\n",
              "    }\n",
              "\n",
              "    .colab-df-convert {\n",
              "      background-color: #E8F0FE;\n",
              "      border: none;\n",
              "      border-radius: 50%;\n",
              "      cursor: pointer;\n",
              "      display: none;\n",
              "      fill: #1967D2;\n",
              "      height: 32px;\n",
              "      padding: 0 0 0 0;\n",
              "      width: 32px;\n",
              "    }\n",
              "\n",
              "    .colab-df-convert:hover {\n",
              "      background-color: #E2EBFA;\n",
              "      box-shadow: 0px 1px 2px rgba(60, 64, 67, 0.3), 0px 1px 3px 1px rgba(60, 64, 67, 0.15);\n",
              "      fill: #174EA6;\n",
              "    }\n",
              "\n",
              "    [theme=dark] .colab-df-convert {\n",
              "      background-color: #3B4455;\n",
              "      fill: #D2E3FC;\n",
              "    }\n",
              "\n",
              "    [theme=dark] .colab-df-convert:hover {\n",
              "      background-color: #434B5C;\n",
              "      box-shadow: 0px 1px 3px 1px rgba(0, 0, 0, 0.15);\n",
              "      filter: drop-shadow(0px 1px 2px rgba(0, 0, 0, 0.3));\n",
              "      fill: #FFFFFF;\n",
              "    }\n",
              "  </style>\n",
              "\n",
              "      <script>\n",
              "        const buttonEl =\n",
              "          document.querySelector('#df-3c90b92c-eec4-4800-bc11-ef3c9aada89c button.colab-df-convert');\n",
              "        buttonEl.style.display =\n",
              "          google.colab.kernel.accessAllowed ? 'block' : 'none';\n",
              "\n",
              "        async function convertToInteractive(key) {\n",
              "          const element = document.querySelector('#df-3c90b92c-eec4-4800-bc11-ef3c9aada89c');\n",
              "          const dataTable =\n",
              "            await google.colab.kernel.invokeFunction('convertToInteractive',\n",
              "                                                     [key], {});\n",
              "          if (!dataTable) return;\n",
              "\n",
              "          const docLinkHtml = 'Like what you see? Visit the ' +\n",
              "            '<a target=\"_blank\" href=https://colab.research.google.com/notebooks/data_table.ipynb>data table notebook</a>'\n",
              "            + ' to learn more about interactive tables.';\n",
              "          element.innerHTML = '';\n",
              "          dataTable['output_type'] = 'display_data';\n",
              "          await google.colab.output.renderOutput(dataTable, element);\n",
              "          const docLink = document.createElement('div');\n",
              "          docLink.innerHTML = docLinkHtml;\n",
              "          element.appendChild(docLink);\n",
              "        }\n",
              "      </script>\n",
              "    </div>\n",
              "  </div>\n",
              "  "
            ]
          },
          "metadata": {},
          "execution_count": 123
        }
      ]
    },
    {
      "cell_type": "code",
      "source": [
        "# to calculte model score\n",
        "\n",
        "R2_score=model.score(x_train, y_train)\n",
        "print(R2_score)\n"
      ],
      "metadata": {
        "colab": {
          "base_uri": "https://localhost:8080/"
        },
        "id": "W5YOxUzEzPew",
        "outputId": "8147fe28-9b28-4ed1-cd12-9e3ee8ab37b7"
      },
      "execution_count": 124,
      "outputs": [
        {
          "output_type": "stream",
          "name": "stdout",
          "text": [
            "0.40420557686340064\n"
          ]
        }
      ]
    },
    {
      "cell_type": "markdown",
      "source": [
        "The model R2 score is less than 0.8 and there is no correlation between values"
      ],
      "metadata": {
        "id": "OhMYZ4ghzfkD"
      }
    },
    {
      "cell_type": "code",
      "source": [
        ""
      ],
      "metadata": {
        "id": "cPldYceAz1zJ"
      },
      "execution_count": null,
      "outputs": []
    },
    {
      "cell_type": "markdown",
      "source": [
        "The combination of the factors that is the best predictor for price."
      ],
      "metadata": {
        "id": "0hGWVmFzz2um"
      }
    },
    {
      "cell_type": "code",
      "source": [
        "x=df[['Cylinder']].values\n",
        "\n",
        "y=df['Price'].values\n"
      ],
      "metadata": {
        "id": "9Is1kzMZD_Ey"
      },
      "execution_count": 50,
      "outputs": []
    },
    {
      "cell_type": "code",
      "source": [
        "#this is the import statment for splitting\n",
        "from sklearn.model_selection import train_test_split   \n",
        "x_train, x_test, y_train, y_test =train_test_split(x,y,test_size=0.3,random_state=10)"
      ],
      "metadata": {
        "id": "dmMB4W2bD_E0"
      },
      "execution_count": 51,
      "outputs": []
    },
    {
      "cell_type": "code",
      "source": [
        "from sklearn.linear_model import LinearRegression\n",
        "model = LinearRegression()\n",
        "model.fit(x_train, y_train)"
      ],
      "metadata": {
        "colab": {
          "base_uri": "https://localhost:8080/"
        },
        "outputId": "afbce8e6-a87b-4ca7-d875-44d8b8d3a598",
        "id": "CqZagYx0D_E1"
      },
      "execution_count": 52,
      "outputs": [
        {
          "output_type": "execute_result",
          "data": {
            "text/plain": [
              "LinearRegression()"
            ]
          },
          "metadata": {},
          "execution_count": 52
        }
      ]
    },
    {
      "cell_type": "code",
      "source": [
        "print('intercept(c) is',model.intercept_)\n",
        "print('slope(m) is',model.coef_)"
      ],
      "metadata": {
        "colab": {
          "base_uri": "https://localhost:8080/"
        },
        "outputId": "60a9b826-bcbe-46b5-fee4-0c70c418868b",
        "id": "xR7e1ZGkD_E2"
      },
      "execution_count": 53,
      "outputs": [
        {
          "output_type": "stream",
          "name": "stdout",
          "text": [
            "intercept(c) is 343.4014696924387\n",
            "slope(m) is [3994.28782737]\n"
          ]
        }
      ]
    },
    {
      "cell_type": "code",
      "source": [
        "y_pred = model.predict(x_test)\n",
        "y_pred"
      ],
      "metadata": {
        "colab": {
          "base_uri": "https://localhost:8080/"
        },
        "outputId": "ae8ba5ee-6085-4fba-de10-b0cbc9c8af44",
        "id": "VMQUxq-PD_E2"
      },
      "execution_count": 54,
      "outputs": [
        {
          "output_type": "execute_result",
          "data": {
            "text/plain": [
              "array([16320.55277919, 16320.55277919, 24309.12843394, 16320.55277919,\n",
              "       16320.55277919, 24309.12843394, 16320.55277919, 24309.12843394,\n",
              "       16320.55277919, 16320.55277919, 24309.12843394, 16320.55277919,\n",
              "       16320.55277919, 16320.55277919, 32297.70408868, 16320.55277919,\n",
              "       24309.12843394, 16320.55277919, 16320.55277919, 16320.55277919,\n",
              "       24309.12843394, 16320.55277919, 24309.12843394, 16320.55277919,\n",
              "       32297.70408868, 24309.12843394, 16320.55277919, 16320.55277919,\n",
              "       16320.55277919, 24309.12843394, 16320.55277919, 16320.55277919,\n",
              "       16320.55277919, 16320.55277919, 16320.55277919, 24309.12843394,\n",
              "       16320.55277919, 24309.12843394, 32297.70408868, 24309.12843394,\n",
              "       32297.70408868, 16320.55277919, 16320.55277919, 24309.12843394,\n",
              "       24309.12843394, 24309.12843394, 16320.55277919, 16320.55277919,\n",
              "       16320.55277919, 24309.12843394, 24309.12843394, 16320.55277919,\n",
              "       32297.70408868, 24309.12843394, 32297.70408868, 16320.55277919,\n",
              "       16320.55277919, 16320.55277919, 16320.55277919, 16320.55277919,\n",
              "       16320.55277919, 16320.55277919, 16320.55277919, 16320.55277919,\n",
              "       24309.12843394, 32297.70408868, 24309.12843394, 24309.12843394,\n",
              "       16320.55277919, 16320.55277919, 16320.55277919, 16320.55277919,\n",
              "       24309.12843394, 16320.55277919, 24309.12843394, 16320.55277919,\n",
              "       24309.12843394, 32297.70408868, 16320.55277919, 16320.55277919,\n",
              "       16320.55277919, 24309.12843394, 16320.55277919, 24309.12843394,\n",
              "       32297.70408868, 16320.55277919, 16320.55277919, 16320.55277919,\n",
              "       16320.55277919, 16320.55277919, 24309.12843394, 16320.55277919,\n",
              "       32297.70408868, 24309.12843394, 16320.55277919, 16320.55277919,\n",
              "       16320.55277919, 32297.70408868, 16320.55277919, 16320.55277919,\n",
              "       24309.12843394, 16320.55277919, 16320.55277919, 16320.55277919,\n",
              "       16320.55277919, 16320.55277919, 24309.12843394, 16320.55277919,\n",
              "       24309.12843394, 24309.12843394, 24309.12843394, 24309.12843394,\n",
              "       24309.12843394, 16320.55277919, 16320.55277919, 24309.12843394,\n",
              "       24309.12843394, 32297.70408868, 16320.55277919, 16320.55277919,\n",
              "       16320.55277919, 32297.70408868, 16320.55277919, 24309.12843394,\n",
              "       16320.55277919, 24309.12843394, 16320.55277919, 16320.55277919,\n",
              "       16320.55277919, 16320.55277919, 24309.12843394, 24309.12843394,\n",
              "       32297.70408868, 16320.55277919, 16320.55277919, 16320.55277919,\n",
              "       24309.12843394, 32297.70408868, 32297.70408868, 32297.70408868,\n",
              "       24309.12843394, 24309.12843394, 24309.12843394, 16320.55277919,\n",
              "       24309.12843394, 16320.55277919, 16320.55277919, 24309.12843394,\n",
              "       16320.55277919, 16320.55277919, 16320.55277919, 24309.12843394,\n",
              "       32297.70408868, 24309.12843394, 32297.70408868, 24309.12843394,\n",
              "       32297.70408868, 16320.55277919, 16320.55277919, 32297.70408868,\n",
              "       24309.12843394, 24309.12843394, 16320.55277919, 16320.55277919,\n",
              "       24309.12843394, 16320.55277919, 16320.55277919, 24309.12843394,\n",
              "       16320.55277919, 16320.55277919, 16320.55277919, 24309.12843394,\n",
              "       24309.12843394, 16320.55277919, 24309.12843394, 24309.12843394,\n",
              "       32297.70408868, 24309.12843394, 16320.55277919, 24309.12843394,\n",
              "       24309.12843394, 24309.12843394, 16320.55277919, 24309.12843394,\n",
              "       24309.12843394, 16320.55277919, 16320.55277919, 16320.55277919,\n",
              "       32297.70408868, 16320.55277919, 32297.70408868, 16320.55277919,\n",
              "       16320.55277919, 16320.55277919, 16320.55277919, 16320.55277919,\n",
              "       16320.55277919, 16320.55277919, 16320.55277919, 32297.70408868,\n",
              "       16320.55277919, 24309.12843394, 24309.12843394, 24309.12843394,\n",
              "       32297.70408868, 16320.55277919, 16320.55277919, 16320.55277919,\n",
              "       24309.12843394, 24309.12843394, 16320.55277919, 24309.12843394,\n",
              "       32297.70408868, 24309.12843394, 24309.12843394, 16320.55277919,\n",
              "       16320.55277919, 16320.55277919, 24309.12843394, 24309.12843394,\n",
              "       16320.55277919, 24309.12843394, 32297.70408868, 24309.12843394,\n",
              "       24309.12843394, 16320.55277919, 16320.55277919, 16320.55277919,\n",
              "       16320.55277919, 16320.55277919, 16320.55277919, 24309.12843394,\n",
              "       24309.12843394, 16320.55277919, 24309.12843394, 16320.55277919,\n",
              "       24309.12843394, 24309.12843394, 16320.55277919, 24309.12843394,\n",
              "       24309.12843394, 16320.55277919])"
            ]
          },
          "metadata": {},
          "execution_count": 54
        }
      ]
    },
    {
      "cell_type": "code",
      "source": [
        "df_pred = pd.DataFrame({'Actual': y_test, 'Predicted':y_pred})\n",
        "df_pred.head()\n"
      ],
      "metadata": {
        "colab": {
          "base_uri": "https://localhost:8080/",
          "height": 206
        },
        "outputId": "dba11834-6113-486d-db8d-70fffeaeb38a",
        "id": "HXtT_27RD_E3"
      },
      "execution_count": 55,
      "outputs": [
        {
          "output_type": "execute_result",
          "data": {
            "text/plain": [
              "         Actual     Predicted\n",
              "0  11045.108844  16320.552779\n",
              "1  12045.920705  16320.552779\n",
              "2  14703.136868  24309.128434\n",
              "3  15053.933735  16320.552779\n",
              "4  12553.071428  16320.552779"
            ],
            "text/html": [
              "\n",
              "  <div id=\"df-e7a87adc-6044-4326-b200-b28c4a215846\">\n",
              "    <div class=\"colab-df-container\">\n",
              "      <div>\n",
              "<style scoped>\n",
              "    .dataframe tbody tr th:only-of-type {\n",
              "        vertical-align: middle;\n",
              "    }\n",
              "\n",
              "    .dataframe tbody tr th {\n",
              "        vertical-align: top;\n",
              "    }\n",
              "\n",
              "    .dataframe thead th {\n",
              "        text-align: right;\n",
              "    }\n",
              "</style>\n",
              "<table border=\"1\" class=\"dataframe\">\n",
              "  <thead>\n",
              "    <tr style=\"text-align: right;\">\n",
              "      <th></th>\n",
              "      <th>Actual</th>\n",
              "      <th>Predicted</th>\n",
              "    </tr>\n",
              "  </thead>\n",
              "  <tbody>\n",
              "    <tr>\n",
              "      <th>0</th>\n",
              "      <td>11045.108844</td>\n",
              "      <td>16320.552779</td>\n",
              "    </tr>\n",
              "    <tr>\n",
              "      <th>1</th>\n",
              "      <td>12045.920705</td>\n",
              "      <td>16320.552779</td>\n",
              "    </tr>\n",
              "    <tr>\n",
              "      <th>2</th>\n",
              "      <td>14703.136868</td>\n",
              "      <td>24309.128434</td>\n",
              "    </tr>\n",
              "    <tr>\n",
              "      <th>3</th>\n",
              "      <td>15053.933735</td>\n",
              "      <td>16320.552779</td>\n",
              "    </tr>\n",
              "    <tr>\n",
              "      <th>4</th>\n",
              "      <td>12553.071428</td>\n",
              "      <td>16320.552779</td>\n",
              "    </tr>\n",
              "  </tbody>\n",
              "</table>\n",
              "</div>\n",
              "      <button class=\"colab-df-convert\" onclick=\"convertToInteractive('df-e7a87adc-6044-4326-b200-b28c4a215846')\"\n",
              "              title=\"Convert this dataframe to an interactive table.\"\n",
              "              style=\"display:none;\">\n",
              "        \n",
              "  <svg xmlns=\"http://www.w3.org/2000/svg\" height=\"24px\"viewBox=\"0 0 24 24\"\n",
              "       width=\"24px\">\n",
              "    <path d=\"M0 0h24v24H0V0z\" fill=\"none\"/>\n",
              "    <path d=\"M18.56 5.44l.94 2.06.94-2.06 2.06-.94-2.06-.94-.94-2.06-.94 2.06-2.06.94zm-11 1L8.5 8.5l.94-2.06 2.06-.94-2.06-.94L8.5 2.5l-.94 2.06-2.06.94zm10 10l.94 2.06.94-2.06 2.06-.94-2.06-.94-.94-2.06-.94 2.06-2.06.94z\"/><path d=\"M17.41 7.96l-1.37-1.37c-.4-.4-.92-.59-1.43-.59-.52 0-1.04.2-1.43.59L10.3 9.45l-7.72 7.72c-.78.78-.78 2.05 0 2.83L4 21.41c.39.39.9.59 1.41.59.51 0 1.02-.2 1.41-.59l7.78-7.78 2.81-2.81c.8-.78.8-2.07 0-2.86zM5.41 20L4 18.59l7.72-7.72 1.47 1.35L5.41 20z\"/>\n",
              "  </svg>\n",
              "      </button>\n",
              "      \n",
              "  <style>\n",
              "    .colab-df-container {\n",
              "      display:flex;\n",
              "      flex-wrap:wrap;\n",
              "      gap: 12px;\n",
              "    }\n",
              "\n",
              "    .colab-df-convert {\n",
              "      background-color: #E8F0FE;\n",
              "      border: none;\n",
              "      border-radius: 50%;\n",
              "      cursor: pointer;\n",
              "      display: none;\n",
              "      fill: #1967D2;\n",
              "      height: 32px;\n",
              "      padding: 0 0 0 0;\n",
              "      width: 32px;\n",
              "    }\n",
              "\n",
              "    .colab-df-convert:hover {\n",
              "      background-color: #E2EBFA;\n",
              "      box-shadow: 0px 1px 2px rgba(60, 64, 67, 0.3), 0px 1px 3px 1px rgba(60, 64, 67, 0.15);\n",
              "      fill: #174EA6;\n",
              "    }\n",
              "\n",
              "    [theme=dark] .colab-df-convert {\n",
              "      background-color: #3B4455;\n",
              "      fill: #D2E3FC;\n",
              "    }\n",
              "\n",
              "    [theme=dark] .colab-df-convert:hover {\n",
              "      background-color: #434B5C;\n",
              "      box-shadow: 0px 1px 3px 1px rgba(0, 0, 0, 0.15);\n",
              "      filter: drop-shadow(0px 1px 2px rgba(0, 0, 0, 0.3));\n",
              "      fill: #FFFFFF;\n",
              "    }\n",
              "  </style>\n",
              "\n",
              "      <script>\n",
              "        const buttonEl =\n",
              "          document.querySelector('#df-e7a87adc-6044-4326-b200-b28c4a215846 button.colab-df-convert');\n",
              "        buttonEl.style.display =\n",
              "          google.colab.kernel.accessAllowed ? 'block' : 'none';\n",
              "\n",
              "        async function convertToInteractive(key) {\n",
              "          const element = document.querySelector('#df-e7a87adc-6044-4326-b200-b28c4a215846');\n",
              "          const dataTable =\n",
              "            await google.colab.kernel.invokeFunction('convertToInteractive',\n",
              "                                                     [key], {});\n",
              "          if (!dataTable) return;\n",
              "\n",
              "          const docLinkHtml = 'Like what you see? Visit the ' +\n",
              "            '<a target=\"_blank\" href=https://colab.research.google.com/notebooks/data_table.ipynb>data table notebook</a>'\n",
              "            + ' to learn more about interactive tables.';\n",
              "          element.innerHTML = '';\n",
              "          dataTable['output_type'] = 'display_data';\n",
              "          await google.colab.output.renderOutput(dataTable, element);\n",
              "          const docLink = document.createElement('div');\n",
              "          docLink.innerHTML = docLinkHtml;\n",
              "          element.appendChild(docLink);\n",
              "        }\n",
              "      </script>\n",
              "    </div>\n",
              "  </div>\n",
              "  "
            ]
          },
          "metadata": {},
          "execution_count": 55
        }
      ]
    },
    {
      "cell_type": "code",
      "source": [
        "# to calculte model score\n",
        "\n",
        "R2_score=model.score(x_train, y_train)\n",
        "print(R2_score)\n"
      ],
      "metadata": {
        "colab": {
          "base_uri": "https://localhost:8080/"
        },
        "outputId": "1383eeb9-7575-41c2-aec3-b4044246b231",
        "id": "43zvs4vRD_E4"
      },
      "execution_count": 56,
      "outputs": [
        {
          "output_type": "stream",
          "name": "stdout",
          "text": [
            "0.3169773147003052\n"
          ]
        }
      ]
    },
    {
      "cell_type": "markdown",
      "source": [
        "The model R2 score is less than 0.8 and there is no correlation between values\n"
      ],
      "metadata": {
        "id": "3whZ1DoLGnXv"
      }
    },
    {
      "cell_type": "code",
      "source": [
        "df.head()"
      ],
      "metadata": {
        "colab": {
          "base_uri": "https://localhost:8080/",
          "height": 206
        },
        "id": "Z9L795SFHazm",
        "outputId": "ece8f481-3030-44cf-911e-f975efeeffde"
      },
      "execution_count": 57,
      "outputs": [
        {
          "output_type": "execute_result",
          "data": {
            "text/plain": [
              "          Price  Mileage   Make    Model      Trim   Type  Cylinder  Liter  \\\n",
              "0  17314.103129     8221  Buick  Century  Sedan 4D  Sedan         6    3.1   \n",
              "1  17542.036083     9135  Buick  Century  Sedan 4D  Sedan         6    3.1   \n",
              "2  16218.847862    13196  Buick  Century  Sedan 4D  Sedan         6    3.1   \n",
              "3  16336.913140    16342  Buick  Century  Sedan 4D  Sedan         6    3.1   \n",
              "4  16339.170324    19832  Buick  Century  Sedan 4D  Sedan         6    3.1   \n",
              "\n",
              "   Doors  Cruise  Sound  Leather  \n",
              "0      4       1      1        1  \n",
              "1      4       1      1        0  \n",
              "2      4       1      1        0  \n",
              "3      4       1      0        0  \n",
              "4      4       1      0        1  "
            ],
            "text/html": [
              "\n",
              "  <div id=\"df-457343b6-e3a2-45ca-bd6a-59a156bbe785\">\n",
              "    <div class=\"colab-df-container\">\n",
              "      <div>\n",
              "<style scoped>\n",
              "    .dataframe tbody tr th:only-of-type {\n",
              "        vertical-align: middle;\n",
              "    }\n",
              "\n",
              "    .dataframe tbody tr th {\n",
              "        vertical-align: top;\n",
              "    }\n",
              "\n",
              "    .dataframe thead th {\n",
              "        text-align: right;\n",
              "    }\n",
              "</style>\n",
              "<table border=\"1\" class=\"dataframe\">\n",
              "  <thead>\n",
              "    <tr style=\"text-align: right;\">\n",
              "      <th></th>\n",
              "      <th>Price</th>\n",
              "      <th>Mileage</th>\n",
              "      <th>Make</th>\n",
              "      <th>Model</th>\n",
              "      <th>Trim</th>\n",
              "      <th>Type</th>\n",
              "      <th>Cylinder</th>\n",
              "      <th>Liter</th>\n",
              "      <th>Doors</th>\n",
              "      <th>Cruise</th>\n",
              "      <th>Sound</th>\n",
              "      <th>Leather</th>\n",
              "    </tr>\n",
              "  </thead>\n",
              "  <tbody>\n",
              "    <tr>\n",
              "      <th>0</th>\n",
              "      <td>17314.103129</td>\n",
              "      <td>8221</td>\n",
              "      <td>Buick</td>\n",
              "      <td>Century</td>\n",
              "      <td>Sedan 4D</td>\n",
              "      <td>Sedan</td>\n",
              "      <td>6</td>\n",
              "      <td>3.1</td>\n",
              "      <td>4</td>\n",
              "      <td>1</td>\n",
              "      <td>1</td>\n",
              "      <td>1</td>\n",
              "    </tr>\n",
              "    <tr>\n",
              "      <th>1</th>\n",
              "      <td>17542.036083</td>\n",
              "      <td>9135</td>\n",
              "      <td>Buick</td>\n",
              "      <td>Century</td>\n",
              "      <td>Sedan 4D</td>\n",
              "      <td>Sedan</td>\n",
              "      <td>6</td>\n",
              "      <td>3.1</td>\n",
              "      <td>4</td>\n",
              "      <td>1</td>\n",
              "      <td>1</td>\n",
              "      <td>0</td>\n",
              "    </tr>\n",
              "    <tr>\n",
              "      <th>2</th>\n",
              "      <td>16218.847862</td>\n",
              "      <td>13196</td>\n",
              "      <td>Buick</td>\n",
              "      <td>Century</td>\n",
              "      <td>Sedan 4D</td>\n",
              "      <td>Sedan</td>\n",
              "      <td>6</td>\n",
              "      <td>3.1</td>\n",
              "      <td>4</td>\n",
              "      <td>1</td>\n",
              "      <td>1</td>\n",
              "      <td>0</td>\n",
              "    </tr>\n",
              "    <tr>\n",
              "      <th>3</th>\n",
              "      <td>16336.913140</td>\n",
              "      <td>16342</td>\n",
              "      <td>Buick</td>\n",
              "      <td>Century</td>\n",
              "      <td>Sedan 4D</td>\n",
              "      <td>Sedan</td>\n",
              "      <td>6</td>\n",
              "      <td>3.1</td>\n",
              "      <td>4</td>\n",
              "      <td>1</td>\n",
              "      <td>0</td>\n",
              "      <td>0</td>\n",
              "    </tr>\n",
              "    <tr>\n",
              "      <th>4</th>\n",
              "      <td>16339.170324</td>\n",
              "      <td>19832</td>\n",
              "      <td>Buick</td>\n",
              "      <td>Century</td>\n",
              "      <td>Sedan 4D</td>\n",
              "      <td>Sedan</td>\n",
              "      <td>6</td>\n",
              "      <td>3.1</td>\n",
              "      <td>4</td>\n",
              "      <td>1</td>\n",
              "      <td>0</td>\n",
              "      <td>1</td>\n",
              "    </tr>\n",
              "  </tbody>\n",
              "</table>\n",
              "</div>\n",
              "      <button class=\"colab-df-convert\" onclick=\"convertToInteractive('df-457343b6-e3a2-45ca-bd6a-59a156bbe785')\"\n",
              "              title=\"Convert this dataframe to an interactive table.\"\n",
              "              style=\"display:none;\">\n",
              "        \n",
              "  <svg xmlns=\"http://www.w3.org/2000/svg\" height=\"24px\"viewBox=\"0 0 24 24\"\n",
              "       width=\"24px\">\n",
              "    <path d=\"M0 0h24v24H0V0z\" fill=\"none\"/>\n",
              "    <path d=\"M18.56 5.44l.94 2.06.94-2.06 2.06-.94-2.06-.94-.94-2.06-.94 2.06-2.06.94zm-11 1L8.5 8.5l.94-2.06 2.06-.94-2.06-.94L8.5 2.5l-.94 2.06-2.06.94zm10 10l.94 2.06.94-2.06 2.06-.94-2.06-.94-.94-2.06-.94 2.06-2.06.94z\"/><path d=\"M17.41 7.96l-1.37-1.37c-.4-.4-.92-.59-1.43-.59-.52 0-1.04.2-1.43.59L10.3 9.45l-7.72 7.72c-.78.78-.78 2.05 0 2.83L4 21.41c.39.39.9.59 1.41.59.51 0 1.02-.2 1.41-.59l7.78-7.78 2.81-2.81c.8-.78.8-2.07 0-2.86zM5.41 20L4 18.59l7.72-7.72 1.47 1.35L5.41 20z\"/>\n",
              "  </svg>\n",
              "      </button>\n",
              "      \n",
              "  <style>\n",
              "    .colab-df-container {\n",
              "      display:flex;\n",
              "      flex-wrap:wrap;\n",
              "      gap: 12px;\n",
              "    }\n",
              "\n",
              "    .colab-df-convert {\n",
              "      background-color: #E8F0FE;\n",
              "      border: none;\n",
              "      border-radius: 50%;\n",
              "      cursor: pointer;\n",
              "      display: none;\n",
              "      fill: #1967D2;\n",
              "      height: 32px;\n",
              "      padding: 0 0 0 0;\n",
              "      width: 32px;\n",
              "    }\n",
              "\n",
              "    .colab-df-convert:hover {\n",
              "      background-color: #E2EBFA;\n",
              "      box-shadow: 0px 1px 2px rgba(60, 64, 67, 0.3), 0px 1px 3px 1px rgba(60, 64, 67, 0.15);\n",
              "      fill: #174EA6;\n",
              "    }\n",
              "\n",
              "    [theme=dark] .colab-df-convert {\n",
              "      background-color: #3B4455;\n",
              "      fill: #D2E3FC;\n",
              "    }\n",
              "\n",
              "    [theme=dark] .colab-df-convert:hover {\n",
              "      background-color: #434B5C;\n",
              "      box-shadow: 0px 1px 3px 1px rgba(0, 0, 0, 0.15);\n",
              "      filter: drop-shadow(0px 1px 2px rgba(0, 0, 0, 0.3));\n",
              "      fill: #FFFFFF;\n",
              "    }\n",
              "  </style>\n",
              "\n",
              "      <script>\n",
              "        const buttonEl =\n",
              "          document.querySelector('#df-457343b6-e3a2-45ca-bd6a-59a156bbe785 button.colab-df-convert');\n",
              "        buttonEl.style.display =\n",
              "          google.colab.kernel.accessAllowed ? 'block' : 'none';\n",
              "\n",
              "        async function convertToInteractive(key) {\n",
              "          const element = document.querySelector('#df-457343b6-e3a2-45ca-bd6a-59a156bbe785');\n",
              "          const dataTable =\n",
              "            await google.colab.kernel.invokeFunction('convertToInteractive',\n",
              "                                                     [key], {});\n",
              "          if (!dataTable) return;\n",
              "\n",
              "          const docLinkHtml = 'Like what you see? Visit the ' +\n",
              "            '<a target=\"_blank\" href=https://colab.research.google.com/notebooks/data_table.ipynb>data table notebook</a>'\n",
              "            + ' to learn more about interactive tables.';\n",
              "          element.innerHTML = '';\n",
              "          dataTable['output_type'] = 'display_data';\n",
              "          await google.colab.output.renderOutput(dataTable, element);\n",
              "          const docLink = document.createElement('div');\n",
              "          docLink.innerHTML = docLinkHtml;\n",
              "          element.appendChild(docLink);\n",
              "        }\n",
              "      </script>\n",
              "    </div>\n",
              "  </div>\n",
              "  "
            ]
          },
          "metadata": {},
          "execution_count": 57
        }
      ]
    },
    {
      "cell_type": "code",
      "source": [
        "# Import LabelEncoder\n",
        "from sklearn import preprocessing\n",
        "import pandas as pd\n",
        "#creating labelEncoder\n",
        "le = preprocessing.LabelEncoder()\n",
        "# Converting string labels into numbers.\n",
        " \n",
        "df[\"Make\"]=le.fit_transform(df[\"Make\"])\n",
        "df[\"Model\"]=le.fit_transform(df[\"Model\"])\n",
        "df[\"Trim\"]=le.fit_transform(df[\"Trim\"])\n",
        "df[\"Type\"]=le.fit_transform(df[\"Type\"])\n"
      ],
      "metadata": {
        "id": "K4uaPHo5jt7m"
      },
      "execution_count": 58,
      "outputs": []
    },
    {
      "cell_type": "code",
      "source": [
        "df.info()"
      ],
      "metadata": {
        "colab": {
          "base_uri": "https://localhost:8080/"
        },
        "id": "vaZCFYC8NCYs",
        "outputId": "9af63174-08b5-4a9b-f211-baddf9b0d20c"
      },
      "execution_count": 59,
      "outputs": [
        {
          "output_type": "stream",
          "name": "stdout",
          "text": [
            "<class 'pandas.core.frame.DataFrame'>\n",
            "RangeIndex: 804 entries, 0 to 803\n",
            "Data columns (total 12 columns):\n",
            " #   Column    Non-Null Count  Dtype  \n",
            "---  ------    --------------  -----  \n",
            " 0   Price     804 non-null    float64\n",
            " 1   Mileage   804 non-null    int64  \n",
            " 2   Make      804 non-null    int64  \n",
            " 3   Model     804 non-null    int64  \n",
            " 4   Trim      804 non-null    int64  \n",
            " 5   Type      804 non-null    int64  \n",
            " 6   Cylinder  804 non-null    int64  \n",
            " 7   Liter     804 non-null    float64\n",
            " 8   Doors     804 non-null    int64  \n",
            " 9   Cruise    804 non-null    int64  \n",
            " 10  Sound     804 non-null    int64  \n",
            " 11  Leather   804 non-null    int64  \n",
            "dtypes: float64(2), int64(10)\n",
            "memory usage: 75.5 KB\n"
          ]
        }
      ]
    },
    {
      "cell_type": "code",
      "source": [
        "df.head()"
      ],
      "metadata": {
        "colab": {
          "base_uri": "https://localhost:8080/",
          "height": 206
        },
        "id": "3BtTiaivjt-U",
        "outputId": "a0d2005d-0a66-4e93-e8b1-2a27b229e2b4"
      },
      "execution_count": 60,
      "outputs": [
        {
          "output_type": "execute_result",
          "data": {
            "text/plain": [
              "          Price  Mileage  Make  Model  Trim  Type  Cylinder  Liter  Doors  \\\n",
              "0  17314.103129     8221     0     10    44     3         6    3.1      4   \n",
              "1  17542.036083     9135     0     10    44     3         6    3.1      4   \n",
              "2  16218.847862    13196     0     10    44     3         6    3.1      4   \n",
              "3  16336.913140    16342     0     10    44     3         6    3.1      4   \n",
              "4  16339.170324    19832     0     10    44     3         6    3.1      4   \n",
              "\n",
              "   Cruise  Sound  Leather  \n",
              "0       1      1        1  \n",
              "1       1      1        0  \n",
              "2       1      1        0  \n",
              "3       1      0        0  \n",
              "4       1      0        1  "
            ],
            "text/html": [
              "\n",
              "  <div id=\"df-6c04091d-5b12-4858-9c08-52191c1335ed\">\n",
              "    <div class=\"colab-df-container\">\n",
              "      <div>\n",
              "<style scoped>\n",
              "    .dataframe tbody tr th:only-of-type {\n",
              "        vertical-align: middle;\n",
              "    }\n",
              "\n",
              "    .dataframe tbody tr th {\n",
              "        vertical-align: top;\n",
              "    }\n",
              "\n",
              "    .dataframe thead th {\n",
              "        text-align: right;\n",
              "    }\n",
              "</style>\n",
              "<table border=\"1\" class=\"dataframe\">\n",
              "  <thead>\n",
              "    <tr style=\"text-align: right;\">\n",
              "      <th></th>\n",
              "      <th>Price</th>\n",
              "      <th>Mileage</th>\n",
              "      <th>Make</th>\n",
              "      <th>Model</th>\n",
              "      <th>Trim</th>\n",
              "      <th>Type</th>\n",
              "      <th>Cylinder</th>\n",
              "      <th>Liter</th>\n",
              "      <th>Doors</th>\n",
              "      <th>Cruise</th>\n",
              "      <th>Sound</th>\n",
              "      <th>Leather</th>\n",
              "    </tr>\n",
              "  </thead>\n",
              "  <tbody>\n",
              "    <tr>\n",
              "      <th>0</th>\n",
              "      <td>17314.103129</td>\n",
              "      <td>8221</td>\n",
              "      <td>0</td>\n",
              "      <td>10</td>\n",
              "      <td>44</td>\n",
              "      <td>3</td>\n",
              "      <td>6</td>\n",
              "      <td>3.1</td>\n",
              "      <td>4</td>\n",
              "      <td>1</td>\n",
              "      <td>1</td>\n",
              "      <td>1</td>\n",
              "    </tr>\n",
              "    <tr>\n",
              "      <th>1</th>\n",
              "      <td>17542.036083</td>\n",
              "      <td>9135</td>\n",
              "      <td>0</td>\n",
              "      <td>10</td>\n",
              "      <td>44</td>\n",
              "      <td>3</td>\n",
              "      <td>6</td>\n",
              "      <td>3.1</td>\n",
              "      <td>4</td>\n",
              "      <td>1</td>\n",
              "      <td>1</td>\n",
              "      <td>0</td>\n",
              "    </tr>\n",
              "    <tr>\n",
              "      <th>2</th>\n",
              "      <td>16218.847862</td>\n",
              "      <td>13196</td>\n",
              "      <td>0</td>\n",
              "      <td>10</td>\n",
              "      <td>44</td>\n",
              "      <td>3</td>\n",
              "      <td>6</td>\n",
              "      <td>3.1</td>\n",
              "      <td>4</td>\n",
              "      <td>1</td>\n",
              "      <td>1</td>\n",
              "      <td>0</td>\n",
              "    </tr>\n",
              "    <tr>\n",
              "      <th>3</th>\n",
              "      <td>16336.913140</td>\n",
              "      <td>16342</td>\n",
              "      <td>0</td>\n",
              "      <td>10</td>\n",
              "      <td>44</td>\n",
              "      <td>3</td>\n",
              "      <td>6</td>\n",
              "      <td>3.1</td>\n",
              "      <td>4</td>\n",
              "      <td>1</td>\n",
              "      <td>0</td>\n",
              "      <td>0</td>\n",
              "    </tr>\n",
              "    <tr>\n",
              "      <th>4</th>\n",
              "      <td>16339.170324</td>\n",
              "      <td>19832</td>\n",
              "      <td>0</td>\n",
              "      <td>10</td>\n",
              "      <td>44</td>\n",
              "      <td>3</td>\n",
              "      <td>6</td>\n",
              "      <td>3.1</td>\n",
              "      <td>4</td>\n",
              "      <td>1</td>\n",
              "      <td>0</td>\n",
              "      <td>1</td>\n",
              "    </tr>\n",
              "  </tbody>\n",
              "</table>\n",
              "</div>\n",
              "      <button class=\"colab-df-convert\" onclick=\"convertToInteractive('df-6c04091d-5b12-4858-9c08-52191c1335ed')\"\n",
              "              title=\"Convert this dataframe to an interactive table.\"\n",
              "              style=\"display:none;\">\n",
              "        \n",
              "  <svg xmlns=\"http://www.w3.org/2000/svg\" height=\"24px\"viewBox=\"0 0 24 24\"\n",
              "       width=\"24px\">\n",
              "    <path d=\"M0 0h24v24H0V0z\" fill=\"none\"/>\n",
              "    <path d=\"M18.56 5.44l.94 2.06.94-2.06 2.06-.94-2.06-.94-.94-2.06-.94 2.06-2.06.94zm-11 1L8.5 8.5l.94-2.06 2.06-.94-2.06-.94L8.5 2.5l-.94 2.06-2.06.94zm10 10l.94 2.06.94-2.06 2.06-.94-2.06-.94-.94-2.06-.94 2.06-2.06.94z\"/><path d=\"M17.41 7.96l-1.37-1.37c-.4-.4-.92-.59-1.43-.59-.52 0-1.04.2-1.43.59L10.3 9.45l-7.72 7.72c-.78.78-.78 2.05 0 2.83L4 21.41c.39.39.9.59 1.41.59.51 0 1.02-.2 1.41-.59l7.78-7.78 2.81-2.81c.8-.78.8-2.07 0-2.86zM5.41 20L4 18.59l7.72-7.72 1.47 1.35L5.41 20z\"/>\n",
              "  </svg>\n",
              "      </button>\n",
              "      \n",
              "  <style>\n",
              "    .colab-df-container {\n",
              "      display:flex;\n",
              "      flex-wrap:wrap;\n",
              "      gap: 12px;\n",
              "    }\n",
              "\n",
              "    .colab-df-convert {\n",
              "      background-color: #E8F0FE;\n",
              "      border: none;\n",
              "      border-radius: 50%;\n",
              "      cursor: pointer;\n",
              "      display: none;\n",
              "      fill: #1967D2;\n",
              "      height: 32px;\n",
              "      padding: 0 0 0 0;\n",
              "      width: 32px;\n",
              "    }\n",
              "\n",
              "    .colab-df-convert:hover {\n",
              "      background-color: #E2EBFA;\n",
              "      box-shadow: 0px 1px 2px rgba(60, 64, 67, 0.3), 0px 1px 3px 1px rgba(60, 64, 67, 0.15);\n",
              "      fill: #174EA6;\n",
              "    }\n",
              "\n",
              "    [theme=dark] .colab-df-convert {\n",
              "      background-color: #3B4455;\n",
              "      fill: #D2E3FC;\n",
              "    }\n",
              "\n",
              "    [theme=dark] .colab-df-convert:hover {\n",
              "      background-color: #434B5C;\n",
              "      box-shadow: 0px 1px 3px 1px rgba(0, 0, 0, 0.15);\n",
              "      filter: drop-shadow(0px 1px 2px rgba(0, 0, 0, 0.3));\n",
              "      fill: #FFFFFF;\n",
              "    }\n",
              "  </style>\n",
              "\n",
              "      <script>\n",
              "        const buttonEl =\n",
              "          document.querySelector('#df-6c04091d-5b12-4858-9c08-52191c1335ed button.colab-df-convert');\n",
              "        buttonEl.style.display =\n",
              "          google.colab.kernel.accessAllowed ? 'block' : 'none';\n",
              "\n",
              "        async function convertToInteractive(key) {\n",
              "          const element = document.querySelector('#df-6c04091d-5b12-4858-9c08-52191c1335ed');\n",
              "          const dataTable =\n",
              "            await google.colab.kernel.invokeFunction('convertToInteractive',\n",
              "                                                     [key], {});\n",
              "          if (!dataTable) return;\n",
              "\n",
              "          const docLinkHtml = 'Like what you see? Visit the ' +\n",
              "            '<a target=\"_blank\" href=https://colab.research.google.com/notebooks/data_table.ipynb>data table notebook</a>'\n",
              "            + ' to learn more about interactive tables.';\n",
              "          element.innerHTML = '';\n",
              "          dataTable['output_type'] = 'display_data';\n",
              "          await google.colab.output.renderOutput(dataTable, element);\n",
              "          const docLink = document.createElement('div');\n",
              "          docLink.innerHTML = docLinkHtml;\n",
              "          element.appendChild(docLink);\n",
              "        }\n",
              "      </script>\n",
              "    </div>\n",
              "  </div>\n",
              "  "
            ]
          },
          "metadata": {},
          "execution_count": 60
        }
      ]
    },
    {
      "cell_type": "code",
      "source": [
        ""
      ],
      "metadata": {
        "id": "R4CoieklHqS7"
      },
      "execution_count": 60,
      "outputs": []
    },
    {
      "cell_type": "code",
      "source": [
        ""
      ],
      "metadata": {
        "id": "opXazfF_HqVv"
      },
      "execution_count": 60,
      "outputs": []
    },
    {
      "cell_type": "code",
      "source": [
        "x=df[['Liter']].values\n",
        "\n",
        "y=df['Price'].values\n"
      ],
      "metadata": {
        "id": "_TMh5anOEEv3"
      },
      "execution_count": 61,
      "outputs": []
    },
    {
      "cell_type": "code",
      "source": [
        "#this is the import statment for splitting\n",
        "from sklearn.model_selection import train_test_split   \n",
        "x_train, x_test, y_train, y_test =train_test_split(x,y,test_size=0.3,random_state=10)"
      ],
      "metadata": {
        "id": "FuSp8V1gEEv4"
      },
      "execution_count": 62,
      "outputs": []
    },
    {
      "cell_type": "code",
      "source": [
        "from sklearn.linear_model import LinearRegression\n",
        "model = LinearRegression()\n",
        "model.fit(x_train, y_train)"
      ],
      "metadata": {
        "colab": {
          "base_uri": "https://localhost:8080/"
        },
        "outputId": "86f6904e-c329-4ad8-c2e8-e8d8f0813561",
        "id": "hsVcHP33EEv4"
      },
      "execution_count": 63,
      "outputs": [
        {
          "output_type": "execute_result",
          "data": {
            "text/plain": [
              "LinearRegression()"
            ]
          },
          "metadata": {},
          "execution_count": 63
        }
      ]
    },
    {
      "cell_type": "code",
      "source": [
        "print('intercept(c) is',model.intercept_)\n",
        "print('slope(m) is',model.coef_)"
      ],
      "metadata": {
        "colab": {
          "base_uri": "https://localhost:8080/"
        },
        "outputId": "fd41414a-c171-4b12-ff61-c9755cb04213",
        "id": "fxVr1sqUEEv5"
      },
      "execution_count": 64,
      "outputs": [
        {
          "output_type": "stream",
          "name": "stdout",
          "text": [
            "intercept(c) is 6485.023429142291\n",
            "slope(m) is [4904.23198461]\n"
          ]
        }
      ]
    },
    {
      "cell_type": "code",
      "source": [
        "y_pred = model.predict(x_test)\n",
        "y_pred"
      ],
      "metadata": {
        "colab": {
          "base_uri": "https://localhost:8080/"
        },
        "outputId": "cef7a40f-76ba-4d07-c6ab-82bdd1feda0d",
        "id": "TCH1qlEOEEv5"
      },
      "execution_count": 65,
      "outputs": [
        {
          "output_type": "execute_result",
          "data": {
            "text/plain": [
              "array([14331.79460452, 17274.33379529, 23159.41217683, 17274.33379529,\n",
              "       17274.33379529, 25121.10497067, 17274.33379529, 23649.83537529,\n",
              "       16293.48739837, 16293.48739837, 25121.10497067, 17274.33379529,\n",
              "       17274.33379529, 17274.33379529, 29044.49055836, 16293.48739837,\n",
              "       23649.83537529, 14331.79460452, 14331.79460452, 17274.33379529,\n",
              "       25121.10497067, 17274.33379529, 25121.10497067, 17764.75699375,\n",
              "       29044.49055836, 24140.25857375, 15312.64100144, 17274.33379529,\n",
              "       16293.48739837, 20216.87298606, 16293.48739837, 17764.75699375,\n",
              "       14331.79460452, 17274.33379529, 14331.79460452, 23159.41217683,\n",
              "       15312.64100144, 25121.10497067, 29044.49055836, 25121.10497067,\n",
              "       29044.49055836, 17274.33379529, 16293.48739837, 25121.10497067,\n",
              "       25121.10497067, 25121.10497067, 17274.33379529, 17274.33379529,\n",
              "       16293.48739837, 25121.10497067, 25121.10497067, 17764.75699375,\n",
              "       35910.41533682, 25121.10497067, 29044.49055836, 17764.75699375,\n",
              "       17764.75699375, 16293.48739837, 15312.64100144, 16293.48739837,\n",
              "       17274.33379529, 14331.79460452, 17274.33379529, 17274.33379529,\n",
              "       25121.10497067, 29044.49055836, 25121.10497067, 25121.10497067,\n",
              "       17274.33379529, 16293.48739837, 17764.75699375, 17764.75699375,\n",
              "       25121.10497067, 17764.75699375, 25121.10497067, 17274.33379529,\n",
              "       23649.83537529, 29044.49055836, 17274.33379529, 17274.33379529,\n",
              "       17274.33379529, 23649.83537529, 17274.33379529, 25121.10497067,\n",
              "       34439.14574143, 17274.33379529, 17274.33379529, 17274.33379529,\n",
              "       17274.33379529, 14331.79460452, 23649.83537529, 17274.33379529,\n",
              "       29044.49055836, 25121.10497067, 16293.48739837, 17764.75699375,\n",
              "       16293.48739837, 29044.49055836, 17274.33379529, 17274.33379529,\n",
              "       25121.10497067, 15312.64100144, 17274.33379529, 17274.33379529,\n",
              "       17274.33379529, 17274.33379529, 23649.83537529, 17274.33379529,\n",
              "       23649.83537529, 25121.10497067, 24140.25857375, 25121.10497067,\n",
              "       23649.83537529, 14331.79460452, 17274.33379529, 24140.25857375,\n",
              "       25121.10497067, 29044.49055836, 17274.33379529, 15312.64100144,\n",
              "       14331.79460452, 35910.41533682, 14331.79460452, 20216.87298606,\n",
              "       17274.33379529, 25121.10497067, 17274.33379529, 17274.33379529,\n",
              "       18745.60339067, 17274.33379529, 23649.83537529, 23649.83537529,\n",
              "       29044.49055836, 17274.33379529, 16293.48739837, 14331.79460452,\n",
              "       25121.10497067, 29044.49055836, 34439.14574143, 34439.14574143,\n",
              "       25121.10497067, 23649.83537529, 25121.10497067, 16293.48739837,\n",
              "       23649.83537529, 17274.33379529, 17274.33379529, 25121.10497067,\n",
              "       14331.79460452, 14331.79460452, 15312.64100144, 25121.10497067,\n",
              "       29044.49055836, 25121.10497067, 34439.14574143, 24140.25857375,\n",
              "       34439.14574143, 14331.79460452, 17274.33379529, 29044.49055836,\n",
              "       23649.83537529, 23649.83537529, 17274.33379529, 14331.79460452,\n",
              "       25121.10497067, 14331.79460452, 17764.75699375, 23649.83537529,\n",
              "       17764.75699375, 17274.33379529, 15312.64100144, 25121.10497067,\n",
              "       25121.10497067, 15312.64100144, 25121.10497067, 24140.25857375,\n",
              "       34439.14574143, 25121.10497067, 14331.79460452, 25121.10497067,\n",
              "       25121.10497067, 23649.83537529, 17274.33379529, 23649.83537529,\n",
              "       23649.83537529, 14331.79460452, 14331.79460452, 17274.33379529,\n",
              "       35910.41533682, 14331.79460452, 34439.14574143, 17274.33379529,\n",
              "       17274.33379529, 14331.79460452, 17274.33379529, 14331.79460452,\n",
              "       17274.33379529, 17274.33379529, 17274.33379529, 29044.49055836,\n",
              "       17274.33379529, 23649.83537529, 23649.83537529, 21688.14258144,\n",
              "       35910.41533682, 17764.75699375, 14331.79460452, 17764.75699375,\n",
              "       21688.14258144, 25121.10497067, 14331.79460452, 25121.10497067,\n",
              "       29044.49055836, 23649.83537529, 23649.83537529, 16293.48739837,\n",
              "       17274.33379529, 16293.48739837, 21197.71938298, 23649.83537529,\n",
              "       17274.33379529, 25121.10497067, 29044.49055836, 25121.10497067,\n",
              "       25121.10497067, 17274.33379529, 17274.33379529, 16293.48739837,\n",
              "       15312.64100144, 17764.75699375, 17274.33379529, 23649.83537529,\n",
              "       23649.83537529, 17274.33379529, 21688.14258144, 17274.33379529,\n",
              "       23649.83537529, 25121.10497067, 15312.64100144, 23649.83537529,\n",
              "       24140.25857375, 17274.33379529])"
            ]
          },
          "metadata": {},
          "execution_count": 65
        }
      ]
    },
    {
      "cell_type": "code",
      "source": [
        "df_pred = pd.DataFrame({'Actual': y_test, 'Predicted':y_pred})\n",
        "df_pred\n"
      ],
      "metadata": {
        "colab": {
          "base_uri": "https://localhost:8080/",
          "height": 423
        },
        "outputId": "b22655cc-54b3-49d0-8fc3-d3a21b1c55d1",
        "id": "ZM_LRcsSEEv5"
      },
      "execution_count": 66,
      "outputs": [
        {
          "output_type": "execute_result",
          "data": {
            "text/plain": [
              "           Actual     Predicted\n",
              "0    11045.108844  14331.794605\n",
              "1    12045.920705  17274.333795\n",
              "2    14703.136868  23159.412177\n",
              "3    15053.933735  17274.333795\n",
              "4    12553.071428  17274.333795\n",
              "..            ...           ...\n",
              "237  19981.127911  25121.104971\n",
              "238  16391.926573  15312.641001\n",
              "239  16825.190882  23649.835375\n",
              "240  22358.877678  24140.258574\n",
              "241  13007.984178  17274.333795\n",
              "\n",
              "[242 rows x 2 columns]"
            ],
            "text/html": [
              "\n",
              "  <div id=\"df-41ca3968-b34b-4ce6-9c24-07a50c215096\">\n",
              "    <div class=\"colab-df-container\">\n",
              "      <div>\n",
              "<style scoped>\n",
              "    .dataframe tbody tr th:only-of-type {\n",
              "        vertical-align: middle;\n",
              "    }\n",
              "\n",
              "    .dataframe tbody tr th {\n",
              "        vertical-align: top;\n",
              "    }\n",
              "\n",
              "    .dataframe thead th {\n",
              "        text-align: right;\n",
              "    }\n",
              "</style>\n",
              "<table border=\"1\" class=\"dataframe\">\n",
              "  <thead>\n",
              "    <tr style=\"text-align: right;\">\n",
              "      <th></th>\n",
              "      <th>Actual</th>\n",
              "      <th>Predicted</th>\n",
              "    </tr>\n",
              "  </thead>\n",
              "  <tbody>\n",
              "    <tr>\n",
              "      <th>0</th>\n",
              "      <td>11045.108844</td>\n",
              "      <td>14331.794605</td>\n",
              "    </tr>\n",
              "    <tr>\n",
              "      <th>1</th>\n",
              "      <td>12045.920705</td>\n",
              "      <td>17274.333795</td>\n",
              "    </tr>\n",
              "    <tr>\n",
              "      <th>2</th>\n",
              "      <td>14703.136868</td>\n",
              "      <td>23159.412177</td>\n",
              "    </tr>\n",
              "    <tr>\n",
              "      <th>3</th>\n",
              "      <td>15053.933735</td>\n",
              "      <td>17274.333795</td>\n",
              "    </tr>\n",
              "    <tr>\n",
              "      <th>4</th>\n",
              "      <td>12553.071428</td>\n",
              "      <td>17274.333795</td>\n",
              "    </tr>\n",
              "    <tr>\n",
              "      <th>...</th>\n",
              "      <td>...</td>\n",
              "      <td>...</td>\n",
              "    </tr>\n",
              "    <tr>\n",
              "      <th>237</th>\n",
              "      <td>19981.127911</td>\n",
              "      <td>25121.104971</td>\n",
              "    </tr>\n",
              "    <tr>\n",
              "      <th>238</th>\n",
              "      <td>16391.926573</td>\n",
              "      <td>15312.641001</td>\n",
              "    </tr>\n",
              "    <tr>\n",
              "      <th>239</th>\n",
              "      <td>16825.190882</td>\n",
              "      <td>23649.835375</td>\n",
              "    </tr>\n",
              "    <tr>\n",
              "      <th>240</th>\n",
              "      <td>22358.877678</td>\n",
              "      <td>24140.258574</td>\n",
              "    </tr>\n",
              "    <tr>\n",
              "      <th>241</th>\n",
              "      <td>13007.984178</td>\n",
              "      <td>17274.333795</td>\n",
              "    </tr>\n",
              "  </tbody>\n",
              "</table>\n",
              "<p>242 rows × 2 columns</p>\n",
              "</div>\n",
              "      <button class=\"colab-df-convert\" onclick=\"convertToInteractive('df-41ca3968-b34b-4ce6-9c24-07a50c215096')\"\n",
              "              title=\"Convert this dataframe to an interactive table.\"\n",
              "              style=\"display:none;\">\n",
              "        \n",
              "  <svg xmlns=\"http://www.w3.org/2000/svg\" height=\"24px\"viewBox=\"0 0 24 24\"\n",
              "       width=\"24px\">\n",
              "    <path d=\"M0 0h24v24H0V0z\" fill=\"none\"/>\n",
              "    <path d=\"M18.56 5.44l.94 2.06.94-2.06 2.06-.94-2.06-.94-.94-2.06-.94 2.06-2.06.94zm-11 1L8.5 8.5l.94-2.06 2.06-.94-2.06-.94L8.5 2.5l-.94 2.06-2.06.94zm10 10l.94 2.06.94-2.06 2.06-.94-2.06-.94-.94-2.06-.94 2.06-2.06.94z\"/><path d=\"M17.41 7.96l-1.37-1.37c-.4-.4-.92-.59-1.43-.59-.52 0-1.04.2-1.43.59L10.3 9.45l-7.72 7.72c-.78.78-.78 2.05 0 2.83L4 21.41c.39.39.9.59 1.41.59.51 0 1.02-.2 1.41-.59l7.78-7.78 2.81-2.81c.8-.78.8-2.07 0-2.86zM5.41 20L4 18.59l7.72-7.72 1.47 1.35L5.41 20z\"/>\n",
              "  </svg>\n",
              "      </button>\n",
              "      \n",
              "  <style>\n",
              "    .colab-df-container {\n",
              "      display:flex;\n",
              "      flex-wrap:wrap;\n",
              "      gap: 12px;\n",
              "    }\n",
              "\n",
              "    .colab-df-convert {\n",
              "      background-color: #E8F0FE;\n",
              "      border: none;\n",
              "      border-radius: 50%;\n",
              "      cursor: pointer;\n",
              "      display: none;\n",
              "      fill: #1967D2;\n",
              "      height: 32px;\n",
              "      padding: 0 0 0 0;\n",
              "      width: 32px;\n",
              "    }\n",
              "\n",
              "    .colab-df-convert:hover {\n",
              "      background-color: #E2EBFA;\n",
              "      box-shadow: 0px 1px 2px rgba(60, 64, 67, 0.3), 0px 1px 3px 1px rgba(60, 64, 67, 0.15);\n",
              "      fill: #174EA6;\n",
              "    }\n",
              "\n",
              "    [theme=dark] .colab-df-convert {\n",
              "      background-color: #3B4455;\n",
              "      fill: #D2E3FC;\n",
              "    }\n",
              "\n",
              "    [theme=dark] .colab-df-convert:hover {\n",
              "      background-color: #434B5C;\n",
              "      box-shadow: 0px 1px 3px 1px rgba(0, 0, 0, 0.15);\n",
              "      filter: drop-shadow(0px 1px 2px rgba(0, 0, 0, 0.3));\n",
              "      fill: #FFFFFF;\n",
              "    }\n",
              "  </style>\n",
              "\n",
              "      <script>\n",
              "        const buttonEl =\n",
              "          document.querySelector('#df-41ca3968-b34b-4ce6-9c24-07a50c215096 button.colab-df-convert');\n",
              "        buttonEl.style.display =\n",
              "          google.colab.kernel.accessAllowed ? 'block' : 'none';\n",
              "\n",
              "        async function convertToInteractive(key) {\n",
              "          const element = document.querySelector('#df-41ca3968-b34b-4ce6-9c24-07a50c215096');\n",
              "          const dataTable =\n",
              "            await google.colab.kernel.invokeFunction('convertToInteractive',\n",
              "                                                     [key], {});\n",
              "          if (!dataTable) return;\n",
              "\n",
              "          const docLinkHtml = 'Like what you see? Visit the ' +\n",
              "            '<a target=\"_blank\" href=https://colab.research.google.com/notebooks/data_table.ipynb>data table notebook</a>'\n",
              "            + ' to learn more about interactive tables.';\n",
              "          element.innerHTML = '';\n",
              "          dataTable['output_type'] = 'display_data';\n",
              "          await google.colab.output.renderOutput(dataTable, element);\n",
              "          const docLink = document.createElement('div');\n",
              "          docLink.innerHTML = docLinkHtml;\n",
              "          element.appendChild(docLink);\n",
              "        }\n",
              "      </script>\n",
              "    </div>\n",
              "  </div>\n",
              "  "
            ]
          },
          "metadata": {},
          "execution_count": 66
        }
      ]
    },
    {
      "cell_type": "code",
      "source": [
        "# to calculte model score\n",
        "\n",
        "R2_score=model.score(x_train, y_train)\n",
        "print(R2_score)\n"
      ],
      "metadata": {
        "colab": {
          "base_uri": "https://localhost:8080/"
        },
        "outputId": "656e03df-96bc-4252-f0c6-1ad54cc57181",
        "id": "R5UNXOPlEEv6"
      },
      "execution_count": 67,
      "outputs": [
        {
          "output_type": "stream",
          "name": "stdout",
          "text": [
            "0.30274368792317796\n"
          ]
        }
      ]
    },
    {
      "cell_type": "markdown",
      "source": [
        "The model R2 score is less than 0.8 and there is no correlation between values"
      ],
      "metadata": {
        "id": "3_U60j1rJBlh"
      }
    },
    {
      "cell_type": "code",
      "source": [
        ""
      ],
      "metadata": {
        "id": "_kS-H4N_EDv8"
      },
      "execution_count": 67,
      "outputs": []
    },
    {
      "cell_type": "code",
      "source": [
        ""
      ],
      "metadata": {
        "id": "xc7t6YDYEDyw"
      },
      "execution_count": 67,
      "outputs": []
    },
    {
      "cell_type": "code",
      "source": [
        "x=df[['Doors']].values\n",
        "\n",
        "y=df['Price'].values\n"
      ],
      "metadata": {
        "id": "Bmo1lcneEFp6"
      },
      "execution_count": 68,
      "outputs": []
    },
    {
      "cell_type": "code",
      "source": [
        "#this is the import statment for splitting\n",
        "from sklearn.model_selection import train_test_split   \n",
        "x_train, x_test, y_train, y_test =train_test_split(x,y,test_size=0.3,random_state=10)"
      ],
      "metadata": {
        "id": "I2rXiygdEFp7"
      },
      "execution_count": 69,
      "outputs": []
    },
    {
      "cell_type": "code",
      "source": [
        "from sklearn.linear_model import LinearRegression\n",
        "model = LinearRegression()\n",
        "model.fit(x_train, y_train)"
      ],
      "metadata": {
        "colab": {
          "base_uri": "https://localhost:8080/"
        },
        "outputId": "0c174b2a-79bb-4b15-9bc2-cc68bce8c45b",
        "id": "pWWIOoomEFp7"
      },
      "execution_count": 70,
      "outputs": [
        {
          "output_type": "execute_result",
          "data": {
            "text/plain": [
              "LinearRegression()"
            ]
          },
          "metadata": {},
          "execution_count": 70
        }
      ]
    },
    {
      "cell_type": "code",
      "source": [
        "print('intercept(c) is',model.intercept_)\n",
        "print('slope(m) is',model.coef_)"
      ],
      "metadata": {
        "colab": {
          "base_uri": "https://localhost:8080/"
        },
        "outputId": "676a886d-1e1d-48b5-ba59-b21d2497afad",
        "id": "USRmQB9pEFp7"
      },
      "execution_count": 71,
      "outputs": [
        {
          "output_type": "stream",
          "name": "stdout",
          "text": [
            "intercept(c) is 27838.038383641608\n",
            "slope(m) is [-1769.14180958]\n"
          ]
        }
      ]
    },
    {
      "cell_type": "code",
      "source": [
        "y_pred = model.predict(x_test)\n",
        "y_pred"
      ],
      "metadata": {
        "colab": {
          "base_uri": "https://localhost:8080/"
        },
        "outputId": "f96af88a-a193-4d26-d530-9de7010a11ac",
        "id": "M7IOdf_1EFp8"
      },
      "execution_count": 72,
      "outputs": [
        {
          "output_type": "execute_result",
          "data": {
            "text/plain": [
              "array([20761.47114532, 24299.75476448, 24299.75476448, 24299.75476448,\n",
              "       24299.75476448, 20761.47114532, 20761.47114532, 20761.47114532,\n",
              "       24299.75476448, 20761.47114532, 24299.75476448, 20761.47114532,\n",
              "       20761.47114532, 20761.47114532, 20761.47114532, 20761.47114532,\n",
              "       20761.47114532, 20761.47114532, 20761.47114532, 24299.75476448,\n",
              "       20761.47114532, 20761.47114532, 20761.47114532, 20761.47114532,\n",
              "       20761.47114532, 20761.47114532, 20761.47114532, 24299.75476448,\n",
              "       20761.47114532, 20761.47114532, 24299.75476448, 20761.47114532,\n",
              "       20761.47114532, 24299.75476448, 20761.47114532, 24299.75476448,\n",
              "       20761.47114532, 24299.75476448, 20761.47114532, 20761.47114532,\n",
              "       20761.47114532, 20761.47114532, 20761.47114532, 20761.47114532,\n",
              "       20761.47114532, 20761.47114532, 24299.75476448, 20761.47114532,\n",
              "       24299.75476448, 20761.47114532, 24299.75476448, 20761.47114532,\n",
              "       24299.75476448, 20761.47114532, 20761.47114532, 20761.47114532,\n",
              "       20761.47114532, 24299.75476448, 20761.47114532, 20761.47114532,\n",
              "       20761.47114532, 20761.47114532, 24299.75476448, 20761.47114532,\n",
              "       20761.47114532, 20761.47114532, 20761.47114532, 20761.47114532,\n",
              "       24299.75476448, 20761.47114532, 20761.47114532, 20761.47114532,\n",
              "       20761.47114532, 20761.47114532, 20761.47114532, 20761.47114532,\n",
              "       20761.47114532, 20761.47114532, 20761.47114532, 24299.75476448,\n",
              "       24299.75476448, 20761.47114532, 20761.47114532, 20761.47114532,\n",
              "       20761.47114532, 20761.47114532, 20761.47114532, 20761.47114532,\n",
              "       24299.75476448, 20761.47114532, 20761.47114532, 24299.75476448,\n",
              "       24299.75476448, 20761.47114532, 24299.75476448, 20761.47114532,\n",
              "       24299.75476448, 24299.75476448, 20761.47114532, 24299.75476448,\n",
              "       20761.47114532, 20761.47114532, 20761.47114532, 20761.47114532,\n",
              "       24299.75476448, 24299.75476448, 20761.47114532, 24299.75476448,\n",
              "       20761.47114532, 20761.47114532, 20761.47114532, 24299.75476448,\n",
              "       20761.47114532, 20761.47114532, 20761.47114532, 20761.47114532,\n",
              "       24299.75476448, 20761.47114532, 20761.47114532, 20761.47114532,\n",
              "       20761.47114532, 24299.75476448, 20761.47114532, 20761.47114532,\n",
              "       20761.47114532, 20761.47114532, 20761.47114532, 24299.75476448,\n",
              "       20761.47114532, 20761.47114532, 20761.47114532, 20761.47114532,\n",
              "       20761.47114532, 20761.47114532, 24299.75476448, 20761.47114532,\n",
              "       24299.75476448, 20761.47114532, 24299.75476448, 24299.75476448,\n",
              "       20761.47114532, 20761.47114532, 20761.47114532, 24299.75476448,\n",
              "       20761.47114532, 20761.47114532, 20761.47114532, 20761.47114532,\n",
              "       20761.47114532, 20761.47114532, 20761.47114532, 20761.47114532,\n",
              "       20761.47114532, 24299.75476448, 20761.47114532, 20761.47114532,\n",
              "       20761.47114532, 20761.47114532, 24299.75476448, 24299.75476448,\n",
              "       20761.47114532, 20761.47114532, 20761.47114532, 20761.47114532,\n",
              "       20761.47114532, 20761.47114532, 20761.47114532, 20761.47114532,\n",
              "       20761.47114532, 24299.75476448, 20761.47114532, 20761.47114532,\n",
              "       20761.47114532, 20761.47114532, 20761.47114532, 20761.47114532,\n",
              "       20761.47114532, 20761.47114532, 20761.47114532, 24299.75476448,\n",
              "       24299.75476448, 20761.47114532, 20761.47114532, 20761.47114532,\n",
              "       20761.47114532, 20761.47114532, 20761.47114532, 20761.47114532,\n",
              "       24299.75476448, 20761.47114532, 24299.75476448, 20761.47114532,\n",
              "       24299.75476448, 20761.47114532, 20761.47114532, 20761.47114532,\n",
              "       20761.47114532, 24299.75476448, 20761.47114532, 20761.47114532,\n",
              "       24299.75476448, 20761.47114532, 20761.47114532, 20761.47114532,\n",
              "       24299.75476448, 20761.47114532, 20761.47114532, 20761.47114532,\n",
              "       20761.47114532, 20761.47114532, 20761.47114532, 20761.47114532,\n",
              "       20761.47114532, 20761.47114532, 20761.47114532, 24299.75476448,\n",
              "       24299.75476448, 24299.75476448, 20761.47114532, 20761.47114532,\n",
              "       24299.75476448, 20761.47114532, 20761.47114532, 20761.47114532,\n",
              "       20761.47114532, 24299.75476448, 20761.47114532, 20761.47114532,\n",
              "       20761.47114532, 20761.47114532, 24299.75476448, 20761.47114532,\n",
              "       20761.47114532, 20761.47114532, 20761.47114532, 24299.75476448,\n",
              "       20761.47114532, 20761.47114532, 20761.47114532, 20761.47114532,\n",
              "       20761.47114532, 24299.75476448])"
            ]
          },
          "metadata": {},
          "execution_count": 72
        }
      ]
    },
    {
      "cell_type": "code",
      "source": [
        "df_pred = pd.DataFrame({'Actual': y_test, 'Predicted':y_pred})\n",
        "df_pred\n"
      ],
      "metadata": {
        "colab": {
          "base_uri": "https://localhost:8080/",
          "height": 423
        },
        "outputId": "6c691a7f-8e96-4332-f13f-dda2060de4f7",
        "id": "6qu2s62-EFp8"
      },
      "execution_count": 73,
      "outputs": [
        {
          "output_type": "execute_result",
          "data": {
            "text/plain": [
              "           Actual     Predicted\n",
              "0    11045.108844  20761.471145\n",
              "1    12045.920705  24299.754764\n",
              "2    14703.136868  24299.754764\n",
              "3    15053.933735  24299.754764\n",
              "4    12553.071428  24299.754764\n",
              "..            ...           ...\n",
              "237  19981.127911  20761.471145\n",
              "238  16391.926573  20761.471145\n",
              "239  16825.190882  20761.471145\n",
              "240  22358.877678  20761.471145\n",
              "241  13007.984178  24299.754764\n",
              "\n",
              "[242 rows x 2 columns]"
            ],
            "text/html": [
              "\n",
              "  <div id=\"df-e9b45adf-accf-4314-9115-2ad2928412d4\">\n",
              "    <div class=\"colab-df-container\">\n",
              "      <div>\n",
              "<style scoped>\n",
              "    .dataframe tbody tr th:only-of-type {\n",
              "        vertical-align: middle;\n",
              "    }\n",
              "\n",
              "    .dataframe tbody tr th {\n",
              "        vertical-align: top;\n",
              "    }\n",
              "\n",
              "    .dataframe thead th {\n",
              "        text-align: right;\n",
              "    }\n",
              "</style>\n",
              "<table border=\"1\" class=\"dataframe\">\n",
              "  <thead>\n",
              "    <tr style=\"text-align: right;\">\n",
              "      <th></th>\n",
              "      <th>Actual</th>\n",
              "      <th>Predicted</th>\n",
              "    </tr>\n",
              "  </thead>\n",
              "  <tbody>\n",
              "    <tr>\n",
              "      <th>0</th>\n",
              "      <td>11045.108844</td>\n",
              "      <td>20761.471145</td>\n",
              "    </tr>\n",
              "    <tr>\n",
              "      <th>1</th>\n",
              "      <td>12045.920705</td>\n",
              "      <td>24299.754764</td>\n",
              "    </tr>\n",
              "    <tr>\n",
              "      <th>2</th>\n",
              "      <td>14703.136868</td>\n",
              "      <td>24299.754764</td>\n",
              "    </tr>\n",
              "    <tr>\n",
              "      <th>3</th>\n",
              "      <td>15053.933735</td>\n",
              "      <td>24299.754764</td>\n",
              "    </tr>\n",
              "    <tr>\n",
              "      <th>4</th>\n",
              "      <td>12553.071428</td>\n",
              "      <td>24299.754764</td>\n",
              "    </tr>\n",
              "    <tr>\n",
              "      <th>...</th>\n",
              "      <td>...</td>\n",
              "      <td>...</td>\n",
              "    </tr>\n",
              "    <tr>\n",
              "      <th>237</th>\n",
              "      <td>19981.127911</td>\n",
              "      <td>20761.471145</td>\n",
              "    </tr>\n",
              "    <tr>\n",
              "      <th>238</th>\n",
              "      <td>16391.926573</td>\n",
              "      <td>20761.471145</td>\n",
              "    </tr>\n",
              "    <tr>\n",
              "      <th>239</th>\n",
              "      <td>16825.190882</td>\n",
              "      <td>20761.471145</td>\n",
              "    </tr>\n",
              "    <tr>\n",
              "      <th>240</th>\n",
              "      <td>22358.877678</td>\n",
              "      <td>20761.471145</td>\n",
              "    </tr>\n",
              "    <tr>\n",
              "      <th>241</th>\n",
              "      <td>13007.984178</td>\n",
              "      <td>24299.754764</td>\n",
              "    </tr>\n",
              "  </tbody>\n",
              "</table>\n",
              "<p>242 rows × 2 columns</p>\n",
              "</div>\n",
              "      <button class=\"colab-df-convert\" onclick=\"convertToInteractive('df-e9b45adf-accf-4314-9115-2ad2928412d4')\"\n",
              "              title=\"Convert this dataframe to an interactive table.\"\n",
              "              style=\"display:none;\">\n",
              "        \n",
              "  <svg xmlns=\"http://www.w3.org/2000/svg\" height=\"24px\"viewBox=\"0 0 24 24\"\n",
              "       width=\"24px\">\n",
              "    <path d=\"M0 0h24v24H0V0z\" fill=\"none\"/>\n",
              "    <path d=\"M18.56 5.44l.94 2.06.94-2.06 2.06-.94-2.06-.94-.94-2.06-.94 2.06-2.06.94zm-11 1L8.5 8.5l.94-2.06 2.06-.94-2.06-.94L8.5 2.5l-.94 2.06-2.06.94zm10 10l.94 2.06.94-2.06 2.06-.94-2.06-.94-.94-2.06-.94 2.06-2.06.94z\"/><path d=\"M17.41 7.96l-1.37-1.37c-.4-.4-.92-.59-1.43-.59-.52 0-1.04.2-1.43.59L10.3 9.45l-7.72 7.72c-.78.78-.78 2.05 0 2.83L4 21.41c.39.39.9.59 1.41.59.51 0 1.02-.2 1.41-.59l7.78-7.78 2.81-2.81c.8-.78.8-2.07 0-2.86zM5.41 20L4 18.59l7.72-7.72 1.47 1.35L5.41 20z\"/>\n",
              "  </svg>\n",
              "      </button>\n",
              "      \n",
              "  <style>\n",
              "    .colab-df-container {\n",
              "      display:flex;\n",
              "      flex-wrap:wrap;\n",
              "      gap: 12px;\n",
              "    }\n",
              "\n",
              "    .colab-df-convert {\n",
              "      background-color: #E8F0FE;\n",
              "      border: none;\n",
              "      border-radius: 50%;\n",
              "      cursor: pointer;\n",
              "      display: none;\n",
              "      fill: #1967D2;\n",
              "      height: 32px;\n",
              "      padding: 0 0 0 0;\n",
              "      width: 32px;\n",
              "    }\n",
              "\n",
              "    .colab-df-convert:hover {\n",
              "      background-color: #E2EBFA;\n",
              "      box-shadow: 0px 1px 2px rgba(60, 64, 67, 0.3), 0px 1px 3px 1px rgba(60, 64, 67, 0.15);\n",
              "      fill: #174EA6;\n",
              "    }\n",
              "\n",
              "    [theme=dark] .colab-df-convert {\n",
              "      background-color: #3B4455;\n",
              "      fill: #D2E3FC;\n",
              "    }\n",
              "\n",
              "    [theme=dark] .colab-df-convert:hover {\n",
              "      background-color: #434B5C;\n",
              "      box-shadow: 0px 1px 3px 1px rgba(0, 0, 0, 0.15);\n",
              "      filter: drop-shadow(0px 1px 2px rgba(0, 0, 0, 0.3));\n",
              "      fill: #FFFFFF;\n",
              "    }\n",
              "  </style>\n",
              "\n",
              "      <script>\n",
              "        const buttonEl =\n",
              "          document.querySelector('#df-e9b45adf-accf-4314-9115-2ad2928412d4 button.colab-df-convert');\n",
              "        buttonEl.style.display =\n",
              "          google.colab.kernel.accessAllowed ? 'block' : 'none';\n",
              "\n",
              "        async function convertToInteractive(key) {\n",
              "          const element = document.querySelector('#df-e9b45adf-accf-4314-9115-2ad2928412d4');\n",
              "          const dataTable =\n",
              "            await google.colab.kernel.invokeFunction('convertToInteractive',\n",
              "                                                     [key], {});\n",
              "          if (!dataTable) return;\n",
              "\n",
              "          const docLinkHtml = 'Like what you see? Visit the ' +\n",
              "            '<a target=\"_blank\" href=https://colab.research.google.com/notebooks/data_table.ipynb>data table notebook</a>'\n",
              "            + ' to learn more about interactive tables.';\n",
              "          element.innerHTML = '';\n",
              "          dataTable['output_type'] = 'display_data';\n",
              "          await google.colab.output.renderOutput(dataTable, element);\n",
              "          const docLink = document.createElement('div');\n",
              "          docLink.innerHTML = docLinkHtml;\n",
              "          element.appendChild(docLink);\n",
              "        }\n",
              "      </script>\n",
              "    </div>\n",
              "  </div>\n",
              "  "
            ]
          },
          "metadata": {},
          "execution_count": 73
        }
      ]
    },
    {
      "cell_type": "code",
      "source": [
        "# to calculte model score\n",
        "\n",
        "R2_score=model.score(x_train, y_train)\n",
        "print(R2_score)\n"
      ],
      "metadata": {
        "colab": {
          "base_uri": "https://localhost:8080/"
        },
        "outputId": "1c58d3cc-174c-4af4-9b5c-0d1652e546a5",
        "id": "c3SCsivCEFp8"
      },
      "execution_count": 74,
      "outputs": [
        {
          "output_type": "stream",
          "name": "stdout",
          "text": [
            "0.022979983464402554\n"
          ]
        }
      ]
    },
    {
      "cell_type": "markdown",
      "source": [
        "The model R2 score is less than 0.8 and there is no correlation between values"
      ],
      "metadata": {
        "id": "-ylqAZU3JNxv"
      }
    },
    {
      "cell_type": "code",
      "source": [
        ""
      ],
      "metadata": {
        "id": "fB14mCpRED1x"
      },
      "execution_count": 74,
      "outputs": []
    },
    {
      "cell_type": "code",
      "source": [
        ""
      ],
      "metadata": {
        "id": "VspJQHKcED5q"
      },
      "execution_count": 74,
      "outputs": []
    },
    {
      "cell_type": "code",
      "source": [
        "x=df[['Cruise']].values\n",
        "\n",
        "y=df['Price'].values\n"
      ],
      "metadata": {
        "id": "CQQ0qBzkEHed"
      },
      "execution_count": 75,
      "outputs": []
    },
    {
      "cell_type": "code",
      "source": [
        "#this is the import statment for splitting\n",
        "from sklearn.model_selection import train_test_split   \n",
        "x_train, x_test, y_train, y_test =train_test_split(x,y,test_size=0.3,random_state=10)"
      ],
      "metadata": {
        "id": "Fl0_3B0qEHee"
      },
      "execution_count": 76,
      "outputs": []
    },
    {
      "cell_type": "code",
      "source": [
        "from sklearn.linear_model import LinearRegression\n",
        "model = LinearRegression()\n",
        "model.fit(x_train, y_train)"
      ],
      "metadata": {
        "colab": {
          "base_uri": "https://localhost:8080/"
        },
        "outputId": "6819d134-9723-4440-810f-42851a12e303",
        "id": "0yXtlG1_EHee"
      },
      "execution_count": 77,
      "outputs": [
        {
          "output_type": "execute_result",
          "data": {
            "text/plain": [
              "LinearRegression()"
            ]
          },
          "metadata": {},
          "execution_count": 77
        }
      ]
    },
    {
      "cell_type": "code",
      "source": [
        "print('intercept(c) is',model.intercept_)\n",
        "print('slope(m) is',model.coef_)"
      ],
      "metadata": {
        "colab": {
          "base_uri": "https://localhost:8080/"
        },
        "outputId": "d0c82a73-51e0-4ccc-93a7-a1f1d5900035",
        "id": "2nB7TOinEHee"
      },
      "execution_count": 78,
      "outputs": [
        {
          "output_type": "stream",
          "name": "stdout",
          "text": [
            "intercept(c) is 13982.625022206248\n",
            "slope(m) is [9883.53794371]\n"
          ]
        }
      ]
    },
    {
      "cell_type": "code",
      "source": [
        "y_pred = model.predict(x_test)\n",
        "y_pred"
      ],
      "metadata": {
        "colab": {
          "base_uri": "https://localhost:8080/"
        },
        "outputId": "276c420c-50a2-4d9f-c910-3ba0ada3fb1a",
        "id": "oZrGACaFEHef"
      },
      "execution_count": 79,
      "outputs": [
        {
          "output_type": "execute_result",
          "data": {
            "text/plain": [
              "array([23866.16296591, 13982.62502221, 13982.62502221, 23866.16296591,\n",
              "       23866.16296591, 23866.16296591, 23866.16296591, 23866.16296591,\n",
              "       23866.16296591, 23866.16296591, 23866.16296591, 13982.62502221,\n",
              "       13982.62502221, 13982.62502221, 23866.16296591, 23866.16296591,\n",
              "       13982.62502221, 13982.62502221, 13982.62502221, 13982.62502221,\n",
              "       23866.16296591, 13982.62502221, 23866.16296591, 23866.16296591,\n",
              "       23866.16296591, 23866.16296591, 13982.62502221, 13982.62502221,\n",
              "       23866.16296591, 23866.16296591, 23866.16296591, 23866.16296591,\n",
              "       13982.62502221, 23866.16296591, 23866.16296591, 13982.62502221,\n",
              "       13982.62502221, 23866.16296591, 23866.16296591, 23866.16296591,\n",
              "       23866.16296591, 13982.62502221, 23866.16296591, 23866.16296591,\n",
              "       23866.16296591, 23866.16296591, 23866.16296591, 23866.16296591,\n",
              "       23866.16296591, 23866.16296591, 23866.16296591, 23866.16296591,\n",
              "       23866.16296591, 23866.16296591, 23866.16296591, 23866.16296591,\n",
              "       23866.16296591, 23866.16296591, 23866.16296591, 23866.16296591,\n",
              "       13982.62502221, 13982.62502221, 13982.62502221, 13982.62502221,\n",
              "       23866.16296591, 23866.16296591, 23866.16296591, 23866.16296591,\n",
              "       23866.16296591, 23866.16296591, 23866.16296591, 23866.16296591,\n",
              "       23866.16296591, 23866.16296591, 23866.16296591, 13982.62502221,\n",
              "       23866.16296591, 23866.16296591, 23866.16296591, 23866.16296591,\n",
              "       23866.16296591, 23866.16296591, 13982.62502221, 23866.16296591,\n",
              "       23866.16296591, 23866.16296591, 23866.16296591, 13982.62502221,\n",
              "       13982.62502221, 23866.16296591, 13982.62502221, 23866.16296591,\n",
              "       23866.16296591, 23866.16296591, 23866.16296591, 23866.16296591,\n",
              "       23866.16296591, 23866.16296591, 23866.16296591, 13982.62502221,\n",
              "       23866.16296591, 13982.62502221, 13982.62502221, 13982.62502221,\n",
              "       13982.62502221, 23866.16296591, 23866.16296591, 13982.62502221,\n",
              "       23866.16296591, 23866.16296591, 23866.16296591, 23866.16296591,\n",
              "       23866.16296591, 13982.62502221, 13982.62502221, 23866.16296591,\n",
              "       23866.16296591, 23866.16296591, 13982.62502221, 13982.62502221,\n",
              "       13982.62502221, 23866.16296591, 23866.16296591, 23866.16296591,\n",
              "       13982.62502221, 23866.16296591, 13982.62502221, 13982.62502221,\n",
              "       23866.16296591, 13982.62502221, 23866.16296591, 13982.62502221,\n",
              "       23866.16296591, 23866.16296591, 23866.16296591, 13982.62502221,\n",
              "       23866.16296591, 23866.16296591, 23866.16296591, 23866.16296591,\n",
              "       23866.16296591, 23866.16296591, 23866.16296591, 23866.16296591,\n",
              "       23866.16296591, 23866.16296591, 23866.16296591, 23866.16296591,\n",
              "       13982.62502221, 13982.62502221, 13982.62502221, 23866.16296591,\n",
              "       23866.16296591, 23866.16296591, 23866.16296591, 23866.16296591,\n",
              "       23866.16296591, 23866.16296591, 23866.16296591, 23866.16296591,\n",
              "       13982.62502221, 23866.16296591, 13982.62502221, 13982.62502221,\n",
              "       23866.16296591, 13982.62502221, 23866.16296591, 23866.16296591,\n",
              "       23866.16296591, 23866.16296591, 23866.16296591, 23866.16296591,\n",
              "       23866.16296591, 13982.62502221, 23866.16296591, 23866.16296591,\n",
              "       23866.16296591, 23866.16296591, 23866.16296591, 23866.16296591,\n",
              "       23866.16296591, 23866.16296591, 13982.62502221, 13982.62502221,\n",
              "       23866.16296591, 23866.16296591, 23866.16296591, 13982.62502221,\n",
              "       23866.16296591, 13982.62502221, 23866.16296591, 13982.62502221,\n",
              "       13982.62502221, 13982.62502221, 23866.16296591, 13982.62502221,\n",
              "       23866.16296591, 23866.16296591, 13982.62502221, 23866.16296591,\n",
              "       23866.16296591, 23866.16296591, 13982.62502221, 23866.16296591,\n",
              "       23866.16296591, 23866.16296591, 13982.62502221, 23866.16296591,\n",
              "       23866.16296591, 23866.16296591, 23866.16296591, 23866.16296591,\n",
              "       23866.16296591, 23866.16296591, 23866.16296591, 23866.16296591,\n",
              "       23866.16296591, 23866.16296591, 23866.16296591, 23866.16296591,\n",
              "       23866.16296591, 23866.16296591, 23866.16296591, 23866.16296591,\n",
              "       23866.16296591, 13982.62502221, 13982.62502221, 23866.16296591,\n",
              "       13982.62502221, 23866.16296591, 13982.62502221, 23866.16296591,\n",
              "       13982.62502221, 13982.62502221, 23866.16296591, 23866.16296591,\n",
              "       13982.62502221, 23866.16296591, 23866.16296591, 13982.62502221,\n",
              "       23866.16296591, 23866.16296591])"
            ]
          },
          "metadata": {},
          "execution_count": 79
        }
      ]
    },
    {
      "cell_type": "code",
      "source": [
        "df_pred = pd.DataFrame({'Actual': y_test, 'Predicted':y_pred})\n",
        "df_pred\n"
      ],
      "metadata": {
        "colab": {
          "base_uri": "https://localhost:8080/",
          "height": 423
        },
        "outputId": "33ca6be5-6e4a-44c5-9dce-c6f5342350e3",
        "id": "9ZwjakWeEHef"
      },
      "execution_count": 80,
      "outputs": [
        {
          "output_type": "execute_result",
          "data": {
            "text/plain": [
              "           Actual     Predicted\n",
              "0    11045.108844  23866.162966\n",
              "1    12045.920705  13982.625022\n",
              "2    14703.136868  13982.625022\n",
              "3    15053.933735  23866.162966\n",
              "4    12553.071428  23866.162966\n",
              "..            ...           ...\n",
              "237  19981.127911  23866.162966\n",
              "238  16391.926573  23866.162966\n",
              "239  16825.190882  13982.625022\n",
              "240  22358.877678  23866.162966\n",
              "241  13007.984178  23866.162966\n",
              "\n",
              "[242 rows x 2 columns]"
            ],
            "text/html": [
              "\n",
              "  <div id=\"df-707c4693-4cb0-420f-8f1f-de06cd79206c\">\n",
              "    <div class=\"colab-df-container\">\n",
              "      <div>\n",
              "<style scoped>\n",
              "    .dataframe tbody tr th:only-of-type {\n",
              "        vertical-align: middle;\n",
              "    }\n",
              "\n",
              "    .dataframe tbody tr th {\n",
              "        vertical-align: top;\n",
              "    }\n",
              "\n",
              "    .dataframe thead th {\n",
              "        text-align: right;\n",
              "    }\n",
              "</style>\n",
              "<table border=\"1\" class=\"dataframe\">\n",
              "  <thead>\n",
              "    <tr style=\"text-align: right;\">\n",
              "      <th></th>\n",
              "      <th>Actual</th>\n",
              "      <th>Predicted</th>\n",
              "    </tr>\n",
              "  </thead>\n",
              "  <tbody>\n",
              "    <tr>\n",
              "      <th>0</th>\n",
              "      <td>11045.108844</td>\n",
              "      <td>23866.162966</td>\n",
              "    </tr>\n",
              "    <tr>\n",
              "      <th>1</th>\n",
              "      <td>12045.920705</td>\n",
              "      <td>13982.625022</td>\n",
              "    </tr>\n",
              "    <tr>\n",
              "      <th>2</th>\n",
              "      <td>14703.136868</td>\n",
              "      <td>13982.625022</td>\n",
              "    </tr>\n",
              "    <tr>\n",
              "      <th>3</th>\n",
              "      <td>15053.933735</td>\n",
              "      <td>23866.162966</td>\n",
              "    </tr>\n",
              "    <tr>\n",
              "      <th>4</th>\n",
              "      <td>12553.071428</td>\n",
              "      <td>23866.162966</td>\n",
              "    </tr>\n",
              "    <tr>\n",
              "      <th>...</th>\n",
              "      <td>...</td>\n",
              "      <td>...</td>\n",
              "    </tr>\n",
              "    <tr>\n",
              "      <th>237</th>\n",
              "      <td>19981.127911</td>\n",
              "      <td>23866.162966</td>\n",
              "    </tr>\n",
              "    <tr>\n",
              "      <th>238</th>\n",
              "      <td>16391.926573</td>\n",
              "      <td>23866.162966</td>\n",
              "    </tr>\n",
              "    <tr>\n",
              "      <th>239</th>\n",
              "      <td>16825.190882</td>\n",
              "      <td>13982.625022</td>\n",
              "    </tr>\n",
              "    <tr>\n",
              "      <th>240</th>\n",
              "      <td>22358.877678</td>\n",
              "      <td>23866.162966</td>\n",
              "    </tr>\n",
              "    <tr>\n",
              "      <th>241</th>\n",
              "      <td>13007.984178</td>\n",
              "      <td>23866.162966</td>\n",
              "    </tr>\n",
              "  </tbody>\n",
              "</table>\n",
              "<p>242 rows × 2 columns</p>\n",
              "</div>\n",
              "      <button class=\"colab-df-convert\" onclick=\"convertToInteractive('df-707c4693-4cb0-420f-8f1f-de06cd79206c')\"\n",
              "              title=\"Convert this dataframe to an interactive table.\"\n",
              "              style=\"display:none;\">\n",
              "        \n",
              "  <svg xmlns=\"http://www.w3.org/2000/svg\" height=\"24px\"viewBox=\"0 0 24 24\"\n",
              "       width=\"24px\">\n",
              "    <path d=\"M0 0h24v24H0V0z\" fill=\"none\"/>\n",
              "    <path d=\"M18.56 5.44l.94 2.06.94-2.06 2.06-.94-2.06-.94-.94-2.06-.94 2.06-2.06.94zm-11 1L8.5 8.5l.94-2.06 2.06-.94-2.06-.94L8.5 2.5l-.94 2.06-2.06.94zm10 10l.94 2.06.94-2.06 2.06-.94-2.06-.94-.94-2.06-.94 2.06-2.06.94z\"/><path d=\"M17.41 7.96l-1.37-1.37c-.4-.4-.92-.59-1.43-.59-.52 0-1.04.2-1.43.59L10.3 9.45l-7.72 7.72c-.78.78-.78 2.05 0 2.83L4 21.41c.39.39.9.59 1.41.59.51 0 1.02-.2 1.41-.59l7.78-7.78 2.81-2.81c.8-.78.8-2.07 0-2.86zM5.41 20L4 18.59l7.72-7.72 1.47 1.35L5.41 20z\"/>\n",
              "  </svg>\n",
              "      </button>\n",
              "      \n",
              "  <style>\n",
              "    .colab-df-container {\n",
              "      display:flex;\n",
              "      flex-wrap:wrap;\n",
              "      gap: 12px;\n",
              "    }\n",
              "\n",
              "    .colab-df-convert {\n",
              "      background-color: #E8F0FE;\n",
              "      border: none;\n",
              "      border-radius: 50%;\n",
              "      cursor: pointer;\n",
              "      display: none;\n",
              "      fill: #1967D2;\n",
              "      height: 32px;\n",
              "      padding: 0 0 0 0;\n",
              "      width: 32px;\n",
              "    }\n",
              "\n",
              "    .colab-df-convert:hover {\n",
              "      background-color: #E2EBFA;\n",
              "      box-shadow: 0px 1px 2px rgba(60, 64, 67, 0.3), 0px 1px 3px 1px rgba(60, 64, 67, 0.15);\n",
              "      fill: #174EA6;\n",
              "    }\n",
              "\n",
              "    [theme=dark] .colab-df-convert {\n",
              "      background-color: #3B4455;\n",
              "      fill: #D2E3FC;\n",
              "    }\n",
              "\n",
              "    [theme=dark] .colab-df-convert:hover {\n",
              "      background-color: #434B5C;\n",
              "      box-shadow: 0px 1px 3px 1px rgba(0, 0, 0, 0.15);\n",
              "      filter: drop-shadow(0px 1px 2px rgba(0, 0, 0, 0.3));\n",
              "      fill: #FFFFFF;\n",
              "    }\n",
              "  </style>\n",
              "\n",
              "      <script>\n",
              "        const buttonEl =\n",
              "          document.querySelector('#df-707c4693-4cb0-420f-8f1f-de06cd79206c button.colab-df-convert');\n",
              "        buttonEl.style.display =\n",
              "          google.colab.kernel.accessAllowed ? 'block' : 'none';\n",
              "\n",
              "        async function convertToInteractive(key) {\n",
              "          const element = document.querySelector('#df-707c4693-4cb0-420f-8f1f-de06cd79206c');\n",
              "          const dataTable =\n",
              "            await google.colab.kernel.invokeFunction('convertToInteractive',\n",
              "                                                     [key], {});\n",
              "          if (!dataTable) return;\n",
              "\n",
              "          const docLinkHtml = 'Like what you see? Visit the ' +\n",
              "            '<a target=\"_blank\" href=https://colab.research.google.com/notebooks/data_table.ipynb>data table notebook</a>'\n",
              "            + ' to learn more about interactive tables.';\n",
              "          element.innerHTML = '';\n",
              "          dataTable['output_type'] = 'display_data';\n",
              "          await google.colab.output.renderOutput(dataTable, element);\n",
              "          const docLink = document.createElement('div');\n",
              "          docLink.innerHTML = docLinkHtml;\n",
              "          element.appendChild(docLink);\n",
              "        }\n",
              "      </script>\n",
              "    </div>\n",
              "  </div>\n",
              "  "
            ]
          },
          "metadata": {},
          "execution_count": 80
        }
      ]
    },
    {
      "cell_type": "code",
      "source": [
        "# to calculte model score\n",
        "\n",
        "R2_score=model.score(x_train, y_train)\n",
        "print(R2_score)\n"
      ],
      "metadata": {
        "colab": {
          "base_uri": "https://localhost:8080/"
        },
        "outputId": "db37d858-46f0-4a67-f348-b2c65e620d66",
        "id": "fJsM5DDVEHef"
      },
      "execution_count": 81,
      "outputs": [
        {
          "output_type": "stream",
          "name": "stdout",
          "text": [
            "0.17930371837233827\n"
          ]
        }
      ]
    },
    {
      "cell_type": "markdown",
      "source": [
        "The model R2 score is less than 0.8 and there is no correlation between values"
      ],
      "metadata": {
        "id": "F3mDN5-9Ja5w"
      }
    },
    {
      "cell_type": "code",
      "source": [
        ""
      ],
      "metadata": {
        "id": "9gk3c2fVEGup"
      },
      "execution_count": 81,
      "outputs": []
    },
    {
      "cell_type": "code",
      "source": [
        ""
      ],
      "metadata": {
        "id": "varyUAgLEGxr"
      },
      "execution_count": 81,
      "outputs": []
    },
    {
      "cell_type": "code",
      "source": [
        "x=df[['Sound']].values\n",
        "\n",
        "y=df['Price'].values\n"
      ],
      "metadata": {
        "id": "k4I1Cs5LEICm"
      },
      "execution_count": 82,
      "outputs": []
    },
    {
      "cell_type": "code",
      "source": [
        "#this is the import statment for splitting\n",
        "from sklearn.model_selection import train_test_split   \n",
        "x_train, x_test, y_train, y_test =train_test_split(x,y,test_size=0.3,random_state=10)"
      ],
      "metadata": {
        "id": "wDXOvpazEICm"
      },
      "execution_count": 83,
      "outputs": []
    },
    {
      "cell_type": "code",
      "source": [
        "from sklearn.linear_model import LinearRegression\n",
        "model = LinearRegression()\n",
        "model.fit(x_train, y_train)"
      ],
      "metadata": {
        "colab": {
          "base_uri": "https://localhost:8080/"
        },
        "outputId": "93de1672-57b0-4918-e930-7d2da09e3025",
        "id": "RQtkIs5xEICn"
      },
      "execution_count": 84,
      "outputs": [
        {
          "output_type": "execute_result",
          "data": {
            "text/plain": [
              "LinearRegression()"
            ]
          },
          "metadata": {},
          "execution_count": 84
        }
      ]
    },
    {
      "cell_type": "code",
      "source": [
        "print('intercept(c) is',model.intercept_)\n",
        "print('slope(m) is',model.coef_)"
      ],
      "metadata": {
        "colab": {
          "base_uri": "https://localhost:8080/"
        },
        "outputId": "36b45307-6d97-4411-b00a-3719d968b5d0",
        "id": "EQZVmaNKEICn"
      },
      "execution_count": 85,
      "outputs": [
        {
          "output_type": "stream",
          "name": "stdout",
          "text": [
            "intercept(c) is 23100.703472816906\n",
            "slope(m) is [-2309.92350692]\n"
          ]
        }
      ]
    },
    {
      "cell_type": "code",
      "source": [
        "y_pred = model.predict(x_test)\n",
        "y_pred"
      ],
      "metadata": {
        "colab": {
          "base_uri": "https://localhost:8080/"
        },
        "outputId": "9f245717-7aba-4423-dc1d-4e50c5052d97",
        "id": "zNmlbv0vEICn"
      },
      "execution_count": 86,
      "outputs": [
        {
          "output_type": "execute_result",
          "data": {
            "text/plain": [
              "array([23100.70347282, 20790.77996589, 20790.77996589, 20790.77996589,\n",
              "       20790.77996589, 20790.77996589, 20790.77996589, 20790.77996589,\n",
              "       20790.77996589, 23100.70347282, 23100.70347282, 20790.77996589,\n",
              "       20790.77996589, 20790.77996589, 20790.77996589, 20790.77996589,\n",
              "       20790.77996589, 23100.70347282, 20790.77996589, 20790.77996589,\n",
              "       23100.70347282, 20790.77996589, 20790.77996589, 20790.77996589,\n",
              "       23100.70347282, 23100.70347282, 20790.77996589, 20790.77996589,\n",
              "       23100.70347282, 20790.77996589, 23100.70347282, 23100.70347282,\n",
              "       23100.70347282, 20790.77996589, 20790.77996589, 20790.77996589,\n",
              "       23100.70347282, 23100.70347282, 23100.70347282, 23100.70347282,\n",
              "       23100.70347282, 20790.77996589, 23100.70347282, 20790.77996589,\n",
              "       20790.77996589, 20790.77996589, 20790.77996589, 20790.77996589,\n",
              "       23100.70347282, 20790.77996589, 20790.77996589, 20790.77996589,\n",
              "       20790.77996589, 20790.77996589, 20790.77996589, 23100.70347282,\n",
              "       20790.77996589, 23100.70347282, 20790.77996589, 23100.70347282,\n",
              "       20790.77996589, 23100.70347282, 20790.77996589, 20790.77996589,\n",
              "       20790.77996589, 23100.70347282, 23100.70347282, 20790.77996589,\n",
              "       20790.77996589, 20790.77996589, 20790.77996589, 23100.70347282,\n",
              "       23100.70347282, 20790.77996589, 20790.77996589, 20790.77996589,\n",
              "       20790.77996589, 23100.70347282, 20790.77996589, 20790.77996589,\n",
              "       20790.77996589, 20790.77996589, 20790.77996589, 20790.77996589,\n",
              "       23100.70347282, 20790.77996589, 20790.77996589, 23100.70347282,\n",
              "       20790.77996589, 20790.77996589, 20790.77996589, 20790.77996589,\n",
              "       20790.77996589, 20790.77996589, 20790.77996589, 23100.70347282,\n",
              "       20790.77996589, 20790.77996589, 20790.77996589, 20790.77996589,\n",
              "       23100.70347282, 20790.77996589, 20790.77996589, 20790.77996589,\n",
              "       20790.77996589, 20790.77996589, 20790.77996589, 20790.77996589,\n",
              "       20790.77996589, 20790.77996589, 20790.77996589, 23100.70347282,\n",
              "       20790.77996589, 23100.70347282, 20790.77996589, 20790.77996589,\n",
              "       20790.77996589, 20790.77996589, 20790.77996589, 23100.70347282,\n",
              "       20790.77996589, 20790.77996589, 20790.77996589, 20790.77996589,\n",
              "       20790.77996589, 20790.77996589, 20790.77996589, 20790.77996589,\n",
              "       23100.70347282, 20790.77996589, 23100.70347282, 20790.77996589,\n",
              "       23100.70347282, 20790.77996589, 23100.70347282, 20790.77996589,\n",
              "       20790.77996589, 23100.70347282, 20790.77996589, 20790.77996589,\n",
              "       23100.70347282, 20790.77996589, 20790.77996589, 20790.77996589,\n",
              "       20790.77996589, 20790.77996589, 20790.77996589, 20790.77996589,\n",
              "       20790.77996589, 23100.70347282, 23100.70347282, 23100.70347282,\n",
              "       23100.70347282, 20790.77996589, 20790.77996589, 20790.77996589,\n",
              "       20790.77996589, 23100.70347282, 20790.77996589, 20790.77996589,\n",
              "       20790.77996589, 20790.77996589, 20790.77996589, 20790.77996589,\n",
              "       23100.70347282, 20790.77996589, 23100.70347282, 20790.77996589,\n",
              "       20790.77996589, 20790.77996589, 23100.70347282, 20790.77996589,\n",
              "       20790.77996589, 20790.77996589, 23100.70347282, 20790.77996589,\n",
              "       23100.70347282, 20790.77996589, 20790.77996589, 20790.77996589,\n",
              "       23100.70347282, 20790.77996589, 20790.77996589, 20790.77996589,\n",
              "       20790.77996589, 20790.77996589, 23100.70347282, 23100.70347282,\n",
              "       20790.77996589, 20790.77996589, 23100.70347282, 20790.77996589,\n",
              "       20790.77996589, 23100.70347282, 20790.77996589, 23100.70347282,\n",
              "       20790.77996589, 20790.77996589, 20790.77996589, 23100.70347282,\n",
              "       20790.77996589, 20790.77996589, 20790.77996589, 20790.77996589,\n",
              "       20790.77996589, 20790.77996589, 20790.77996589, 20790.77996589,\n",
              "       20790.77996589, 23100.70347282, 20790.77996589, 20790.77996589,\n",
              "       23100.70347282, 23100.70347282, 20790.77996589, 20790.77996589,\n",
              "       20790.77996589, 20790.77996589, 20790.77996589, 20790.77996589,\n",
              "       20790.77996589, 23100.70347282, 23100.70347282, 20790.77996589,\n",
              "       20790.77996589, 20790.77996589, 23100.70347282, 20790.77996589,\n",
              "       23100.70347282, 20790.77996589, 23100.70347282, 20790.77996589,\n",
              "       20790.77996589, 20790.77996589, 20790.77996589, 23100.70347282,\n",
              "       20790.77996589, 20790.77996589, 20790.77996589, 20790.77996589,\n",
              "       20790.77996589, 20790.77996589])"
            ]
          },
          "metadata": {},
          "execution_count": 86
        }
      ]
    },
    {
      "cell_type": "code",
      "source": [
        "df_pred = pd.DataFrame({'Actual': y_test, 'Predicted':y_pred})\n",
        "df_pred\n"
      ],
      "metadata": {
        "colab": {
          "base_uri": "https://localhost:8080/",
          "height": 423
        },
        "outputId": "822d242c-f0f2-4ef4-a0d0-1ff49bc54817",
        "id": "Q-0RAurAEICo"
      },
      "execution_count": 87,
      "outputs": [
        {
          "output_type": "execute_result",
          "data": {
            "text/plain": [
              "           Actual     Predicted\n",
              "0    11045.108844  23100.703473\n",
              "1    12045.920705  20790.779966\n",
              "2    14703.136868  20790.779966\n",
              "3    15053.933735  20790.779966\n",
              "4    12553.071428  20790.779966\n",
              "..            ...           ...\n",
              "237  19981.127911  20790.779966\n",
              "238  16391.926573  20790.779966\n",
              "239  16825.190882  20790.779966\n",
              "240  22358.877678  20790.779966\n",
              "241  13007.984178  20790.779966\n",
              "\n",
              "[242 rows x 2 columns]"
            ],
            "text/html": [
              "\n",
              "  <div id=\"df-f7711312-ed6d-4f48-9d35-1e758e040d8a\">\n",
              "    <div class=\"colab-df-container\">\n",
              "      <div>\n",
              "<style scoped>\n",
              "    .dataframe tbody tr th:only-of-type {\n",
              "        vertical-align: middle;\n",
              "    }\n",
              "\n",
              "    .dataframe tbody tr th {\n",
              "        vertical-align: top;\n",
              "    }\n",
              "\n",
              "    .dataframe thead th {\n",
              "        text-align: right;\n",
              "    }\n",
              "</style>\n",
              "<table border=\"1\" class=\"dataframe\">\n",
              "  <thead>\n",
              "    <tr style=\"text-align: right;\">\n",
              "      <th></th>\n",
              "      <th>Actual</th>\n",
              "      <th>Predicted</th>\n",
              "    </tr>\n",
              "  </thead>\n",
              "  <tbody>\n",
              "    <tr>\n",
              "      <th>0</th>\n",
              "      <td>11045.108844</td>\n",
              "      <td>23100.703473</td>\n",
              "    </tr>\n",
              "    <tr>\n",
              "      <th>1</th>\n",
              "      <td>12045.920705</td>\n",
              "      <td>20790.779966</td>\n",
              "    </tr>\n",
              "    <tr>\n",
              "      <th>2</th>\n",
              "      <td>14703.136868</td>\n",
              "      <td>20790.779966</td>\n",
              "    </tr>\n",
              "    <tr>\n",
              "      <th>3</th>\n",
              "      <td>15053.933735</td>\n",
              "      <td>20790.779966</td>\n",
              "    </tr>\n",
              "    <tr>\n",
              "      <th>4</th>\n",
              "      <td>12553.071428</td>\n",
              "      <td>20790.779966</td>\n",
              "    </tr>\n",
              "    <tr>\n",
              "      <th>...</th>\n",
              "      <td>...</td>\n",
              "      <td>...</td>\n",
              "    </tr>\n",
              "    <tr>\n",
              "      <th>237</th>\n",
              "      <td>19981.127911</td>\n",
              "      <td>20790.779966</td>\n",
              "    </tr>\n",
              "    <tr>\n",
              "      <th>238</th>\n",
              "      <td>16391.926573</td>\n",
              "      <td>20790.779966</td>\n",
              "    </tr>\n",
              "    <tr>\n",
              "      <th>239</th>\n",
              "      <td>16825.190882</td>\n",
              "      <td>20790.779966</td>\n",
              "    </tr>\n",
              "    <tr>\n",
              "      <th>240</th>\n",
              "      <td>22358.877678</td>\n",
              "      <td>20790.779966</td>\n",
              "    </tr>\n",
              "    <tr>\n",
              "      <th>241</th>\n",
              "      <td>13007.984178</td>\n",
              "      <td>20790.779966</td>\n",
              "    </tr>\n",
              "  </tbody>\n",
              "</table>\n",
              "<p>242 rows × 2 columns</p>\n",
              "</div>\n",
              "      <button class=\"colab-df-convert\" onclick=\"convertToInteractive('df-f7711312-ed6d-4f48-9d35-1e758e040d8a')\"\n",
              "              title=\"Convert this dataframe to an interactive table.\"\n",
              "              style=\"display:none;\">\n",
              "        \n",
              "  <svg xmlns=\"http://www.w3.org/2000/svg\" height=\"24px\"viewBox=\"0 0 24 24\"\n",
              "       width=\"24px\">\n",
              "    <path d=\"M0 0h24v24H0V0z\" fill=\"none\"/>\n",
              "    <path d=\"M18.56 5.44l.94 2.06.94-2.06 2.06-.94-2.06-.94-.94-2.06-.94 2.06-2.06.94zm-11 1L8.5 8.5l.94-2.06 2.06-.94-2.06-.94L8.5 2.5l-.94 2.06-2.06.94zm10 10l.94 2.06.94-2.06 2.06-.94-2.06-.94-.94-2.06-.94 2.06-2.06.94z\"/><path d=\"M17.41 7.96l-1.37-1.37c-.4-.4-.92-.59-1.43-.59-.52 0-1.04.2-1.43.59L10.3 9.45l-7.72 7.72c-.78.78-.78 2.05 0 2.83L4 21.41c.39.39.9.59 1.41.59.51 0 1.02-.2 1.41-.59l7.78-7.78 2.81-2.81c.8-.78.8-2.07 0-2.86zM5.41 20L4 18.59l7.72-7.72 1.47 1.35L5.41 20z\"/>\n",
              "  </svg>\n",
              "      </button>\n",
              "      \n",
              "  <style>\n",
              "    .colab-df-container {\n",
              "      display:flex;\n",
              "      flex-wrap:wrap;\n",
              "      gap: 12px;\n",
              "    }\n",
              "\n",
              "    .colab-df-convert {\n",
              "      background-color: #E8F0FE;\n",
              "      border: none;\n",
              "      border-radius: 50%;\n",
              "      cursor: pointer;\n",
              "      display: none;\n",
              "      fill: #1967D2;\n",
              "      height: 32px;\n",
              "      padding: 0 0 0 0;\n",
              "      width: 32px;\n",
              "    }\n",
              "\n",
              "    .colab-df-convert:hover {\n",
              "      background-color: #E2EBFA;\n",
              "      box-shadow: 0px 1px 2px rgba(60, 64, 67, 0.3), 0px 1px 3px 1px rgba(60, 64, 67, 0.15);\n",
              "      fill: #174EA6;\n",
              "    }\n",
              "\n",
              "    [theme=dark] .colab-df-convert {\n",
              "      background-color: #3B4455;\n",
              "      fill: #D2E3FC;\n",
              "    }\n",
              "\n",
              "    [theme=dark] .colab-df-convert:hover {\n",
              "      background-color: #434B5C;\n",
              "      box-shadow: 0px 1px 3px 1px rgba(0, 0, 0, 0.15);\n",
              "      filter: drop-shadow(0px 1px 2px rgba(0, 0, 0, 0.3));\n",
              "      fill: #FFFFFF;\n",
              "    }\n",
              "  </style>\n",
              "\n",
              "      <script>\n",
              "        const buttonEl =\n",
              "          document.querySelector('#df-f7711312-ed6d-4f48-9d35-1e758e040d8a button.colab-df-convert');\n",
              "        buttonEl.style.display =\n",
              "          google.colab.kernel.accessAllowed ? 'block' : 'none';\n",
              "\n",
              "        async function convertToInteractive(key) {\n",
              "          const element = document.querySelector('#df-f7711312-ed6d-4f48-9d35-1e758e040d8a');\n",
              "          const dataTable =\n",
              "            await google.colab.kernel.invokeFunction('convertToInteractive',\n",
              "                                                     [key], {});\n",
              "          if (!dataTable) return;\n",
              "\n",
              "          const docLinkHtml = 'Like what you see? Visit the ' +\n",
              "            '<a target=\"_blank\" href=https://colab.research.google.com/notebooks/data_table.ipynb>data table notebook</a>'\n",
              "            + ' to learn more about interactive tables.';\n",
              "          element.innerHTML = '';\n",
              "          dataTable['output_type'] = 'display_data';\n",
              "          await google.colab.output.renderOutput(dataTable, element);\n",
              "          const docLink = document.createElement('div');\n",
              "          docLink.innerHTML = docLinkHtml;\n",
              "          element.appendChild(docLink);\n",
              "        }\n",
              "      </script>\n",
              "    </div>\n",
              "  </div>\n",
              "  "
            ]
          },
          "metadata": {},
          "execution_count": 87
        }
      ]
    },
    {
      "cell_type": "code",
      "source": [
        "# to calculte model score\n",
        "\n",
        "R2_score=model.score(x_train, y_train)\n",
        "print(R2_score)\n"
      ],
      "metadata": {
        "colab": {
          "base_uri": "https://localhost:8080/"
        },
        "outputId": "4d8610e6-fb8d-4552-a2b7-0ecbd8690394",
        "id": "5r1XtNbmEICo"
      },
      "execution_count": 88,
      "outputs": [
        {
          "output_type": "stream",
          "name": "stdout",
          "text": [
            "0.012388977915944954\n"
          ]
        }
      ]
    },
    {
      "cell_type": "markdown",
      "source": [
        "The model R2 score is less than 0.8 and there is no correlation between values"
      ],
      "metadata": {
        "id": "6efrkGgQJkqi"
      }
    },
    {
      "cell_type": "code",
      "source": [
        ""
      ],
      "metadata": {
        "id": "F6N1vom9EG2o"
      },
      "execution_count": 88,
      "outputs": []
    },
    {
      "cell_type": "code",
      "source": [
        ""
      ],
      "metadata": {
        "id": "OGA1Xr1gEG5b"
      },
      "execution_count": 88,
      "outputs": []
    },
    {
      "cell_type": "code",
      "source": [
        "x=df[['Leather']].values\n",
        "\n",
        "y=df['Price'].values\n"
      ],
      "metadata": {
        "id": "jg5A5Iz1EIkl"
      },
      "execution_count": 89,
      "outputs": []
    },
    {
      "cell_type": "code",
      "source": [
        "#this is the import statment for splitting\n",
        "from sklearn.model_selection import train_test_split   \n",
        "x_train, x_test, y_train, y_test =train_test_split(x,y,test_size=0.3,random_state=10)"
      ],
      "metadata": {
        "id": "Maw1BGdHEIkl"
      },
      "execution_count": 90,
      "outputs": []
    },
    {
      "cell_type": "code",
      "source": [
        "from sklearn.linear_model import LinearRegression\n",
        "model = LinearRegression()\n",
        "model.fit(x_train, y_train)"
      ],
      "metadata": {
        "colab": {
          "base_uri": "https://localhost:8080/"
        },
        "outputId": "2b8c10d1-f336-4a06-b263-ccfec4effd0b",
        "id": "KKP1DTpEEIkl"
      },
      "execution_count": 91,
      "outputs": [
        {
          "output_type": "execute_result",
          "data": {
            "text/plain": [
              "LinearRegression()"
            ]
          },
          "metadata": {},
          "execution_count": 91
        }
      ]
    },
    {
      "cell_type": "code",
      "source": [
        "print('intercept(c) is',model.intercept_)\n",
        "print('slope(m) is',model.coef_)"
      ],
      "metadata": {
        "colab": {
          "base_uri": "https://localhost:8080/"
        },
        "outputId": "e98a4b29-180b-4ea8-87c4-24f56373e990",
        "id": "oC2HTcsNEIkm"
      },
      "execution_count": 92,
      "outputs": [
        {
          "output_type": "stream",
          "name": "stdout",
          "text": [
            "intercept(c) is 19000.314555028737\n",
            "slope(m) is [3579.62191169]\n"
          ]
        }
      ]
    },
    {
      "cell_type": "code",
      "source": [
        "y_pred = model.predict(x_test)\n",
        "y_pred"
      ],
      "metadata": {
        "colab": {
          "base_uri": "https://localhost:8080/"
        },
        "outputId": "9f820f35-9839-4cd1-f3a6-63945781aca0",
        "id": "bhonBuFoEIkm"
      },
      "execution_count": 93,
      "outputs": [
        {
          "output_type": "execute_result",
          "data": {
            "text/plain": [
              "array([22579.93646672, 22579.93646672, 22579.93646672, 22579.93646672,\n",
              "       22579.93646672, 22579.93646672, 19000.31455503, 22579.93646672,\n",
              "       22579.93646672, 22579.93646672, 22579.93646672, 22579.93646672,\n",
              "       22579.93646672, 22579.93646672, 22579.93646672, 19000.31455503,\n",
              "       22579.93646672, 19000.31455503, 19000.31455503, 22579.93646672,\n",
              "       19000.31455503, 22579.93646672, 22579.93646672, 22579.93646672,\n",
              "       22579.93646672, 19000.31455503, 22579.93646672, 22579.93646672,\n",
              "       19000.31455503, 22579.93646672, 19000.31455503, 22579.93646672,\n",
              "       19000.31455503, 22579.93646672, 22579.93646672, 22579.93646672,\n",
              "       22579.93646672, 19000.31455503, 22579.93646672, 19000.31455503,\n",
              "       22579.93646672, 22579.93646672, 22579.93646672, 22579.93646672,\n",
              "       19000.31455503, 19000.31455503, 22579.93646672, 22579.93646672,\n",
              "       22579.93646672, 19000.31455503, 19000.31455503, 22579.93646672,\n",
              "       22579.93646672, 19000.31455503, 22579.93646672, 22579.93646672,\n",
              "       22579.93646672, 22579.93646672, 22579.93646672, 22579.93646672,\n",
              "       22579.93646672, 22579.93646672, 22579.93646672, 22579.93646672,\n",
              "       22579.93646672, 22579.93646672, 22579.93646672, 22579.93646672,\n",
              "       22579.93646672, 19000.31455503, 22579.93646672, 22579.93646672,\n",
              "       22579.93646672, 22579.93646672, 19000.31455503, 22579.93646672,\n",
              "       22579.93646672, 22579.93646672, 22579.93646672, 22579.93646672,\n",
              "       19000.31455503, 22579.93646672, 22579.93646672, 19000.31455503,\n",
              "       22579.93646672, 22579.93646672, 22579.93646672, 22579.93646672,\n",
              "       22579.93646672, 22579.93646672, 22579.93646672, 22579.93646672,\n",
              "       22579.93646672, 19000.31455503, 19000.31455503, 22579.93646672,\n",
              "       22579.93646672, 22579.93646672, 22579.93646672, 22579.93646672,\n",
              "       22579.93646672, 19000.31455503, 22579.93646672, 22579.93646672,\n",
              "       19000.31455503, 22579.93646672, 22579.93646672, 22579.93646672,\n",
              "       22579.93646672, 19000.31455503, 22579.93646672, 22579.93646672,\n",
              "       22579.93646672, 22579.93646672, 19000.31455503, 22579.93646672,\n",
              "       19000.31455503, 22579.93646672, 22579.93646672, 22579.93646672,\n",
              "       22579.93646672, 22579.93646672, 22579.93646672, 22579.93646672,\n",
              "       22579.93646672, 19000.31455503, 22579.93646672, 19000.31455503,\n",
              "       22579.93646672, 22579.93646672, 22579.93646672, 22579.93646672,\n",
              "       22579.93646672, 22579.93646672, 22579.93646672, 19000.31455503,\n",
              "       22579.93646672, 22579.93646672, 22579.93646672, 22579.93646672,\n",
              "       19000.31455503, 22579.93646672, 22579.93646672, 22579.93646672,\n",
              "       22579.93646672, 22579.93646672, 22579.93646672, 22579.93646672,\n",
              "       19000.31455503, 19000.31455503, 19000.31455503, 19000.31455503,\n",
              "       22579.93646672, 19000.31455503, 22579.93646672, 19000.31455503,\n",
              "       22579.93646672, 19000.31455503, 22579.93646672, 22579.93646672,\n",
              "       22579.93646672, 22579.93646672, 22579.93646672, 19000.31455503,\n",
              "       19000.31455503, 22579.93646672, 22579.93646672, 22579.93646672,\n",
              "       22579.93646672, 22579.93646672, 19000.31455503, 19000.31455503,\n",
              "       22579.93646672, 19000.31455503, 19000.31455503, 22579.93646672,\n",
              "       22579.93646672, 22579.93646672, 19000.31455503, 22579.93646672,\n",
              "       19000.31455503, 22579.93646672, 22579.93646672, 22579.93646672,\n",
              "       22579.93646672, 22579.93646672, 19000.31455503, 19000.31455503,\n",
              "       22579.93646672, 19000.31455503, 22579.93646672, 22579.93646672,\n",
              "       22579.93646672, 22579.93646672, 22579.93646672, 22579.93646672,\n",
              "       22579.93646672, 22579.93646672, 22579.93646672, 22579.93646672,\n",
              "       22579.93646672, 22579.93646672, 22579.93646672, 19000.31455503,\n",
              "       22579.93646672, 22579.93646672, 22579.93646672, 22579.93646672,\n",
              "       19000.31455503, 19000.31455503, 22579.93646672, 22579.93646672,\n",
              "       22579.93646672, 19000.31455503, 22579.93646672, 22579.93646672,\n",
              "       22579.93646672, 19000.31455503, 19000.31455503, 22579.93646672,\n",
              "       22579.93646672, 22579.93646672, 22579.93646672, 19000.31455503,\n",
              "       19000.31455503, 22579.93646672, 19000.31455503, 19000.31455503,\n",
              "       22579.93646672, 22579.93646672, 19000.31455503, 19000.31455503,\n",
              "       22579.93646672, 22579.93646672, 19000.31455503, 22579.93646672,\n",
              "       22579.93646672, 19000.31455503, 19000.31455503, 22579.93646672,\n",
              "       19000.31455503, 22579.93646672])"
            ]
          },
          "metadata": {},
          "execution_count": 93
        }
      ]
    },
    {
      "cell_type": "code",
      "source": [
        "df_pred = pd.DataFrame({'Actual': y_test, 'Predicted':y_pred})\n",
        "df_pred\n"
      ],
      "metadata": {
        "colab": {
          "base_uri": "https://localhost:8080/",
          "height": 423
        },
        "outputId": "69cb6377-24d2-4bac-b7de-7fa106dbc25a",
        "id": "2qCgAsoZEIkm"
      },
      "execution_count": 94,
      "outputs": [
        {
          "output_type": "execute_result",
          "data": {
            "text/plain": [
              "           Actual     Predicted\n",
              "0    11045.108844  22579.936467\n",
              "1    12045.920705  22579.936467\n",
              "2    14703.136868  22579.936467\n",
              "3    15053.933735  22579.936467\n",
              "4    12553.071428  22579.936467\n",
              "..            ...           ...\n",
              "237  19981.127911  19000.314555\n",
              "238  16391.926573  19000.314555\n",
              "239  16825.190882  22579.936467\n",
              "240  22358.877678  19000.314555\n",
              "241  13007.984178  22579.936467\n",
              "\n",
              "[242 rows x 2 columns]"
            ],
            "text/html": [
              "\n",
              "  <div id=\"df-014ea71e-b135-478a-9a6a-3045dda68e6f\">\n",
              "    <div class=\"colab-df-container\">\n",
              "      <div>\n",
              "<style scoped>\n",
              "    .dataframe tbody tr th:only-of-type {\n",
              "        vertical-align: middle;\n",
              "    }\n",
              "\n",
              "    .dataframe tbody tr th {\n",
              "        vertical-align: top;\n",
              "    }\n",
              "\n",
              "    .dataframe thead th {\n",
              "        text-align: right;\n",
              "    }\n",
              "</style>\n",
              "<table border=\"1\" class=\"dataframe\">\n",
              "  <thead>\n",
              "    <tr style=\"text-align: right;\">\n",
              "      <th></th>\n",
              "      <th>Actual</th>\n",
              "      <th>Predicted</th>\n",
              "    </tr>\n",
              "  </thead>\n",
              "  <tbody>\n",
              "    <tr>\n",
              "      <th>0</th>\n",
              "      <td>11045.108844</td>\n",
              "      <td>22579.936467</td>\n",
              "    </tr>\n",
              "    <tr>\n",
              "      <th>1</th>\n",
              "      <td>12045.920705</td>\n",
              "      <td>22579.936467</td>\n",
              "    </tr>\n",
              "    <tr>\n",
              "      <th>2</th>\n",
              "      <td>14703.136868</td>\n",
              "      <td>22579.936467</td>\n",
              "    </tr>\n",
              "    <tr>\n",
              "      <th>3</th>\n",
              "      <td>15053.933735</td>\n",
              "      <td>22579.936467</td>\n",
              "    </tr>\n",
              "    <tr>\n",
              "      <th>4</th>\n",
              "      <td>12553.071428</td>\n",
              "      <td>22579.936467</td>\n",
              "    </tr>\n",
              "    <tr>\n",
              "      <th>...</th>\n",
              "      <td>...</td>\n",
              "      <td>...</td>\n",
              "    </tr>\n",
              "    <tr>\n",
              "      <th>237</th>\n",
              "      <td>19981.127911</td>\n",
              "      <td>19000.314555</td>\n",
              "    </tr>\n",
              "    <tr>\n",
              "      <th>238</th>\n",
              "      <td>16391.926573</td>\n",
              "      <td>19000.314555</td>\n",
              "    </tr>\n",
              "    <tr>\n",
              "      <th>239</th>\n",
              "      <td>16825.190882</td>\n",
              "      <td>22579.936467</td>\n",
              "    </tr>\n",
              "    <tr>\n",
              "      <th>240</th>\n",
              "      <td>22358.877678</td>\n",
              "      <td>19000.314555</td>\n",
              "    </tr>\n",
              "    <tr>\n",
              "      <th>241</th>\n",
              "      <td>13007.984178</td>\n",
              "      <td>22579.936467</td>\n",
              "    </tr>\n",
              "  </tbody>\n",
              "</table>\n",
              "<p>242 rows × 2 columns</p>\n",
              "</div>\n",
              "      <button class=\"colab-df-convert\" onclick=\"convertToInteractive('df-014ea71e-b135-478a-9a6a-3045dda68e6f')\"\n",
              "              title=\"Convert this dataframe to an interactive table.\"\n",
              "              style=\"display:none;\">\n",
              "        \n",
              "  <svg xmlns=\"http://www.w3.org/2000/svg\" height=\"24px\"viewBox=\"0 0 24 24\"\n",
              "       width=\"24px\">\n",
              "    <path d=\"M0 0h24v24H0V0z\" fill=\"none\"/>\n",
              "    <path d=\"M18.56 5.44l.94 2.06.94-2.06 2.06-.94-2.06-.94-.94-2.06-.94 2.06-2.06.94zm-11 1L8.5 8.5l.94-2.06 2.06-.94-2.06-.94L8.5 2.5l-.94 2.06-2.06.94zm10 10l.94 2.06.94-2.06 2.06-.94-2.06-.94-.94-2.06-.94 2.06-2.06.94z\"/><path d=\"M17.41 7.96l-1.37-1.37c-.4-.4-.92-.59-1.43-.59-.52 0-1.04.2-1.43.59L10.3 9.45l-7.72 7.72c-.78.78-.78 2.05 0 2.83L4 21.41c.39.39.9.59 1.41.59.51 0 1.02-.2 1.41-.59l7.78-7.78 2.81-2.81c.8-.78.8-2.07 0-2.86zM5.41 20L4 18.59l7.72-7.72 1.47 1.35L5.41 20z\"/>\n",
              "  </svg>\n",
              "      </button>\n",
              "      \n",
              "  <style>\n",
              "    .colab-df-container {\n",
              "      display:flex;\n",
              "      flex-wrap:wrap;\n",
              "      gap: 12px;\n",
              "    }\n",
              "\n",
              "    .colab-df-convert {\n",
              "      background-color: #E8F0FE;\n",
              "      border: none;\n",
              "      border-radius: 50%;\n",
              "      cursor: pointer;\n",
              "      display: none;\n",
              "      fill: #1967D2;\n",
              "      height: 32px;\n",
              "      padding: 0 0 0 0;\n",
              "      width: 32px;\n",
              "    }\n",
              "\n",
              "    .colab-df-convert:hover {\n",
              "      background-color: #E2EBFA;\n",
              "      box-shadow: 0px 1px 2px rgba(60, 64, 67, 0.3), 0px 1px 3px 1px rgba(60, 64, 67, 0.15);\n",
              "      fill: #174EA6;\n",
              "    }\n",
              "\n",
              "    [theme=dark] .colab-df-convert {\n",
              "      background-color: #3B4455;\n",
              "      fill: #D2E3FC;\n",
              "    }\n",
              "\n",
              "    [theme=dark] .colab-df-convert:hover {\n",
              "      background-color: #434B5C;\n",
              "      box-shadow: 0px 1px 3px 1px rgba(0, 0, 0, 0.15);\n",
              "      filter: drop-shadow(0px 1px 2px rgba(0, 0, 0, 0.3));\n",
              "      fill: #FFFFFF;\n",
              "    }\n",
              "  </style>\n",
              "\n",
              "      <script>\n",
              "        const buttonEl =\n",
              "          document.querySelector('#df-014ea71e-b135-478a-9a6a-3045dda68e6f button.colab-df-convert');\n",
              "        buttonEl.style.display =\n",
              "          google.colab.kernel.accessAllowed ? 'block' : 'none';\n",
              "\n",
              "        async function convertToInteractive(key) {\n",
              "          const element = document.querySelector('#df-014ea71e-b135-478a-9a6a-3045dda68e6f');\n",
              "          const dataTable =\n",
              "            await google.colab.kernel.invokeFunction('convertToInteractive',\n",
              "                                                     [key], {});\n",
              "          if (!dataTable) return;\n",
              "\n",
              "          const docLinkHtml = 'Like what you see? Visit the ' +\n",
              "            '<a target=\"_blank\" href=https://colab.research.google.com/notebooks/data_table.ipynb>data table notebook</a>'\n",
              "            + ' to learn more about interactive tables.';\n",
              "          element.innerHTML = '';\n",
              "          dataTable['output_type'] = 'display_data';\n",
              "          await google.colab.output.renderOutput(dataTable, element);\n",
              "          const docLink = document.createElement('div');\n",
              "          docLink.innerHTML = docLinkHtml;\n",
              "          element.appendChild(docLink);\n",
              "        }\n",
              "      </script>\n",
              "    </div>\n",
              "  </div>\n",
              "  "
            ]
          },
          "metadata": {},
          "execution_count": 94
        }
      ]
    },
    {
      "cell_type": "code",
      "source": [
        "# to calculte model score\n",
        "\n",
        "R2_score=model.score(x_train, y_train)\n",
        "print(R2_score)\n"
      ],
      "metadata": {
        "colab": {
          "base_uri": "https://localhost:8080/"
        },
        "outputId": "d92c4e41-5c69-4728-f0b8-d0c8d0834f5d",
        "id": "6Z1B3-SZEIkm"
      },
      "execution_count": 95,
      "outputs": [
        {
          "output_type": "stream",
          "name": "stdout",
          "text": [
            "0.026629702850609394\n"
          ]
        }
      ]
    },
    {
      "cell_type": "markdown",
      "source": [
        "The model R2 score is less than 0.8 and there is no correlation between values"
      ],
      "metadata": {
        "id": "YkDWjnIWKBNY"
      }
    },
    {
      "cell_type": "code",
      "source": [
        ""
      ],
      "metadata": {
        "id": "9-P91dLcEG8Y"
      },
      "execution_count": 95,
      "outputs": []
    },
    {
      "cell_type": "code",
      "source": [
        ""
      ],
      "metadata": {
        "id": "lsX7xOmgEG_J"
      },
      "execution_count": 95,
      "outputs": []
    },
    {
      "cell_type": "code",
      "source": [
        "x=df.drop(columns=[\"Price\"])\n",
        "y=df[\"Price\"]\n"
      ],
      "metadata": {
        "id": "q5PxVOGqEJG9"
      },
      "execution_count": 96,
      "outputs": []
    },
    {
      "cell_type": "code",
      "source": [
        "#this is the import statment for splitting\n",
        "from sklearn.model_selection import train_test_split   \n",
        "x_train, x_test, y_train, y_test =train_test_split(x,y,test_size=0.3,random_state=10)"
      ],
      "metadata": {
        "id": "DsjkWJyuEJG9"
      },
      "execution_count": 97,
      "outputs": []
    },
    {
      "cell_type": "code",
      "source": [
        "from sklearn.linear_model import LinearRegression\n",
        "model = LinearRegression()\n",
        "model.fit(x_train, y_train)"
      ],
      "metadata": {
        "colab": {
          "base_uri": "https://localhost:8080/"
        },
        "outputId": "1c9da8df-382d-4028-dfe7-88a1b37b48e6",
        "id": "6KoYs50vEJG-"
      },
      "execution_count": 98,
      "outputs": [
        {
          "output_type": "execute_result",
          "data": {
            "text/plain": [
              "LinearRegression()"
            ]
          },
          "metadata": {},
          "execution_count": 98
        }
      ]
    },
    {
      "cell_type": "code",
      "source": [
        "print('intercept(c) is',model.intercept_)\n",
        "print('slope(m) is',model.coef_)"
      ],
      "metadata": {
        "colab": {
          "base_uri": "https://localhost:8080/"
        },
        "outputId": "8440cb99-26db-49a6-f576-00f2779270fc",
        "id": "N27q7q2rEJG-"
      },
      "execution_count": 99,
      "outputs": [
        {
          "output_type": "stream",
          "name": "stdout",
          "text": [
            "intercept(c) is 4592.184382886124\n",
            "slope(m) is [-1.67208369e-01  6.55118902e+02 -1.86086588e+02 -1.06728923e+02\n",
            " -4.16845108e+00  5.13208628e+03 -1.34357792e+03 -1.01636520e+03\n",
            "  4.79161594e+03 -1.22210179e+03  2.75957466e+03]\n"
          ]
        }
      ]
    },
    {
      "cell_type": "code",
      "source": [
        "y_pred = model.predict(x_test)\n",
        "y_pred"
      ],
      "metadata": {
        "colab": {
          "base_uri": "https://localhost:8080/"
        },
        "outputId": "1ef2a39e-4263-4077-e3cc-e1bef646f3f5",
        "id": "oi5kuvL4EJG-"
      },
      "execution_count": 100,
      "outputs": [
        {
          "output_type": "execute_result",
          "data": {
            "text/plain": [
              "array([20265.26214947, 16926.97310724, 23616.2547243 , 22539.50120945,\n",
              "       17694.21880337, 20031.17906703, 16114.03378672, 22783.76354071,\n",
              "       28231.23194264, 16287.07565108, 22933.74136295, 12904.70911309,\n",
              "       16179.39880944, 10964.39054653, 33308.48855134, 17458.42671622,\n",
              "       17560.81903803, 11638.53362633, 12296.18832242, 14862.10559326,\n",
              "       21697.56849366, 10357.92771827, 20391.51310203, 22624.33939812,\n",
              "       31164.74724033, 22535.49470804,  7730.85533087, 16830.66108675,\n",
              "       19265.92500293, 26502.69434753, 22056.12401913, 23452.79445906,\n",
              "       13269.44954369, 19758.28710763, 18205.81536379, 26660.11587189,\n",
              "       11360.03345639, 22903.00728283, 38874.43810543, 22156.07078264,\n",
              "       36483.7959232 ,  9209.25327874, 23842.68120335, 21563.98144074,\n",
              "       22269.94692161, 20221.66134393, 18814.68208342, 15053.39691721,\n",
              "       23365.33328792, 23623.76729994, 20417.38087777, 22122.71522101,\n",
              "       34350.39949329, 20365.74171803, 37276.45190496, 25825.68664804,\n",
              "       22166.85730079, 25250.06700869, 17460.24626948, 26267.01808766,\n",
              "       14968.877459  , 15028.7200721 , 14987.69122681, 13862.77583886,\n",
              "       18733.93059518, 33367.99054949, 24749.741158  , 26622.23273583,\n",
              "       23550.30852698, 22779.45962641, 19459.60464403, 21438.65871724,\n",
              "       26173.66362803, 24172.18819871, 23805.52279694, 12230.8566713 ,\n",
              "       25474.84954287, 38560.92241373, 18070.68561965, 20549.46891083,\n",
              "       14957.92533351, 22066.60313361, 11446.44769978, 16816.41728031,\n",
              "       32212.31828133, 15587.15868452, 17315.42167045, 11301.79477957,\n",
              "       15809.73576683, 19135.49389491, 17371.81988435, 18513.87422775,\n",
              "       34506.61899991, 22113.23203842, 19336.33687166, 22815.39615679,\n",
              "       23578.32466105, 35197.02235513, 19462.12642525, 14804.31184459,\n",
              "       26900.3511993 ,  7407.3393968 , 14937.44228564, 13542.42286385,\n",
              "       11676.20096791, 18637.09464713, 21524.53264359, 15717.67398483,\n",
              "       22415.43801697, 22001.56084758, 19420.34552501, 28708.08066183,\n",
              "       22419.41279201, 17015.92251063,  6990.71784497, 22483.60284339,\n",
              "       22193.86625851, 37117.43674613, 11117.60239308, 13096.4923675 ,\n",
              "       14322.21986872, 38097.33360632, 20930.18580402, 25485.9002562 ,\n",
              "       10758.58969816, 17420.4231106 , 11386.76081216, 10995.83011483,\n",
              "       21200.99490863, 11458.20584055, 27194.62291532, 18829.70965286,\n",
              "       33558.50224961, 18221.10591122, 23242.2679284 , 12239.05675707,\n",
              "       22575.5070355 , 35291.55026893, 35728.13772019, 38271.54421964,\n",
              "       23590.76097283, 24702.54859986, 21866.12370742, 22446.38027358,\n",
              "       26861.77022417, 17705.68600348, 15172.61648424, 22518.20244775,\n",
              "       14689.74161037, 14747.10441269,  9596.07276461, 20632.28141778,\n",
              "       37247.26933563, 20076.44301357, 34529.85045557, 22417.185348  ,\n",
              "       31325.30206546, 17211.45431445, 18661.17265225, 31624.11392831,\n",
              "       16889.70460185, 29448.28149264, 12500.36204901, 10550.86736777,\n",
              "       21851.88517623, 16276.51677154, 23559.47339842, 22887.26180821,\n",
              "       22352.42129407, 17027.43105572, 16539.61875435, 22081.82086466,\n",
              "       22089.16241506,  9277.84407933, 17026.18961815, 21397.2500706 ,\n",
              "       32098.44938211, 26670.39663279, 12749.31773715, 22688.03826777,\n",
              "       26369.53667405, 22600.83387227, 11162.36718108, 18871.86534567,\n",
              "       26192.8398744 , 18779.5862761 , 18845.60714743,  7517.23281748,\n",
              "       37653.89701198, 10999.82183828, 37324.7862537 , 11288.1078745 ,\n",
              "       17485.0337167 , 17558.23294781, 18194.16432528, 13063.52011233,\n",
              "       16041.76558582, 19970.2101403 , 11776.55153297, 35217.48231797,\n",
              "       20312.45294398, 23176.38412003, 18702.98489307, 20314.4470155 ,\n",
              "       35723.68182713, 22089.10540925, 11897.49679822, 21782.07354772,\n",
              "       22626.77154912, 23508.56169577, 18927.9883091 , 25691.45887328,\n",
              "       36921.88184974, 24121.19814619, 28523.45200421, 25965.05691883,\n",
              "       19636.29502759, 18944.23324658, 24546.8888453 , 22643.65825669,\n",
              "       20617.57091545, 25002.22579505, 32799.14767847, 18786.9940397 ,\n",
              "       19850.41313414, 18198.92795168, 10965.40380109, 17174.67411419,\n",
              "       13953.44894365, 21588.48448235, 11779.00993361, 26881.4980813 ,\n",
              "       17698.06259594, 11092.73198037, 20379.32386264, 18771.55737061,\n",
              "       18649.47821502, 18008.32773568, 15546.42522422, 18505.81171316,\n",
              "       23591.77415561, 23685.62829589])"
            ]
          },
          "metadata": {},
          "execution_count": 100
        }
      ]
    },
    {
      "cell_type": "code",
      "source": [
        "df_pred = pd.DataFrame({'Actual': y_test, 'Predicted':y_pred})\n",
        "df_pred\n"
      ],
      "metadata": {
        "colab": {
          "base_uri": "https://localhost:8080/",
          "height": 423
        },
        "outputId": "f5b6e70f-846a-428c-dc5a-a9f7433c2b1e",
        "id": "XFplHpAsEJG-"
      },
      "execution_count": 101,
      "outputs": [
        {
          "output_type": "execute_result",
          "data": {
            "text/plain": [
              "           Actual     Predicted\n",
              "167  11045.108844  20265.262149\n",
              "222  12045.920705  16926.973107\n",
              "539  14703.136868  23616.254724\n",
              "250  15053.933735  22539.501209\n",
              "309  12553.071428  17694.218803\n",
              "..            ...           ...\n",
              "56   19981.127911  18008.327736\n",
              "600  16391.926573  15546.425224\n",
              "396  16825.190882  18505.811713\n",
              "20   22358.877678  23591.774156\n",
              "220  13007.984178  23685.628296\n",
              "\n",
              "[242 rows x 2 columns]"
            ],
            "text/html": [
              "\n",
              "  <div id=\"df-35b232f0-9d13-4a2c-8aad-20c4ab6abcdd\">\n",
              "    <div class=\"colab-df-container\">\n",
              "      <div>\n",
              "<style scoped>\n",
              "    .dataframe tbody tr th:only-of-type {\n",
              "        vertical-align: middle;\n",
              "    }\n",
              "\n",
              "    .dataframe tbody tr th {\n",
              "        vertical-align: top;\n",
              "    }\n",
              "\n",
              "    .dataframe thead th {\n",
              "        text-align: right;\n",
              "    }\n",
              "</style>\n",
              "<table border=\"1\" class=\"dataframe\">\n",
              "  <thead>\n",
              "    <tr style=\"text-align: right;\">\n",
              "      <th></th>\n",
              "      <th>Actual</th>\n",
              "      <th>Predicted</th>\n",
              "    </tr>\n",
              "  </thead>\n",
              "  <tbody>\n",
              "    <tr>\n",
              "      <th>167</th>\n",
              "      <td>11045.108844</td>\n",
              "      <td>20265.262149</td>\n",
              "    </tr>\n",
              "    <tr>\n",
              "      <th>222</th>\n",
              "      <td>12045.920705</td>\n",
              "      <td>16926.973107</td>\n",
              "    </tr>\n",
              "    <tr>\n",
              "      <th>539</th>\n",
              "      <td>14703.136868</td>\n",
              "      <td>23616.254724</td>\n",
              "    </tr>\n",
              "    <tr>\n",
              "      <th>250</th>\n",
              "      <td>15053.933735</td>\n",
              "      <td>22539.501209</td>\n",
              "    </tr>\n",
              "    <tr>\n",
              "      <th>309</th>\n",
              "      <td>12553.071428</td>\n",
              "      <td>17694.218803</td>\n",
              "    </tr>\n",
              "    <tr>\n",
              "      <th>...</th>\n",
              "      <td>...</td>\n",
              "      <td>...</td>\n",
              "    </tr>\n",
              "    <tr>\n",
              "      <th>56</th>\n",
              "      <td>19981.127911</td>\n",
              "      <td>18008.327736</td>\n",
              "    </tr>\n",
              "    <tr>\n",
              "      <th>600</th>\n",
              "      <td>16391.926573</td>\n",
              "      <td>15546.425224</td>\n",
              "    </tr>\n",
              "    <tr>\n",
              "      <th>396</th>\n",
              "      <td>16825.190882</td>\n",
              "      <td>18505.811713</td>\n",
              "    </tr>\n",
              "    <tr>\n",
              "      <th>20</th>\n",
              "      <td>22358.877678</td>\n",
              "      <td>23591.774156</td>\n",
              "    </tr>\n",
              "    <tr>\n",
              "      <th>220</th>\n",
              "      <td>13007.984178</td>\n",
              "      <td>23685.628296</td>\n",
              "    </tr>\n",
              "  </tbody>\n",
              "</table>\n",
              "<p>242 rows × 2 columns</p>\n",
              "</div>\n",
              "      <button class=\"colab-df-convert\" onclick=\"convertToInteractive('df-35b232f0-9d13-4a2c-8aad-20c4ab6abcdd')\"\n",
              "              title=\"Convert this dataframe to an interactive table.\"\n",
              "              style=\"display:none;\">\n",
              "        \n",
              "  <svg xmlns=\"http://www.w3.org/2000/svg\" height=\"24px\"viewBox=\"0 0 24 24\"\n",
              "       width=\"24px\">\n",
              "    <path d=\"M0 0h24v24H0V0z\" fill=\"none\"/>\n",
              "    <path d=\"M18.56 5.44l.94 2.06.94-2.06 2.06-.94-2.06-.94-.94-2.06-.94 2.06-2.06.94zm-11 1L8.5 8.5l.94-2.06 2.06-.94-2.06-.94L8.5 2.5l-.94 2.06-2.06.94zm10 10l.94 2.06.94-2.06 2.06-.94-2.06-.94-.94-2.06-.94 2.06-2.06.94z\"/><path d=\"M17.41 7.96l-1.37-1.37c-.4-.4-.92-.59-1.43-.59-.52 0-1.04.2-1.43.59L10.3 9.45l-7.72 7.72c-.78.78-.78 2.05 0 2.83L4 21.41c.39.39.9.59 1.41.59.51 0 1.02-.2 1.41-.59l7.78-7.78 2.81-2.81c.8-.78.8-2.07 0-2.86zM5.41 20L4 18.59l7.72-7.72 1.47 1.35L5.41 20z\"/>\n",
              "  </svg>\n",
              "      </button>\n",
              "      \n",
              "  <style>\n",
              "    .colab-df-container {\n",
              "      display:flex;\n",
              "      flex-wrap:wrap;\n",
              "      gap: 12px;\n",
              "    }\n",
              "\n",
              "    .colab-df-convert {\n",
              "      background-color: #E8F0FE;\n",
              "      border: none;\n",
              "      border-radius: 50%;\n",
              "      cursor: pointer;\n",
              "      display: none;\n",
              "      fill: #1967D2;\n",
              "      height: 32px;\n",
              "      padding: 0 0 0 0;\n",
              "      width: 32px;\n",
              "    }\n",
              "\n",
              "    .colab-df-convert:hover {\n",
              "      background-color: #E2EBFA;\n",
              "      box-shadow: 0px 1px 2px rgba(60, 64, 67, 0.3), 0px 1px 3px 1px rgba(60, 64, 67, 0.15);\n",
              "      fill: #174EA6;\n",
              "    }\n",
              "\n",
              "    [theme=dark] .colab-df-convert {\n",
              "      background-color: #3B4455;\n",
              "      fill: #D2E3FC;\n",
              "    }\n",
              "\n",
              "    [theme=dark] .colab-df-convert:hover {\n",
              "      background-color: #434B5C;\n",
              "      box-shadow: 0px 1px 3px 1px rgba(0, 0, 0, 0.15);\n",
              "      filter: drop-shadow(0px 1px 2px rgba(0, 0, 0, 0.3));\n",
              "      fill: #FFFFFF;\n",
              "    }\n",
              "  </style>\n",
              "\n",
              "      <script>\n",
              "        const buttonEl =\n",
              "          document.querySelector('#df-35b232f0-9d13-4a2c-8aad-20c4ab6abcdd button.colab-df-convert');\n",
              "        buttonEl.style.display =\n",
              "          google.colab.kernel.accessAllowed ? 'block' : 'none';\n",
              "\n",
              "        async function convertToInteractive(key) {\n",
              "          const element = document.querySelector('#df-35b232f0-9d13-4a2c-8aad-20c4ab6abcdd');\n",
              "          const dataTable =\n",
              "            await google.colab.kernel.invokeFunction('convertToInteractive',\n",
              "                                                     [key], {});\n",
              "          if (!dataTable) return;\n",
              "\n",
              "          const docLinkHtml = 'Like what you see? Visit the ' +\n",
              "            '<a target=\"_blank\" href=https://colab.research.google.com/notebooks/data_table.ipynb>data table notebook</a>'\n",
              "            + ' to learn more about interactive tables.';\n",
              "          element.innerHTML = '';\n",
              "          dataTable['output_type'] = 'display_data';\n",
              "          await google.colab.output.renderOutput(dataTable, element);\n",
              "          const docLink = document.createElement('div');\n",
              "          docLink.innerHTML = docLinkHtml;\n",
              "          element.appendChild(docLink);\n",
              "        }\n",
              "      </script>\n",
              "    </div>\n",
              "  </div>\n",
              "  "
            ]
          },
          "metadata": {},
          "execution_count": 101
        }
      ]
    },
    {
      "cell_type": "code",
      "source": [
        "# to calculte model score\n",
        "\n",
        "R2_score=model.score(x_train, y_train)\n",
        "print(R2_score)\n"
      ],
      "metadata": {
        "colab": {
          "base_uri": "https://localhost:8080/"
        },
        "outputId": "30a03e0e-c5aa-44c9-f8a5-030c3b37ed9e",
        "id": "O6kZLiQyEJG_"
      },
      "execution_count": 102,
      "outputs": [
        {
          "output_type": "stream",
          "name": "stdout",
          "text": [
            "0.49988897738651905\n"
          ]
        }
      ]
    },
    {
      "cell_type": "markdown",
      "source": [
        "The model R2 score is less than 0.8 and there is no correlation between values"
      ],
      "metadata": {
        "id": "2gQLMrR_KffX"
      }
    },
    {
      "cell_type": "code",
      "source": [
        ""
      ],
      "metadata": {
        "id": "1jujJ76fEHES"
      },
      "execution_count": 102,
      "outputs": []
    },
    {
      "cell_type": "code",
      "source": [
        ""
      ],
      "metadata": {
        "id": "y1GTtOC8Kg81"
      },
      "execution_count": 102,
      "outputs": []
    },
    {
      "cell_type": "code",
      "source": [
        "x=df[['Cylinder','Liter','Make','Model','Type']].values\n",
        "\n",
        "y=df['Price'].values\n"
      ],
      "metadata": {
        "id": "6EhzlOeBLEgA"
      },
      "execution_count": 112,
      "outputs": []
    },
    {
      "cell_type": "code",
      "source": [
        "#Price\tMileage\tMake\tModel\tTrim\tType\tCylinder\tLiter\tDoors\tCruise\tSound\tLeather"
      ],
      "metadata": {
        "id": "VRcn-CAmMoL0"
      },
      "execution_count": 105,
      "outputs": []
    },
    {
      "cell_type": "code",
      "source": [
        "#this is the import statment for splitting\n",
        "from sklearn.model_selection import train_test_split   \n",
        "x_train, x_test, y_train, y_test =train_test_split(x,y,test_size=0.3,random_state=10)"
      ],
      "metadata": {
        "id": "xA0QyGiKLEgA"
      },
      "execution_count": 113,
      "outputs": []
    },
    {
      "cell_type": "code",
      "source": [
        "from sklearn.linear_model import LinearRegression\n",
        "model = LinearRegression()\n",
        "model.fit(x_train, y_train)"
      ],
      "metadata": {
        "colab": {
          "base_uri": "https://localhost:8080/"
        },
        "outputId": "dbfcfed7-e74d-4e2a-e947-7d2de949ac40",
        "id": "C9Qne0-FLEgB"
      },
      "execution_count": 114,
      "outputs": [
        {
          "output_type": "execute_result",
          "data": {
            "text/plain": [
              "LinearRegression()"
            ]
          },
          "metadata": {},
          "execution_count": 114
        }
      ]
    },
    {
      "cell_type": "code",
      "source": [
        "print('intercept(c) is',model.intercept_)\n",
        "print('slope(m) is',model.coef_)"
      ],
      "metadata": {
        "colab": {
          "base_uri": "https://localhost:8080/"
        },
        "outputId": "f971d928-d37a-4242-9c76-9ce92e3e39d6",
        "id": "QL02PayZLEgB"
      },
      "execution_count": 115,
      "outputs": [
        {
          "output_type": "stream",
          "name": "stdout",
          "text": [
            "intercept(c) is 35.53433071063773\n",
            "slope(m) is [4743.07486159  289.94615449  818.05777982 -285.65038264 -910.75866896]\n"
          ]
        }
      ]
    },
    {
      "cell_type": "code",
      "source": [
        "y_pred = model.predict(x_test)\n",
        "y_pred"
      ],
      "metadata": {
        "colab": {
          "base_uri": "https://localhost:8080/"
        },
        "outputId": "e49dfebd-76eb-42df-b670-52bc9ed442b4",
        "id": "4yVdruK5LEgB"
      },
      "execution_count": 116,
      "outputs": [
        {
          "output_type": "execute_result",
          "data": {
            "text/plain": [
              "array([17858.09393282, 17800.21876392, 26167.15859123, 17800.21876392,\n",
              "       16943.26761601, 23072.26117003, 15290.72055646, 22467.78407945,\n",
              "       22288.65644007, 19842.03081583, 23179.87621212, 15407.40066074,\n",
              "       15978.70142601, 15978.70142601, 33400.56195018, 19842.03081583,\n",
              "       22467.78407945, 16947.33526386, 16947.33526386, 12905.26889101,\n",
              "       23072.26117003, 15290.72055646, 23072.26117003, 19072.06351427,\n",
              "       29401.45659327, 20521.20523159,  9771.36403971, 17800.21876392,\n",
              "       19842.03081583, 25106.41144472, 22574.3068227 , 18161.30484532,\n",
              "       16947.33526386, 16943.26761601, 17858.09393282, 26167.15859123,\n",
              "        9771.36403971, 23179.87621212, 37321.8805709 , 20293.54407985,\n",
              "       33400.56195018, 15121.7502781 , 19556.3804332 , 20293.54407985,\n",
              "       23072.26117003, 20293.54407985, 16943.26761601, 15978.70142601,\n",
              "       22574.3068227 , 27603.77392411, 23179.87621212, 19357.71389691,\n",
              "       37642.47073579, 23072.26117003, 37321.8805709 , 19072.06351427,\n",
              "       19072.06351427, 22288.65644007,  9771.36403971, 19556.3804332 ,\n",
              "       15978.70142601, 16947.33526386, 16943.26761601, 15121.7502781 ,\n",
              "       19436.59293194, 33400.56195018, 20579.19446248, 27603.77392411,\n",
              "       17800.21876392, 19556.3804332 , 18446.95522795, 18446.95522795,\n",
              "       24175.96933248, 19357.71389691, 27603.77392411, 15121.7502781 ,\n",
              "       22467.78407945, 37321.8805709 , 15978.70142601, 16943.26761601,\n",
              "       17112.23789437, 21557.0254105 , 15121.7502781 , 19436.59293194,\n",
              "       35719.05539857, 15407.40066074, 15121.7502781 , 15290.72055646,\n",
              "       16943.26761601, 17858.09393282, 21557.0254105 , 16943.26761601,\n",
              "       31276.78145223, 24175.96933248, 22574.3068227 , 18161.30484532,\n",
              "       22288.65644007, 31276.78145223, 15978.70142601, 16943.26761601,\n",
              "       24175.96933248,  9771.36403971, 15978.70142601, 15978.70142601,\n",
              "       17112.23789437, 12905.26889101, 21557.0254105 , 17800.21876392,\n",
              "       22467.78407945, 20579.19446248, 19911.01109822, 23179.87621212,\n",
              "       21557.0254105 , 16947.33526386, 15290.72055646, 19911.01109822,\n",
              "       23179.87621212, 37321.8805709 , 15121.7502781 ,  9771.36403971,\n",
              "       16947.33526386, 36731.71206683, 16947.33526386, 25106.41144472,\n",
              "       15407.40066074, 20293.54407985, 15290.72055646, 17112.23789437,\n",
              "       19361.89560676, 15121.7502781 , 24945.93663404, 21557.0254105 ,\n",
              "       29401.45659327, 15978.70142601, 22574.3068227 , 17858.09393282,\n",
              "       23179.87621212, 33400.56195018, 36605.83485239, 36605.83485239,\n",
              "       24175.96933248, 22467.78407945, 23072.26117003, 22574.3068227 ,\n",
              "       21557.0254105 , 15121.7502781 , 15978.70142601, 20579.19446248,\n",
              "       16947.33526386, 16947.33526386,  9771.36403971, 24175.96933248,\n",
              "       33400.56195018, 23179.87621212, 35719.05539857, 20521.20523159,\n",
              "       35719.05539857, 17858.09393282, 12905.26889101, 31276.78145223,\n",
              "       21557.0254105 , 24945.93663404, 15121.7502781 , 16947.33526386,\n",
              "       20579.19446248, 16947.33526386, 18161.30484532, 21557.0254105 ,\n",
              "       18446.95522795, 17112.23789437,  9771.36403971, 20579.19446248,\n",
              "       23072.26117003,  9771.36403971, 19436.59293194, 19911.01109822,\n",
              "       35719.05539857, 24175.96933248, 16947.33526386, 23179.87621212,\n",
              "       23179.87621212, 21557.0254105 , 15290.72055646, 22467.78407945,\n",
              "       24945.93663404, 16947.33526386, 16947.33526386, 15290.72055646,\n",
              "       36731.71206683, 16947.33526386, 36605.83485239, 15290.72055646,\n",
              "       17800.21876392, 17858.09393282, 14511.55614473, 16947.33526386,\n",
              "       15978.70142601, 17800.21876392, 15121.7502781 , 33400.56195018,\n",
              "       17800.21876392, 21557.0254105 , 22467.78407945, 23804.03674598,\n",
              "       37642.47073579, 19072.06351427, 16947.33526386, 18446.95522795,\n",
              "       23804.03674598, 24175.96933248, 17858.09393282, 24175.96933248,\n",
              "       33400.56195018, 24945.93663404, 24945.93663404, 22288.65644007,\n",
              "       17800.21876392, 22574.3068227 , 24723.1768206 , 21557.0254105 ,\n",
              "       16943.26761601, 20579.19446248, 33400.56195018, 24175.96933248,\n",
              "       19436.59293194, 16943.26761601, 15290.72055646, 19842.03081583,\n",
              "        9771.36403971, 19357.71389691, 17112.23789437, 24945.93663404,\n",
              "       22467.78407945, 14511.55614473, 23804.03674598, 17112.23789437,\n",
              "       22467.78407945, 20293.54407985,  9771.36403971, 22467.78407945,\n",
              "       20521.20523159, 17800.21876392])"
            ]
          },
          "metadata": {},
          "execution_count": 116
        }
      ]
    },
    {
      "cell_type": "code",
      "source": [
        "df_pred = pd.DataFrame({'Actual': y_test, 'Predicted':y_pred})\n",
        "df_pred\n"
      ],
      "metadata": {
        "colab": {
          "base_uri": "https://localhost:8080/",
          "height": 423
        },
        "outputId": "ea7a845e-9d03-4057-c925-e9ce49f5e9f6",
        "id": "6fZ2-f72LEgB"
      },
      "execution_count": 117,
      "outputs": [
        {
          "output_type": "execute_result",
          "data": {
            "text/plain": [
              "           Actual     Predicted\n",
              "0    11045.108844  17858.093933\n",
              "1    12045.920705  17800.218764\n",
              "2    14703.136868  26167.158591\n",
              "3    15053.933735  17800.218764\n",
              "4    12553.071428  16943.267616\n",
              "..            ...           ...\n",
              "237  19981.127911  20293.544080\n",
              "238  16391.926573   9771.364040\n",
              "239  16825.190882  22467.784079\n",
              "240  22358.877678  20521.205232\n",
              "241  13007.984178  17800.218764\n",
              "\n",
              "[242 rows x 2 columns]"
            ],
            "text/html": [
              "\n",
              "  <div id=\"df-7a320027-ab9b-421e-8545-e02512b51417\">\n",
              "    <div class=\"colab-df-container\">\n",
              "      <div>\n",
              "<style scoped>\n",
              "    .dataframe tbody tr th:only-of-type {\n",
              "        vertical-align: middle;\n",
              "    }\n",
              "\n",
              "    .dataframe tbody tr th {\n",
              "        vertical-align: top;\n",
              "    }\n",
              "\n",
              "    .dataframe thead th {\n",
              "        text-align: right;\n",
              "    }\n",
              "</style>\n",
              "<table border=\"1\" class=\"dataframe\">\n",
              "  <thead>\n",
              "    <tr style=\"text-align: right;\">\n",
              "      <th></th>\n",
              "      <th>Actual</th>\n",
              "      <th>Predicted</th>\n",
              "    </tr>\n",
              "  </thead>\n",
              "  <tbody>\n",
              "    <tr>\n",
              "      <th>0</th>\n",
              "      <td>11045.108844</td>\n",
              "      <td>17858.093933</td>\n",
              "    </tr>\n",
              "    <tr>\n",
              "      <th>1</th>\n",
              "      <td>12045.920705</td>\n",
              "      <td>17800.218764</td>\n",
              "    </tr>\n",
              "    <tr>\n",
              "      <th>2</th>\n",
              "      <td>14703.136868</td>\n",
              "      <td>26167.158591</td>\n",
              "    </tr>\n",
              "    <tr>\n",
              "      <th>3</th>\n",
              "      <td>15053.933735</td>\n",
              "      <td>17800.218764</td>\n",
              "    </tr>\n",
              "    <tr>\n",
              "      <th>4</th>\n",
              "      <td>12553.071428</td>\n",
              "      <td>16943.267616</td>\n",
              "    </tr>\n",
              "    <tr>\n",
              "      <th>...</th>\n",
              "      <td>...</td>\n",
              "      <td>...</td>\n",
              "    </tr>\n",
              "    <tr>\n",
              "      <th>237</th>\n",
              "      <td>19981.127911</td>\n",
              "      <td>20293.544080</td>\n",
              "    </tr>\n",
              "    <tr>\n",
              "      <th>238</th>\n",
              "      <td>16391.926573</td>\n",
              "      <td>9771.364040</td>\n",
              "    </tr>\n",
              "    <tr>\n",
              "      <th>239</th>\n",
              "      <td>16825.190882</td>\n",
              "      <td>22467.784079</td>\n",
              "    </tr>\n",
              "    <tr>\n",
              "      <th>240</th>\n",
              "      <td>22358.877678</td>\n",
              "      <td>20521.205232</td>\n",
              "    </tr>\n",
              "    <tr>\n",
              "      <th>241</th>\n",
              "      <td>13007.984178</td>\n",
              "      <td>17800.218764</td>\n",
              "    </tr>\n",
              "  </tbody>\n",
              "</table>\n",
              "<p>242 rows × 2 columns</p>\n",
              "</div>\n",
              "      <button class=\"colab-df-convert\" onclick=\"convertToInteractive('df-7a320027-ab9b-421e-8545-e02512b51417')\"\n",
              "              title=\"Convert this dataframe to an interactive table.\"\n",
              "              style=\"display:none;\">\n",
              "        \n",
              "  <svg xmlns=\"http://www.w3.org/2000/svg\" height=\"24px\"viewBox=\"0 0 24 24\"\n",
              "       width=\"24px\">\n",
              "    <path d=\"M0 0h24v24H0V0z\" fill=\"none\"/>\n",
              "    <path d=\"M18.56 5.44l.94 2.06.94-2.06 2.06-.94-2.06-.94-.94-2.06-.94 2.06-2.06.94zm-11 1L8.5 8.5l.94-2.06 2.06-.94-2.06-.94L8.5 2.5l-.94 2.06-2.06.94zm10 10l.94 2.06.94-2.06 2.06-.94-2.06-.94-.94-2.06-.94 2.06-2.06.94z\"/><path d=\"M17.41 7.96l-1.37-1.37c-.4-.4-.92-.59-1.43-.59-.52 0-1.04.2-1.43.59L10.3 9.45l-7.72 7.72c-.78.78-.78 2.05 0 2.83L4 21.41c.39.39.9.59 1.41.59.51 0 1.02-.2 1.41-.59l7.78-7.78 2.81-2.81c.8-.78.8-2.07 0-2.86zM5.41 20L4 18.59l7.72-7.72 1.47 1.35L5.41 20z\"/>\n",
              "  </svg>\n",
              "      </button>\n",
              "      \n",
              "  <style>\n",
              "    .colab-df-container {\n",
              "      display:flex;\n",
              "      flex-wrap:wrap;\n",
              "      gap: 12px;\n",
              "    }\n",
              "\n",
              "    .colab-df-convert {\n",
              "      background-color: #E8F0FE;\n",
              "      border: none;\n",
              "      border-radius: 50%;\n",
              "      cursor: pointer;\n",
              "      display: none;\n",
              "      fill: #1967D2;\n",
              "      height: 32px;\n",
              "      padding: 0 0 0 0;\n",
              "      width: 32px;\n",
              "    }\n",
              "\n",
              "    .colab-df-convert:hover {\n",
              "      background-color: #E2EBFA;\n",
              "      box-shadow: 0px 1px 2px rgba(60, 64, 67, 0.3), 0px 1px 3px 1px rgba(60, 64, 67, 0.15);\n",
              "      fill: #174EA6;\n",
              "    }\n",
              "\n",
              "    [theme=dark] .colab-df-convert {\n",
              "      background-color: #3B4455;\n",
              "      fill: #D2E3FC;\n",
              "    }\n",
              "\n",
              "    [theme=dark] .colab-df-convert:hover {\n",
              "      background-color: #434B5C;\n",
              "      box-shadow: 0px 1px 3px 1px rgba(0, 0, 0, 0.15);\n",
              "      filter: drop-shadow(0px 1px 2px rgba(0, 0, 0, 0.3));\n",
              "      fill: #FFFFFF;\n",
              "    }\n",
              "  </style>\n",
              "\n",
              "      <script>\n",
              "        const buttonEl =\n",
              "          document.querySelector('#df-7a320027-ab9b-421e-8545-e02512b51417 button.colab-df-convert');\n",
              "        buttonEl.style.display =\n",
              "          google.colab.kernel.accessAllowed ? 'block' : 'none';\n",
              "\n",
              "        async function convertToInteractive(key) {\n",
              "          const element = document.querySelector('#df-7a320027-ab9b-421e-8545-e02512b51417');\n",
              "          const dataTable =\n",
              "            await google.colab.kernel.invokeFunction('convertToInteractive',\n",
              "                                                     [key], {});\n",
              "          if (!dataTable) return;\n",
              "\n",
              "          const docLinkHtml = 'Like what you see? Visit the ' +\n",
              "            '<a target=\"_blank\" href=https://colab.research.google.com/notebooks/data_table.ipynb>data table notebook</a>'\n",
              "            + ' to learn more about interactive tables.';\n",
              "          element.innerHTML = '';\n",
              "          dataTable['output_type'] = 'display_data';\n",
              "          await google.colab.output.renderOutput(dataTable, element);\n",
              "          const docLink = document.createElement('div');\n",
              "          docLink.innerHTML = docLinkHtml;\n",
              "          element.appendChild(docLink);\n",
              "        }\n",
              "      </script>\n",
              "    </div>\n",
              "  </div>\n",
              "  "
            ]
          },
          "metadata": {},
          "execution_count": 117
        }
      ]
    },
    {
      "cell_type": "code",
      "source": [
        "# to calculte model score\n",
        "\n",
        "R2_score=model.score(x_train, y_train)\n",
        "print(R2_score)\n"
      ],
      "metadata": {
        "colab": {
          "base_uri": "https://localhost:8080/"
        },
        "outputId": "95dfcac7-5a8f-40dc-db7e-4168a617c3cc",
        "id": "BV0WUo5rLEgC"
      },
      "execution_count": 118,
      "outputs": [
        {
          "output_type": "stream",
          "name": "stdout",
          "text": [
            "0.40420557686340064\n"
          ]
        }
      ]
    },
    {
      "cell_type": "markdown",
      "source": [
        "we need to use all the column expect price to predict the price of the car"
      ],
      "metadata": {
        "id": "r4aizXJdxDyo"
      }
    }
  ],
  "metadata": {
    "kernelspec": {
      "display_name": "Python 3",
      "language": "python",
      "name": "python3"
    },
    "language_info": {
      "codemirror_mode": {
        "name": "ipython",
        "version": 3
      },
      "file_extension": ".py",
      "mimetype": "text/x-python",
      "name": "python",
      "nbconvert_exporter": "python",
      "pygments_lexer": "ipython3",
      "version": "3.8.3"
    },
    "colab": {
      "name": " Assignment8.ipynb",
      "provenance": [],
      "include_colab_link": true
    }
  },
  "nbformat": 4,
  "nbformat_minor": 0
}