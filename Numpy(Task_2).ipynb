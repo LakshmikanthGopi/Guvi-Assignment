{
  "cells": [
    {
      "cell_type": "markdown",
      "metadata": {
        "id": "view-in-github",
        "colab_type": "text"
      },
      "source": [
        "<a href=\"https://colab.research.google.com/github/LakshmikanthGopi/Guvi-Assignment-2/blob/main/Numpy(Task_2).ipynb\" target=\"_parent\"><img src=\"https://colab.research.google.com/assets/colab-badge.svg\" alt=\"Open In Colab\"/></a>"
      ]
    },
    {
      "cell_type": "markdown",
      "metadata": {
        "id": "4uyOfqf8R1GP"
      },
      "source": [
        "# Numpy\n",
        "\n"
      ]
    },
    {
      "cell_type": "markdown",
      "metadata": {
        "id": "Ki3BaGtiR1GS"
      },
      "source": [
        "#### 1. Import the numpy package under the name `np` (★☆☆) \n",
        "(**hint**: import … as …)"
      ]
    },
    {
      "cell_type": "code",
      "execution_count": null,
      "metadata": {
        "collapsed": true,
        "id": "laRD50T4R1GU"
      },
      "outputs": [],
      "source": [
        "import numpy as np"
      ]
    },
    {
      "cell_type": "markdown",
      "metadata": {
        "id": "kHYfUNrUR1GV"
      },
      "source": [
        "#### 2. Print the numpy version and the configuration (★☆☆) \n",
        "(**hint**: np.\\_\\_version\\_\\_, np.show\\_config)"
      ]
    },
    {
      "cell_type": "code",
      "execution_count": null,
      "metadata": {
        "id": "uNp5nzfzR1GW",
        "colab": {
          "base_uri": "https://localhost:8080/"
        },
        "outputId": "ccd41484-fd5e-4e5a-c580-e78956751059"
      },
      "outputs": [
        {
          "output_type": "stream",
          "name": "stdout",
          "text": [
            "blas_mkl_info:\n",
            "  NOT AVAILABLE\n",
            "blis_info:\n",
            "  NOT AVAILABLE\n",
            "openblas_info:\n",
            "    libraries = ['openblas', 'openblas']\n",
            "    library_dirs = ['/usr/local/lib']\n",
            "    language = c\n",
            "    define_macros = [('HAVE_CBLAS', None)]\n",
            "    runtime_library_dirs = ['/usr/local/lib']\n",
            "blas_opt_info:\n",
            "    libraries = ['openblas', 'openblas']\n",
            "    library_dirs = ['/usr/local/lib']\n",
            "    language = c\n",
            "    define_macros = [('HAVE_CBLAS', None)]\n",
            "    runtime_library_dirs = ['/usr/local/lib']\n",
            "lapack_mkl_info:\n",
            "  NOT AVAILABLE\n",
            "openblas_lapack_info:\n",
            "    libraries = ['openblas', 'openblas']\n",
            "    library_dirs = ['/usr/local/lib']\n",
            "    language = c\n",
            "    define_macros = [('HAVE_CBLAS', None)]\n",
            "    runtime_library_dirs = ['/usr/local/lib']\n",
            "lapack_opt_info:\n",
            "    libraries = ['openblas', 'openblas']\n",
            "    library_dirs = ['/usr/local/lib']\n",
            "    language = c\n",
            "    define_macros = [('HAVE_CBLAS', None)]\n",
            "    runtime_library_dirs = ['/usr/local/lib']\n",
            "Supported SIMD extensions in this NumPy install:\n",
            "    baseline = SSE,SSE2,SSE3\n",
            "    found = SSSE3,SSE41,POPCNT,SSE42,AVX,F16C,FMA3,AVX2\n",
            "    not found = AVX512F,AVX512CD,AVX512_KNL,AVX512_KNM,AVX512_SKX,AVX512_CLX,AVX512_CNL,AVX512_ICL\n"
          ]
        }
      ],
      "source": [
        "np.__version__\n",
        "np.__config__.show()"
      ]
    },
    {
      "cell_type": "markdown",
      "metadata": {
        "id": "uamuYnpCR1GW"
      },
      "source": [
        "#### 3. Create a null vector of size 10 (★☆☆) \n",
        "(**hint**: np.zeros)"
      ]
    },
    {
      "cell_type": "code",
      "execution_count": null,
      "metadata": {
        "id": "vaDmCpgtR1GX",
        "colab": {
          "base_uri": "https://localhost:8080/"
        },
        "outputId": "18947492-4002-4009-9f63-b65a30c1aed1"
      },
      "outputs": [
        {
          "output_type": "stream",
          "name": "stdout",
          "text": [
            "[0. 0. 0. 0. 0. 0. 0. 0. 0. 0.]\n"
          ]
        }
      ],
      "source": [
        "null = np.zeros(10)\n",
        "print(null)"
      ]
    },
    {
      "cell_type": "markdown",
      "metadata": {
        "id": "bMIWbBHFR1GX"
      },
      "source": [
        "#### 4.  How to find the memory size of any array (★☆☆) \n",
        "(**hint**: size, itemsize)"
      ]
    },
    {
      "cell_type": "code",
      "execution_count": null,
      "metadata": {
        "id": "h0e5kbi_R1GY",
        "colab": {
          "base_uri": "https://localhost:8080/"
        },
        "outputId": "94b7c716-4f31-4c14-ee19-1f39e2ff621e"
      },
      "outputs": [
        {
          "output_type": "stream",
          "name": "stdout",
          "text": [
            "800 bytes\n"
          ]
        }
      ],
      "source": [
        "Z = np.zeros((10,10))\n",
        "print(\"%d bytes\" % (Z.size * Z.itemsize))"
      ]
    },
    {
      "cell_type": "markdown",
      "metadata": {
        "id": "slJ2NEKcR1GZ"
      },
      "source": [
        "#### 5.  How to get the documentation of the numpy add function from the command line? (★☆☆) \n",
        "(**hint**: np.info)"
      ]
    },
    {
      "cell_type": "code",
      "execution_count": null,
      "metadata": {
        "collapsed": true,
        "id": "koPLk1ElR1GZ"
      },
      "outputs": [],
      "source": [
        "%run `python -c \"import numpy; numpy.info(numpy.add)\"`"
      ]
    },
    {
      "cell_type": "markdown",
      "metadata": {
        "id": "z0Nja62YR1Ga"
      },
      "source": [
        "#### 6.  Create a null vector of size 10 but the fifth value which is 1 (★☆☆) \n",
        "(**hint**: array\\[4\\])"
      ]
    },
    {
      "cell_type": "code",
      "execution_count": null,
      "metadata": {
        "id": "pfSlt0_LR1Gb",
        "colab": {
          "base_uri": "https://localhost:8080/"
        },
        "outputId": "b9aad913-a278-4e49-b745-a81f791d095f"
      },
      "outputs": [
        {
          "output_type": "stream",
          "name": "stdout",
          "text": [
            "[0. 0. 0. 0. 1. 0. 0. 0. 0. 0.]\n"
          ]
        }
      ],
      "source": [
        "null= np.zeros(10)\n",
        "null[4]= 1\n",
        "print (null)\n"
      ]
    },
    {
      "cell_type": "markdown",
      "metadata": {
        "id": "mM3kZ246R1Gb"
      },
      "source": [
        "#### 7.  Create a vector with values ranging from 10 to 49 (★☆☆) \n",
        "(**hint**: np.arange)"
      ]
    },
    {
      "cell_type": "code",
      "execution_count": null,
      "metadata": {
        "id": "eWcrZcZwR1Gb",
        "colab": {
          "base_uri": "https://localhost:8080/"
        },
        "outputId": "82dea66b-b0e1-47ce-dac7-2341978555b2"
      },
      "outputs": [
        {
          "output_type": "stream",
          "name": "stdout",
          "text": [
            "[10 11 12 13 14 15 16 17 18 19 20 21 22 23 24 25 26 27 28 29 30 31 32 33\n",
            " 34 35 36 37 38 39 40 41 42 43 44 45 46 47 48 49]\n"
          ]
        }
      ],
      "source": [
        "v=np.arange(10,50)\n",
        "print(v)"
      ]
    },
    {
      "cell_type": "markdown",
      "metadata": {
        "id": "YYblBJIBR1Gb"
      },
      "source": [
        "#### 8.  Reverse a vector (first element becomes last) (★☆☆) \n",
        "(**hint**: array\\[::-1\\])"
      ]
    },
    {
      "cell_type": "code",
      "execution_count": null,
      "metadata": {
        "id": "0QzzkmmBR1Gc",
        "colab": {
          "base_uri": "https://localhost:8080/"
        },
        "outputId": "3613d673-bb77-4fb4-f590-69adf835cbef"
      },
      "outputs": [
        {
          "output_type": "stream",
          "name": "stdout",
          "text": [
            "[49 48 47 46 45 44 43 42 41 40 39 38 37 36 35 34 33 32 31 30 29 28 27 26\n",
            " 25 24 23 22 21 20 19 18 17 16 15 14 13 12 11 10]\n"
          ]
        }
      ],
      "source": [
        "v=np.arange(10,50)\n",
        "v=v[::-1]\n",
        "print(v)"
      ]
    },
    {
      "cell_type": "markdown",
      "metadata": {
        "id": "_OLQykkJR1Gc"
      },
      "source": [
        "#### 9.  Create a 3x3 matrix with values ranging from 0 to 8 (★☆☆) \n",
        "(**hint**: reshape)"
      ]
    },
    {
      "cell_type": "code",
      "execution_count": null,
      "metadata": {
        "id": "lKOkniFaR1Gc",
        "colab": {
          "base_uri": "https://localhost:8080/"
        },
        "outputId": "1f1bb00b-3670-44d9-a1b2-7d3cb64f7b62"
      },
      "outputs": [
        {
          "output_type": "stream",
          "name": "stdout",
          "text": [
            "[[0 1 2]\n",
            " [3 4 5]\n",
            " [6 7 8]]\n"
          ]
        }
      ],
      "source": [
        "v= np.arange(9).reshape(3,3)\n",
        "print(v)"
      ]
    },
    {
      "cell_type": "markdown",
      "metadata": {
        "id": "rc_yKvWWR1Gd"
      },
      "source": [
        "#### 10. Find indices of non-zero elements from \\[1,2,0,0,4,0\\] (★☆☆) \n",
        "(**hint**: np.nonzero)"
      ]
    },
    {
      "cell_type": "code",
      "execution_count": null,
      "metadata": {
        "id": "iCRNeFopR1Gd",
        "colab": {
          "base_uri": "https://localhost:8080/"
        },
        "outputId": "7bbb2377-e6d8-4749-97ce-4d8da2e1f47d"
      },
      "outputs": [
        {
          "output_type": "stream",
          "name": "stdout",
          "text": [
            "(array([0, 1, 4]),)\n"
          ]
        }
      ],
      "source": [
        "nz = np.nonzero([1,2,0,0,4,0])\n",
        "print(nz)"
      ]
    },
    {
      "cell_type": "markdown",
      "metadata": {
        "id": "m_MuFg9WR1Gd"
      },
      "source": [
        "#### 11. Create a 3x3 identity matrix (★☆☆) \n",
        "(**hint**: np.eye)"
      ]
    },
    {
      "cell_type": "code",
      "execution_count": null,
      "metadata": {
        "id": "ThxtY1QsR1Ge",
        "colab": {
          "base_uri": "https://localhost:8080/"
        },
        "outputId": "753647db-faab-4855-81f4-526074b4e69c"
      },
      "outputs": [
        {
          "output_type": "stream",
          "name": "stdout",
          "text": [
            "[[1. 0. 0.]\n",
            " [0. 1. 0.]\n",
            " [0. 0. 1.]]\n"
          ]
        }
      ],
      "source": [
        "m= np.eye(3)\n",
        "print(m)"
      ]
    },
    {
      "cell_type": "markdown",
      "metadata": {
        "id": "OZh4sDuZR1Ge"
      },
      "source": [
        "#### 12. Create a 3x3x3 array with random values (★☆☆) \n",
        "(**hint**: np.random.random)"
      ]
    },
    {
      "cell_type": "code",
      "execution_count": null,
      "metadata": {
        "collapsed": true,
        "id": "bduCf3VLR1Ge",
        "colab": {
          "base_uri": "https://localhost:8080/"
        },
        "outputId": "ec532d7e-df5e-4a2a-e631-92dee3f511ba"
      },
      "outputs": [
        {
          "output_type": "stream",
          "name": "stdout",
          "text": [
            "[[[0.31959338 0.16266069 0.22091605]\n",
            "  [0.15402015 0.35970577 0.19363555]\n",
            "  [0.14009015 0.78417928 0.77784569]]\n",
            "\n",
            " [[0.02002    0.50267052 0.49126279]\n",
            "  [0.03145332 0.987852   0.6917993 ]\n",
            "  [0.71832195 0.05337933 0.59627287]]\n",
            "\n",
            " [[0.92065136 0.55074066 0.60731826]\n",
            "  [0.25727709 0.06820123 0.48179443]\n",
            "  [0.03036551 0.53756417 0.13244504]]]\n"
          ]
        }
      ],
      "source": [
        "A= np.random.random((3,3,3))\n",
        "print(A)\n"
      ]
    },
    {
      "cell_type": "markdown",
      "metadata": {
        "id": "_YyKls8LR1Ge"
      },
      "source": [
        "#### 13. Create a 10x10 array with random values and find the minimum and maximum values (★☆☆) \n",
        "(**hint**: min, max)"
      ]
    },
    {
      "cell_type": "code",
      "execution_count": null,
      "metadata": {
        "id": "O5UrnRxeR1Gf",
        "colab": {
          "base_uri": "https://localhost:8080/"
        },
        "outputId": "d214aa5c-d8c7-4336-a1fb-cf22bd4a1440"
      },
      "outputs": [
        {
          "output_type": "stream",
          "name": "stdout",
          "text": [
            "[[0.51949024 0.77906785 0.69232427 0.23376682 0.47596845 0.47071234\n",
            "  0.75451098 0.2072711  0.37111528 0.76740142]\n",
            " [0.5111696  0.28407291 0.55281198 0.84081972 0.96783812 0.32400702\n",
            "  0.56035934 0.37689236 0.73206181 0.40234632]\n",
            " [0.03417616 0.77811589 0.38576232 0.19720341 0.28880172 0.37006643\n",
            "  0.23665772 0.50515898 0.3939242  0.64295844]\n",
            " [0.33501312 0.45282273 0.84418325 0.9114245  0.54830482 0.27694045\n",
            "  0.93776903 0.00345093 0.10653074 0.30042714]\n",
            " [0.29737009 0.71466984 0.3217439  0.96211066 0.81618257 0.13785578\n",
            "  0.39211726 0.35230425 0.94379926 0.00216208]\n",
            " [0.66276835 0.67567296 0.73844356 0.32800052 0.37878106 0.26549349\n",
            "  0.81588263 0.60864163 0.54930066 0.84683484]\n",
            " [0.17347257 0.80780409 0.32364196 0.81505455 0.56379577 0.91563361\n",
            "  0.23989434 0.05267456 0.71152117 0.32067356]\n",
            " [0.01623781 0.23736496 0.73653345 0.18122314 0.92950538 0.22418557\n",
            "  0.73920646 0.40296615 0.51331493 0.99257273]\n",
            " [0.5509332  0.85867136 0.42397522 0.0659048  0.1423056  0.10899167\n",
            "  0.53714035 0.44425193 0.4093767  0.29725983]\n",
            " [0.85858767 0.6897453  0.32244645 0.27628302 0.71466494 0.28163421\n",
            "  0.6667447  0.5483697  0.38770802 0.75303038]]\n",
            "0.0021620837700274675 0.992572725230958\n"
          ]
        }
      ],
      "source": [
        "a= np.random.random((10,10))\n",
        "print(a)\n",
        "amin, amax = a.min(), a.max()\n",
        "print(amin, amax)"
      ]
    },
    {
      "cell_type": "markdown",
      "metadata": {
        "id": "wVi4fBSpR1Gf"
      },
      "source": [
        "#### 14. Create a random vector of size 30 and find the mean value (★☆☆) \n",
        "(**hint**: mean)"
      ]
    },
    {
      "cell_type": "code",
      "execution_count": null,
      "metadata": {
        "id": "OinpuPtDR1Gf",
        "colab": {
          "base_uri": "https://localhost:8080/"
        },
        "outputId": "467e2e09-c3e3-4c78-ada8-bf9781428da6"
      },
      "outputs": [
        {
          "output_type": "stream",
          "name": "stdout",
          "text": [
            "[0.79092908 0.78097027 0.88284399 0.94315838 0.31960188 0.1812117\n",
            " 0.05126954 0.01181185 0.29439592 0.3574855  0.45388146 0.95772234\n",
            " 0.59319575 0.0721611  0.34357014 0.15988688 0.89946422 0.64976827\n",
            " 0.37537792 0.67019084 0.61898812 0.05507113 0.9021688  0.2448894\n",
            " 0.46030303 0.45729605 0.58843394 0.57549218 0.31035202 0.43675891]\n",
            "0.48128835355433447\n"
          ]
        }
      ],
      "source": [
        "a=np.random.random(30)\n",
        "print(a)\n",
        "print(a.mean())"
      ]
    },
    {
      "cell_type": "markdown",
      "metadata": {
        "id": "Obf2O7pZR1Gf"
      },
      "source": [
        "#### 15. Create a 2d array with 1 on the border and 0 inside (★☆☆) \n",
        "(**hint**: array\\[1:-1, 1:-1\\])"
      ]
    },
    {
      "cell_type": "code",
      "execution_count": null,
      "metadata": {
        "id": "XNwndHqZR1Gg",
        "colab": {
          "base_uri": "https://localhost:8080/"
        },
        "outputId": "f803e5be-72ef-4411-a684-25333b880f80"
      },
      "outputs": [
        {
          "output_type": "stream",
          "name": "stdout",
          "text": [
            "[[1. 1. 1. 1. 1. 1. 1. 1. 1. 1.]\n",
            " [1. 0. 0. 0. 0. 0. 0. 0. 0. 1.]\n",
            " [1. 0. 0. 0. 0. 0. 0. 0. 0. 1.]\n",
            " [1. 0. 0. 0. 0. 0. 0. 0. 0. 1.]\n",
            " [1. 0. 0. 0. 0. 0. 0. 0. 0. 1.]\n",
            " [1. 0. 0. 0. 0. 0. 0. 0. 0. 1.]\n",
            " [1. 0. 0. 0. 0. 0. 0. 0. 0. 1.]\n",
            " [1. 0. 0. 0. 0. 0. 0. 0. 0. 1.]\n",
            " [1. 0. 0. 0. 0. 0. 0. 0. 0. 1.]\n",
            " [1. 1. 1. 1. 1. 1. 1. 1. 1. 1.]]\n"
          ]
        }
      ],
      "source": [
        "a= np.ones((10,10))\n",
        "a[1:-1,1:-1] = 0\n",
        "print(a)"
      ]
    },
    {
      "cell_type": "markdown",
      "metadata": {
        "id": "x_NSsoiyR1Gg"
      },
      "source": [
        "#### 16. How to add a border (filled with 0's) around an existing array? (★☆☆) \n",
        "(**hint**: np.pad)"
      ]
    },
    {
      "cell_type": "code",
      "execution_count": null,
      "metadata": {
        "id": "UBOdiRjDR1Gg",
        "colab": {
          "base_uri": "https://localhost:8080/"
        },
        "outputId": "887f6807-198c-4202-f2bc-2cb1647232db"
      },
      "outputs": [
        {
          "output_type": "stream",
          "name": "stdout",
          "text": [
            "[[0. 0. 0. 0. 0. 0. 0.]\n",
            " [0. 1. 1. 1. 1. 1. 0.]\n",
            " [0. 1. 1. 1. 1. 1. 0.]\n",
            " [0. 1. 1. 1. 1. 1. 0.]\n",
            " [0. 1. 1. 1. 1. 1. 0.]\n",
            " [0. 1. 1. 1. 1. 1. 0.]\n",
            " [0. 0. 0. 0. 0. 0. 0.]]\n"
          ]
        }
      ],
      "source": [
        "a= np.ones((5,5))\n",
        "a= np.pad(a, pad_width=1, mode='constant', constant_values=0)\n",
        "print(a)"
      ]
    },
    {
      "cell_type": "markdown",
      "metadata": {
        "id": "IzUPjtxBR1Gg"
      },
      "source": [
        "#### 17. What is the result of the following expression? (★☆☆) \n",
        "(**hint**: NaN = not a number, inf = infinity)"
      ]
    },
    {
      "cell_type": "markdown",
      "metadata": {
        "id": "U_E_er4XR1Gh"
      },
      "source": [
        "```python\n",
        "0 * np.nan\n",
        "np.nan == np.nan\n",
        "np.inf > np.nan\n",
        "np.nan - np.nan\n",
        "0.3 == 3 * 0.1\n",
        "```"
      ]
    },
    {
      "cell_type": "code",
      "execution_count": null,
      "metadata": {
        "id": "VdnKh-DcR1Gh",
        "colab": {
          "base_uri": "https://localhost:8080/"
        },
        "outputId": "31dc2d35-e6b3-4f49-bfe2-4d8535d37259"
      },
      "outputs": [
        {
          "output_type": "stream",
          "name": "stdout",
          "text": [
            "nan\n",
            "False\n",
            "False\n",
            "nan\n",
            "True\n",
            "False\n"
          ]
        }
      ],
      "source": [
        "print(0 * np.nan)\n",
        "print(np.nan == np.nan)\n",
        "print(np.inf > np.nan)\n",
        "print(np.nan - np.nan)\n",
        "print(np.nan in set([np.nan]))\n",
        "print(0.3 == 3 * 0.1)"
      ]
    },
    {
      "cell_type": "markdown",
      "metadata": {
        "id": "5sXpX6dpR1Gh"
      },
      "source": [
        "#### 18. Create a 5x5 matrix with values 1,2,3,4 just below the diagonal (★☆☆) \n",
        "(**hint**: np.diag)"
      ]
    },
    {
      "cell_type": "code",
      "execution_count": null,
      "metadata": {
        "id": "xnsU1bfjR1Gi",
        "colab": {
          "base_uri": "https://localhost:8080/"
        },
        "outputId": "37dfce1e-9fec-4bd5-eba1-3ad59c68d1be"
      },
      "outputs": [
        {
          "output_type": "stream",
          "name": "stdout",
          "text": [
            "[[0 0 0 0 0]\n",
            " [1 0 0 0 0]\n",
            " [0 2 0 0 0]\n",
            " [0 0 3 0 0]\n",
            " [0 0 0 4 0]]\n"
          ]
        }
      ],
      "source": [
        "a= np.diag(1+np.arange(4),k=-1)\n",
        "print(a)"
      ]
    },
    {
      "cell_type": "markdown",
      "metadata": {
        "id": "30CprjBtR1Gi"
      },
      "source": [
        "#### 19. Create a 8x8 matrix and fill it with a checkerboard pattern (★☆☆) \n",
        "(**hint**: array\\[::2\\])"
      ]
    },
    {
      "cell_type": "code",
      "execution_count": null,
      "metadata": {
        "id": "JMYtdtP6R1Gi",
        "colab": {
          "base_uri": "https://localhost:8080/"
        },
        "outputId": "ce7062bb-5371-41a5-e570-846d42880acd"
      },
      "outputs": [
        {
          "output_type": "stream",
          "name": "stdout",
          "text": [
            "[[0 1 0 1 0 1 0 1]\n",
            " [1 0 1 0 1 0 1 0]\n",
            " [0 1 0 1 0 1 0 1]\n",
            " [1 0 1 0 1 0 1 0]\n",
            " [0 1 0 1 0 1 0 1]\n",
            " [1 0 1 0 1 0 1 0]\n",
            " [0 1 0 1 0 1 0 1]\n",
            " [1 0 1 0 1 0 1 0]]\n"
          ]
        }
      ],
      "source": [
        "a= np.zeros((8,8),dtype=int)\n",
        "a[1::2,::2] = 1\n",
        "a[::2,1::2] = 1\n",
        "print(a)"
      ]
    },
    {
      "cell_type": "markdown",
      "metadata": {
        "id": "cIYJ5EYjR1Gi"
      },
      "source": [
        "#### 20. Consider a (6,7,8) shape array, what is the index (x,y,z) of the 100th element? \n",
        "(**hint**: np.unravel_index)"
      ]
    },
    {
      "cell_type": "code",
      "execution_count": null,
      "metadata": {
        "id": "y4VZvYCtR1Gj",
        "colab": {
          "base_uri": "https://localhost:8080/"
        },
        "outputId": "a99c3d30-7c39-4978-8f84-a3f5893ab96e"
      },
      "outputs": [
        {
          "output_type": "stream",
          "name": "stdout",
          "text": [
            "(1, 5, 4)\n"
          ]
        }
      ],
      "source": [
        "print(np.unravel_index(100,(6,7,8)))"
      ]
    },
    {
      "cell_type": "markdown",
      "metadata": {
        "id": "YWYPb3ZlR1Gj"
      },
      "source": [
        "#### 21. Create a checkerboard 8x8 matrix using the tile function (★☆☆) \n",
        "(**hint**: np.tile)"
      ]
    },
    {
      "cell_type": "code",
      "execution_count": null,
      "metadata": {
        "id": "2X8ZgeGdR1Gj",
        "colab": {
          "base_uri": "https://localhost:8080/"
        },
        "outputId": "8e08700f-85fc-45d8-f47d-12c5edc1c17d"
      },
      "outputs": [
        {
          "output_type": "stream",
          "name": "stdout",
          "text": [
            "[[0 1 0 1 0 1 0 1]\n",
            " [1 0 1 0 1 0 1 0]\n",
            " [0 1 0 1 0 1 0 1]\n",
            " [1 0 1 0 1 0 1 0]\n",
            " [0 1 0 1 0 1 0 1]\n",
            " [1 0 1 0 1 0 1 0]\n",
            " [0 1 0 1 0 1 0 1]\n",
            " [1 0 1 0 1 0 1 0]]\n"
          ]
        }
      ],
      "source": [
        "a= np.tile( np.array([[0,1],[1,0]]), (4,4))\n",
        "print(a)"
      ]
    },
    {
      "cell_type": "markdown",
      "metadata": {
        "id": "QQLmC_KmR1Gj"
      },
      "source": [
        "#### 22. Normalize a 5x5 random matrix (★☆☆) \n",
        "(**hint**: (x - min) / (max - min))"
      ]
    },
    {
      "cell_type": "code",
      "execution_count": null,
      "metadata": {
        "id": "y4Y05Pz0R1Gk",
        "colab": {
          "base_uri": "https://localhost:8080/"
        },
        "outputId": "859d8858-f8c0-4764-ae74-9c40d29de9b2"
      },
      "outputs": [
        {
          "output_type": "stream",
          "name": "stdout",
          "text": [
            "[[-0.76595952  1.37718374 -0.964027   -1.01037193 -0.54122222]\n",
            " [ 1.2983331   0.4169067   1.08243006  0.25482557 -0.21887134]\n",
            " [ 1.30353641  0.92246795 -0.02401296 -0.24906319 -0.22354149]\n",
            " [-1.61075121  1.0777522  -1.24633084  0.9435937  -0.95978978]\n",
            " [ 0.63434574  0.71724112 -1.65425191 -1.60976951  1.04934659]]\n"
          ]
        }
      ],
      "source": [
        "a= np.random.random((5,5))\n",
        "a= (a - np.mean (a)) / (np.std (a))\n",
        "print(a)"
      ]
    },
    {
      "cell_type": "markdown",
      "metadata": {
        "id": "azBFyjwLR1Gk"
      },
      "source": [
        "#### 23. Create a custom dtype that describes a color as four unsigned bytes (RGBA) (★☆☆) \n",
        "(**hint**: np.dtype)"
      ]
    },
    {
      "cell_type": "code",
      "execution_count": null,
      "metadata": {
        "collapsed": true,
        "id": "7LqzlP3JR1Gk",
        "colab": {
          "base_uri": "https://localhost:8080/"
        },
        "outputId": "be1d7c43-95cd-4b16-d750-37d01658706e"
      },
      "outputs": [
        {
          "output_type": "stream",
          "name": "stderr",
          "text": [
            "/usr/local/lib/python3.7/dist-packages/ipykernel_launcher.py:4: FutureWarning: Passing (type, 1) or '1type' as a synonym of type is deprecated; in a future version of numpy, it will be understood as (type, (1,)) / '(1,)type'.\n",
            "  after removing the cwd from sys.path.\n"
          ]
        }
      ],
      "source": [
        "color = np.dtype([(\"r\", np.ubyte, 1),\n",
        "                  (\"g\", np.ubyte, 1),\n",
        "                  (\"b\", np.ubyte, 1),\n",
        "                  (\"a\", np.ubyte, 1)])\n"
      ]
    },
    {
      "cell_type": "markdown",
      "metadata": {
        "id": "BtTZ75KJR1Gk"
      },
      "source": [
        "#### 24. Multiply a 5x3 matrix by a 3x2 matrix (real matrix product) (★☆☆) \n",
        "(**hint**: np.dot | @)"
      ]
    },
    {
      "cell_type": "code",
      "execution_count": null,
      "metadata": {
        "id": "pZb46Ds4R1Gl",
        "colab": {
          "base_uri": "https://localhost:8080/"
        },
        "outputId": "70af76cd-45f6-4a12-dc7a-f393c63949d0"
      },
      "outputs": [
        {
          "output_type": "stream",
          "name": "stdout",
          "text": [
            "[[3. 3.]\n",
            " [3. 3.]\n",
            " [3. 3.]\n",
            " [3. 3.]\n",
            " [3. 3.]]\n"
          ]
        }
      ],
      "source": [
        "a= np.dot(np.ones((5,3)), np.ones((3,2)))\n",
        "print(a)"
      ]
    },
    {
      "cell_type": "markdown",
      "metadata": {
        "id": "SaW98AUYR1Gl"
      },
      "source": [
        "#### 25. Given a 1D array, negate all elements which are between 3 and 8, in place. (★☆☆) \n",
        "(**hint**: >, <=)"
      ]
    },
    {
      "cell_type": "code",
      "execution_count": null,
      "metadata": {
        "id": "5lS_-5ZgR1Gl",
        "colab": {
          "base_uri": "https://localhost:8080/"
        },
        "outputId": "c1e67bbe-e9d8-405b-801b-8dc4705b7f5b"
      },
      "outputs": [
        {
          "output_type": "stream",
          "name": "stdout",
          "text": [
            "[ 0  1  2  3 -4 -5 -6 -7 -8  9 10]\n"
          ]
        }
      ],
      "source": [
        "a= np.arange(11)\n",
        "a[(3 < a) & (a <= 8)] *= -1\n",
        "print(a)"
      ]
    },
    {
      "cell_type": "markdown",
      "metadata": {
        "id": "TDJ4geTFR1Gl"
      },
      "source": [
        "#### 26. What is the output of the following script? (★☆☆) \n",
        "(**hint**: np.sum)"
      ]
    },
    {
      "cell_type": "markdown",
      "metadata": {
        "id": "pifqw4UuR1Gm"
      },
      "source": [
        "```python\n",
        "# Author: Jake VanderPlas\n",
        "\n",
        "print(sum(range(5),-1))\n",
        "from numpy import *\n",
        "print(sum(range(5),-1))\n",
        "```"
      ]
    },
    {
      "cell_type": "code",
      "execution_count": null,
      "metadata": {
        "id": "GUf-Iz9pR1Gm",
        "colab": {
          "base_uri": "https://localhost:8080/"
        },
        "outputId": "1d570a44-9487-4a42-e2ac-d7a932a93897"
      },
      "outputs": [
        {
          "output_type": "stream",
          "name": "stdout",
          "text": [
            "9\n",
            "10\n"
          ]
        }
      ],
      "source": [
        "print(sum(range(5),-1))\n",
        "from numpy import *\n",
        "print(sum(range(5),-1))"
      ]
    },
    {
      "cell_type": "markdown",
      "metadata": {
        "id": "F_XcCsYFR1Gn"
      },
      "source": [
        "#### 27. Consider an integer vector Z, which of these expressions are legal? (★☆☆)"
      ]
    },
    {
      "cell_type": "markdown",
      "metadata": {
        "id": "NkucLbAoR1Gn"
      },
      "source": [
        "```python\n",
        "Z**Z\n",
        "2 << Z >> 2\n",
        "Z <- Z\n",
        "1j*Z\n",
        "Z/1/1\n",
        "Z<Z>Z\n",
        "```"
      ]
    },
    {
      "cell_type": "code",
      "execution_count": null,
      "metadata": {
        "id": "u4DioZHMR1Gn",
        "colab": {
          "base_uri": "https://localhost:8080/"
        },
        "outputId": "b23e786f-6959-439d-e82c-7eee52cd1a7a"
      },
      "outputs": [
        {
          "output_type": "execute_result",
          "data": {
            "text/plain": [
              "array([0.+2.29847991j, 0.+1.11626277j, 0.+2.36757483j])"
            ]
          },
          "metadata": {},
          "execution_count": 45
        }
      ],
      "source": [
        "Z**Z\n",
        "Z <- Z\n",
        "1j*Z"
      ]
    },
    {
      "cell_type": "markdown",
      "metadata": {
        "id": "BeiwYlWXR1Go"
      },
      "source": [
        "#### 28. What are the result of the following expressions?"
      ]
    },
    {
      "cell_type": "markdown",
      "metadata": {
        "id": "CKRs9_SHR1Go"
      },
      "source": [
        "```python\n",
        "np.array(0) / np.array(0)\n",
        "np.array(0) // np.array(0)\n",
        "np.array([np.nan]).astype(int).astype(float)\n",
        "```"
      ]
    },
    {
      "cell_type": "code",
      "execution_count": null,
      "metadata": {
        "id": "avPP5kdmR1Go",
        "colab": {
          "base_uri": "https://localhost:8080/"
        },
        "outputId": "946e9841-8b89-4f77-c560-2c1418d74b35"
      },
      "outputs": [
        {
          "output_type": "stream",
          "name": "stdout",
          "text": [
            "nan\n",
            "0\n",
            "[-9.22337204e+18]\n"
          ]
        },
        {
          "output_type": "stream",
          "name": "stderr",
          "text": [
            "/usr/local/lib/python3.7/dist-packages/ipykernel_launcher.py:1: RuntimeWarning: invalid value encountered in true_divide\n",
            "  \"\"\"Entry point for launching an IPython kernel.\n",
            "/usr/local/lib/python3.7/dist-packages/ipykernel_launcher.py:2: RuntimeWarning: divide by zero encountered in floor_divide\n",
            "  \n"
          ]
        }
      ],
      "source": [
        "print(np.array(0) / np.array(0))\n",
        "print(np.array(0) // np.array(0))\n",
        "print(np.array([np.nan]).astype(int).astype(float))\n"
      ]
    },
    {
      "cell_type": "markdown",
      "metadata": {
        "id": "RDDzkpxlR1Gp"
      },
      "source": [
        "#### 29. How to round away from zero a float array ? (★☆☆) \n",
        "(**hint**: np.uniform, np.copysign, np.ceil, np.abs)"
      ]
    },
    {
      "cell_type": "code",
      "execution_count": null,
      "metadata": {
        "id": "_6RZc-W_R1Gp",
        "colab": {
          "base_uri": "https://localhost:8080/"
        },
        "outputId": "9a6c8932-3127-4be3-f4d7-5726f3ca6edc"
      },
      "outputs": [
        {
          "output_type": "stream",
          "name": "stdout",
          "text": [
            "[ 3.  3. -4. -8.  7.  6.  2. -6. -4.  4.]\n"
          ]
        }
      ],
      "source": [
        "a= np.random.uniform(-10,+10,10)\n",
        "print (np.copysign(np.ceil(np.abs(a)), a))"
      ]
    },
    {
      "cell_type": "markdown",
      "metadata": {
        "id": "8Tu_OplaR1Gp"
      },
      "source": [
        "#### 30. How to find common values between two arrays? (★☆☆) \n",
        "(**hint**: np.intersect1d)"
      ]
    },
    {
      "cell_type": "code",
      "execution_count": null,
      "metadata": {
        "id": "4JpiEF_4R1Gp",
        "colab": {
          "base_uri": "https://localhost:8080/"
        },
        "outputId": "aff6aca7-2c80-42c3-c08b-962e52b4348a"
      },
      "outputs": [
        {
          "output_type": "stream",
          "name": "stdout",
          "text": [
            "[0 1 2 3 5 6 8 9]\n"
          ]
        }
      ],
      "source": [
        "a1 = np.random.randint(0,10,10)\n",
        "a2 = np.random.randint(0,10,10)\n",
        "print(np.intersect1d(a1,a2))"
      ]
    },
    {
      "cell_type": "markdown",
      "metadata": {
        "id": "PnJhqdlWR1Gp"
      },
      "source": [
        "#### 31. How to ignore all numpy warnings (not recommended)? (★☆☆) \n",
        "(**hint**: np.seterr, np.errstate)"
      ]
    },
    {
      "cell_type": "code",
      "execution_count": null,
      "metadata": {
        "id": "C4fGaTRxR1Gq"
      },
      "outputs": [],
      "source": [
        ""
      ]
    },
    {
      "cell_type": "markdown",
      "metadata": {
        "id": "qLb1TEGMR1Gq"
      },
      "source": [
        "#### 32. Is the following expressions true? (★☆☆) \n",
        "(**hint**: imaginary number)"
      ]
    },
    {
      "cell_type": "markdown",
      "metadata": {
        "id": "_8v7xqMvR1Gq"
      },
      "source": [
        "```python\n",
        "np.sqrt(-1) == np.emath.sqrt(-1)\n",
        "```"
      ]
    },
    {
      "cell_type": "code",
      "execution_count": null,
      "metadata": {
        "id": "o1Ra-tA_R1Gq",
        "colab": {
          "base_uri": "https://localhost:8080/"
        },
        "outputId": "a647ba08-28d2-4e96-eba4-f2e14df46f7e"
      },
      "outputs": [
        {
          "output_type": "stream",
          "name": "stderr",
          "text": [
            "/usr/local/lib/python3.7/dist-packages/ipykernel_launcher.py:1: RuntimeWarning: invalid value encountered in sqrt\n",
            "  \"\"\"Entry point for launching an IPython kernel.\n"
          ]
        },
        {
          "output_type": "execute_result",
          "data": {
            "text/plain": [
              "False"
            ]
          },
          "metadata": {},
          "execution_count": 51
        }
      ],
      "source": [
        "np.sqrt(-1) == np.emath.sqrt(-1)"
      ]
    },
    {
      "cell_type": "markdown",
      "metadata": {
        "id": "OkL6D5w1R1Gr"
      },
      "source": [
        "#### 33. How to get the dates of yesterday, today and tomorrow? (★☆☆) \n",
        "(**hint**: np.datetime64, np.timedelta64)"
      ]
    },
    {
      "cell_type": "code",
      "execution_count": null,
      "metadata": {
        "collapsed": true,
        "id": "QGBsxzgjR1Gr",
        "colab": {
          "base_uri": "https://localhost:8080/"
        },
        "outputId": "dac58274-0853-406e-be72-e1d7faa15992"
      },
      "outputs": [
        {
          "output_type": "stream",
          "name": "stdout",
          "text": [
            "2022-02-16\n",
            "2022-02-17\n",
            "2022-02-18\n"
          ]
        }
      ],
      "source": [
        "yesterday = np.datetime64('today', 'D') - np.timedelta64(1, 'D')\n",
        "today     = np.datetime64('today', 'D')\n",
        "tomorrow  = np.datetime64('today', 'D') + np.timedelta64(1, 'D')\n",
        "print(yesterday)\n",
        "print(today )\n",
        "print(tomorrow)"
      ]
    },
    {
      "cell_type": "markdown",
      "metadata": {
        "id": "3wRMgUekR1Gr"
      },
      "source": [
        "#### 34. How to get all the dates corresponding to the month of July 2016? (★★☆) \n",
        "(**hint**: np.arange(dtype=datetime64\\['D'\\]))"
      ]
    },
    {
      "cell_type": "code",
      "execution_count": null,
      "metadata": {
        "id": "nomWH9BJR1Gr",
        "colab": {
          "base_uri": "https://localhost:8080/"
        },
        "outputId": "bab2af01-5843-4fd3-c1a1-c47be4ef2e24"
      },
      "outputs": [
        {
          "output_type": "stream",
          "name": "stdout",
          "text": [
            "['2016-07-01' '2016-07-02' '2016-07-03' '2016-07-04' '2016-07-05'\n",
            " '2016-07-06' '2016-07-07' '2016-07-08' '2016-07-09' '2016-07-10'\n",
            " '2016-07-11' '2016-07-12' '2016-07-13' '2016-07-14' '2016-07-15'\n",
            " '2016-07-16' '2016-07-17' '2016-07-18' '2016-07-19' '2016-07-20'\n",
            " '2016-07-21' '2016-07-22' '2016-07-23' '2016-07-24' '2016-07-25'\n",
            " '2016-07-26' '2016-07-27' '2016-07-28' '2016-07-29' '2016-07-30'\n",
            " '2016-07-31']\n"
          ]
        }
      ],
      "source": [
        "d = np.arange('2016-07', '2016-08', dtype='datetime64[D]')\n",
        "print(d)"
      ]
    },
    {
      "cell_type": "markdown",
      "metadata": {
        "id": "C6dYWZb3R1Gr"
      },
      "source": [
        "#### 35. How to compute ((A+B)\\*(-A/2)) in place (without copy)? (★★☆) \n",
        "(**hint**: np.add(out=), np.negative(out=), np.multiply(out=), np.divide(out=))"
      ]
    },
    {
      "cell_type": "code",
      "execution_count": null,
      "metadata": {
        "id": "OmBRyxXQR1Gs",
        "colab": {
          "base_uri": "https://localhost:8080/"
        },
        "outputId": "2505578c-f150-4e78-a720-176f34cfdccb"
      },
      "outputs": [
        {
          "output_type": "execute_result",
          "data": {
            "text/plain": [
              "array([-1.5, -1.5, -1.5])"
            ]
          },
          "metadata": {},
          "execution_count": 57
        }
      ],
      "source": [
        "A = np.ones(3)*1\n",
        "B = np.ones(3)*2\n",
        "C = np.ones(3)*3\n",
        "np.add(A,B,out=B)\n",
        "np.divide(A,2,out=A)\n",
        "np.negative(A,out=A)\n",
        "np.multiply(A,B,out=A)"
      ]
    },
    {
      "cell_type": "markdown",
      "metadata": {
        "id": "2lGTfePnR1Gs"
      },
      "source": [
        "#### 36. Extract the integer part of a random array using 5 different methods (★★☆) \n",
        "(**hint**: %, np.floor, np.ceil, astype, np.trunc)"
      ]
    },
    {
      "cell_type": "code",
      "execution_count": null,
      "metadata": {
        "id": "1MTwD7UOR1Gs",
        "colab": {
          "base_uri": "https://localhost:8080/"
        },
        "outputId": "28644a1d-c76c-442e-d1ac-ff79b02cfefe"
      },
      "outputs": [
        {
          "output_type": "stream",
          "name": "stdout",
          "text": [
            "[6. 1. 4. 7. 0. 3. 8. 5. 5. 6.]\n",
            "[6. 1. 4. 7. 0. 3. 8. 5. 5. 6.]\n",
            "[6. 1. 4. 7. 0. 3. 8. 5. 5. 6.]\n",
            "[6 1 4 7 0 3 8 5 5 6]\n",
            "[6. 1. 4. 7. 0. 3. 8. 5. 5. 6.]\n"
          ]
        }
      ],
      "source": [
        "Z = np.random.uniform(0,10,10)\n",
        "\n",
        "print (Z - Z%1)\n",
        "print (np.floor(Z))\n",
        "print (np.ceil(Z)-1)\n",
        "print (Z.astype(int))\n",
        "print (np.trunc(Z))"
      ]
    },
    {
      "cell_type": "markdown",
      "metadata": {
        "id": "MCvXWBn0R1Gs"
      },
      "source": [
        "#### 37. Create a 5x5 matrix with row values ranging from 0 to 4 (★★☆) \n",
        "(**hint**: np.arange)"
      ]
    },
    {
      "cell_type": "code",
      "execution_count": null,
      "metadata": {
        "id": "JYmI1K1iR1Gs",
        "colab": {
          "base_uri": "https://localhost:8080/"
        },
        "outputId": "3b1ab211-b350-4155-cabd-c83b09604611"
      },
      "outputs": [
        {
          "output_type": "stream",
          "name": "stdout",
          "text": [
            "[[0. 1. 2. 3. 4.]\n",
            " [0. 1. 2. 3. 4.]\n",
            " [0. 1. 2. 3. 4.]\n",
            " [0. 1. 2. 3. 4.]\n",
            " [0. 1. 2. 3. 4.]]\n"
          ]
        }
      ],
      "source": [
        "Z = np.zeros((5,5))\n",
        "Z += np.arange(5)\n",
        "print(Z)"
      ]
    },
    {
      "cell_type": "markdown",
      "metadata": {
        "id": "acyqpMJIR1Gt"
      },
      "source": [
        "#### 38. Consider a generator function that generates 10 integers and use it to build an array (★☆☆) \n",
        "(**hint**: np.fromiter)"
      ]
    },
    {
      "cell_type": "code",
      "execution_count": null,
      "metadata": {
        "id": "CwKvNwlZR1Gt",
        "colab": {
          "base_uri": "https://localhost:8080/"
        },
        "outputId": "0e4534cd-52f9-4ee1-d985-65214bac5854"
      },
      "outputs": [
        {
          "output_type": "stream",
          "name": "stdout",
          "text": [
            "[0. 1. 2. 3. 4. 5. 6. 7. 8. 9.]\n"
          ]
        }
      ],
      "source": [
        "def generate():\n",
        "    for x in range(10):\n",
        "        yield x\n",
        "Z = np.fromiter(generate(),dtype=float,count=-1)\n",
        "print(Z)"
      ]
    },
    {
      "cell_type": "markdown",
      "metadata": {
        "id": "fuiEb2lmR1Gt"
      },
      "source": [
        "#### 39. Create a vector of size 10 with values ranging from 0 to 1, both excluded (★★☆) \n",
        "(**hint**: np.linspace)"
      ]
    },
    {
      "cell_type": "code",
      "execution_count": null,
      "metadata": {
        "id": "OlkTR0KRR1Gt",
        "colab": {
          "base_uri": "https://localhost:8080/"
        },
        "outputId": "195d80ca-51e4-457c-dc5a-2928ffade297"
      },
      "outputs": [
        {
          "output_type": "stream",
          "name": "stdout",
          "text": [
            "[0.09090909 0.18181818 0.27272727 0.36363636 0.45454545 0.54545455\n",
            " 0.63636364 0.72727273 0.81818182 0.90909091]\n"
          ]
        }
      ],
      "source": [
        "v= np.linspace(0,1,11,endpoint=False)[1:]\n",
        "print(v)"
      ]
    },
    {
      "cell_type": "markdown",
      "metadata": {
        "id": "8Rldf4TZR1Gt"
      },
      "source": [
        "#### 40. Create a random vector of size 10 and sort it (★★☆) \n",
        "(**hint**: sort)"
      ]
    },
    {
      "cell_type": "code",
      "execution_count": null,
      "metadata": {
        "id": "6RRyMBTrR1Gu",
        "colab": {
          "base_uri": "https://localhost:8080/"
        },
        "outputId": "bfdc16cc-504a-4f7c-ae6f-2f310e1f5775"
      },
      "outputs": [
        {
          "output_type": "stream",
          "name": "stdout",
          "text": [
            "[0.12400699 0.25868268 0.36066731 0.41648931 0.4225175  0.59726053\n",
            " 0.66438452 0.6771338  0.82881905 0.94817069]\n"
          ]
        }
      ],
      "source": [
        "v= np.random.random(10)\n",
        "v.sort()\n",
        "print(v)"
      ]
    },
    {
      "cell_type": "markdown",
      "metadata": {
        "id": "6hIYHT5FR1Gu"
      },
      "source": [
        "#### 41. How to sum a small array faster than np.sum? (★★☆) \n",
        "(**hint**: np.add.reduce)"
      ]
    },
    {
      "cell_type": "code",
      "execution_count": null,
      "metadata": {
        "id": "v22VKB1tR1Gu",
        "colab": {
          "base_uri": "https://localhost:8080/"
        },
        "outputId": "ecb9d75b-8223-4e5d-c60e-ff44bb235aff"
      },
      "outputs": [
        {
          "output_type": "execute_result",
          "data": {
            "text/plain": [
              "45"
            ]
          },
          "metadata": {},
          "execution_count": 64
        }
      ],
      "source": [
        "a = np.arange(10)\n",
        "np.add.reduce(a)"
      ]
    },
    {
      "cell_type": "markdown",
      "metadata": {
        "id": "28AWZrTVR1Gu"
      },
      "source": [
        "#### 42. Consider two random array A and B, check if they are equal (★★☆) \n",
        "(**hint**: np.allclose, np.array\\_equal)"
      ]
    },
    {
      "cell_type": "code",
      "execution_count": null,
      "metadata": {
        "id": "h1wEVxXWR1Gu",
        "colab": {
          "base_uri": "https://localhost:8080/"
        },
        "outputId": "ef0da304-bfd1-4207-bdd2-3db3aa2f48c5"
      },
      "outputs": [
        {
          "output_type": "stream",
          "name": "stdout",
          "text": [
            "False\n",
            "False\n"
          ]
        }
      ],
      "source": [
        "A = np.random.randint(0,2,5)\n",
        "B = np.random.randint(0,2,5)\n",
        "\n",
        "equal = np.allclose(A,B)\n",
        "print(equal)\n",
        "\n",
        "equal = np.array_equal(A,B)\n",
        "print(equal)"
      ]
    },
    {
      "cell_type": "markdown",
      "metadata": {
        "id": "jPnyzuP5R1Gv"
      },
      "source": [
        "#### 43. Make an array immutable (read-only) (★★☆) \n",
        "(**hint**: flags.writeable)"
      ]
    },
    {
      "cell_type": "code",
      "execution_count": null,
      "metadata": {
        "id": "w2tNewmLR1Gv"
      },
      "outputs": [],
      "source": [
        ""
      ]
    },
    {
      "cell_type": "markdown",
      "metadata": {
        "id": "rZOyetvKR1Gv"
      },
      "source": [
        "#### 44. Consider a random 10x2 matrix representing cartesian coordinates, convert them to polar coordinates (★★☆) \n",
        "(**hint**: np.sqrt, np.arctan2)"
      ]
    },
    {
      "cell_type": "code",
      "execution_count": null,
      "metadata": {
        "id": "LZeaNaF2R1Gv",
        "colab": {
          "base_uri": "https://localhost:8080/"
        },
        "outputId": "c8b311e9-a11c-445b-b123-e21c540be486"
      },
      "outputs": [
        {
          "output_type": "stream",
          "name": "stdout",
          "text": [
            "[0.75288668 0.95231859 0.9416918  0.517419   0.48911716 0.50762435\n",
            " 1.00545755 1.26561851 0.95711901 0.36244248]\n",
            "[0.67921541 0.43324904 1.22842568 0.09732629 1.0749315  0.25496034\n",
            " 0.93735121 0.86592921 1.47016369 0.61337812]\n"
          ]
        }
      ],
      "source": [
        "Z = np.random.random((10,2))\n",
        "X,Y = Z[:,0], Z[:,1]\n",
        "R = np.sqrt(X**2+Y**2)\n",
        "T = np.arctan2(Y,X)\n",
        "print(R)\n",
        "print(T)"
      ]
    },
    {
      "cell_type": "markdown",
      "metadata": {
        "id": "Kt4YHeP8R1Gv"
      },
      "source": [
        "#### 45. Create random vector of size 10 and replace the maximum value by 0 (★★☆) \n",
        "(**hint**: argmax)"
      ]
    },
    {
      "cell_type": "code",
      "execution_count": null,
      "metadata": {
        "id": "0QcqA8edR1Gw",
        "colab": {
          "base_uri": "https://localhost:8080/"
        },
        "outputId": "c404308b-a781-42c9-8845-d67d0a573921"
      },
      "outputs": [
        {
          "output_type": "stream",
          "name": "stdout",
          "text": [
            "[0.52472566 0.45348658 0.32812433 0.81226236 0.         0.81935274\n",
            " 0.32905779 0.015505   0.68711628 0.83135341]\n"
          ]
        }
      ],
      "source": [
        "a= np.random.random(10)\n",
        "a[a.argmax()] = 0\n",
        "print(a)"
      ]
    },
    {
      "cell_type": "markdown",
      "metadata": {
        "id": "0M8YAuR5R1Gw"
      },
      "source": [
        "#### 46. Create a structured array with `x` and `y` coordinates covering the \\[0,1\\]x\\[0,1\\] area (★★☆) \n",
        "(**hint**: np.meshgrid)"
      ]
    },
    {
      "cell_type": "code",
      "execution_count": null,
      "metadata": {
        "id": "19-t2uC6R1Gw",
        "colab": {
          "base_uri": "https://localhost:8080/"
        },
        "outputId": "d988cd09-9128-4611-b3c3-ec59e0cdc69f"
      },
      "outputs": [
        {
          "output_type": "stream",
          "name": "stdout",
          "text": [
            "[[(0.  , 0.  ) (0.25, 0.  ) (0.5 , 0.  ) (0.75, 0.  ) (1.  , 0.  )]\n",
            " [(0.  , 0.25) (0.25, 0.25) (0.5 , 0.25) (0.75, 0.25) (1.  , 0.25)]\n",
            " [(0.  , 0.5 ) (0.25, 0.5 ) (0.5 , 0.5 ) (0.75, 0.5 ) (1.  , 0.5 )]\n",
            " [(0.  , 0.75) (0.25, 0.75) (0.5 , 0.75) (0.75, 0.75) (1.  , 0.75)]\n",
            " [(0.  , 1.  ) (0.25, 1.  ) (0.5 , 1.  ) (0.75, 1.  ) (1.  , 1.  )]]\n"
          ]
        }
      ],
      "source": [
        "a= np.zeros((5,5), [('x',float),('y',float)])\n",
        "a['x'], a['y'] = np.meshgrid(np.linspace(0,1,5),\n",
        "                             np.linspace(0,1,5))\n",
        "print(a)"
      ]
    },
    {
      "cell_type": "markdown",
      "metadata": {
        "id": "mx1m42ZDR1Gw"
      },
      "source": [
        "####  47. Given two arrays, X and Y, construct the Cauchy matrix C (Cij =1/(xi - yj)) \n",
        "(**hint**: np.subtract.outer)"
      ]
    },
    {
      "cell_type": "code",
      "execution_count": null,
      "metadata": {
        "id": "Q0n9UJzPR1Gw",
        "colab": {
          "base_uri": "https://localhost:8080/"
        },
        "outputId": "a8c57ea8-4dcf-436a-ef12-d035b61006f6"
      },
      "outputs": [
        {
          "output_type": "stream",
          "name": "stdout",
          "text": [
            "3638.163637117973\n"
          ]
        }
      ],
      "source": [
        "X = np.arange(8)\n",
        "Y = X + 0.5\n",
        "C = 1.0 / np.subtract.outer(X, Y)\n",
        "print(np.linalg.det(C))"
      ]
    },
    {
      "cell_type": "markdown",
      "metadata": {
        "id": "jnNXOUWUR1Gx"
      },
      "source": [
        "#### 48. Print the minimum and maximum representable value for each numpy scalar type (★★☆) \n",
        "(**hint**: np.iinfo, np.finfo, eps)"
      ]
    },
    {
      "cell_type": "code",
      "execution_count": null,
      "metadata": {
        "id": "VOVejTK8R1Gx",
        "colab": {
          "base_uri": "https://localhost:8080/"
        },
        "outputId": "d2baf838-9776-4db8-efe9-420aa6db28a0"
      },
      "outputs": [
        {
          "output_type": "stream",
          "name": "stdout",
          "text": [
            "-128\n",
            "127\n",
            "-2147483648\n",
            "2147483647\n",
            "-9223372036854775808\n",
            "9223372036854775807\n",
            "-3.4028235e+38\n",
            "3.4028235e+38\n",
            "1.1920929e-07\n",
            "-1.7976931348623157e+308\n",
            "1.7976931348623157e+308\n",
            "2.220446049250313e-16\n"
          ]
        }
      ],
      "source": [
        "for dtype in [np.int8, np.int32, np.int64]:\n",
        "   print(np.iinfo(dtype).min)\n",
        "   print(np.iinfo(dtype).max)\n",
        "for dtype in [np.float32, np.float64]:\n",
        "   print(np.finfo(dtype).min)\n",
        "   print(np.finfo(dtype).max)\n",
        "   print(np.finfo(dtype).eps)"
      ]
    },
    {
      "cell_type": "markdown",
      "metadata": {
        "id": "d7fvFEzER1Gx"
      },
      "source": [
        "#### 49. How to print all the values of an array? (★★☆) \n",
        "(**hint**: np.set\\_printoptions)"
      ]
    },
    {
      "cell_type": "code",
      "execution_count": null,
      "metadata": {
        "id": "WQXpnoNtR1Gx",
        "colab": {
          "base_uri": "https://localhost:8080/"
        },
        "outputId": "4126e833-4a24-414d-d7f5-cc3aa36640bc"
      },
      "outputs": [
        {
          "output_type": "stream",
          "name": "stdout",
          "text": [
            "[[0. 0. 0. 0. 0. 0. 0. 0. 0. 0. 0. 0. 0. 0. 0. 0. 0. 0. 0. 0. 0. 0. 0. 0.\n",
            "  0.]\n",
            " [0. 0. 0. 0. 0. 0. 0. 0. 0. 0. 0. 0. 0. 0. 0. 0. 0. 0. 0. 0. 0. 0. 0. 0.\n",
            "  0.]\n",
            " [0. 0. 0. 0. 0. 0. 0. 0. 0. 0. 0. 0. 0. 0. 0. 0. 0. 0. 0. 0. 0. 0. 0. 0.\n",
            "  0.]\n",
            " [0. 0. 0. 0. 0. 0. 0. 0. 0. 0. 0. 0. 0. 0. 0. 0. 0. 0. 0. 0. 0. 0. 0. 0.\n",
            "  0.]\n",
            " [0. 0. 0. 0. 0. 0. 0. 0. 0. 0. 0. 0. 0. 0. 0. 0. 0. 0. 0. 0. 0. 0. 0. 0.\n",
            "  0.]\n",
            " [0. 0. 0. 0. 0. 0. 0. 0. 0. 0. 0. 0. 0. 0. 0. 0. 0. 0. 0. 0. 0. 0. 0. 0.\n",
            "  0.]\n",
            " [0. 0. 0. 0. 0. 0. 0. 0. 0. 0. 0. 0. 0. 0. 0. 0. 0. 0. 0. 0. 0. 0. 0. 0.\n",
            "  0.]\n",
            " [0. 0. 0. 0. 0. 0. 0. 0. 0. 0. 0. 0. 0. 0. 0. 0. 0. 0. 0. 0. 0. 0. 0. 0.\n",
            "  0.]\n",
            " [0. 0. 0. 0. 0. 0. 0. 0. 0. 0. 0. 0. 0. 0. 0. 0. 0. 0. 0. 0. 0. 0. 0. 0.\n",
            "  0.]\n",
            " [0. 0. 0. 0. 0. 0. 0. 0. 0. 0. 0. 0. 0. 0. 0. 0. 0. 0. 0. 0. 0. 0. 0. 0.\n",
            "  0.]\n",
            " [0. 0. 0. 0. 0. 0. 0. 0. 0. 0. 0. 0. 0. 0. 0. 0. 0. 0. 0. 0. 0. 0. 0. 0.\n",
            "  0.]\n",
            " [0. 0. 0. 0. 0. 0. 0. 0. 0. 0. 0. 0. 0. 0. 0. 0. 0. 0. 0. 0. 0. 0. 0. 0.\n",
            "  0.]\n",
            " [0. 0. 0. 0. 0. 0. 0. 0. 0. 0. 0. 0. 0. 0. 0. 0. 0. 0. 0. 0. 0. 0. 0. 0.\n",
            "  0.]\n",
            " [0. 0. 0. 0. 0. 0. 0. 0. 0. 0. 0. 0. 0. 0. 0. 0. 0. 0. 0. 0. 0. 0. 0. 0.\n",
            "  0.]\n",
            " [0. 0. 0. 0. 0. 0. 0. 0. 0. 0. 0. 0. 0. 0. 0. 0. 0. 0. 0. 0. 0. 0. 0. 0.\n",
            "  0.]\n",
            " [0. 0. 0. 0. 0. 0. 0. 0. 0. 0. 0. 0. 0. 0. 0. 0. 0. 0. 0. 0. 0. 0. 0. 0.\n",
            "  0.]\n",
            " [0. 0. 0. 0. 0. 0. 0. 0. 0. 0. 0. 0. 0. 0. 0. 0. 0. 0. 0. 0. 0. 0. 0. 0.\n",
            "  0.]\n",
            " [0. 0. 0. 0. 0. 0. 0. 0. 0. 0. 0. 0. 0. 0. 0. 0. 0. 0. 0. 0. 0. 0. 0. 0.\n",
            "  0.]\n",
            " [0. 0. 0. 0. 0. 0. 0. 0. 0. 0. 0. 0. 0. 0. 0. 0. 0. 0. 0. 0. 0. 0. 0. 0.\n",
            "  0.]\n",
            " [0. 0. 0. 0. 0. 0. 0. 0. 0. 0. 0. 0. 0. 0. 0. 0. 0. 0. 0. 0. 0. 0. 0. 0.\n",
            "  0.]\n",
            " [0. 0. 0. 0. 0. 0. 0. 0. 0. 0. 0. 0. 0. 0. 0. 0. 0. 0. 0. 0. 0. 0. 0. 0.\n",
            "  0.]\n",
            " [0. 0. 0. 0. 0. 0. 0. 0. 0. 0. 0. 0. 0. 0. 0. 0. 0. 0. 0. 0. 0. 0. 0. 0.\n",
            "  0.]\n",
            " [0. 0. 0. 0. 0. 0. 0. 0. 0. 0. 0. 0. 0. 0. 0. 0. 0. 0. 0. 0. 0. 0. 0. 0.\n",
            "  0.]\n",
            " [0. 0. 0. 0. 0. 0. 0. 0. 0. 0. 0. 0. 0. 0. 0. 0. 0. 0. 0. 0. 0. 0. 0. 0.\n",
            "  0.]\n",
            " [0. 0. 0. 0. 0. 0. 0. 0. 0. 0. 0. 0. 0. 0. 0. 0. 0. 0. 0. 0. 0. 0. 0. 0.\n",
            "  0.]]\n"
          ]
        }
      ],
      "source": [
        "a= np.zeros((25,25))\n",
        "print(a)"
      ]
    },
    {
      "cell_type": "markdown",
      "metadata": {
        "id": "voHXYeF9R1Gx"
      },
      "source": [
        "#### 50. How to find the closest value (to a given scalar) in a vector? (★★☆) \n",
        "(**hint**: argmin)"
      ]
    },
    {
      "cell_type": "code",
      "execution_count": null,
      "metadata": {
        "id": "eR5o9XFNR1Gy",
        "colab": {
          "base_uri": "https://localhost:8080/"
        },
        "outputId": "8edcb6d4-393d-4ba9-b2fd-ce7bfc72f3fb"
      },
      "outputs": [
        {
          "output_type": "stream",
          "name": "stdout",
          "text": [
            "17\n"
          ]
        }
      ],
      "source": [
        "Z = np.arange(100)\n",
        "v = np.random.uniform(0,100)\n",
        "index = (np.abs(Z-v)).argmin()\n",
        "print(Z[index])"
      ]
    },
    {
      "cell_type": "markdown",
      "metadata": {
        "id": "gwHxpJYmR1Gy"
      },
      "source": [
        "#### 51. Create a structured array representing a position (x,y) and a color (r,g,b) (★★☆) \n",
        "(**hint**: dtype)"
      ]
    },
    {
      "cell_type": "code",
      "execution_count": null,
      "metadata": {
        "id": "IECmyd9-R1Gy",
        "colab": {
          "base_uri": "https://localhost:8080/"
        },
        "outputId": "ef1b5c1c-ba37-47ec-9215-06a4ca1d2f5e"
      },
      "outputs": [
        {
          "output_type": "stream",
          "name": "stdout",
          "text": [
            "[((0., 0.), (0., 0., 0.)) ((0., 0.), (0., 0., 0.))\n",
            " ((0., 0.), (0., 0., 0.)) ((0., 0.), (0., 0., 0.))\n",
            " ((0., 0.), (0., 0., 0.)) ((0., 0.), (0., 0., 0.))\n",
            " ((0., 0.), (0., 0., 0.)) ((0., 0.), (0., 0., 0.))\n",
            " ((0., 0.), (0., 0., 0.)) ((0., 0.), (0., 0., 0.))]\n"
          ]
        },
        {
          "output_type": "stream",
          "name": "stderr",
          "text": [
            "/usr/local/lib/python3.7/dist-packages/ipykernel_launcher.py:5: FutureWarning: Passing (type, 1) or '1type' as a synonym of type is deprecated; in a future version of numpy, it will be understood as (type, (1,)) / '(1,)type'.\n",
            "  \"\"\"\n"
          ]
        }
      ],
      "source": [
        "a= np.zeros(10, [ ('position', [ ('x', float, 1),\n",
        "                                  ('y', float, 1)]),\n",
        "                   ('color',    [ ('r', float, 1),\n",
        "                                  ('g', float, 1),\n",
        "                                  ('b', float, 1)])])\n",
        "print(a)"
      ]
    },
    {
      "cell_type": "markdown",
      "metadata": {
        "id": "x33Zh45uR1Gy"
      },
      "source": [
        "#### 52. Consider a random vector with shape (100,2) representing coordinates, find point by point distances (★★☆) \n",
        "(**hint**: np.atleast\\_2d, T, np.sqrt)"
      ]
    },
    {
      "cell_type": "code",
      "execution_count": null,
      "metadata": {
        "id": "1VfhrE42R1Gz",
        "colab": {
          "base_uri": "https://localhost:8080/"
        },
        "outputId": "0b62047c-e8a7-40af-a997-751e4785638b"
      },
      "outputs": [
        {
          "output_type": "stream",
          "name": "stdout",
          "text": [
            "[[0.         0.84822666 0.61607587 ... 0.79650516 0.42104765 0.68230027]\n",
            " [0.84822666 0.         0.68122715 ... 0.83925464 0.64969751 0.47457563]\n",
            " [0.61607587 0.68122715 0.         ... 0.20927113 0.1986251  0.21982399]\n",
            " ...\n",
            " [0.79650516 0.83925464 0.20927113 ... 0.         0.39740762 0.36602921]\n",
            " [0.42104765 0.64969751 0.1986251  ... 0.39740762 0.         0.29365414]\n",
            " [0.68230027 0.47457563 0.21982399 ... 0.36602921 0.29365414 0.        ]]\n",
            "[[0.         0.63209536 0.4975559  ... 0.44128349 0.33420791 0.54356504]\n",
            " [0.63209536 0.         0.66662139 ... 0.41449124 0.29914774 0.09180952]\n",
            " [0.4975559  0.66662139 0.         ... 0.7788399  0.48319916 0.62456721]\n",
            " ...\n",
            " [0.44128349 0.41449124 0.7788399  ... 0.         0.30812485 0.33794963]\n",
            " [0.33420791 0.29914774 0.48319916 ... 0.30812485 0.         0.21374886]\n",
            " [0.54356504 0.09180952 0.62456721 ... 0.33794963 0.21374886 0.        ]]\n"
          ]
        }
      ],
      "source": [
        "Z = np.random.random((100,2))\n",
        "X,Y = np.atleast_2d(Z[:,0], Z[:,1])\n",
        "D = np.sqrt( (X-X.T)**2 + (Y-Y.T)**2)\n",
        "print(D)\n",
        "\n",
        "import scipy\n",
        "import scipy.spatial\n",
        "\n",
        "Z = np.random.random((100,2))\n",
        "D = scipy.spatial.distance.cdist(Z,Z)\n",
        "print(D)"
      ]
    },
    {
      "cell_type": "markdown",
      "metadata": {
        "id": "Dw3bjf6MR1Gz"
      },
      "source": [
        "#### 53. How to convert a float (32 bits) array into an integer (32 bits) in place? \n",
        "(**hint**: astype(copy=False))"
      ]
    },
    {
      "cell_type": "code",
      "execution_count": null,
      "metadata": {
        "id": "6rlDMIt_R1Gz",
        "colab": {
          "base_uri": "https://localhost:8080/"
        },
        "outputId": "7a4bab89-f971-4f29-d343-61bfbbcc9010"
      },
      "outputs": [
        {
          "output_type": "stream",
          "name": "stdout",
          "text": [
            "[0. 1. 2. 3. 4. 5. 6. 7. 8. 9.]\n"
          ]
        }
      ],
      "source": [
        "a= np.arange(10, dtype=np.float32)\n",
        "A= a.astype(np.int32, copy=False)\n",
        "print(a)"
      ]
    },
    {
      "cell_type": "markdown",
      "metadata": {
        "id": "MnhFBfl2R1Gz"
      },
      "source": [
        "#### 54. How to read the following file? (★★☆) \n",
        "(**hint**: np.genfromtxt)"
      ]
    },
    {
      "cell_type": "markdown",
      "metadata": {
        "id": "yNnVJ7fHR1Gz"
      },
      "source": [
        "```\n",
        "1, 2, 3, 4, 5\n",
        "6,  ,  , 7, 8\n",
        " ,  , 9,10,11\n",
        "```"
      ]
    },
    {
      "cell_type": "code",
      "execution_count": null,
      "metadata": {
        "id": "CQnRwKtpR1G0"
      },
      "outputs": [],
      "source": [
        ""
      ]
    },
    {
      "cell_type": "markdown",
      "metadata": {
        "id": "NEvF4uPlR1G0"
      },
      "source": [
        "#### 55. What is the equivalent of enumerate for numpy arrays? (★★☆) \n",
        "(**hint**: np.ndenumerate, np.ndindex)"
      ]
    },
    {
      "cell_type": "code",
      "execution_count": null,
      "metadata": {
        "id": "rLJ5Zm-dR1G0",
        "colab": {
          "base_uri": "https://localhost:8080/"
        },
        "outputId": "8a6aab89-a9f2-4b5e-b6a7-365e4a009c08"
      },
      "outputs": [
        {
          "output_type": "stream",
          "name": "stdout",
          "text": [
            "(0, 0) 0\n",
            "(0, 1) 1\n",
            "(0, 2) 2\n",
            "(1, 0) 3\n",
            "(1, 1) 4\n",
            "(1, 2) 5\n",
            "(2, 0) 6\n",
            "(2, 1) 7\n",
            "(2, 2) 8\n",
            "(0, 0) 0\n",
            "(0, 1) 1\n",
            "(0, 2) 2\n",
            "(1, 0) 3\n",
            "(1, 1) 4\n",
            "(1, 2) 5\n",
            "(2, 0) 6\n",
            "(2, 1) 7\n",
            "(2, 2) 8\n"
          ]
        }
      ],
      "source": [
        "Z = np.arange(9).reshape(3,3)\n",
        "for index, value in np.ndenumerate(Z):\n",
        "    print(index, value)\n",
        "for index in np.ndindex(Z.shape):\n",
        "    print(index, Z[index])"
      ]
    },
    {
      "cell_type": "markdown",
      "metadata": {
        "id": "5z_T2LsXR1G0"
      },
      "source": [
        "#### 56. Generate a generic 2D Gaussian-like array (★★☆) \n",
        "(**hint**: np.meshgrid, np.exp)"
      ]
    },
    {
      "cell_type": "code",
      "execution_count": null,
      "metadata": {
        "id": "TmOijKeLR1G0",
        "colab": {
          "base_uri": "https://localhost:8080/"
        },
        "outputId": "43676dc0-0c31-4782-ce32-d981909d0e37"
      },
      "outputs": [
        {
          "output_type": "stream",
          "name": "stdout",
          "text": [
            "[[0.36787944 0.44822088 0.51979489 0.57375342 0.60279818 0.60279818\n",
            "  0.57375342 0.51979489 0.44822088 0.36787944]\n",
            " [0.44822088 0.54610814 0.63331324 0.69905581 0.73444367 0.73444367\n",
            "  0.69905581 0.63331324 0.54610814 0.44822088]\n",
            " [0.51979489 0.63331324 0.73444367 0.81068432 0.85172308 0.85172308\n",
            "  0.81068432 0.73444367 0.63331324 0.51979489]\n",
            " [0.57375342 0.69905581 0.81068432 0.89483932 0.9401382  0.9401382\n",
            "  0.89483932 0.81068432 0.69905581 0.57375342]\n",
            " [0.60279818 0.73444367 0.85172308 0.9401382  0.98773022 0.98773022\n",
            "  0.9401382  0.85172308 0.73444367 0.60279818]\n",
            " [0.60279818 0.73444367 0.85172308 0.9401382  0.98773022 0.98773022\n",
            "  0.9401382  0.85172308 0.73444367 0.60279818]\n",
            " [0.57375342 0.69905581 0.81068432 0.89483932 0.9401382  0.9401382\n",
            "  0.89483932 0.81068432 0.69905581 0.57375342]\n",
            " [0.51979489 0.63331324 0.73444367 0.81068432 0.85172308 0.85172308\n",
            "  0.81068432 0.73444367 0.63331324 0.51979489]\n",
            " [0.44822088 0.54610814 0.63331324 0.69905581 0.73444367 0.73444367\n",
            "  0.69905581 0.63331324 0.54610814 0.44822088]\n",
            " [0.36787944 0.44822088 0.51979489 0.57375342 0.60279818 0.60279818\n",
            "  0.57375342 0.51979489 0.44822088 0.36787944]]\n"
          ]
        }
      ],
      "source": [
        "X, Y = np.meshgrid(np.linspace(-1,1,10), np.linspace(-1,1,10))\n",
        "D = np.sqrt(X*X+Y*Y)\n",
        "sigma, mu = 1.0, 0.0\n",
        "G = np.exp(-( (D-mu)**2 / ( 2.0 * sigma**2 ) ) )\n",
        "print(G)"
      ]
    },
    {
      "cell_type": "markdown",
      "metadata": {
        "id": "NWAqbnFER1G1"
      },
      "source": [
        "#### 57. How to randomly place p elements in a 2D array? (★★☆) \n",
        "(**hint**: np.put, np.random.choice)"
      ]
    },
    {
      "cell_type": "code",
      "execution_count": null,
      "metadata": {
        "id": "u-uFtU3FR1G1",
        "colab": {
          "base_uri": "https://localhost:8080/"
        },
        "outputId": "261980f9-f1f9-48a4-bd42-ff9059f9eeaa"
      },
      "outputs": [
        {
          "output_type": "stream",
          "name": "stdout",
          "text": [
            "[[0. 0. 0. 0. 0. 0. 0. 0. 0. 0.]\n",
            " [0. 0. 0. 0. 0. 0. 0. 0. 0. 0.]\n",
            " [0. 0. 0. 0. 0. 0. 0. 0. 0. 0.]\n",
            " [0. 1. 0. 0. 0. 0. 0. 0. 0. 0.]\n",
            " [0. 0. 0. 0. 0. 0. 0. 0. 0. 0.]\n",
            " [0. 0. 0. 0. 0. 0. 0. 0. 0. 0.]\n",
            " [0. 0. 0. 0. 0. 0. 0. 0. 0. 0.]\n",
            " [0. 0. 0. 0. 0. 0. 0. 0. 0. 0.]\n",
            " [0. 0. 0. 1. 0. 0. 0. 0. 0. 0.]\n",
            " [0. 0. 0. 0. 0. 0. 0. 1. 0. 0.]]\n"
          ]
        }
      ],
      "source": [
        "n = 10\n",
        "p = 3\n",
        "Z = np.zeros((n,n))\n",
        "np.put(Z, np.random.choice(range(n*n), p, replace=False),1)\n",
        "print(Z)"
      ]
    },
    {
      "cell_type": "markdown",
      "metadata": {
        "id": "zB02kBgSR1G1"
      },
      "source": [
        "#### 58. Subtract the mean of each row of a matrix (★★☆) \n",
        "(**hint**: mean(axis=,keepdims=))"
      ]
    },
    {
      "cell_type": "code",
      "execution_count": null,
      "metadata": {
        "id": "Rp128K7KR1G1",
        "colab": {
          "base_uri": "https://localhost:8080/"
        },
        "outputId": "f164b827-2a5c-4215-8cb3-25845694e550"
      },
      "outputs": [
        {
          "output_type": "stream",
          "name": "stdout",
          "text": [
            "[[-0.05528999 -0.09242075  0.29578956 -0.4227352   0.51100212 -0.08638528\n",
            "  -0.31324876  0.49181761  0.0194993  -0.34802862]\n",
            " [ 0.23018953 -0.38257534  0.30836331 -0.12718654  0.27020334  0.40960707\n",
            "   0.08720721 -0.46626307 -0.23751204 -0.09203346]\n",
            " [ 0.07397329 -0.16412091  0.2686354  -0.0087669  -0.37391897 -0.24810337\n",
            "   0.17333102  0.15009926  0.49827678 -0.3694056 ]\n",
            " [ 0.12364262  0.5565552   0.0057599  -0.34485436  0.17765884  0.1140886\n",
            "  -0.20069501 -0.13963856 -0.33681553  0.04429831]\n",
            " [ 0.05755804 -0.17440415 -0.36153708 -0.01068926  0.31420783  0.0832828\n",
            "   0.05737338  0.13519825 -0.39569138  0.29470157]]\n"
          ]
        }
      ],
      "source": [
        "X = np.random.rand(5, 10)\n",
        "\n",
        "Y = X - X.mean(axis=1, keepdims=True)\n",
        "\n",
        "Y = X - X.mean(axis=1).reshape(-1, 1)\n",
        "\n",
        "print(Y)"
      ]
    },
    {
      "cell_type": "markdown",
      "metadata": {
        "id": "w325CPRYR1G1"
      },
      "source": [
        "#### 59. How to sort an array by the nth column? (★★☆) \n",
        "(**hint**: argsort)"
      ]
    },
    {
      "cell_type": "code",
      "execution_count": null,
      "metadata": {
        "id": "lCENEL-AR1G2",
        "colab": {
          "base_uri": "https://localhost:8080/"
        },
        "outputId": "775c9279-31db-4014-bfb6-cd5422ba6843"
      },
      "outputs": [
        {
          "output_type": "stream",
          "name": "stdout",
          "text": [
            "[[2 7 8]\n",
            " [1 1 7]\n",
            " [9 9 9]]\n",
            "[[1 1 7]\n",
            " [2 7 8]\n",
            " [9 9 9]]\n"
          ]
        }
      ],
      "source": [
        "a= np.random.randint(0,10,(3,3))\n",
        "print(a)\n",
        "print(a[a[:,1].argsort()])"
      ]
    },
    {
      "cell_type": "markdown",
      "metadata": {
        "id": "vPyX1SbeR1G2"
      },
      "source": [
        "#### 60. How to tell if a given 2D array has null columns? (★★☆) \n",
        "(**hint**: any, ~)"
      ]
    },
    {
      "cell_type": "code",
      "execution_count": null,
      "metadata": {
        "id": "w4fRcXzIR1G2",
        "colab": {
          "base_uri": "https://localhost:8080/"
        },
        "outputId": "22c99063-e0e3-4234-d14d-58adf9a379b7"
      },
      "outputs": [
        {
          "output_type": "stream",
          "name": "stdout",
          "text": [
            "False\n"
          ]
        }
      ],
      "source": [
        "a= np.random.randint(0,3,(3,10))\n",
        "print((~a.any(axis=0)).any())"
      ]
    },
    {
      "cell_type": "markdown",
      "metadata": {
        "id": "XpXXxlm1R1G2"
      },
      "source": [
        "#### 61. Find the nearest value from a given value in an array (★★☆) \n",
        "(**hint**: np.abs, argmin, flat)"
      ]
    },
    {
      "cell_type": "code",
      "execution_count": null,
      "metadata": {
        "id": "lmPGwW7nR1G3",
        "colab": {
          "base_uri": "https://localhost:8080/"
        },
        "outputId": "f1ba79c7-7c1f-483c-e65f-c5cc589d5517"
      },
      "outputs": [
        {
          "output_type": "stream",
          "name": "stdout",
          "text": [
            "0.5596766433242862\n"
          ]
        }
      ],
      "source": [
        "Z = np.random.uniform(0,1,10)\n",
        "z = 0.5\n",
        "m = Z.flat[np.abs(Z - z).argmin()]\n",
        "print(m)"
      ]
    },
    {
      "cell_type": "markdown",
      "metadata": {
        "id": "Cga9xueLR1G3"
      },
      "source": [
        "#### 62. Considering two arrays with shape (1,3) and (3,1), how to compute their sum using an iterator? (★★☆) \n",
        "(**hint**: np.nditer)"
      ]
    },
    {
      "cell_type": "code",
      "execution_count": null,
      "metadata": {
        "id": "EzxouQ4AR1G3",
        "colab": {
          "base_uri": "https://localhost:8080/"
        },
        "outputId": "5a07b79f-7626-42b4-eab5-a71ed8d54c73"
      },
      "outputs": [
        {
          "output_type": "stream",
          "name": "stdout",
          "text": [
            "[[0 1 2]\n",
            " [1 2 3]\n",
            " [2 3 4]]\n"
          ]
        }
      ],
      "source": [
        "A = np.arange(3).reshape(3,1)\n",
        "B = np.arange(3).reshape(1,3)\n",
        "it = np.nditer([A,B,None])\n",
        "for x,y,z in it: z[...] = x + y\n",
        "print(it.operands[2])"
      ]
    },
    {
      "cell_type": "markdown",
      "metadata": {
        "id": "zYZq-yRYR1G3"
      },
      "source": [
        "#### 63. Create an array class that has a name attribute (★★☆) \n",
        "(**hint**: class method)"
      ]
    },
    {
      "cell_type": "code",
      "execution_count": null,
      "metadata": {
        "id": "AUda1zTAR1G3",
        "colab": {
          "base_uri": "https://localhost:8080/"
        },
        "outputId": "398a3904-deb2-49c9-a22c-6bafe3d149dd"
      },
      "outputs": [
        {
          "output_type": "stream",
          "name": "stdout",
          "text": [
            "range_10\n"
          ]
        }
      ],
      "source": [
        "class NamedArray(np.ndarray):\n",
        "    def __new__(cls, array, name=\"no name\"):\n",
        "        obj = np.asarray(array).view(cls)\n",
        "        obj.name = name\n",
        "        return obj\n",
        "    def __array_finalize__(self, obj):\n",
        "        if obj is None: return\n",
        "        self.info = getattr(obj, 'name', \"no name\")\n",
        "\n",
        "Z = NamedArray(np.arange(10), \"range_10\")\n",
        "print (Z.name)"
      ]
    },
    {
      "cell_type": "markdown",
      "metadata": {
        "id": "CdNfVizuR1G4"
      },
      "source": [
        "#### 64. Consider a given vector, how to add 1 to each element indexed by a second vector (be careful with repeated indices)? (★★★) \n",
        "(**hint**: np.bincount | np.add.at)"
      ]
    },
    {
      "cell_type": "code",
      "execution_count": null,
      "metadata": {
        "id": "RwB902urR1G4",
        "colab": {
          "base_uri": "https://localhost:8080/"
        },
        "outputId": "9c943e23-592e-4bef-b60b-4c7b897243cb"
      },
      "outputs": [
        {
          "output_type": "stream",
          "name": "stdout",
          "text": [
            "[3. 3. 2. 2. 2. 2. 4. 8. 2. 2.]\n",
            "[ 5.  5.  3.  3.  3.  3.  7. 15.  3.  3.]\n"
          ]
        }
      ],
      "source": [
        "Z = np.ones(10)\n",
        "I = np.random.randint(0,len(Z),20)\n",
        "Z += np.bincount(I, minlength=len(Z))\n",
        "print(Z)\n",
        "\n",
        "np.add.at(Z, I, 1)\n",
        "print(Z)"
      ]
    },
    {
      "cell_type": "markdown",
      "metadata": {
        "id": "y3FBjXdcR1G4"
      },
      "source": [
        "#### 65. How to accumulate elements of a vector (X) to an array (F) based on an index list (I)? (★★★) \n",
        "(**hint**: np.bincount)"
      ]
    },
    {
      "cell_type": "code",
      "execution_count": null,
      "metadata": {
        "id": "OZz7ihdnR1G4",
        "colab": {
          "base_uri": "https://localhost:8080/"
        },
        "outputId": "975ddba3-7fda-4df2-d633-1c77ae236af9"
      },
      "outputs": [
        {
          "output_type": "stream",
          "name": "stdout",
          "text": [
            "[0. 7. 0. 6. 5. 0. 0. 0. 0. 3.]\n"
          ]
        }
      ],
      "source": [
        "X = [1,2,3,4,5,6]\n",
        "I = [1,3,9,3,4,1]\n",
        "F = np.bincount(I,X)\n",
        "print(F)"
      ]
    },
    {
      "cell_type": "markdown",
      "metadata": {
        "id": "Pii5Q3UvR1G4"
      },
      "source": [
        "#### 66. Considering a (w,h,3) image of (dtype=ubyte), compute the number of unique colors (★★★) \n",
        "(**hint**: np.unique)"
      ]
    },
    {
      "cell_type": "code",
      "execution_count": null,
      "metadata": {
        "id": "be_ZxwEVR1G5",
        "colab": {
          "base_uri": "https://localhost:8080/"
        },
        "outputId": "2c005ff6-daa7-46a4-a4e1-7bd4b4b75fcd"
      },
      "outputs": [
        {
          "output_type": "stream",
          "name": "stdout",
          "text": [
            "8\n"
          ]
        }
      ],
      "source": [
        "w,h = 16,16\n",
        "I = np.random.randint(0,2,(h,w,3)).astype(np.ubyte)\n",
        "F = I[...,0]*(256*256) + I[...,1]*256 +I[...,2]\n",
        "n = len(np.unique(F))\n",
        "print(n)"
      ]
    },
    {
      "cell_type": "markdown",
      "metadata": {
        "id": "IlUKLX4XR1G6"
      },
      "source": [
        "#### 67. Considering a four dimensions array, how to get sum over the last two axis at once? (★★★) \n",
        "(**hint**: sum(axis=(-2,-1)))"
      ]
    },
    {
      "cell_type": "code",
      "execution_count": null,
      "metadata": {
        "id": "4j6yhNqxR1G6",
        "colab": {
          "base_uri": "https://localhost:8080/"
        },
        "outputId": "7bf31609-6b7a-4f01-a77c-e9e831801ee2"
      },
      "outputs": [
        {
          "output_type": "stream",
          "name": "stdout",
          "text": [
            "[[52 65 55 64]\n",
            " [61 49 37 58]\n",
            " [57 59 47 55]]\n",
            "[[52 65 55 64]\n",
            " [61 49 37 58]\n",
            " [57 59 47 55]]\n"
          ]
        }
      ],
      "source": [
        "A = np.random.randint(0,10,(3,4,3,4))\n",
        "\n",
        "sum = A.sum(axis=(-2,-1))\n",
        "print(sum)\n",
        "\n",
        "sum = A.reshape(A.shape[:-2] + (-1,)).sum(axis=-1)\n",
        "print(sum)"
      ]
    },
    {
      "cell_type": "markdown",
      "metadata": {
        "id": "c1ocorsDR1G6"
      },
      "source": [
        "#### 68. Considering a one-dimensional vector D, how to compute means of subsets of D using a vector S of same size describing subset  indices? (★★★) \n",
        "(**hint**: np.bincount)"
      ]
    },
    {
      "cell_type": "code",
      "execution_count": null,
      "metadata": {
        "id": "3h3XUBfyR1G7",
        "colab": {
          "base_uri": "https://localhost:8080/"
        },
        "outputId": "66130f0a-089f-43a4-dff7-55659bf77a3d"
      },
      "outputs": [
        {
          "output_type": "stream",
          "name": "stdout",
          "text": [
            "[0.52152469 0.53953619 0.38239849 0.3664817  0.50345345 0.37868891\n",
            " 0.48207266 0.50683631 0.61184949 0.68335157]\n",
            "0    0.521525\n",
            "1    0.539536\n",
            "2    0.382398\n",
            "3    0.366482\n",
            "4    0.503453\n",
            "5    0.378689\n",
            "6    0.482073\n",
            "7    0.506836\n",
            "8    0.611849\n",
            "9    0.683352\n",
            "dtype: float64\n"
          ]
        }
      ],
      "source": [
        "D = np.random.uniform(0,1,100)\n",
        "S = np.random.randint(0,10,100)\n",
        "D_sums = np.bincount(S, weights=D)\n",
        "D_counts = np.bincount(S)\n",
        "D_means = D_sums / D_counts\n",
        "print(D_means)\n",
        "\n",
        "\n",
        "import pandas as pd\n",
        "print(pd.Series(D).groupby(S).mean())"
      ]
    },
    {
      "cell_type": "markdown",
      "metadata": {
        "id": "iaRtErv6R1G7"
      },
      "source": [
        "#### 69. How to get the diagonal of a dot product? (★★★) \n",
        "(**hint**: np.diag)"
      ]
    },
    {
      "cell_type": "code",
      "execution_count": null,
      "metadata": {
        "id": "BtKDeKdrR1G7",
        "colab": {
          "base_uri": "https://localhost:8080/"
        },
        "outputId": "ab79573b-45ac-480f-f0b4-e0325f5f502f"
      },
      "outputs": [
        {
          "output_type": "execute_result",
          "data": {
            "text/plain": [
              "array([1.3147872 , 1.34294677, 0.23677161, 1.57405958, 0.97278644])"
            ]
          },
          "metadata": {},
          "execution_count": 107
        }
      ],
      "source": [
        "A = np.random.uniform(0,1,(5,5))\n",
        "B = np.random.uniform(0,1,(5,5))\n",
        "\n",
        "np.einsum(\"ij,ji->i\", A, B)\n"
      ]
    },
    {
      "cell_type": "markdown",
      "metadata": {
        "id": "JgiBFRiGR1G8"
      },
      "source": [
        "#### 70. Consider the vector \\[1, 2, 3, 4, 5\\], how to build a new vector with 3 consecutive zeros interleaved between each value? (★★★) \n",
        "(**hint**: array\\[::4\\])"
      ]
    },
    {
      "cell_type": "code",
      "execution_count": null,
      "metadata": {
        "id": "mrq_dx4MR1G8",
        "colab": {
          "base_uri": "https://localhost:8080/"
        },
        "outputId": "8c129aa8-1d7c-407a-c587-850294cd9d8d"
      },
      "outputs": [
        {
          "output_type": "stream",
          "name": "stdout",
          "text": [
            "[1. 0. 0. 0. 2. 0. 0. 0. 3. 0. 0. 0. 4. 0. 0. 0. 5.]\n"
          ]
        }
      ],
      "source": [
        "Z = np.array([1,2,3,4,5])\n",
        "nz = 3\n",
        "Z0 = np.zeros(len(Z) + (len(Z)-1)*(nz))\n",
        "Z0[::nz+1] = Z\n",
        "print(Z0)"
      ]
    },
    {
      "cell_type": "markdown",
      "metadata": {
        "id": "FJi4gMRXR1G9"
      },
      "source": [
        "#### 71. Consider an array of dimension (5,5,3), how to mulitply it by an array with dimensions (5,5)? (★★★) \n",
        "(**hint**: array\\[:, :, None\\])"
      ]
    },
    {
      "cell_type": "code",
      "execution_count": null,
      "metadata": {
        "collapsed": true,
        "id": "wXdJwX01R1G9",
        "colab": {
          "base_uri": "https://localhost:8080/"
        },
        "outputId": "162a97a3-3525-4b34-9617-d98ae9c66539"
      },
      "outputs": [
        {
          "output_type": "stream",
          "name": "stdout",
          "text": [
            "[[[2. 2. 2.]\n",
            "  [2. 2. 2.]\n",
            "  [2. 2. 2.]\n",
            "  [2. 2. 2.]\n",
            "  [2. 2. 2.]]\n",
            "\n",
            " [[2. 2. 2.]\n",
            "  [2. 2. 2.]\n",
            "  [2. 2. 2.]\n",
            "  [2. 2. 2.]\n",
            "  [2. 2. 2.]]\n",
            "\n",
            " [[2. 2. 2.]\n",
            "  [2. 2. 2.]\n",
            "  [2. 2. 2.]\n",
            "  [2. 2. 2.]\n",
            "  [2. 2. 2.]]\n",
            "\n",
            " [[2. 2. 2.]\n",
            "  [2. 2. 2.]\n",
            "  [2. 2. 2.]\n",
            "  [2. 2. 2.]\n",
            "  [2. 2. 2.]]\n",
            "\n",
            " [[2. 2. 2.]\n",
            "  [2. 2. 2.]\n",
            "  [2. 2. 2.]\n",
            "  [2. 2. 2.]\n",
            "  [2. 2. 2.]]]\n"
          ]
        }
      ],
      "source": [
        "A = np.ones((5,5,3))\n",
        "B = 2*np.ones((5,5))\n",
        "print(A * B[:,:,None])"
      ]
    },
    {
      "cell_type": "markdown",
      "metadata": {
        "id": "Xb77NRxoR1G9"
      },
      "source": [
        "#### 72. How to swap two rows of an array? (★★★) \n",
        "(**hint**: array\\[\\[\\]\\] = array\\[\\[\\]\\])"
      ]
    },
    {
      "cell_type": "code",
      "execution_count": null,
      "metadata": {
        "id": "a1QEEbg7R1G-",
        "colab": {
          "base_uri": "https://localhost:8080/"
        },
        "outputId": "a3dc7db8-fcaf-4fe0-dd90-c3c2f8614650"
      },
      "outputs": [
        {
          "output_type": "stream",
          "name": "stdout",
          "text": [
            "[[ 5  6  7  8  9]\n",
            " [ 0  1  2  3  4]\n",
            " [10 11 12 13 14]\n",
            " [15 16 17 18 19]\n",
            " [20 21 22 23 24]]\n"
          ]
        }
      ],
      "source": [
        "A = np.arange(25).reshape(5,5)\n",
        "A[[0,1]] = A[[1,0]]\n",
        "print(A)"
      ]
    },
    {
      "cell_type": "markdown",
      "metadata": {
        "id": "GpmVx2EbR1G-"
      },
      "source": [
        "#### 73. Consider a set of 10 triplets describing 10 triangles (with shared vertices), find the set of unique line segments composing all the  triangles (★★★) \n",
        "(**hint**: repeat, np.roll, np.sort, view, np.unique)"
      ]
    },
    {
      "cell_type": "code",
      "execution_count": null,
      "metadata": {
        "id": "bq80RqyzR1G-",
        "colab": {
          "base_uri": "https://localhost:8080/"
        },
        "outputId": "fd050b95-7f2a-44a9-d6f5-7b8f9bda72d4"
      },
      "outputs": [
        {
          "output_type": "stream",
          "name": "stdout",
          "text": [
            "[( 4, 33) ( 4, 52) ( 9, 10) ( 9, 16) (10, 16) (11, 43) (11, 47) (13, 18)\n",
            " (13, 80) (18, 80) (20, 29) (20, 31) (28, 53) (28, 66) (29, 31) (33, 52)\n",
            " (34, 44) (34, 69) (43, 47) (44, 69) (45, 81) (45, 82) (49, 53) (49, 84)\n",
            " (53, 66) (53, 84) (57, 76) (57, 84) (76, 84) (81, 82)]\n"
          ]
        }
      ],
      "source": [
        "faces = np.random.randint(0,100,(10,3))\n",
        "F = np.roll(faces.repeat(2,axis=1),-1,axis=1)\n",
        "F = F.reshape(len(F)*3,2)\n",
        "F = np.sort(F,axis=1)\n",
        "G = F.view( dtype=[('p0',F.dtype),('p1',F.dtype)] )\n",
        "G = np.unique(G)\n",
        "print(G)"
      ]
    },
    {
      "cell_type": "markdown",
      "metadata": {
        "id": "okL5y4DvR1G-"
      },
      "source": [
        "#### 74. Given an array C that is a bincount, how to produce an array A such that np.bincount(A) == C? (★★★) \n",
        "(**hint**: np.repeat)"
      ]
    },
    {
      "cell_type": "code",
      "execution_count": null,
      "metadata": {
        "id": "STOpLQGzR1G_",
        "colab": {
          "base_uri": "https://localhost:8080/"
        },
        "outputId": "9b4e09cd-0db9-49a6-adc6-9fddc7ff53fd"
      },
      "outputs": [
        {
          "output_type": "stream",
          "name": "stdout",
          "text": [
            "[1 1 2 3 4 4 6]\n"
          ]
        }
      ],
      "source": [
        "C = np.bincount([1,1,2,3,4,4,6])\n",
        "A = np.repeat(np.arange(len(C)), C)\n",
        "print(A)\n"
      ]
    },
    {
      "cell_type": "markdown",
      "metadata": {
        "id": "oQ9Ky_BDR1G_"
      },
      "source": [
        "#### 75. How to compute averages using a sliding window over an array? (★★★) \n",
        "(**hint**: np.cumsum)"
      ]
    },
    {
      "cell_type": "code",
      "execution_count": null,
      "metadata": {
        "id": "5hjUoxuGR1G_",
        "colab": {
          "base_uri": "https://localhost:8080/"
        },
        "outputId": "dfaf92c2-7070-4351-8cf3-b17d08b744a8"
      },
      "outputs": [
        {
          "output_type": "stream",
          "name": "stdout",
          "text": [
            "[ 1.  2.  3.  4.  5.  6.  7.  8.  9. 10. 11. 12. 13. 14. 15. 16. 17. 18.]\n"
          ]
        }
      ],
      "source": [
        "def moving_average(a, n=3) :\n",
        "    ret = np.cumsum(a, dtype=float)\n",
        "    ret[n:] = ret[n:] - ret[:-n]\n",
        "    return ret[n - 1:] / n\n",
        "Z = np.arange(20)\n",
        "print(moving_average(Z, n=3))"
      ]
    },
    {
      "cell_type": "markdown",
      "metadata": {
        "id": "zOUlc9O0R1HA"
      },
      "source": [
        "#### 76. Consider a one-dimensional array Z, build a two-dimensional array whose first row is (Z\\[0\\],Z\\[1\\],Z\\[2\\]) and each subsequent row is  shifted by 1 (last row should be (Z\\[-3\\],Z\\[-2\\],Z\\[-1\\]) (★★★) \n",
        "(**hint**: from numpy.lib import stride_tricks)"
      ]
    },
    {
      "cell_type": "code",
      "execution_count": null,
      "metadata": {
        "id": "c6AI00UyR1HA",
        "colab": {
          "base_uri": "https://localhost:8080/"
        },
        "outputId": "89d5a928-894b-4714-aa96-d3a32cddeac7"
      },
      "outputs": [
        {
          "output_type": "stream",
          "name": "stdout",
          "text": [
            "[[0 1 2]\n",
            " [1 2 3]\n",
            " [2 3 4]\n",
            " [3 4 5]\n",
            " [4 5 6]\n",
            " [5 6 7]\n",
            " [6 7 8]\n",
            " [7 8 9]]\n"
          ]
        }
      ],
      "source": [
        "from numpy.lib import stride_tricks\n",
        "\n",
        "def rolling(a, window):\n",
        "    shape = (a.size - window + 1, window)\n",
        "    strides = (a.itemsize, a.itemsize)\n",
        "    return stride_tricks.as_strided(a, shape=shape, strides=strides)\n",
        "Z = rolling(np.arange(10), 3)\n",
        "print(Z)"
      ]
    },
    {
      "cell_type": "markdown",
      "metadata": {
        "id": "MqIxMMGyR1HA"
      },
      "source": [
        "#### 77. How to negate a boolean, or to change the sign of a float inplace? (★★★) \n",
        "(**hint**: np.logical_not, np.negative)"
      ]
    },
    {
      "cell_type": "code",
      "execution_count": null,
      "metadata": {
        "id": "KaogEH9OR1HB",
        "colab": {
          "base_uri": "https://localhost:8080/"
        },
        "outputId": "06850e02-510e-4909-a086-e1046a6f39f2"
      },
      "outputs": [
        {
          "output_type": "execute_result",
          "data": {
            "text/plain": [
              "array([-0.52665195,  0.98076477, -0.26166562,  0.90112364, -0.82805386,\n",
              "       -0.91107179, -0.76680273,  0.52093735,  0.39826874,  0.49117841,\n",
              "        0.15182076,  0.08451969,  0.04111825, -0.20296089, -0.59313909,\n",
              "        0.06637103,  0.78653742,  0.04044914, -0.03373695, -0.82781075,\n",
              "        0.63272887,  0.73099589, -0.20923819, -0.8631213 , -0.72077822,\n",
              "        0.1658174 , -0.12625033,  0.79171906, -0.69231615,  0.57644166,\n",
              "        0.083404  ,  0.94508876,  0.32875014, -0.94868786,  0.73163545,\n",
              "        0.02673545, -0.49158392, -0.97327621,  0.64691069,  0.03670206,\n",
              "       -0.8389408 ,  0.47975526,  0.96207599, -0.04991147, -0.10650965,\n",
              "       -0.88069735,  0.11824813,  0.8259929 , -0.29460267, -0.07605202,\n",
              "       -0.13961618,  0.57864062,  0.27862385, -0.92499283, -0.60501605,\n",
              "        0.60825076,  0.84383004, -0.01009573, -0.69467867, -0.01871027,\n",
              "       -0.01787814, -0.23694291,  0.827898  , -0.31162773, -0.99457129,\n",
              "       -0.82177177, -0.37302434, -0.14825578,  0.23303695,  0.24644073,\n",
              "       -0.62491514,  0.41470048, -0.86971212, -0.089605  , -0.32253674,\n",
              "       -0.17619782, -0.06585243, -0.55916556,  0.01738914, -0.31947   ,\n",
              "       -0.20979405,  0.79367096, -0.65676195, -0.25939562, -0.13650684,\n",
              "       -0.32622848,  0.70513268, -0.7981054 ,  0.49645754, -0.76977017,\n",
              "        0.77883335, -0.00462561, -0.49539772, -0.32327468, -0.23711999,\n",
              "        0.05459623,  0.58154754,  0.41954528, -0.17674135,  0.20764545])"
            ]
          },
          "metadata": {},
          "execution_count": 115
        }
      ],
      "source": [
        "Z = np.random.randint(0,2,100)\n",
        "np.logical_not(Z, out=Z)\n",
        "\n",
        "Z = np.random.uniform(-1.0,1.0,100)\n",
        "np.negative(Z, out=Z)"
      ]
    },
    {
      "cell_type": "markdown",
      "metadata": {
        "id": "O8-eEaqsR1HE"
      },
      "source": [
        "#### 78. Consider 2 sets of points P0,P1 describing lines (2d) and a point p, how to compute distance from p to each line i  (P0\\[i\\],P1\\[i\\])? (★★★)"
      ]
    },
    {
      "cell_type": "code",
      "execution_count": null,
      "metadata": {
        "id": "iBdbi8dLR1HE",
        "colab": {
          "base_uri": "https://localhost:8080/"
        },
        "outputId": "421ff681-b8c8-4acb-81cb-2df12df50fb3"
      },
      "outputs": [
        {
          "output_type": "stream",
          "name": "stdout",
          "text": [
            "[10.27237674  1.21123906  2.50461667  0.16707394  7.45455719  9.05989127\n",
            "  7.61583504  1.76833725 11.83692652  4.17444629]\n"
          ]
        }
      ],
      "source": [
        "def distance(P0, P1, p):\n",
        "    T = P1 - P0\n",
        "    L = (T**2).sum(axis=1)\n",
        "    U = -((P0[:,0]-p[...,0])*T[:,0] + (P0[:,1]-p[...,1])*T[:,1]) / L\n",
        "    U = U.reshape(len(U),1)\n",
        "    D = P0 + U*T - p\n",
        "    return np.sqrt((D**2).sum(axis=1))\n",
        "\n",
        "P0 = np.random.uniform(-10,10,(10,2))\n",
        "P1 = np.random.uniform(-10,10,(10,2))\n",
        "p  = np.random.uniform(-10,10,( 1,2))\n",
        "print(distance(P0, P1, p))"
      ]
    },
    {
      "cell_type": "markdown",
      "metadata": {
        "id": "3A6XWxJ9R1HF"
      },
      "source": [
        "#### 79. Consider 2 sets of points P0,P1 describing lines (2d) and a set of points P, how to compute distance from each point j (P\\[j\\]) to each line i (P0\\[i\\],P1\\[i\\])? (★★★)"
      ]
    },
    {
      "cell_type": "code",
      "execution_count": null,
      "metadata": {
        "id": "TtZz7bHdR1HF",
        "colab": {
          "base_uri": "https://localhost:8080/"
        },
        "outputId": "e3250c62-795c-4034-b2bc-dd7b75033163"
      },
      "outputs": [
        {
          "output_type": "stream",
          "name": "stdout",
          "text": [
            "[[ 1.41168848  0.15325418  2.08239467 13.66053504  4.38340814 12.00808826\n",
            "  15.23345884  7.52450546 19.12784411 14.42701195]\n",
            " [ 6.34211826  0.41288826  2.62584741  5.17432696  2.73621382  2.6591743\n",
            "   2.03492146  7.17657812  3.86388483  5.39820884]\n",
            " [ 2.62176449 10.63077745 12.79249612  9.67870661  7.51135041  6.87229341\n",
            "   8.15297355  1.07644088  3.58003983  7.92562247]\n",
            " [ 7.83484522  8.85802899  7.62834012  6.3492064   4.84796218  2.01750489\n",
            "   6.79649438 10.20251168  9.89486948  8.66159696]\n",
            " [ 2.58273795  1.60409623  2.44741645  0.41502167  1.89666635  4.44999271\n",
            "   2.82152408  1.51763594  7.88214539  0.7834765 ]\n",
            " [ 2.78852054  0.76281019  1.34295045  1.98486459  2.81003056  5.80381136\n",
            "   4.41740309  1.04968573  9.45314092  2.26150334]\n",
            " [12.68856266 15.85370688 15.23370382  0.37424092 12.03186479  5.88033825\n",
            "   0.02568924 12.03956152  2.48815322  3.86906644]\n",
            " [ 6.36682202  2.80382055  1.9800256   2.54483829  6.32822582  8.6503851\n",
            "   5.63083519  3.99814091 11.24255809  2.07149247]\n",
            " [ 1.67999461  1.93955188  0.78748895  9.20659977  2.07942775  8.37984808\n",
            "  10.76364749  5.91637441 14.78128541 10.1690052 ]\n",
            " [ 6.22308035 12.46844768 13.62161182  6.00792443  9.09411394  6.45982818\n",
            "   5.17164055  3.64655855  1.33813766  3.63410273]]\n"
          ]
        }
      ],
      "source": [
        "P0 = np.random.uniform(-10, 10, (10,2))\n",
        "P1 = np.random.uniform(-10,10,(10,2))\n",
        "p = np.random.uniform(-10, 10, (10,2))\n",
        "print(np.array([distance(P0,P1,p_i) for p_i in p]))"
      ]
    },
    {
      "cell_type": "markdown",
      "metadata": {
        "id": "U6wOt2IrR1HF"
      },
      "source": [
        "#### 80. Consider an arbitrary array, write a function that extract a subpart with a fixed shape and centered on a given element (pad with a `fill` value when necessary) (★★★) \n",
        "(**hint**: minimum, maximum)"
      ]
    },
    {
      "cell_type": "code",
      "execution_count": null,
      "metadata": {
        "id": "eq0nnGU4R1HG",
        "colab": {
          "base_uri": "https://localhost:8080/"
        },
        "outputId": "69f7f49a-40ec-47bc-9ebb-58154ebf6cab"
      },
      "outputs": [
        {
          "output_type": "stream",
          "name": "stdout",
          "text": [
            "[[8 9 5 3 2 9 8 9 0 1]\n",
            " [7 2 8 5 4 2 6 8 3 1]\n",
            " [4 8 5 0 2 6 7 1 0 0]\n",
            " [0 2 6 5 4 2 2 7 7 5]\n",
            " [8 8 3 6 6 4 7 0 3 7]\n",
            " [3 1 4 8 5 3 3 9 8 0]\n",
            " [1 0 5 7 3 4 1 8 4 4]\n",
            " [9 2 8 7 6 3 1 7 5 2]\n",
            " [9 2 0 8 4 4 9 7 0 5]\n",
            " [3 9 1 9 4 9 4 4 9 0]]\n",
            "[[0 0 0 0 0]\n",
            " [0 8 9 5 3]\n",
            " [0 7 2 8 5]\n",
            " [0 4 8 5 0]\n",
            " [0 0 2 6 5]]\n"
          ]
        },
        {
          "output_type": "stream",
          "name": "stderr",
          "text": [
            "/usr/local/lib/python3.7/dist-packages/ipykernel_launcher.py:23: FutureWarning: Using a non-tuple sequence for multidimensional indexing is deprecated; use `arr[tuple(seq)]` instead of `arr[seq]`. In the future this will be interpreted as an array index, `arr[np.array(seq)]`, which will result either in an error or a different result.\n"
          ]
        }
      ],
      "source": [
        "Z = np.random.randint(0,10,(10,10))\n",
        "shape = (5,5)\n",
        "fill  = 0\n",
        "position = (1,1)\n",
        "\n",
        "R = np.ones(shape, dtype=Z.dtype)*fill\n",
        "P  = np.array(list(position)).astype(int)\n",
        "Rs = np.array(list(R.shape)).astype(int)\n",
        "Zs = np.array(list(Z.shape)).astype(int)\n",
        "\n",
        "R_start = np.zeros((len(shape),)).astype(int)\n",
        "R_stop  = np.array(list(shape)).astype(int)\n",
        "Z_start = (P-Rs//2)\n",
        "Z_stop  = (P+Rs//2)+Rs%2\n",
        "\n",
        "R_start = (R_start - np.minimum(Z_start,0)).tolist()\n",
        "Z_start = (np.maximum(Z_start,0)).tolist()\n",
        "R_stop = np.maximum(R_start, (R_stop - np.maximum(Z_stop-Zs,0))).tolist()\n",
        "Z_stop = (np.minimum(Z_stop,Zs)).tolist()\n",
        "\n",
        "r = [slice(start,stop) for start,stop in zip(R_start,R_stop)]\n",
        "z = [slice(start,stop) for start,stop in zip(Z_start,Z_stop)]\n",
        "R[r] = Z[z]\n",
        "print(Z)\n",
        "print(R)"
      ]
    },
    {
      "cell_type": "markdown",
      "metadata": {
        "id": "5T5Kow3gR1HG"
      },
      "source": [
        "#### 81. Consider an array Z = \\[1,2,3,4,5,6,7,8,9,10,11,12,13,14\\], how to generate an array R = \\[\\[1,2,3,4\\], \\[2,3,4,5\\], \\[3,4,5,6\\], ..., \\[11,12,13,14\\]\\]? (★★★) \n",
        "(**hint**: stride\\_tricks.as\\_strided)"
      ]
    },
    {
      "cell_type": "code",
      "execution_count": null,
      "metadata": {
        "id": "iicMcj8ER1HG",
        "colab": {
          "base_uri": "https://localhost:8080/"
        },
        "outputId": "bfc12e36-5592-41bb-f37f-02fed7e138fb"
      },
      "outputs": [
        {
          "output_type": "stream",
          "name": "stdout",
          "text": [
            "[[ 1  2  3  4]\n",
            " [ 2  3  4  5]\n",
            " [ 3  4  5  6]\n",
            " [ 4  5  6  7]\n",
            " [ 5  6  7  8]\n",
            " [ 6  7  8  9]\n",
            " [ 7  8  9 10]\n",
            " [ 8  9 10 11]\n",
            " [ 9 10 11 12]\n",
            " [10 11 12 13]\n",
            " [11 12 13 14]]\n"
          ]
        }
      ],
      "source": [
        "Z = np.arange(1,15,dtype=np.uint32)\n",
        "R = stride_tricks.as_strided(Z,(11,4),(4,4))\n",
        "print(R)"
      ]
    },
    {
      "cell_type": "markdown",
      "metadata": {
        "id": "CAFl6NsFR1HG"
      },
      "source": [
        "#### 82. Compute a matrix rank (★★★) \n",
        "(**hint**: np.linalg.svd) (suggestion: np.linalg.svd)"
      ]
    },
    {
      "cell_type": "code",
      "execution_count": null,
      "metadata": {
        "id": "rbIbfJjOR1HH",
        "colab": {
          "base_uri": "https://localhost:8080/"
        },
        "outputId": "55fd83e3-772f-454e-9da1-73344470b243"
      },
      "outputs": [
        {
          "output_type": "stream",
          "name": "stdout",
          "text": [
            "10\n"
          ]
        }
      ],
      "source": [
        "Z = np.random.uniform(0,1,(10,10))\n",
        "U, S, V = np.linalg.svd(Z) # Singular Value Decomposition\n",
        "rank = np.sum(S > 1e-10)\n",
        "print(rank)"
      ]
    },
    {
      "cell_type": "markdown",
      "metadata": {
        "id": "M3K8OxzaR1HH"
      },
      "source": [
        "#### 83. How to find the most frequent value in an array? \n",
        "(**hint**: np.bincount, argmax)"
      ]
    },
    {
      "cell_type": "code",
      "execution_count": null,
      "metadata": {
        "id": "1flhveJiR1HH",
        "colab": {
          "base_uri": "https://localhost:8080/"
        },
        "outputId": "e4fb2879-232e-4b26-d2f6-cc9597ef2a68"
      },
      "outputs": [
        {
          "output_type": "stream",
          "name": "stdout",
          "text": [
            "1\n"
          ]
        }
      ],
      "source": [
        "Z = np.random.randint(0,10,50)\n",
        "print(np.bincount(Z).argmax())"
      ]
    },
    {
      "cell_type": "markdown",
      "metadata": {
        "id": "fV3xGAsuR1HI"
      },
      "source": [
        "#### 84. Extract all the contiguous 3x3 blocks from a random 10x10 matrix (★★★) \n",
        "(**hint**: stride\\_tricks.as\\_strided)"
      ]
    },
    {
      "cell_type": "code",
      "execution_count": null,
      "metadata": {
        "id": "mz2EgVG7R1HI",
        "colab": {
          "base_uri": "https://localhost:8080/"
        },
        "outputId": "2221ec60-ae77-4f60-9bc2-d62d19d49f6e"
      },
      "outputs": [
        {
          "output_type": "stream",
          "name": "stdout",
          "text": [
            "[[[[0 1 3]\n",
            "   [4 1 2]\n",
            "   [2 3 4]]\n",
            "\n",
            "  [[1 3 1]\n",
            "   [1 2 0]\n",
            "   [3 4 0]]\n",
            "\n",
            "  [[3 1 1]\n",
            "   [2 0 2]\n",
            "   [4 0 3]]\n",
            "\n",
            "  [[1 1 4]\n",
            "   [0 2 2]\n",
            "   [0 3 1]]\n",
            "\n",
            "  [[1 4 4]\n",
            "   [2 2 4]\n",
            "   [3 1 4]]\n",
            "\n",
            "  [[4 4 4]\n",
            "   [2 4 2]\n",
            "   [1 4 1]]\n",
            "\n",
            "  [[4 4 3]\n",
            "   [4 2 2]\n",
            "   [4 1 2]]\n",
            "\n",
            "  [[4 3 0]\n",
            "   [2 2 0]\n",
            "   [1 2 3]]]\n",
            "\n",
            "\n",
            " [[[4 1 2]\n",
            "   [2 3 4]\n",
            "   [3 1 0]]\n",
            "\n",
            "  [[1 2 0]\n",
            "   [3 4 0]\n",
            "   [1 0 2]]\n",
            "\n",
            "  [[2 0 2]\n",
            "   [4 0 3]\n",
            "   [0 2 0]]\n",
            "\n",
            "  [[0 2 2]\n",
            "   [0 3 1]\n",
            "   [2 0 0]]\n",
            "\n",
            "  [[2 2 4]\n",
            "   [3 1 4]\n",
            "   [0 0 0]]\n",
            "\n",
            "  [[2 4 2]\n",
            "   [1 4 1]\n",
            "   [0 0 1]]\n",
            "\n",
            "  [[4 2 2]\n",
            "   [4 1 2]\n",
            "   [0 1 0]]\n",
            "\n",
            "  [[2 2 0]\n",
            "   [1 2 3]\n",
            "   [1 0 3]]]\n",
            "\n",
            "\n",
            " [[[2 3 4]\n",
            "   [3 1 0]\n",
            "   [3 3 3]]\n",
            "\n",
            "  [[3 4 0]\n",
            "   [1 0 2]\n",
            "   [3 3 0]]\n",
            "\n",
            "  [[4 0 3]\n",
            "   [0 2 0]\n",
            "   [3 0 3]]\n",
            "\n",
            "  [[0 3 1]\n",
            "   [2 0 0]\n",
            "   [0 3 0]]\n",
            "\n",
            "  [[3 1 4]\n",
            "   [0 0 0]\n",
            "   [3 0 4]]\n",
            "\n",
            "  [[1 4 1]\n",
            "   [0 0 1]\n",
            "   [0 4 3]]\n",
            "\n",
            "  [[4 1 2]\n",
            "   [0 1 0]\n",
            "   [4 3 1]]\n",
            "\n",
            "  [[1 2 3]\n",
            "   [1 0 3]\n",
            "   [3 1 3]]]\n",
            "\n",
            "\n",
            " [[[3 1 0]\n",
            "   [3 3 3]\n",
            "   [3 3 1]]\n",
            "\n",
            "  [[1 0 2]\n",
            "   [3 3 0]\n",
            "   [3 1 4]]\n",
            "\n",
            "  [[0 2 0]\n",
            "   [3 0 3]\n",
            "   [1 4 0]]\n",
            "\n",
            "  [[2 0 0]\n",
            "   [0 3 0]\n",
            "   [4 0 0]]\n",
            "\n",
            "  [[0 0 0]\n",
            "   [3 0 4]\n",
            "   [0 0 2]]\n",
            "\n",
            "  [[0 0 1]\n",
            "   [0 4 3]\n",
            "   [0 2 2]]\n",
            "\n",
            "  [[0 1 0]\n",
            "   [4 3 1]\n",
            "   [2 2 1]]\n",
            "\n",
            "  [[1 0 3]\n",
            "   [3 1 3]\n",
            "   [2 1 4]]]\n",
            "\n",
            "\n",
            " [[[3 3 3]\n",
            "   [3 3 1]\n",
            "   [3 0 2]]\n",
            "\n",
            "  [[3 3 0]\n",
            "   [3 1 4]\n",
            "   [0 2 3]]\n",
            "\n",
            "  [[3 0 3]\n",
            "   [1 4 0]\n",
            "   [2 3 4]]\n",
            "\n",
            "  [[0 3 0]\n",
            "   [4 0 0]\n",
            "   [3 4 1]]\n",
            "\n",
            "  [[3 0 4]\n",
            "   [0 0 2]\n",
            "   [4 1 4]]\n",
            "\n",
            "  [[0 4 3]\n",
            "   [0 2 2]\n",
            "   [1 4 3]]\n",
            "\n",
            "  [[4 3 1]\n",
            "   [2 2 1]\n",
            "   [4 3 1]]\n",
            "\n",
            "  [[3 1 3]\n",
            "   [2 1 4]\n",
            "   [3 1 1]]]\n",
            "\n",
            "\n",
            " [[[3 3 1]\n",
            "   [3 0 2]\n",
            "   [1 0 3]]\n",
            "\n",
            "  [[3 1 4]\n",
            "   [0 2 3]\n",
            "   [0 3 0]]\n",
            "\n",
            "  [[1 4 0]\n",
            "   [2 3 4]\n",
            "   [3 0 1]]\n",
            "\n",
            "  [[4 0 0]\n",
            "   [3 4 1]\n",
            "   [0 1 4]]\n",
            "\n",
            "  [[0 0 2]\n",
            "   [4 1 4]\n",
            "   [1 4 3]]\n",
            "\n",
            "  [[0 2 2]\n",
            "   [1 4 3]\n",
            "   [4 3 4]]\n",
            "\n",
            "  [[2 2 1]\n",
            "   [4 3 1]\n",
            "   [3 4 3]]\n",
            "\n",
            "  [[2 1 4]\n",
            "   [3 1 1]\n",
            "   [4 3 2]]]\n",
            "\n",
            "\n",
            " [[[3 0 2]\n",
            "   [1 0 3]\n",
            "   [4 2 0]]\n",
            "\n",
            "  [[0 2 3]\n",
            "   [0 3 0]\n",
            "   [2 0 0]]\n",
            "\n",
            "  [[2 3 4]\n",
            "   [3 0 1]\n",
            "   [0 0 1]]\n",
            "\n",
            "  [[3 4 1]\n",
            "   [0 1 4]\n",
            "   [0 1 3]]\n",
            "\n",
            "  [[4 1 4]\n",
            "   [1 4 3]\n",
            "   [1 3 3]]\n",
            "\n",
            "  [[1 4 3]\n",
            "   [4 3 4]\n",
            "   [3 3 1]]\n",
            "\n",
            "  [[4 3 1]\n",
            "   [3 4 3]\n",
            "   [3 1 0]]\n",
            "\n",
            "  [[3 1 1]\n",
            "   [4 3 2]\n",
            "   [1 0 2]]]\n",
            "\n",
            "\n",
            " [[[1 0 3]\n",
            "   [4 2 0]\n",
            "   [4 3 4]]\n",
            "\n",
            "  [[0 3 0]\n",
            "   [2 0 0]\n",
            "   [3 4 1]]\n",
            "\n",
            "  [[3 0 1]\n",
            "   [0 0 1]\n",
            "   [4 1 1]]\n",
            "\n",
            "  [[0 1 4]\n",
            "   [0 1 3]\n",
            "   [1 1 4]]\n",
            "\n",
            "  [[1 4 3]\n",
            "   [1 3 3]\n",
            "   [1 4 1]]\n",
            "\n",
            "  [[4 3 4]\n",
            "   [3 3 1]\n",
            "   [4 1 1]]\n",
            "\n",
            "  [[3 4 3]\n",
            "   [3 1 0]\n",
            "   [1 1 4]]\n",
            "\n",
            "  [[4 3 2]\n",
            "   [1 0 2]\n",
            "   [1 4 4]]]]\n"
          ]
        }
      ],
      "source": [
        "Z = np.random.randint(0,5,(10,10))\n",
        "n = 3\n",
        "i = 1 + (Z.shape[0]-3)\n",
        "j = 1 + (Z.shape[1]-3)\n",
        "C = stride_tricks.as_strided(Z, shape=(i, j, n, n), strides=Z.strides + Z.strides)\n",
        "print(C)"
      ]
    },
    {
      "cell_type": "markdown",
      "metadata": {
        "id": "0Scc31ljR1HI"
      },
      "source": [
        "#### 85. Create a 2D array subclass such that Z\\[i,j\\] == Z\\[j,i\\] (★★★) \n",
        "(**hint**: class method)"
      ]
    },
    {
      "cell_type": "code",
      "execution_count": null,
      "metadata": {
        "id": "Nftm3PNWR1HK",
        "colab": {
          "base_uri": "https://localhost:8080/"
        },
        "outputId": "c49908b9-1000-416f-9c3f-289f50350b33"
      },
      "outputs": [
        {
          "output_type": "stream",
          "name": "stdout",
          "text": [
            "[[ 6  5 12  7  4]\n",
            " [ 5  0  5  7  2]\n",
            " [12  5  5 42 12]\n",
            " [ 7  7 42  1  5]\n",
            " [ 4  2 12  5  8]]\n"
          ]
        }
      ],
      "source": [
        "class Symetric(np.ndarray):\n",
        "    def __setitem__(self, index, value):\n",
        "        i,j = index\n",
        "        super(Symetric, self).__setitem__((i,j), value)\n",
        "        super(Symetric, self).__setitem__((j,i), value)\n",
        "\n",
        "def symetric(Z):\n",
        "    return np.asarray(Z + Z.T - np.diag(Z.diagonal())).view(Symetric)\n",
        "\n",
        "S = symetric(np.random.randint(0,10,(5,5)))\n",
        "S[2,3] = 42\n",
        "print(S)"
      ]
    },
    {
      "cell_type": "markdown",
      "metadata": {
        "id": "xAcw1kinR1HK"
      },
      "source": [
        "#### 86. Consider a set of p matrices wich shape (n,n) and a set of p vectors with shape (n,1). How to compute the sum of of the p matrix products at once? (result has shape (n,1)) (★★★) \n",
        "(**hint**: np.tensordot)"
      ]
    },
    {
      "cell_type": "code",
      "execution_count": null,
      "metadata": {
        "id": "-8kdoWVzR1HL",
        "colab": {
          "base_uri": "https://localhost:8080/"
        },
        "outputId": "bf62d2a3-d6d8-4203-f243-9726b29ae2ca"
      },
      "outputs": [
        {
          "output_type": "stream",
          "name": "stdout",
          "text": [
            "[[200.]\n",
            " [200.]\n",
            " [200.]\n",
            " [200.]\n",
            " [200.]\n",
            " [200.]\n",
            " [200.]\n",
            " [200.]\n",
            " [200.]\n",
            " [200.]\n",
            " [200.]\n",
            " [200.]\n",
            " [200.]\n",
            " [200.]\n",
            " [200.]\n",
            " [200.]\n",
            " [200.]\n",
            " [200.]\n",
            " [200.]\n",
            " [200.]]\n"
          ]
        }
      ],
      "source": [
        "p, n = 10, 20\n",
        "M = np.ones((p,n,n))\n",
        "V = np.ones((p,n,1))\n",
        "S = np.tensordot(M, V, axes=[[0, 2], [0, 1]])\n",
        "print(S)\n"
      ]
    },
    {
      "cell_type": "markdown",
      "metadata": {
        "id": "1-Yc0vfUR1HL"
      },
      "source": [
        "#### 87. Consider a 16x16 array, how to get the block-sum (block size is 4x4)? (★★★) \n",
        "(**hint**: np.add.reduceat)"
      ]
    },
    {
      "cell_type": "code",
      "execution_count": null,
      "metadata": {
        "id": "8H8BDTPJR1HO",
        "colab": {
          "base_uri": "https://localhost:8080/"
        },
        "outputId": "8d8717ac-d5f9-444c-cb65-2f6497138541"
      },
      "outputs": [
        {
          "output_type": "stream",
          "name": "stdout",
          "text": [
            "[[16. 16. 16. 16.]\n",
            " [16. 16. 16. 16.]\n",
            " [16. 16. 16. 16.]\n",
            " [16. 16. 16. 16.]]\n"
          ]
        }
      ],
      "source": [
        "Z = np.ones((16,16))\n",
        "k = 4\n",
        "S = np.add.reduceat(np.add.reduceat(Z, np.arange(0, Z.shape[0], k), axis=0),\n",
        "                                       np.arange(0, Z.shape[1], k), axis=1)\n",
        "print(S)"
      ]
    },
    {
      "cell_type": "markdown",
      "metadata": {
        "id": "IZZ0aeRvR1HP"
      },
      "source": [
        "#### 88. How to implement the Game of Life using numpy arrays? (★★★)"
      ]
    },
    {
      "cell_type": "code",
      "execution_count": null,
      "metadata": {
        "id": "J7lRMItMR1HP",
        "colab": {
          "base_uri": "https://localhost:8080/"
        },
        "outputId": "c9ef575e-9522-4584-8635-7b501606bdf2"
      },
      "outputs": [
        {
          "output_type": "stream",
          "name": "stdout",
          "text": [
            "[[0 0 0 ... 0 0 0]\n",
            " [0 0 0 ... 0 0 0]\n",
            " [0 0 0 ... 0 0 0]\n",
            " ...\n",
            " [0 0 0 ... 0 0 0]\n",
            " [0 0 0 ... 0 0 0]\n",
            " [0 0 0 ... 0 0 0]]\n"
          ]
        }
      ],
      "source": [
        "def iterate(Z):\n",
        "    # Count neighbours\n",
        "    N = (Z[0:-2,0:-2] + Z[0:-2,1:-1] + Z[0:-2,2:] +\n",
        "         Z[1:-1,0:-2]                + Z[1:-1,2:] +\n",
        "         Z[2:  ,0:-2] + Z[2:  ,1:-1] + Z[2:  ,2:])\n",
        "\n",
        "    # Apply rules\n",
        "    birth = (N==3) & (Z[1:-1,1:-1]==0)\n",
        "    survive = ((N==2) | (N==3)) & (Z[1:-1,1:-1]==1)\n",
        "    Z[...] = 0\n",
        "    Z[1:-1,1:-1][birth | survive] = 1\n",
        "    return Z\n",
        "\n",
        "Z = np.random.randint(0,2,(50,50))\n",
        "for i in range(100): Z = iterate(Z)\n",
        "print(Z)"
      ]
    },
    {
      "cell_type": "markdown",
      "metadata": {
        "id": "QOdKA3NYR1HP"
      },
      "source": [
        "#### 89. How to get the n largest values of an array (★★★) \n",
        "(**hint**: np.argsort | np.argpartition)"
      ]
    },
    {
      "cell_type": "code",
      "execution_count": null,
      "metadata": {
        "id": "XFGaOfL9R1HQ",
        "colab": {
          "base_uri": "https://localhost:8080/"
        },
        "outputId": "be05300d-8005-4104-c9ee-08c81e9ad150"
      },
      "outputs": [
        {
          "output_type": "stream",
          "name": "stdout",
          "text": [
            "[9995 9996 9997 9998 9999]\n"
          ]
        }
      ],
      "source": [
        "Z = np.arange(10000)\n",
        "np.random.shuffle(Z)\n",
        "n = 5\n",
        "\n",
        "\n",
        "print (Z[np.argsort(Z)[-n:]])\n"
      ]
    },
    {
      "cell_type": "markdown",
      "metadata": {
        "id": "JnQKnH0mR1HQ"
      },
      "source": [
        "#### 90. Given an arbitrary number of vectors, build the cartesian product (every combinations of every item) (★★★) \n",
        "(**hint**: np.indices)"
      ]
    },
    {
      "cell_type": "code",
      "execution_count": null,
      "metadata": {
        "scrolled": true,
        "id": "kdajBvDHR1HQ"
      },
      "outputs": [],
      "source": [
        "def cartesian(arrays):\n",
        "    arrays = [np.asarray(a) for a in arrays]\n",
        "    shape = (len(x) for x in arrays)\n",
        "\n",
        "    ix = np.indices(shape, dtype=int)\n",
        "    ix = ix.reshape(len(arrays), -1).T\n",
        "\n",
        "    for n, arr in enumerate(arrays):\n",
        "        ix[:, n] = arrays[n][ix[:, n]]\n",
        "\n",
        "    return ix\n",
        "\n",
        "print (cartesian(([1, 2, 3], [4, 5], [6, 7])))"
      ]
    },
    {
      "cell_type": "markdown",
      "metadata": {
        "id": "ZCth91QXR1HQ"
      },
      "source": [
        "#### 91. How to create a record array from a regular array? (★★★) \n",
        "(**hint**: np.core.records.fromarrays)"
      ]
    },
    {
      "cell_type": "code",
      "execution_count": null,
      "metadata": {
        "id": "y9GkyUjKR1HR",
        "colab": {
          "base_uri": "https://localhost:8080/"
        },
        "outputId": "d0f6ea8f-9d9e-4ee0-be7c-27cdc48cfeee"
      },
      "outputs": [
        {
          "output_type": "stream",
          "name": "stdout",
          "text": [
            "[(b'Hello', 2.5, 3) (b'World', 3.6, 2)]\n"
          ]
        }
      ],
      "source": [
        "Z = np.array([(\"Hello\", 2.5, 3),\n",
        "              (\"World\", 3.6, 2)])\n",
        "R = np.core.records.fromarrays(Z.T, \n",
        "                               names='col1, col2, col3',\n",
        "                               formats = 'S8, f8, i8')\n",
        "print(R)"
      ]
    },
    {
      "cell_type": "markdown",
      "metadata": {
        "id": "Nkc3Xu_XR1HR"
      },
      "source": [
        "#### 92. Consider a large vector Z, compute Z to the power of 3 using 3 different methods (★★★) \n",
        "(**hint**: np.power, \\*, np.einsum)"
      ]
    },
    {
      "cell_type": "code",
      "execution_count": null,
      "metadata": {
        "id": "AifQXLTrR1HR"
      },
      "outputs": [],
      "source": [
        ""
      ]
    },
    {
      "cell_type": "markdown",
      "metadata": {
        "id": "AjLZ7VEeR1HR"
      },
      "source": [
        "#### 93. Consider two arrays A and B of shape (8,3) and (2,2). How to find rows of A that contain elements of each row of B regardless of the order of the elements in B? (★★★) \n",
        "(**hint**: np.where)"
      ]
    },
    {
      "cell_type": "code",
      "execution_count": null,
      "metadata": {
        "id": "hX4Q7hgZR1HS",
        "colab": {
          "base_uri": "https://localhost:8080/"
        },
        "outputId": "282b3b04-c429-41a8-f725-79139a49dac9"
      },
      "outputs": [
        {
          "output_type": "stream",
          "name": "stdout",
          "text": [
            "[2 4 5 6 7]\n"
          ]
        }
      ],
      "source": [
        "A = np.random.randint(0,5,(8,3))\n",
        "B = np.random.randint(0,5,(2,2))\n",
        "\n",
        "C = (A[..., np.newaxis, np.newaxis] == B)\n",
        "rows = np.where(C.any((3,1)).all(1))[0]\n",
        "print(rows)"
      ]
    },
    {
      "cell_type": "markdown",
      "metadata": {
        "id": "NNJR7H_ER1HS"
      },
      "source": [
        "#### 94. Considering a 10x3 matrix, extract rows with unequal values (e.g. \\[2,2,3\\]) (★★★)"
      ]
    },
    {
      "cell_type": "code",
      "execution_count": null,
      "metadata": {
        "id": "iI5A4SxYR1HS",
        "colab": {
          "base_uri": "https://localhost:8080/"
        },
        "outputId": "ddf4abd4-5056-4f78-ec6e-da0e4e014ccc"
      },
      "outputs": [
        {
          "output_type": "stream",
          "name": "stdout",
          "text": [
            "[[4 1 3]\n",
            " [2 4 3]\n",
            " [3 3 3]\n",
            " [3 4 4]\n",
            " [2 0 2]\n",
            " [4 0 3]\n",
            " [4 2 1]\n",
            " [4 3 1]\n",
            " [3 0 0]\n",
            " [2 0 0]]\n",
            "[[4 1 3]\n",
            " [2 4 3]\n",
            " [3 4 4]\n",
            " [2 0 2]\n",
            " [4 0 3]\n",
            " [4 2 1]\n",
            " [4 3 1]\n",
            " [3 0 0]\n",
            " [2 0 0]]\n"
          ]
        }
      ],
      "source": [
        "Z = np.random.randint(0,5,(10,3))\n",
        "print(Z)\n",
        "E = np.all(Z[:,1:] == Z[:,:-1], axis=1)\n",
        "U = Z[~E]\n",
        "print(U)\n"
      ]
    },
    {
      "cell_type": "markdown",
      "metadata": {
        "id": "w5XnWY3wR1HS"
      },
      "source": [
        "#### 95. Convert a vector of ints into a matrix binary representation (★★★) \n",
        "(**hint**: np.unpackbits)"
      ]
    },
    {
      "cell_type": "code",
      "execution_count": null,
      "metadata": {
        "id": "_MmmQkLTR1HT",
        "colab": {
          "base_uri": "https://localhost:8080/"
        },
        "outputId": "4fd862af-1a7a-4e9d-ca94-b8f3eafebbd4"
      },
      "outputs": [
        {
          "output_type": "stream",
          "name": "stdout",
          "text": [
            "[[0 0 0 0 0 0 0 0]\n",
            " [0 0 0 0 0 0 0 1]\n",
            " [0 0 0 0 0 0 1 0]\n",
            " [0 0 0 0 0 0 1 1]\n",
            " [0 0 0 0 1 1 1 1]\n",
            " [0 0 0 1 0 0 0 0]\n",
            " [0 0 1 0 0 0 0 0]\n",
            " [0 1 0 0 0 0 0 0]\n",
            " [1 0 0 0 0 0 0 0]]\n"
          ]
        }
      ],
      "source": [
        "I = np.array([0, 1, 2, 3, 15, 16, 32, 64, 128])\n",
        "B = ((I.reshape(-1,1) & (2**np.arange(8))) != 0).astype(int)\n",
        "print(B[:,::-1])"
      ]
    },
    {
      "cell_type": "markdown",
      "metadata": {
        "id": "30H4VgDPR1HT"
      },
      "source": [
        "#### 96. Given a two dimensional array, how to extract unique rows? (★★★) \n",
        "(**hint**: np.ascontiguousarray)"
      ]
    },
    {
      "cell_type": "code",
      "execution_count": null,
      "metadata": {
        "id": "rHoZ1WBLR1HT",
        "colab": {
          "base_uri": "https://localhost:8080/"
        },
        "outputId": "33615bad-0bb0-47c6-b478-a2eae5179972"
      },
      "outputs": [
        {
          "output_type": "stream",
          "name": "stdout",
          "text": [
            "[[0 0 1]\n",
            " [0 1 0]\n",
            " [1 0 0]\n",
            " [1 0 1]\n",
            " [1 1 0]]\n"
          ]
        }
      ],
      "source": [
        "Z = np.random.randint(0,2,(6,3))\n",
        "T = np.ascontiguousarray(Z).view(np.dtype((np.void, Z.dtype.itemsize * Z.shape[1])))\n",
        "_, idx = np.unique(T, return_index=True)\n",
        "uZ = Z[idx]\n",
        "print(uZ)\n"
      ]
    },
    {
      "cell_type": "markdown",
      "metadata": {
        "id": "cO6Lm8CPR1HU"
      },
      "source": [
        "#### 97. Considering 2 vectors A & B, write the einsum equivalent of inner, outer, sum, and mul function (★★★) \n",
        "(**hint**: np.einsum)"
      ]
    },
    {
      "cell_type": "code",
      "execution_count": null,
      "metadata": {
        "id": "LsFL5ckpR1HU",
        "colab": {
          "base_uri": "https://localhost:8080/"
        },
        "outputId": "df7aea30-4698-49fc-9d9d-2207df4dd50b"
      },
      "outputs": [
        {
          "output_type": "execute_result",
          "data": {
            "text/plain": [
              "array([[0.00967733, 0.03865737, 0.02537202, 0.00860594, 0.0471597 ,\n",
              "        0.00279899, 0.02372516, 0.01150932, 0.01872619, 0.03558482],\n",
              "       [0.0997547 , 0.39848335, 0.2615368 , 0.08871073, 0.48612603,\n",
              "        0.02885225, 0.24456092, 0.11863897, 0.1930311 , 0.36681121],\n",
              "       [0.00725695, 0.02898885, 0.01902627, 0.00645352, 0.03536467,\n",
              "        0.00209894, 0.01779131, 0.00863074, 0.01404262, 0.02668476],\n",
              "       [0.12627154, 0.50440839, 0.33105864, 0.11229186, 0.61534829,\n",
              "        0.03652177, 0.30957023, 0.15017565, 0.24434272, 0.46431714],\n",
              "       [0.01890028, 0.07549968, 0.04955275, 0.01680781, 0.09210513,\n",
              "        0.00546657, 0.04633637, 0.02247824, 0.03657314, 0.06949884],\n",
              "       [0.09942929, 0.39718346, 0.26068364, 0.08842134, 0.48454024,\n",
              "        0.02875813, 0.24376314, 0.11825196, 0.19240141, 0.36561463],\n",
              "       [0.00611984, 0.02444649, 0.01604498, 0.0054423 , 0.02982327,\n",
              "        0.00177005, 0.01500353, 0.00727836, 0.01184224, 0.02250344],\n",
              "       [0.03288787, 0.13137494, 0.08622539, 0.02924681, 0.16026963,\n",
              "        0.00951222, 0.08062865, 0.03911377, 0.06363992, 0.12093303],\n",
              "       [0.08129197, 0.32473156, 0.21313124, 0.07229204, 0.39615322,\n",
              "        0.02351224, 0.19929728, 0.09668113, 0.15730466, 0.29892134],\n",
              "       [0.05900386, 0.23569874, 0.15469628, 0.05247147, 0.28753847,\n",
              "        0.0170658 , 0.14465523, 0.07017371, 0.11417588, 0.216965  ]])"
            ]
          },
          "metadata": {},
          "execution_count": 135
        }
      ],
      "source": [
        "A = np.random.uniform(0,1,10)\n",
        "B = np.random.uniform(0,1,10)\n",
        "\n",
        "np.einsum('i->', A)       \n",
        "np.einsum('i,i->i', A, B) \n",
        "np.einsum('i,i', A, B)    \n",
        "np.einsum('i,j->ij', A, B)"
      ]
    },
    {
      "cell_type": "markdown",
      "metadata": {
        "id": "mjTaH9AAR1HU"
      },
      "source": [
        "#### 98. Considering a path described by two vectors (X,Y), how to sample it using equidistant samples (★★★)? \n",
        "(**hint**: np.cumsum, np.interp)"
      ]
    },
    {
      "cell_type": "code",
      "execution_count": null,
      "metadata": {
        "collapsed": true,
        "id": "khVhFiHLR1HU"
      },
      "outputs": [],
      "source": [
        "phi = np.arange(0, 10*np.pi, 0.1)\n",
        "a = 1\n",
        "x = a*phi*np.cos(phi)\n",
        "y = a*phi*np.sin(phi)\n",
        "\n",
        "dr = (np.diff(x)**2 + np.diff(y)**2)**.5\n",
        "r = np.zeros_like(x)\n",
        "r[1:] = np.cumsum(dr)                \n",
        "r_int = np.linspace(0, r.max(), 200)\n",
        "x_int = np.interp(r_int, r, x)      \n",
        "y_int = np.interp(r_int, r, y)"
      ]
    },
    {
      "cell_type": "markdown",
      "metadata": {
        "id": "Q2H-QehYR1HU"
      },
      "source": [
        "#### 99. Given an integer n and a 2D array X, select from X the rows which can be interpreted as draws from a multinomial distribution with n degrees, i.e., the rows which only contain integers and which sum to n. (★★★) \n",
        "(**hint**: np.logical\\_and.reduce, np.mod)"
      ]
    },
    {
      "cell_type": "code",
      "execution_count": null,
      "metadata": {
        "id": "-z-fiyB2R1HV",
        "colab": {
          "base_uri": "https://localhost:8080/"
        },
        "outputId": "ddea4d35-7be1-4c16-9a74-36450bf9fd80"
      },
      "outputs": [
        {
          "output_type": "stream",
          "name": "stdout",
          "text": [
            "[[2. 0. 1. 1.]]\n"
          ]
        }
      ],
      "source": [
        "X = np.asarray([[1.0, 0.0, 3.0, 8.0],\n",
        "                [2.0, 0.0, 1.0, 1.0],\n",
        "                [1.5, 2.5, 1.0, 0.0]])\n",
        "n = 4\n",
        "M = np.logical_and.reduce(np.mod(X, 1) == 0, axis=-1)\n",
        "M &= (X.sum(axis=-1) == n)\n",
        "print(X[M])"
      ]
    },
    {
      "cell_type": "markdown",
      "metadata": {
        "id": "ugb8j9qUR1HV"
      },
      "source": [
        "#### 100. Compute bootstrapped 95% confidence intervals for the mean of a 1D array X (i.e., resample the elements of an array with replacement N times, compute the mean of each sample, and then compute percentiles over the means). (★★★) \n",
        "(**hint**: np.percentile)"
      ]
    },
    {
      "cell_type": "code",
      "execution_count": null,
      "metadata": {
        "id": "qnSSHpVAR1HV",
        "colab": {
          "base_uri": "https://localhost:8080/"
        },
        "outputId": "6ebf68d7-5972-4f23-cef0-09c2b2326f92"
      },
      "outputs": [
        {
          "output_type": "stream",
          "name": "stdout",
          "text": [
            "[-0.25520852  0.19243091]\n"
          ]
        }
      ],
      "source": [
        "X = np.random.randn(100)\n",
        "N = 1000 \n",
        "idx = np.random.randint(0, X.size, (N, X.size))\n",
        "means = X[idx].mean(axis=1)\n",
        "confint = np.percentile(means, [2.5, 97.5])\n",
        "print(confint)"
      ]
    }
  ],
  "metadata": {
    "kernelspec": {
      "display_name": "Python 3",
      "language": "python",
      "name": "python3"
    },
    "language_info": {
      "codemirror_mode": {
        "name": "ipython",
        "version": 3
      },
      "file_extension": ".py",
      "mimetype": "text/x-python",
      "name": "python",
      "nbconvert_exporter": "python",
      "pygments_lexer": "ipython3",
      "version": "3.8.3"
    },
    "colab": {
      "name": " Numpy(Task-2).ipynb",
      "provenance": [],
      "include_colab_link": true
    }
  },
  "nbformat": 4,
  "nbformat_minor": 0
}